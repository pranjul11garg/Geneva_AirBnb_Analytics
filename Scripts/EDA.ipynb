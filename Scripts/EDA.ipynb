{
 "cells": [
  {
   "cell_type": "markdown",
   "metadata": {},
   "source": [
    "### Step 3: Data Visualization\n",
    "\n",
    "To explore patterns across Geneva’s Airbnb landscape, we created five distinct visualizations—each designed to highlight a different aspect of the dataset. A bar plot of average prices by neighborhood revealed striking regional differences, with Bellevue and Cologny emerging as premium-priced areas. A boxplot comparing room types confirmed expected trends, such as entire homes commanding higher prices and shared rooms remaining the most affordable. To explore listing capacity, we used a strip plot focused on the top five neighborhoods, which showed that Commune de Genève consistently offered the widest range of guest accommodations.\n",
    "\n",
    "We then used a line plot to examine average review scores across neighborhoods. Several lesser-known areas like Collex-Bossy and Puplinge had perfect scores, suggesting strong guest satisfaction despite having fewer listings. Finally, a correlation heatmap helped us identify key relationships between numerical variables—most notably strong correlations among space-related variables like `beds`, `bedrooms`, and `accommodates`, and minimal correlation between price and guest satisfaction. Together, these visualizations gave us a well-rounded understanding of how pricing, location, room type, and listing characteristics vary across Geneva, offering valuable insight to guide our modeling choices in the next phases.\n"
   ]
  },
  {
   "cell_type": "code",
   "execution_count": 1,
   "metadata": {},
   "outputs": [
    {
     "data": {
      "text/plain": [
       "<Figure size 1200x600 with 0 Axes>"
      ]
     },
     "metadata": {},
     "output_type": "display_data"
    }
   ],
   "source": [
    "import pandas as pd\n",
    "import seaborn as sns\n",
    "import matplotlib.pyplot as plt\n",
    "import numpy as np\n",
    "\n",
    "# Set style\n",
    "sns.set(style=\"whitegrid\")\n",
    "plt.figure(figsize=(12, 6))\n",
    "\n",
    "df_clean = pd.read_csv('../data/airbnb_cleaned.csv')\n",
    "df_clean['price'] = df_clean['price'].replace(r'[\\$,]', '', regex=True).astype(float)"
   ]
  },
  {
   "cell_type": "code",
   "execution_count": 2,
   "metadata": {},
   "outputs": [
    {
     "name": "stderr",
     "output_type": "stream",
     "text": [
      "/var/folders/5_/7850fm454vb567dm0m8jx2d80000gn/T/ipykernel_4071/2261040964.py:6: DeprecationWarning: *scatter_mapbox* is deprecated! Use *scatter_map* instead. Learn more at: https://plotly.com/python/mapbox-to-maplibre/\n",
      "  fig = px.scatter_mapbox(\n"
     ]
    },
    {
     "data": {
      "application/vnd.plotly.v1+json": {
       "config": {
        "plotlyServerURL": "https://plot.ly"
       },
       "data": [
        {
         "customdata": [
          [
           "Rental unit in Geneva · ★4.73 · 1 bedroom · 1 bed · 1.5 shared baths",
           "Private room",
           1,
           89
          ],
          [
           "Rental unit in Geneva · ★4.87 · 1 bedroom · 1 bed · 1.5 shared baths",
           "Private room",
           1,
           60
          ],
          [
           "Rental unit in Geneva · ★4.90 · 1 bedroom · 1 bath",
           "Entire home/apt",
           2,
           165
          ],
          [
           "Rental unit in Versoix · ★4.62 · 1 bedroom · 4 beds · 1 bath",
           "Entire home/apt",
           3,
           80
          ],
          [
           "Rental unit in Geneva · ★4.81 · 1 bedroom · 1 bed · 1.5 baths",
           "Entire home/apt",
           2,
           147
          ],
          [
           "Rental unit in Carouge · ★4.83 · 1 bedroom · 1 bed · 1 shared bath",
           "Private room",
           2,
           48
          ],
          [
           "Loft in Geneva · ★4.77 · 1 bedroom · 1 bed · 1.5 shared baths",
           "Private room",
           2,
           125
          ],
          [
           "Rental unit in Geneva · ★4.94 · 1 bedroom · 1 bed · 1.5 baths",
           "Private room",
           2,
           90
          ],
          [
           "Rental unit in Geneva · ★4.74 · 1 bedroom · 1 bed · 1 bath",
           "Entire home/apt",
           1,
           95
          ],
          [
           "Rental unit in Geneva · ★4.74 · 3 bedrooms · 4 beds · 2.5 baths",
           "Entire home/apt",
           5,
           269
          ],
          [
           "Rental unit in Geneva · ★4.09 · 4 bedrooms · 4 beds · 1.5 baths",
           "Entire home/apt",
           8,
           175
          ],
          [
           "Rental unit in Genève · ★4.44 · 2 bedrooms · 2 beds · 1 bath",
           "Entire home/apt",
           4,
           180
          ],
          [
           "Rental unit in Geneva · ★4.97 · 1 bedroom · 2 beds · 1 bath",
           "Entire home/apt",
           1,
           150
          ],
          [
           "Rental unit in Geneva · ★4.33 · 1 bedroom · 1 bed · 1 bath",
           "Entire home/apt",
           2,
           400
          ],
          [
           "Rental unit in Geneva · 1 bedroom · 1 bed · 1 bath",
           "Entire home/apt",
           2,
           400
          ],
          [
           "Rental unit in Genève · ★4.85 · 1 bedroom · 1 bed · 1 bath",
           "Entire home/apt",
           2,
           100
          ],
          [
           "Rental unit in Geneva · ★4.92 · 1 bedroom · 1 bed · 1 bath",
           "Entire home/apt",
           2,
           103
          ],
          [
           "Rental unit in Geneva · ★4.89 · 1 bedroom · 1 bed · 1 bath",
           "Entire home/apt",
           2,
           136
          ],
          [
           "Rental unit in Geneva · ★4.90 · 2 bedrooms · 1 bed · 1 bath",
           "Entire home/apt",
           1,
           116
          ],
          [
           "Rental unit in Geneva · ★5.0 · 1 bedroom · 1 bed · 1 bath",
           "Entire home/apt",
           2,
           70
          ],
          [
           "Rental unit in Geneva · ★4.78 · 1 bedroom · 2 beds · 1 bath",
           "Entire home/apt",
           4,
           137
          ],
          [
           "Rental unit in Geneva · ★4.83 · 1 bedroom · 3 beds · 1 bath",
           "Entire home/apt",
           2,
           165
          ],
          [
           "Rental unit in Geneva · ★4.74 · 1 bedroom · 2 beds · 1.5 baths",
           "Entire home/apt",
           4,
           367
          ],
          [
           "Rental unit in Geneva · ★4.33 · 2 bedrooms · 3 beds · 1.5 baths",
           "Entire home/apt",
           4,
           355
          ],
          [
           "Rental unit in Geneva · ★4.29 · 2 bedrooms · 2 beds · 1.5 baths",
           "Entire home/apt",
           4,
           185
          ],
          [
           "Rental unit in Geneva · ★4.49 · 1 bedroom · 1.5 baths",
           "Private room",
           2,
           80
          ],
          [
           "Rental unit in Geneva · ★4.58 · 2 bedrooms · 2 beds · 1 bath",
           "Entire home/apt",
           4,
           125
          ],
          [
           "Loft in Geneva · ★4.90 · 1 bedroom · 2 beds · 1 bath",
           "Entire home/apt",
           4,
           155
          ],
          [
           "Loft in Geneva · ★4.88 · 4 bedrooms · 5 beds · 2 baths",
           "Entire home/apt",
           6,
           240
          ],
          [
           "Rental unit in Genthod · 2 bedrooms · 1 bed · 1 bath",
           "Entire home/apt",
           2,
           220
          ],
          [
           "Rental unit in Geneva · ★4.92 · 1 bedroom · 1 bed · 1 bath",
           "Entire home/apt",
           4,
           150
          ],
          [
           "Villa in Grand-Saconnex · ★4.20 · 1 bedroom · 1 bed · 2.5 baths",
           "Private room",
           2,
           75
          ],
          [
           "Rental unit in Satigny · ★5.0 · 1 bedroom · 2 beds · 1 shared bath",
           "Private room",
           1,
           70
          ],
          [
           "Condo in Geneva · ★5.0 · 1 bedroom · 2 beds · 1 bath",
           "Entire home/apt",
           4,
           140
          ],
          [
           "Villa in Geneva · ★4.74 · 1 bedroom · 1 bed · 1 shared bath",
           "Private room",
           2,
           73
          ],
          [
           "Rental unit in Meinier · ★4.92 · 2 bedrooms · 2 beds · 1 bath",
           "Entire home/apt",
           4,
           130
          ],
          [
           "Loft in Carouge · ★4.88 · 1 bedroom · 2 beds · 1 bath",
           "Entire home/apt",
           2,
           180
          ],
          [
           "Home in Vernier · ★4.92 · 1 bedroom · 1 bed · 1 shared bath",
           "Private room",
           1,
           80
          ],
          [
           "Rental unit in Geneva · ★4.39 · 1 bedroom · 1 bed · 1 bath",
           "Entire home/apt",
           2,
           55
          ],
          [
           "Rental unit in Geneva · ★4.84 · 1 bedroom · 1 bed · 1.5 shared baths",
           "Private room",
           2,
           79
          ],
          [
           "Home in Chêne-Bourg · ★4.90 · 2 bedrooms · 2 beds · 1.5 baths",
           "Entire home/apt",
           3,
           180
          ],
          [
           "Rental unit in Geneva · ★4.85 · 1 bedroom · 1 bed · 1 private bath",
           "Private room",
           2,
           81
          ],
          [
           "Rental unit in Geneva · ★4.81 · 1 bedroom · 1 bed · 1 private bath",
           "Private room",
           2,
           82
          ],
          [
           "Rental unit in Geneva · ★4.57 · 1 bedroom · 1 bed · 1 bath",
           "Entire home/apt",
           3,
           180
          ],
          [
           "Rental unit in Geneva · ★4.66 · 1 bedroom · 1 bed · 1 shared bath",
           "Private room",
           2,
           75
          ],
          [
           "Rental unit in Geneva · ★4.44 · 1 bedroom · 1 bed · 1 bath",
           "Entire home/apt",
           2,
           110
          ],
          [
           "Rental unit in Bellevue · 3 bedrooms · 5 beds · 2 baths",
           "Entire home/apt",
           8,
           220
          ],
          [
           "Rental unit in Geneva · ★5.0 · 3 bedrooms · 3 beds · 2 baths",
           "Entire home/apt",
           5,
           290
          ],
          [
           "Rental unit in Geneva · ★4.70 · 1 bedroom · 1 bed · 1 bath",
           "Private room",
           3,
           99
          ],
          [
           "Rental unit in Versoix · ★4.40 · 1 bedroom · 1 bed · 1 bath",
           "Entire home/apt",
           2,
           145
          ],
          [
           "Rental unit in Geneva · ★4.60 · 1 bedroom · 1 bed · 1 bath",
           "Entire home/apt",
           2,
           90
          ],
          [
           "Rental unit in Veyrier · ★4.75 · 1 bedroom · 1 bed · 1 private bath",
           "Private room",
           1,
           58
          ],
          [
           "Rental unit in Geneva · 3 bedrooms · 6 beds · 2.5 baths",
           "Entire home/apt",
           6,
           250
          ],
          [
           "Rental unit in Geneva · ★5.0 · 2 bedrooms · 2 beds · 1 bath",
           "Entire home/apt",
           2,
           207
          ],
          [
           "Rental unit in Genève · ★4.57 · 1 bedroom · 2 beds · 1 bath",
           "Entire home/apt",
           1,
           60
          ],
          [
           "Rental unit in Geneva · ★4.87 · 2 bedrooms · 2 beds · 1 bath",
           "Entire home/apt",
           3,
           250
          ],
          [
           "Rental unit in Geneva · ★4.84 · 1 bedroom · 1 bed · 1 bath",
           "Entire home/apt",
           2,
           220
          ],
          [
           "Rental unit in Petit-Lancy · ★4.99 · 1 bedroom · 1 bed · 1 shared bath",
           "Private room",
           2,
           74
          ],
          [
           "Condo in Geneva · ★4.80 · 2 bedrooms · 3 beds · 1 bath",
           "Entire home/apt",
           4,
           350
          ],
          [
           "Rental unit in Geneva · ★4.83 · 3 bedrooms · 5 beds · 2 baths",
           "Entire home/apt",
           6,
           430
          ],
          [
           "Rental unit in Geneva · ★4.82 · 2 bedrooms · 3 beds · 1 bath",
           "Entire home/apt",
           4,
           370
          ],
          [
           "Rental unit in Geneva · ★4.81 · 1 bedroom · 1 bed · 1 bath",
           "Entire home/apt",
           2,
           227
          ],
          [
           "Rental unit in Geneva · ★4.73 · 1 bedroom · 1 bed · 1 shared bath",
           "Private room",
           1,
           138
          ],
          [
           "Rental unit in Genève · ★4.40 · 1 bedroom · 1 bed · 1 bath",
           "Entire home/apt",
           2,
           102
          ],
          [
           "Rental unit in Geneva · ★4.82 · 1 bedroom · 2 shared baths",
           "Private room",
           2,
           75
          ],
          [
           "Rental unit in Geneva · ★4.71 · 1 bedroom · 1 bed · 1 bath",
           "Entire home/apt",
           1,
           90
          ],
          [
           "Rental unit in Geneva · ★4.71 · Studio · 1 bed · 1 bath",
           "Entire home/apt",
           2,
           105
          ],
          [
           "Rental unit in Geneva · ★4.53 · Studio · 1 bed · 1 bath",
           "Entire home/apt",
           1,
           150
          ],
          [
           "Rental unit in Geneva · ★4.63 · 2 bedrooms · 2 beds · 1 bath",
           "Entire home/apt",
           4,
           154
          ],
          [
           "Rental unit in Geneva · ★4.30 · Studio · 2 beds · 1 bath",
           "Entire home/apt",
           2,
           91
          ],
          [
           "Rental unit in Genève · ★4.83 · 1 bedroom · 1 bed · 1 bath",
           "Entire home/apt",
           2,
           122
          ],
          [
           "Condo in Genève · ★4.48 · 1 bedroom · 1 bed · 1 shared bath",
           "Private room",
           1,
           59
          ],
          [
           "Home in Thônex · ★4.69 · 1 bedroom · 1 bed · 1 shared bath",
           "Private room",
           1,
           30
          ],
          [
           "Rental unit in Geneva · ★4.82 · 1 bedroom · 1 bed · 1.5 shared baths",
           "Private room",
           1,
           63
          ],
          [
           "Home in Vernier · ★4.85 · 1 bedroom · 1 bed · 1 shared bath",
           "Private room",
           1,
           80
          ],
          [
           "Rental unit in Genève · ★4.57 · 1 bedroom · 1 bed · 1.5 baths",
           "Private room",
           2,
           117
          ],
          [
           "Condo in Geneva · ★4.79 · 3 bedrooms · 3 beds · 2 baths",
           "Entire home/apt",
           3,
           120
          ],
          [
           "Rental unit in Geneva · ★4.13 · 1 bedroom · 2 beds · 1 bath",
           "Entire home/apt",
           4,
           75
          ],
          [
           "Villa in Chêne-Bougeries · ★4.88 · 5 bedrooms · 12 beds · 3.5 baths",
           "Entire home/apt",
           11,
           1529
          ],
          [
           "Rental unit in Geneva · ★4.93 · Studio · 1 bed · 1 bath",
           "Entire home/apt",
           2,
           120
          ],
          [
           "Rental unit in Geneva · ★4.93 · 1 bedroom · 1 bed · 1.5 baths",
           "Entire home/apt",
           2,
           130
          ],
          [
           "Home in Cologny · ★5.0 · 1 bedroom · 1 bed · 1 shared bath",
           "Private room",
           2,
           69
          ],
          [
           "Rental unit in Carouge · ★4.56 · 2 bedrooms · 1 bed · 1 private bath",
           "Private room",
           1,
           60
          ],
          [
           "Rental unit in Plan-les-Ouates · ★4.77 · 1 bedroom · 1 bed · 1 bath",
           "Private room",
           2,
           55
          ],
          [
           "Rental unit in Geneva · ★4.77 · 1 bedroom · 1 bed · 1 bath",
           "Entire home/apt",
           3,
           160
          ],
          [
           "Rental unit in Geneva · ★4.78 · 5 bedrooms · 1 bed · 1 bath",
           "Entire home/apt",
           2,
           99
          ],
          [
           "Rental unit in Genève · ★4.95 · 3 bedrooms · 4 beds · 1 bath",
           "Entire home/apt",
           6,
           240
          ],
          [
           "Bed and breakfast in Vernier · ★4.91 · 1 bedroom · 1 bed · 1 bath",
           "Private room",
           1,
           70
          ],
          [
           "Condo in Plan-les-Ouates · ★4.70 · 1 bedroom · 1 bed · 1 bath",
           "Entire home/apt",
           2,
           101
          ],
          [
           "Rental unit in Geneva · ★4.86 · 2 bedrooms · 2 beds · 1.5 baths",
           "Entire home/apt",
           2,
           75
          ],
          [
           "Rental unit in Genève · ★4.92 · 1 bedroom · 2 beds · 1 bath",
           "Entire home/apt",
           2,
           95
          ],
          [
           "Rental unit in Geneva · ★4.80 · 1 bedroom · 1 bed · 1 bath",
           "Entire home/apt",
           2,
           130
          ],
          [
           "Rental unit in Geneva · ★4.70 · 1 bedroom · 1 bed · 1.5 baths",
           "Private room",
           2,
           108
          ],
          [
           "Rental unit in Geneva · ★4.53 · 1 bedroom · 1 bed · 1 bath",
           "Private room",
           1,
           47
          ],
          [
           "Rental unit in Plan-les-Ouates · ★4.86 · 1 bedroom · 1 bed · 1 shared bath",
           "Private room",
           1,
           52
          ],
          [
           "Condo in Chêne-Bougeries · ★4.65 · 1 bedroom · 1 bed · 1 bath",
           "Entire home/apt",
           2,
           119
          ],
          [
           "Rental unit in Geneva · ★4.71 · 1 bedroom · 1 bed · 1 shared bath",
           "Private room",
           1,
           54
          ],
          [
           "Rental unit in Vernier · ★4.23 · 1 bedroom · 1 bed · 1 bath",
           "Entire home/apt",
           2,
           69
          ],
          [
           "Rental unit in Genève · 1 bedroom · 1 bed · 1.5 baths",
           "Private room",
           1,
           75
          ],
          [
           "Rental unit in Genève · ★4.64 · 1 bedroom · 2 beds · 1 bath",
           "Entire home/apt",
           2,
           120
          ],
          [
           "Rental unit in Carouge · ★4.57 · 1 bedroom · 1 bed · 1 shared bath",
           "Private room",
           1,
           55
          ],
          [
           "Rental unit in Genève · ★4.92 · 1 bedroom · 1 bed · 1 shared bath",
           "Private room",
           1,
           50
          ],
          [
           "Rental unit in Geneva · ★4.71 · 2 bedrooms · 1 bed · 1 shared bath",
           "Private room",
           1,
           83
          ],
          [
           "Rental unit in Genève · ★4.92 · 1 bedroom · 1 bed · 1 shared bath",
           "Private room",
           2,
           66
          ],
          [
           "Rental unit in Genthod · ★4.25 · 1 bedroom · 1 bed · 1 bath",
           "Private room",
           1,
           100
          ],
          [
           "Home in Onex · ★4.66 · 1 bedroom · 1 bed · 1 shared bath",
           "Private room",
           1,
           72
          ],
          [
           "Rental unit in Geneva · ★4.65 · 2 bedrooms · 1 bed · 1 bath",
           "Entire home/apt",
           2,
           90
          ],
          [
           "Place to stay in Carouge · ★4.96 · 1 bedroom · 1 bed · 1 bath",
           "Entire home/apt",
           2,
           132
          ],
          [
           "Rental unit in Genève · ★4.43 · 1 bedroom · 2 beds · 1 bath",
           "Entire home/apt",
           2,
           99
          ],
          [
           "Home in Onex · ★4.73 · 1 bedroom · 1 bed · 1 shared bath",
           "Private room",
           1,
           49
          ],
          [
           "Rental unit in Genève · ★4.80 · 1 bedroom · 1 bed · 1 bath",
           "Entire home/apt",
           2,
           106
          ],
          [
           "Rental unit in Genève · ★4.85 · Studio · 1 bed · 1.5 baths",
           "Entire home/apt",
           2,
           128
          ],
          [
           "Rental unit in Genève · 1 bedroom · 1 bed · 1.5 shared baths",
           "Private room",
           1,
           129
          ],
          [
           "Loft in Genève · ★4.89 · 1 bedroom · 3 beds · 2 baths",
           "Entire home/apt",
           4,
           296
          ],
          [
           "Rental unit in Genève · ★4.70 · 1 bedroom · 1 bed · 1.5 baths",
           "Entire home/apt",
           4,
           131
          ],
          [
           "Home in Vessy · ★4.73 · Studio · 1 bed · 1 bath",
           "Entire home/apt",
           2,
           95
          ],
          [
           "Rental unit in Genève · ★4.78 · 1 bedroom · 2 beds · 1 bath",
           "Entire home/apt",
           4,
           155
          ],
          [
           "Home in Vernier · ★4.55 · 1 bedroom · 1 bed · 2 baths",
           "Private room",
           1,
           75
          ],
          [
           "Bungalow in Cointrin · ★4.67 · 1 bedroom · 2 beds · 1 bath",
           "Entire home/apt",
           4,
           95
          ],
          [
           "Rental unit in Genève · ★4.77 · 2 bedrooms · 3 beds · 1.5 baths",
           "Entire home/apt",
           4,
           335
          ],
          [
           "Condo in Genève · ★4.93 · 1 bedroom · 1 bed · 1 bath",
           "Entire home/apt",
           3,
           247
          ],
          [
           "Rental unit in Geneva · ★4.82 · 1 bedroom · 1 bed · 2 baths",
           "Private room",
           1,
           75
          ],
          [
           "Rental unit in Genève · ★4.36 · 1 bedroom · 1 bed · 1 bath",
           "Entire home/apt",
           2,
           88
          ],
          [
           "Rental unit in Genève · ★4.61 · 1 bedroom · 2 beds · 1 bath",
           "Entire home/apt",
           2,
           109
          ],
          [
           "Rental unit in Genève · 2 bedrooms · 1 bed · 1 bath",
           "Entire home/apt",
           1,
           52
          ],
          [
           "Rental unit in Genève · ★4.67 · 2 bedrooms · 1 bed · 1.5 baths",
           "Entire home/apt",
           2,
           121
          ],
          [
           "Rental unit in Genève · ★4.74 · 1 bedroom · 1 bed · 1 bath",
           "Entire home/apt",
           2,
           125
          ],
          [
           "Rental unit in Genève · ★4.82 · 1 bedroom · 1 bed · 1 shared bath",
           "Private room",
           2,
           40
          ],
          [
           "Rental unit in Genève · ★4.53 · 1 bedroom · 1 bed · 1 bath",
           "Entire home/apt",
           2,
           74
          ],
          [
           "Loft in Genève · ★4.81 · 1 bedroom · 1 bed · 1.5 shared baths",
           "Shared room",
           2,
           20
          ],
          [
           "Rental unit in Genève · ★4.68 · 1 bedroom · 1 bed · 1 bath",
           "Entire home/apt",
           2,
           77
          ],
          [
           "Serviced apartment in Genève · ★4.88 · 1 bedroom · 1 bed · 1.5 baths",
           "Entire home/apt",
           2,
           256
          ],
          [
           "Home in Vandœuvres · ★4.90 · 1 bedroom · 1 bed · 2 shared baths",
           "Private room",
           1,
           125
          ],
          [
           "Rental unit in Genève · ★4.79 · 2 bedrooms · 2 beds · 1 bath",
           "Entire home/apt",
           4,
           76
          ],
          [
           "Rental unit in Chambésy · ★4.50 · 1 bedroom · 1 bed · 1 bath",
           "Entire home/apt",
           2,
           140
          ],
          [
           "Rental unit in Genève · ★4.83 · 1 bedroom · 4 beds · 1 bath",
           "Entire home/apt",
           2,
           102
          ],
          [
           "Condo in Genève · ★5.0 · 1 bedroom · 2 beds · 1 bath",
           "Entire home/apt",
           2,
           110
          ],
          [
           "Rental unit in Lancy · ★4.74 · 1 bedroom · 1 bed · 1 shared bath",
           "Private room",
           1,
           48
          ],
          [
           "Rental unit in Genève · ★4.67 · 2 bedrooms · 2 beds · 1.5 baths",
           "Entire home/apt",
           4,
           105
          ],
          [
           "Rental unit in Chêne-Bougeries · 1 bedroom · 1 bed · 1 private bath",
           "Private room",
           1,
           90
          ],
          [
           "Rental unit in Geneva · ★4.95 · 1 bedroom · 1 bed · 1.5 shared baths",
           "Private room",
           1,
           62
          ],
          [
           "Rental unit in Genève · ★4.43 · 1 bedroom · 3 beds · 1 bath",
           "Entire home/apt",
           6,
           93
          ],
          [
           "Serviced apartment in Genève · ★4.50 · 1 bedroom · 3 beds · 1.5 baths",
           "Entire home/apt",
           4,
           777
          ],
          [
           "Rental unit in Genève · 1 bedroom · 2 beds · 2 baths",
           "Entire home/apt",
           5,
           250
          ],
          [
           "Rental unit in Genève · ★4.90 · 1 bedroom · 3 beds · 1 bath",
           "Entire home/apt",
           4,
           200
          ],
          [
           "Rental unit in Confignon · ★4.91 · 1 bedroom · 1 bed · 1 bath",
           "Entire home/apt",
           2,
           180
          ],
          [
           "Rental unit in Genève · 2 bedrooms · 2 beds · 2 baths",
           "Entire home/apt",
           4,
           450
          ],
          [
           "Rental unit in Genève · 2 bedrooms · 1 bed · 1 bath",
           "Entire home/apt",
           2,
           180
          ],
          [
           "Condo in Genève · ★5.0 · 2 bedrooms · 3 beds · 2 baths",
           "Entire home/apt",
           5,
           400
          ],
          [
           "Rental unit in Genève · ★5.0 · 2 bedrooms · 3 beds · 1 bath",
           "Entire home/apt",
           5,
           73
          ],
          [
           "Bed and breakfast in Genève · ★4.20 · 1 bedroom · 1 bed · 1 shared bath",
           "Private room",
           2,
           60
          ],
          [
           "Rental unit in Carouge · ★4.80 · 1 bedroom · 1 bed · 1 bath",
           "Entire home/apt",
           2,
           114
          ],
          [
           "Home in Le Grand-Saconnex · ★4.70 · 3 bedrooms · 5 beds · 2.5 baths",
           "Entire home/apt",
           7,
           490
          ],
          [
           "Rental unit in Genève · ★4.93 · 1 bedroom · 1 bed · 1 bath",
           "Entire home/apt",
           2,
           154
          ],
          [
           "Rental unit in Genève · ★4.79 · 1 bedroom · 1 bed · 1 bath",
           "Entire home/apt",
           2,
           168
          ],
          [
           "Rental unit in Confignon · 1 bedroom · 1 bed · 1 shared bath",
           "Shared room",
           1,
           500
          ],
          [
           "Rental unit in Genève · ★4.58 · 1 bedroom · 1 bed · Shared half-bath",
           "Private room",
           1,
           75
          ],
          [
           "Rental unit in Genève · 1 bedroom · 1 bed · 1.5 baths",
           "Entire home/apt",
           2,
           175
          ],
          [
           "Rental unit in Genève · ★4.66 · 2 bedrooms · 2 beds · 1.5 baths",
           "Entire home/apt",
           4,
           100
          ],
          [
           "Townhouse in Thônex · 1 bedroom · 2 beds · 1 private bath",
           "Private room",
           2,
           90
          ],
          [
           "Rental unit in Genève · ★4.86 · 1 bedroom · 1 bed · 2.5 baths",
           "Private room",
           1,
           149
          ],
          [
           "Rental unit in Geneva · ★4.74 · 1 bedroom · 1 bed · 1.5 baths",
           "Entire home/apt",
           2,
           107
          ],
          [
           "Rental unit in Genève · ★4.67 · 1 bedroom · 2 beds · 1 bath",
           "Entire home/apt",
           3,
           193
          ],
          [
           "Rental unit in Genève · ★4.88 · Studio · 2 beds · 1 bath",
           "Entire home/apt",
           4,
           119
          ],
          [
           "Rental unit in Meyrin · ★4.87 · 1 bedroom · 1 bed · 1 shared bath",
           "Private room",
           1,
           60
          ],
          [
           "Rental unit in Genève · ★4.55 · 1 bedroom · 2 beds · 1 shared bath",
           "Private room",
           4,
           81
          ],
          [
           "Rental unit in Genève · ★4.79 · Studio · 2 beds · 1 bath",
           "Entire home/apt",
           4,
           113
          ],
          [
           "Rental unit in Genève · ★4.14 · 1 bedroom · 1 bed · 1 bath",
           "Entire home/apt",
           2,
           207
          ],
          [
           "Rental unit in Genève · ★4.71 · 1 bedroom · 2 beds · 1 bath",
           "Entire home/apt",
           3,
           104
          ],
          [
           "Rental unit in Genève · ★4.96 · 2 bedrooms · 2 beds · 1 bath",
           "Entire home/apt",
           4,
           350
          ],
          [
           "Rental unit in Chêne-Bougeries · ★4.90 · 1 bedroom · 1 bed · 1 bath",
           "Entire home/apt",
           3,
           155
          ],
          [
           "Rental unit in Genève · ★4.91 · 1 bedroom · 1 bed · 1.5 shared baths",
           "Private room",
           1,
           110
          ],
          [
           "Home in Vésenaz · ★4.76 · 2 bedrooms · 3 beds · 1 bath",
           "Entire home/apt",
           5,
           180
          ],
          [
           "Rental unit in Genève · ★4.29 · 1 bedroom · 2 beds · 1 bath",
           "Entire home/apt",
           3,
           119
          ],
          [
           "Rental unit in Genève · 3 bedrooms · 2 beds · 1 bath",
           "Entire home/apt",
           3,
           115
          ],
          [
           "Rental unit in Genève · ★4.76 · 1 bedroom · 1 bed · 1 shared bath",
           "Private room",
           1,
           69
          ],
          [
           "Rental unit in Genève · ★4.31 · 1 bedroom · 1 bed · 1 shared bath",
           "Private room",
           1,
           65
          ],
          [
           "Rental unit in Chêne-Bougeries · 1 bedroom · 1 bed · 1 bath",
           "Entire home/apt",
           2,
           144
          ],
          [
           "Rental unit in Carouge · ★4.57 · 1 bedroom · 1 bed · 1 shared bath",
           "Private room",
           2,
           40
          ],
          [
           "Rental unit in Genève · ★4.82 · 1 bedroom · 1 bed · 1 bath",
           "Entire home/apt",
           3,
           150
          ],
          [
           "Rental unit in Genève · ★4.70 · 2 bedrooms · 3 beds · 1.5 baths",
           "Entire home/apt",
           5,
           230
          ],
          [
           "Condo in Bellevue · ★4.60 · 3 bedrooms · 5 beds · 2 baths",
           "Entire home/apt",
           6,
           250
          ],
          [
           "Rental unit in Genève · ★4.86 · 1 bedroom · 2 beds · 1 bath",
           "Entire home/apt",
           2,
           150
          ],
          [
           "Villa in Genthod · 3 bedrooms · 4 beds · 2 baths",
           "Entire home/apt",
           4,
           400
          ],
          [
           "Rental unit in Geneva · ★4.27 · Studio · 1 bed · 1 bath",
           "Entire home/apt",
           1,
           60
          ],
          [
           "Loft in Genève · 1 bedroom · 1 bed · 1 bath",
           "Entire home/apt",
           2,
           140
          ],
          [
           "Serviced apartment in Genève · ★4.78 · 4 bedrooms · 5 beds · 3 baths",
           "Entire home/apt",
           7,
           449
          ],
          [
           "Rental unit in Thônex · ★New · 1 bedroom · 1 bed · 1 bath",
           "Private room",
           2,
           100
          ],
          [
           "Serviced apartment in Genève · ★4.98 · 1 bedroom · 2 beds · 1.5 baths",
           "Entire home/apt",
           4,
           687
          ],
          [
           "Rental unit in Meyrin · ★4.71 · 2 bedrooms · 1 bed · 1 bath",
           "Entire home/apt",
           2,
           66
          ],
          [
           "Rental unit in Genève · ★5.0 · 2 bedrooms · 1 bed · 1 bath",
           "Entire home/apt",
           2,
           120
          ],
          [
           "Rental unit in Genève · ★4.70 · 4 bedrooms · 5 beds · 3 baths",
           "Entire home/apt",
           7,
           436
          ],
          [
           "Rental unit in Genève · ★4.64 · 1 bedroom · 1 bed · 1 bath",
           "Entire home/apt",
           2,
           70
          ],
          [
           "Rental unit in Genève · ★4.88 · 1 bedroom · 2 beds · 1 bath",
           "Entire home/apt",
           4,
           155
          ],
          [
           "Rental unit in Genève · ★4.63 · Studio · 2 beds · 1 bath",
           "Entire home/apt",
           4,
           125
          ],
          [
           "Rental unit in Genève · ★5.0 · 1 bedroom · 2 beds · 1 bath",
           "Entire home/apt",
           4,
           100
          ],
          [
           "Rental unit in Genève · ★4.81 · 1 bedroom · 1 bed · 1.5 shared baths",
           "Private room",
           2,
           75
          ],
          [
           "Home in Vandœuvres · ★5.0 · 1 bedroom · 1 bed · 1.5 shared baths",
           "Private room",
           1,
           56
          ],
          [
           "Rental unit in Genève · ★4.86 · 1 bedroom · 1 bed · 1 bath",
           "Entire home/apt",
           2,
           150
          ],
          [
           "Villa in Vernier · ★4.56 · 2 bedrooms · 3 beds · 1 private bath",
           "Private room",
           6,
           135
          ],
          [
           "Home in Le Grand-Saconnex · ★4.80 · 1 bedroom · 1 bed · 3 shared baths",
           "Private room",
           2,
           69
          ],
          [
           "Rental unit in Genève · ★4.91 · Studio · 1 bed · 1.5 baths",
           "Entire home/apt",
           2,
           119
          ],
          [
           "Home in Onex · ★4.86 · 1 bedroom · 1 bed · 1 shared bath",
           "Private room",
           1,
           81
          ],
          [
           "Rental unit in Le Grand-Saconnex · ★4.06 · 1 bedroom · 1 bed · 1 bath",
           "Private room",
           2,
           70
          ],
          [
           "Rental unit in Genève · ★4.88 · 1 bedroom · 1 bed · 1 bath",
           "Entire home/apt",
           2,
           119
          ],
          [
           "Rental unit in Genève · ★4.33 · 1 bedroom · 1 bed · 1 bath",
           "Entire home/apt",
           2,
           103
          ],
          [
           "Rental unit in Genève · ★4.40 · 1 bedroom · 1 shared bath",
           "Private room",
           1,
           70
          ],
          [
           "Rental unit in Genève · ★4.83 · 1 bedroom · 1 bed · 1 bath",
           "Entire home/apt",
           2,
           83
          ],
          [
           "Rental unit in Genève · ★4.74 · 1 bedroom · 1 bed · 1 shared bath",
           "Private room",
           1,
           79
          ],
          [
           "Rental unit in Genève · ★4.68 · 1 bedroom · 1 bed · 1.5 baths",
           "Entire home/apt",
           2,
           100
          ],
          [
           "Rental unit in Carouge · ★4.33 · 1 bedroom · 2 beds · 1 bath",
           "Entire home/apt",
           4,
           108
          ],
          [
           "Rental unit in Genève · ★4.88 · 1 bedroom · 1 bed · 1 shared bath",
           "Private room",
           2,
           105
          ],
          [
           "Rental unit in Genève · ★4.73 · 1 bedroom · 1 bed · 1.5 shared baths",
           "Private room",
           2,
           115
          ],
          [
           "Rental unit in Genève · ★4.68 · 1 bedroom · 1 bath",
           "Entire home/apt",
           2,
           120
          ],
          [
           "Serviced apartment in Genève · ★5.0 · 2 bedrooms · 3 beds · 2.5 baths",
           "Entire home/apt",
           6,
           900
          ],
          [
           "Rental unit in Genève · 1 bedroom · 1 bed · 1 bath",
           "Entire home/apt",
           2,
           690
          ],
          [
           "Rental unit in crx de rozon · 1 bedroom · 1 bed · 1 bath",
           "Entire home/apt",
           1,
           95
          ],
          [
           "Rental unit in Genève · ★4.68 · 1 bedroom · 1 bed · 1 shared bath",
           "Private room",
           2,
           47
          ],
          [
           "Rental unit in Genève · ★5.0 · 1 bedroom · 1 bed · 1 bath",
           "Entire home/apt",
           2,
           140
          ],
          [
           "Rental unit in Genève · ★4.71 · 1 bedroom · 1 bed · 1 bath",
           "Entire home/apt",
           4,
           100
          ],
          [
           "Guesthouse in Genève · ★5.0 · 1 bedroom · 1 bed · 1.5 shared baths",
           "Private room",
           1,
           65
          ],
          [
           "Home in Veyrier · 1 bedroom · 1 bed · 1 private bath",
           "Private room",
           1,
           75
          ],
          [
           "Rental unit in Genève · ★4.88 · 1 bedroom · 2 beds · 1 bath",
           "Entire home/apt",
           2,
           277
          ],
          [
           "Rental unit in Genève · ★4.44 · 2 bedrooms · 3 beds · 1 bath",
           "Entire home/apt",
           4,
           287
          ],
          [
           "Rental unit in Genève · ★4.82 · 1 bedroom · 2 beds · 1 bath",
           "Entire home/apt",
           3,
           222
          ],
          [
           "Rental unit in Bellevue · ★4.43 · 1 bedroom · 1 bed · 1 shared bath",
           "Private room",
           1,
           35
          ],
          [
           "Rental unit in Genève · ★4.93 · 1 bedroom · 2 beds · 1 bath",
           "Entire home/apt",
           3,
           100
          ],
          [
           "Rental unit in Genève · ★4.56 · 1 bedroom · 1 bed · 1 bath",
           "Entire home/apt",
           2,
           67
          ],
          [
           "Rental unit in Thônex · Studio · 1 bed · 1 bath",
           "Entire home/apt",
           1,
           75
          ],
          [
           "Condo in Genève · ★4.13 · 1 bedroom · 1 bed · 1 bath",
           "Entire home/apt",
           1,
           236
          ],
          [
           "Home in Aire-la-Ville · ★4.86 · 1 bedroom · 1 bed · 1 bath",
           "Private room",
           1,
           90
          ],
          [
           "Rental unit in Genève · ★4.79 · 1 bedroom · 1 bed · 1 bath",
           "Entire home/apt",
           2,
           169
          ],
          [
           "Rental unit in Genève · ★4.89 · 1 bedroom · 1 bed · 1 bath",
           "Private room",
           1,
           64
          ],
          [
           "Rental unit in Geneva · ★4.64 · Studio · 1 bed · 1 bath",
           "Entire home/apt",
           2,
           89
          ],
          [
           "Rental unit in Genève · ★4.73 · Studio · 1 bed · 1 bath",
           "Entire home/apt",
           2,
           120
          ],
          [
           "Rental unit in Chambésy · 1 bedroom · 2 beds · 1.5 baths",
           "Entire home/apt",
           2,
           150
          ],
          [
           "Condo in Genève · ★4.96 · 1 bedroom · 1 bed · 1 bath",
           "Entire home/apt",
           2,
           110
          ],
          [
           "Rental unit in Genève · ★4.61 · 2 bedrooms · 2 beds · 1 bath",
           "Entire home/apt",
           5,
           187
          ],
          [
           "Rental unit in Genève · ★5.0 · 1 bedroom · 1 bed · 1 bath",
           "Entire home/apt",
           2,
           104
          ],
          [
           "Rental unit in Grand-Lancy · ★4.92 · 2 bedrooms · 4 beds · 2 baths",
           "Entire home/apt",
           7,
           220
          ],
          [
           "Rental unit in Genève · ★4.81 · 1 bedroom · 1 bed · 1.5 baths",
           "Entire home/apt",
           2,
           104
          ],
          [
           "Rental unit in Genève · ★4.71 · Studio · 1 bed · 1 bath",
           "Entire home/apt",
           2,
           77
          ],
          [
           "Rental unit in Onex · ★4.90 · 1 bedroom · 1 bed · 1 shared bath",
           "Private room",
           1,
           65
          ],
          [
           "Rental unit in Genève · 2 bedrooms · 3 beds · 1 bath",
           "Entire home/apt",
           4,
           169
          ],
          [
           "Hotel in Genève · ★4.79 · 1 bedroom · 2 beds · 1 private bath",
           "Private room",
           2,
           164
          ],
          [
           "Rental unit in Genève · ★4.64 · 1 bedroom · 1 bed · 1 shared bath",
           "Private room",
           1,
           70
          ],
          [
           "Rental unit in Genève · ★4.70 · 1 bedroom · 2 beds · 1 bath",
           "Entire home/apt",
           3,
           106
          ],
          [
           "Cottage in Bellevue · 2 bedrooms · 2 beds · 2 baths",
           "Entire home/apt",
           4,
           330
          ],
          [
           "Rental unit in Genève · 1 bedroom · 1 bed · 1 bath",
           "Entire home/apt",
           2,
           160
          ],
          [
           "Rental unit in Genève · ★4.11 · 1 bedroom · 2 beds · 1 bath",
           "Entire home/apt",
           4,
           258
          ],
          [
           "Rental unit in Genève · ★4.29 · 2 bedrooms · 3 beds · 1 bath",
           "Entire home/apt",
           6,
           175
          ],
          [
           "Rental unit in Genève · ★4.93 · 1 bedroom · 1 bed · 1 shared bath",
           "Private room",
           2,
           70
          ],
          [
           "Rental unit in Le Grand-Saconnex · ★4.83 · 2 bedrooms · 2 beds · 1 bath",
           "Entire home/apt",
           5,
           200
          ],
          [
           "Rental unit in Genève · ★4.83 · 2 bedrooms · 1 bed · 1 bath",
           "Entire home/apt",
           2,
           64
          ],
          [
           "Guest suite in Grand-Lancy · ★5.0 · 1 bedroom · 2 beds · 1.5 baths",
           "Entire home/apt",
           4,
           95
          ],
          [
           "Rental unit in Carouge · 1 bedroom · 2 beds · 1.5 baths",
           "Entire home/apt",
           4,
           279
          ],
          [
           "Rental unit in Genève · ★4.80 · Studio · 1 bed · 1 bath",
           "Entire home/apt",
           2,
           87
          ],
          [
           "Home in Vernier · ★4.75 · 1 bedroom · 1 bed · 1 shared bath",
           "Private room",
           2,
           51
          ],
          [
           "Rental unit in Genève · ★4.69 · Studio · 1 bed · 1 bath",
           "Entire home/apt",
           2,
           112
          ],
          [
           "Rental unit in Genève · ★4.67 · 1 bedroom · 2 beds · 1 bath",
           "Entire home/apt",
           2,
           140
          ],
          [
           "Rental unit in Genève · ★4.88 · 1 bedroom · 1 bed · 1 bath",
           "Entire home/apt",
           2,
           130
          ],
          [
           "Rental unit in Genève · ★4.74 · 1 bedroom · 1 bed · 1 bath",
           "Entire home/apt",
           2,
           117
          ],
          [
           "Rental unit in Genève · ★4.75 · 1 bedroom · 1 bed · 1 bath",
           "Private room",
           2,
           70
          ],
          [
           "Rental unit in Genève · ★4.65 · Studio · 1 bed · 1 bath",
           "Entire home/apt",
           2,
           76
          ],
          [
           "Bed and breakfast in Genève · ★4.64 · 1 bedroom · 1 bed · 1 private bath",
           "Private room",
           2,
           65
          ],
          [
           "Rental unit in Genève · ★4.50 · 1 bedroom · 1 bed · 1 bath",
           "Entire home/apt",
           2,
           120
          ],
          [
           "Rental unit in Versoix · ★4.95 · 1 bedroom · 1 bed · 1.5 baths",
           "Entire home/apt",
           2,
           85
          ],
          [
           "Rental unit in Vessy · Studio · 1 bed · 1 bath",
           "Entire home/apt",
           2,
           87
          ],
          [
           "Rental unit in Genève · ★4.93 · 1 bedroom · 1 bed · 1 bath",
           "Entire home/apt",
           2,
           90
          ],
          [
           "Rental unit in Geneva · ★4.89 · 1 bedroom · 1 bed · 1 private bath",
           "Private room",
           2,
           200
          ],
          [
           "Rental unit in Genève · ★4.63 · Studio · 1 bed · 1 bath",
           "Entire home/apt",
           2,
           70
          ],
          [
           "Rental unit in Cologny · ★4.11 · 3 bedrooms · 3 beds · 2.5 baths",
           "Entire home/apt",
           7,
           230
          ],
          [
           "Rental unit in Genève · ★4.66 · 1 bedroom · 2 beds · 1.5 baths",
           "Entire home/apt",
           2,
           92
          ],
          [
           "Condo in Genève · ★4.78 · 1 bedroom · 1 bed · 1 private bath",
           "Private room",
           2,
           62
          ],
          [
           "Rental unit in Genève · ★4.70 · 3 bedrooms · 4 beds · 2 baths",
           "Entire home/apt",
           4,
           200
          ],
          [
           "Rental unit in Genève · ★4.62 · Studio · 1 bed · 1 bath",
           "Entire home/apt",
           2,
           90
          ],
          [
           "Rental unit in Genève · ★4.78 · 1 bedroom · 1 bed · 1 bath",
           "Entire home/apt",
           2,
           107
          ],
          [
           "Rental unit in Genève · ★4.52 · 1 bedroom · 1 bed · 1 bath",
           "Entire home/apt",
           2,
           133
          ],
          [
           "Rental unit in Chêne-Bougeries · ★4.97 · 1 bedroom · 2 beds · 1.5 baths",
           "Entire home/apt",
           4,
           130
          ],
          [
           "Rental unit in Genève · 1 bedroom · 1 bed · 1 bath",
           "Entire home/apt",
           2,
           97
          ],
          [
           "Rental unit in Genève · 1 bedroom · 2 beds · 1.5 baths",
           "Entire home/apt",
           4,
           100
          ],
          [
           "Rental unit in Genève · ★4.33 · 1 bedroom · 2 beds · 1.5 baths",
           "Entire home/apt",
           4,
           100
          ],
          [
           "Rental unit in Genève · Studio · 1 bed · 1.5 baths",
           "Entire home/apt",
           2,
           590
          ],
          [
           "Rental unit in Genève · ★4.67 · Studio · 1 bed · 1.5 baths",
           "Entire home/apt",
           2,
           100
          ],
          [
           "Rental unit in Genève · 1 bedroom · 1 bed · 1.5 baths",
           "Entire home/apt",
           4,
           700
          ],
          [
           "Rental unit in Carouge · 1 bedroom · 2 beds · 1.5 baths",
           "Entire home/apt",
           3,
           285
          ],
          [
           "Rental unit in Genève · ★4.86 · 1 bedroom · 1 bed · 1 bath",
           "Entire home/apt",
           2,
           130
          ],
          [
           "Rental unit in Genève · ★New · 1 bedroom · 1 bed · 1 bath",
           "Entire home/apt",
           2,
           140
          ],
          [
           "Nature lodge in Petit-Lancy · ★4.86 · 1 bedroom · 1 bed · 1.5 shared baths",
           "Private room",
           1,
           52
          ],
          [
           "Home in Satigny · ★4.75 · 4 bedrooms · 5 beds · 3 baths",
           "Entire home/apt",
           6,
           300
          ],
          [
           "Rental unit in Geneva · ★4.89 · 1 bedroom · 1 bed · 1.5 shared baths",
           "Private room",
           1,
           51
          ],
          [
           "Rental unit in Genève · 1 bedroom · 1 bed · 1 bath",
           "Entire home/apt",
           2,
           97
          ],
          [
           "Rental unit in Genève · ★5.0 · 1 bedroom · 1 bed · 1 bath",
           "Entire home/apt",
           2,
           120
          ],
          [
           "Home in Genthod · 4 bedrooms · 4 beds · 2.5 baths",
           "Entire home/apt",
           6,
           500
          ],
          [
           "Home in Genève · 1 bedroom · 1 bed · 1 shared bath",
           "Shared room",
           2,
           50
          ],
          [
           "Rental unit in Genève Champel · ★4.81 · 1 bedroom · 2 beds · 1 bath",
           "Entire home/apt",
           3,
           58
          ],
          [
           "Rental unit in Genève · ★5.0 · 1 bedroom · 1 bed · 1 shared bath",
           "Private room",
           2,
           80
          ],
          [
           "Condo in Genève · ★4.22 · 1 bedroom · 1 bed · 1 shared bath",
           "Private room",
           2,
           87
          ],
          [
           "Rental unit in Genève · ★4.73 · 1 bedroom · 1 bed · 1 bath",
           "Entire home/apt",
           2,
           127
          ],
          [
           "Rental unit in Versoix · ★4.71 · 1 bedroom · 2 beds · 1 bath",
           "Private room",
           1,
           85
          ],
          [
           "Condo in Versoix · ★4.71 · 1 bedroom · 1 bed · 1 shared bath",
           "Private room",
           2,
           95
          ],
          [
           "Bed and breakfast in Genève · ★5.0 · 1 bedroom · 1 bed · 1 shared bath",
           "Private room",
           2,
           65
          ],
          [
           "Rental unit in Genève · ★4.92 · 1 bedroom · 2 beds · 1 bath",
           "Entire home/apt",
           4,
           110
          ],
          [
           "Rental unit in Genève · ★4.75 · 1 bedroom · 1 bed · 1 bath",
           "Entire home/apt",
           2,
           97
          ],
          [
           "Rental unit in Vandœuvres · ★4.80 · 3 bedrooms · 2 beds · 3.5 baths",
           "Entire home/apt",
           6,
           1974
          ],
          [
           "Rental unit in Carouge · ★4.61 · Studio · 1 bed · 1 bath",
           "Entire home/apt",
           2,
           90
          ],
          [
           "Rental unit in Genève · ★4.48 · Studio · 1 bed · 1 bath",
           "Entire home/apt",
           2,
           90
          ],
          [
           "Rental unit in Onex · ★5.0 · 1 bedroom · 2 beds · 1 bath",
           "Entire home/apt",
           2,
           80
          ],
          [
           "Rental unit in Genève · ★5.0 · 1 bedroom · 1 bed · 1.5 shared baths",
           "Private room",
           1,
           89
          ],
          [
           "Rental unit in Pregny-Chambésy · ★4.93 · 1 bedroom · 1 bed · 1 bath",
           "Entire home/apt",
           3,
           103
          ],
          [
           "Rental unit in Genève · 1 bedroom · 1 bed · 1 bath",
           "Entire home/apt",
           2,
           130
          ],
          [
           "Rental unit in Genève · ★4.19 · 1 bedroom · 1 bed · 1 bath",
           "Entire home/apt",
           2,
           110
          ],
          [
           "Home in Vernier · ★4.87 · 1 bedroom · 1 bed · 1 shared bath",
           "Private room",
           2,
           51
          ],
          [
           "Rental unit in Genève · 1 bedroom · 1 bed · 1 bath",
           "Entire home/apt",
           2,
           150
          ],
          [
           "Rental unit in Le Grand-Saconnex · ★4.85 · 1 bedroom · 1 bed · 1 shared bath",
           "Private room",
           2,
           200
          ],
          [
           "Condo in Genève · ★4.64 · 2 bedrooms · 3 beds · 1.5 baths",
           "Entire home/apt",
           5,
           186
          ],
          [
           "Rental unit in Genève · ★4.77 · 1 bedroom · 1 bed · 1 shared bath",
           "Private room",
           1,
           56
          ],
          [
           "Rental unit in Vésenaz · ★4.75 · 1 bedroom · 1 bed · 2.5 baths",
           "Entire home/apt",
           3,
           100
          ],
          [
           "Home in Genève · ★4.97 · 2 bedrooms · 2 beds · 1 bath",
           "Entire home/apt",
           2,
           120
          ],
          [
           "Rental unit in Genève · ★5.0 · 2 bedrooms · 2 beds · 1.5 baths",
           "Entire home/apt",
           4,
           165
          ],
          [
           "Rental unit in Genève · ★4.93 · 1 bedroom · 2 beds · 1 bath",
           "Entire home/apt",
           4,
           192
          ],
          [
           "Rental unit in Genève · ★4.86 · 1 bedroom · 1 bed · 1.5 baths",
           "Private room",
           2,
           70
          ],
          [
           "Home in Thônex · ★4.0 · 1 bedroom · 1 bed · 1 bath",
           "Private room",
           1,
           30
          ],
          [
           "Rental unit in Carouge · ★4.72 · 1 bedroom · 1 bed · 1 bath",
           "Entire home/apt",
           2,
           75
          ],
          [
           "Rental unit in Genève · ★4.94 · 1 bedroom · 1 bed · 1 bath",
           "Entire home/apt",
           2,
           116
          ],
          [
           "Rental unit in Versoix · ★4.59 · 1 bedroom · 1 bed · 1.5 shared baths",
           "Private room",
           2,
           56
          ],
          [
           "Rental unit in Genève · ★4.94 · 1 bedroom · 1 bed · 1.5 shared baths",
           "Private room",
           1,
           92
          ],
          [
           "Rental unit in Genève · ★5.0 · 2 bedrooms · 2 beds · 1.5 baths",
           "Entire home/apt",
           4,
           100
          ],
          [
           "Rental unit in Genève · ★4.78 · 1 bedroom · 1 bed · 1 bath",
           "Entire home/apt",
           3,
           188
          ],
          [
           "Rental unit in Chêne-Bougeries · ★5.0 · 1 bedroom · 1 bed · 1 bath",
           "Entire home/apt",
           2,
           100
          ],
          [
           "Villa in Lancy · ★4.81 · 1 bedroom · 1 bed · 1 bath",
           "Private room",
           1,
           42
          ],
          [
           "Rental unit in Genève · ★4.90 · 1 bedroom · 3 beds · 1 bath",
           "Entire home/apt",
           4,
           94
          ],
          [
           "Rental unit in Meyrin · ★4.58 · 1 bedroom · 1 bed · 1.5 baths",
           "Private room",
           2,
           85
          ],
          [
           "Rental unit in Genève · ★5.0 · 2 bedrooms · 1 bed · 1 bath",
           "Entire home/apt",
           2,
           120
          ],
          [
           "Rental unit in Genève · ★4.95 · 2 bedrooms · 2 beds · 1.5 baths",
           "Entire home/apt",
           4,
           180
          ],
          [
           "Home in Bellevue · ★New · 1 bedroom · 1 bed · 1 bath",
           "Entire home/apt",
           1,
           96
          ],
          [
           "Condo in Genève · ★4.63 · 1 bedroom · 2 beds · 1 private bath",
           "Private room",
           3,
           101
          ],
          [
           "Condo in Genève · ★4.82 · 1 bedroom · 1 bed · 1 private bath",
           "Private room",
           2,
           61
          ],
          [
           "Rental unit in Vernier · ★4.93 · 2 bedrooms · 2 beds · 1 private bath",
           "Private room",
           4,
           91
          ],
          [
           "Rental unit in Genève · ★4.56 · 1 bedroom · 2 beds · 1 shared bath",
           "Private room",
           2,
           71
          ],
          [
           "Rental unit in Le Grand-Saconnex · ★4.82 · 1 bedroom · 1 bed · 1 shared bath",
           "Private room",
           2,
           150
          ],
          [
           "Rental unit in Genève · ★4.67 · 1 bedroom · 1 bed · 1 bath",
           "Entire home/apt",
           2,
           66
          ],
          [
           "Rental unit in Veyrier · ★5.0 · 1 bedroom · 1 bed · 1 private bath",
           "Private room",
           2,
           80
          ],
          [
           "Rental unit in Onex · ★4.85 · 1 bedroom · 1 bed · 1.5 baths",
           "Private room",
           2,
           55
          ],
          [
           "Home in Geneva · ★4.67 · 1 bedroom · 2 beds · 1 bath",
           "Entire home/apt",
           2,
           181
          ],
          [
           "Rental unit in Genève · ★4.36 · 2 bedrooms · 3 beds · 1 bath",
           "Entire home/apt",
           6,
           175
          ],
          [
           "Rental unit in Genève · ★4.71 · 1 bedroom · 1 bed · 1 bath",
           "Entire home/apt",
           2,
           101
          ],
          [
           "Rental unit in Genève · ★4.76 · 1 bedroom · 2 beds · 1.5 baths",
           "Entire home/apt",
           4,
           125
          ],
          [
           "Rental unit in Genève · ★4.57 · 1 bedroom · 3 beds · 1 bath",
           "Entire home/apt",
           2,
           68
          ],
          [
           "Rental unit in Genève · ★4.93 · 1 bedroom · 1 bed · 1 bath",
           "Entire home/apt",
           2,
           139
          ],
          [
           "Rental unit in Genève · ★5.0 · 1 bedroom · 1 bed · 1 shared bath",
           "Private room",
           1,
           70
          ],
          [
           "Boat in Genève · ★New · 1 bedroom · 2 beds · Half-bath",
           "Entire home/apt",
           2,
           142
          ],
          [
           "Rental unit in Genève · ★4.50 · Studio · 2 beds · 1 bath",
           "Entire home/apt",
           2,
           115
          ],
          [
           "Rental unit in Genève · ★4.71 · Studio · 1 bed · 1 bath",
           "Entire home/apt",
           2,
           75
          ],
          [
           "Rental unit in Genève · 1 bedroom · 1 bed · 1 bath",
           "Entire home/apt",
           2,
           250
          ],
          [
           "Villa in Cologny · ★4.86 · 4 bedrooms · 5 beds · 3.5 baths",
           "Entire home/apt",
           7,
           299
          ],
          [
           "Rental unit in Genève · ★4.79 · 1 bedroom · 2 beds · 1 bath",
           "Entire home/apt",
           3,
           119
          ],
          [
           "Rental unit in Genève · ★4.67 · 1 bedroom · 1 bed · 1 bath",
           "Entire home/apt",
           1,
           86
          ],
          [
           "Boutique hotel in Genève · ★4.14 · 1 bedroom · 1 bed · 1 private bath",
           "Hotel room",
           1,
           135
          ],
          [
           "Boutique hotel in Genève · ★4.10 · Studio · 2 beds · 1 bath",
           "Hotel room",
           2,
           169
          ],
          [
           "Hotel in Genève · ★4.33 · Studio · 4 beds · 1 private bath",
           "Private room",
           4,
           249
          ],
          [
           "Rental unit in Genève · ★5.0 · 1 bedroom · 1 bed · 1.5 baths",
           "Entire home/apt",
           2,
           100
          ],
          [
           "Boutique hotel in Genève · ★4.0 · Studio · 4 beds · 1 bath",
           "Entire home/apt",
           4,
           259
          ],
          [
           "Rental unit in Genève · ★4.89 · 1 bedroom · 1 bed · 1 shared bath",
           "Private room",
           2,
           80
          ],
          [
           "Rental unit in Genève · 1 bedroom · 1 bed · 1 shared bath",
           "Private room",
           1,
           90
          ],
          [
           "Rental unit in Meyrin · 1 bedroom · 1 bed · 1 shared bath",
           "Private room",
           2,
           227
          ],
          [
           "Rental unit in Genève · ★5.0 · 1 bedroom · 1 bed · 1 bath",
           "Entire home/apt",
           2,
           55
          ],
          [
           "Rental unit in Genève · ★4.97 · 1 bedroom · 1 bed · 1 shared bath",
           "Private room",
           1,
           80
          ],
          [
           "Rental unit in Genève · ★4.69 · 1 bedroom · 1 bed · 1.5 shared baths",
           "Private room",
           1,
           50
          ],
          [
           "Rental unit in Genève · ★4.50 · 1 bedroom · 1 bed · 1 bath",
           "Entire home/apt",
           2,
           85
          ],
          [
           "Rental unit in Genève · ★4.50 · 2 bedrooms · 1 bed · 1 shared bath",
           "Private room",
           2,
           41
          ],
          [
           "Home in Le Grand-Saconnex · ★5.0 · 3 bedrooms · 3 beds · 1.5 baths",
           "Entire home/apt",
           5,
           160
          ],
          [
           "Home in Petit-Lancy · ★4.91 · 1 bedroom · 3 beds · 1 bath",
           "Entire home/apt",
           4,
           120
          ],
          [
           "Rental unit in Genève · ★4.93 · 1 bedroom · 1 bed · 1 shared bath",
           "Private room",
           2,
           70
          ],
          [
           "Rental unit in Soral · ★4.86 · 1 bedroom · 1 bed · 1 bath",
           "Entire home/apt",
           2,
           70
          ],
          [
           "Boutique hotel in Genève · ★4.0 · Studio · 4 beds · 1 bath",
           "Private room",
           4,
           261
          ],
          [
           "Condo in Bellevue · 2 bedrooms · 2 beds · 1.5 shared baths",
           "Private room",
           1,
           125
          ],
          [
           "Rental unit in Conches · ★4.75 · 3 bedrooms · 4 beds · 2.5 baths",
           "Entire home/apt",
           7,
           249
          ],
          [
           "Rental unit in Genève · ★4.95 · 3 bedrooms · 3 beds · 2.5 baths",
           "Entire home/apt",
           5,
           253
          ],
          [
           "Boutique hotel in Genève · ★4.29 · Studio · 2 beds · 1 bath",
           "Entire home/apt",
           2,
           169
          ],
          [
           "Rental unit in Genève · ★4.67 · Studio · 2 beds · 1 bath",
           "Entire home/apt",
           2,
           250
          ],
          [
           "Rental unit in Genève · ★5.0 · 2 bedrooms · 2 beds · 2 baths",
           "Entire home/apt",
           4,
           220
          ],
          [
           "Rental unit in Genève · ★4.91 · 1 bedroom · 1 bed · 1 bath",
           "Entire home/apt",
           1,
           175
          ],
          [
           "Condo in Genève · ★4.88 · 1 bedroom · 1 bed · 1 bath",
           "Entire home/apt",
           2,
           102
          ],
          [
           "Rental unit in Versoix · ★4.69 · 2 bedrooms · 1 bed · 1 bath",
           "Entire home/apt",
           4,
           115
          ],
          [
           "Rental unit in Genève · 1 bedroom · 1 bed · 1 bath",
           "Private room",
           1,
           50
          ],
          [
           "Home in Cartigny · ★4.67 · 1 bedroom · 1 bed · 1 shared bath",
           "Private room",
           2,
           666
          ],
          [
           "Rental unit in Genève · 1 bedroom · 1 bed · 1 shared bath",
           "Private room",
           2,
           188
          ],
          [
           "Loft in Genève · ★4.92 · 1 bedroom · 2 beds · 1.5 baths",
           "Entire home/apt",
           2,
           40
          ],
          [
           "Rental unit in Lancy · ★4.53 · 1 bedroom · 2 beds · 1 bath",
           "Entire home/apt",
           3,
           86
          ],
          [
           "Rental unit in Geneve  · 1 bedroom · 1 bed · 1 bath",
           "Entire home/apt",
           1,
           250
          ],
          [
           "Rental unit in Le Grand-Saconnex · ★4.89 · 1 bedroom · 1 bed · 1 shared bath",
           "Private room",
           1,
           91
          ],
          [
           "Rental unit in Genève · ★4.67 · 1 bedroom · 1 bed · 1 bath",
           "Entire home/apt",
           3,
           3000
          ],
          [
           "Rental unit in Genève · ★4.89 · 1 bedroom · 1 bed · 1 private bath",
           "Private room",
           1,
           75
          ],
          [
           "Rental unit in Genève · ★4.54 · 6 bedrooms · 1 bed · 1 bath",
           "Entire home/apt",
           3,
           100
          ],
          [
           "Rental unit in Genève · ★4.82 · 1 bedroom · 1 bed · 1 bath",
           "Entire home/apt",
           2,
           139
          ],
          [
           "Rental unit in Genève · ★4.45 · 1 bedroom · 1 bed · 1 bath",
           "Entire home/apt",
           2,
           96
          ],
          [
           "Bed and breakfast in Genève · ★4.58 · 1 bedroom · 1 bed · 1 private bath",
           "Private room",
           2,
           87
          ],
          [
           "Home in Le Grand-Saconnex · ★4.92 · 1 bedroom · 1 bed · 1 private bath",
           "Private room",
           1,
           400
          ],
          [
           "Rental unit in Genève · ★4.86 · 1 bedroom · 2 beds · 1 bath",
           "Entire home/apt",
           4,
           280
          ],
          [
           "Guesthouse in Lancy · ★4.51 · 1 bedroom · 2 beds · 1 bath",
           "Entire home/apt",
           4,
           91
          ],
          [
           "Home in Geneva · ★4.67 · 1 bedroom · 1 bed · 1.5 baths",
           "Private room",
           2,
           95
          ],
          [
           "Rental unit in Genève · ★4.89 · 1 bedroom · 2 beds · 1 bath",
           "Entire home/apt",
           4,
           100
          ],
          [
           "Rental unit in Genève · ★4.70 · 1 bedroom · 1 bed · 1 bath",
           "Entire home/apt",
           2,
           189
          ],
          [
           "Rental unit in Genève · ★4.87 · 1 bedroom · 1 bed · 1 bath",
           "Entire home/apt",
           3,
           73
          ],
          [
           "Rental unit in Meyrin · ★4.98 · 2 bedrooms · 2 beds · 1.5 baths",
           "Entire home/apt",
           4,
           195
          ],
          [
           "Villa in Petit Lancy · ★5.0 · 3 bedrooms · 3 beds · 2 baths",
           "Entire home/apt",
           6,
           169
          ],
          [
           "Rental unit in  Genève · ★4.56 · 1 bedroom · 1 bed · 1 shared bath",
           "Private room",
           1,
           68
          ],
          [
           "Rental unit in Genève · ★4.71 · 1 bedroom · 1 bed · 1 bath",
           "Entire home/apt",
           2,
           109
          ],
          [
           "Rental unit in Genève · ★4.90 · 2 bedrooms · 2 beds · 1 bath",
           "Entire home/apt",
           3,
           120
          ],
          [
           "Home in Collonge-Bellerive · 4 bedrooms · 4 beds · 4 baths",
           "Entire home/apt",
           8,
           2300
          ],
          [
           "Rental unit in Genève · ★4.60 · 2 bedrooms · 3 beds · 2 baths",
           "Entire home/apt",
           5,
           249
          ],
          [
           "Condo in Genève · ★4.65 · 1 bedroom · 2 beds · 1 bath",
           "Entire home/apt",
           2,
           218
          ],
          [
           "Rental unit in Genève · ★4.94 · 1 bedroom · 1 bed · 1 bath",
           "Entire home/apt",
           2,
           115
          ],
          [
           "Rental unit in Genève · ★4.67 · 1 bedroom · 1 bed · 1 bath",
           "Entire home/apt",
           2,
           110
          ],
          [
           "Rental unit in Genève · ★4.96 · 1 bedroom · 1 bed · 1 bath",
           "Entire home/apt",
           3,
           110
          ],
          [
           "Rental unit in Genève · ★4.86 · 1 bedroom · 1 bed · 1 bath",
           "Entire home/apt",
           2,
           139
          ],
          [
           "Rental unit in Versoix · 1 bedroom · 1 bed · 1 bath",
           "Private room",
           1,
           45
          ],
          [
           "Rental unit in Genève · ★4.93 · 1 bedroom · 1 bed · 1 bath",
           "Entire home/apt",
           3,
           95
          ],
          [
           "Rental unit in Genève · ★4.91 · 4 bedrooms · 4 beds · 4 baths",
           "Entire home/apt",
           6,
           665
          ],
          [
           "Condo in Genève · ★4.69 · 5 bedrooms · 9 beds · 3.5 baths",
           "Entire home/apt",
           15,
           355
          ],
          [
           "Tiny home in Genève · ★4.95 · 1 bedroom · 1 bed · 1 bath",
           "Entire home/apt",
           2,
           45
          ],
          [
           "Rental unit in Genève · ★5.0 · 1 bedroom · 1 bed · 1.5 baths",
           "Entire home/apt",
           3,
           480
          ],
          [
           "Rental unit in Vernier · ★4.58 · Studio · 1 bed · 1 shared bath",
           "Private room",
           1,
           60
          ],
          [
           "Home in Chêne-Bourg · ★4.92 · 5 bedrooms · 7 beds · 3 baths",
           "Entire home/apt",
           9,
           464
          ],
          [
           "Villa in Cartigny · ★4.86 · 1 bedroom · 1 bed · 1 private bath",
           "Private room",
           2,
           70
          ],
          [
           "Rental unit in Genève · ★4.71 · 1 bedroom · 1 bed · 1 private bath",
           "Private room",
           2,
           78
          ],
          [
           "Rental unit in Genève · ★5.0 · 1 bedroom · 2 beds · 1 bath",
           "Entire home/apt",
           4,
           145
          ],
          [
           "Rental unit in Genève · ★4.83 · 1 bedroom · 1 bed · 1 shared bath",
           "Private room",
           1,
           67
          ],
          [
           "Rental unit in Grand-Lancy · ★4.35 · 2 bedrooms · 2 beds · 1 bath",
           "Entire home/apt",
           3,
           69
          ],
          [
           "Rental unit in Genève · 5 bedrooms · 3 beds · 1 bath",
           "Entire home/apt",
           4,
           179
          ],
          [
           "Rental unit in Genève · ★4.81 · 1 bedroom · 2 beds · 1 bath",
           "Entire home/apt",
           4,
           110
          ],
          [
           "Rental unit in Genève · ★4.90 · 1 bedroom · 1 bed · 1 bath",
           "Entire home/apt",
           2,
           99
          ],
          [
           "Rental unit in Genève · ★4.96 · 1 bedroom · 1 bed · 1 bath",
           "Entire home/apt",
           2,
           110
          ],
          [
           "Place to stay in Bernex · 1 bedroom · 1 bed · 0 shared baths",
           "Shared room",
           2,
           50
          ],
          [
           "Rental unit in Genève · ★5.0 · 1 bedroom · 2 beds · 2.5 baths",
           "Entire home/apt",
           2,
           170
          ],
          [
           "Rental unit in Genève · ★4.83 · 1 bedroom · 1 bed · 1 shared bath",
           "Private room",
           1,
           80
          ],
          [
           "Rental unit in Versoix · 2 bedrooms · 2 beds · 1 bath",
           "Entire home/apt",
           2,
           240
          ],
          [
           "Rental unit in Vernier · ★4.23 · 1 bedroom · 1 bed · 1 shared bath",
           "Private room",
           2,
           54
          ],
          [
           "Condo in Genève · ★4.87 · 1 bedroom · 2 beds · 1.5 baths",
           "Entire home/apt",
           4,
           75
          ],
          [
           "Rental unit in Genève · ★4.88 · 2 bedrooms · 3 beds · 1 bath",
           "Entire home/apt",
           5,
           170
          ],
          [
           "Rental unit in Genève · ★4.84 · 2 bedrooms · 5 beds · 1.5 baths",
           "Entire home/apt",
           4,
           225
          ],
          [
           "Rental unit in Genève · ★5.0 · 1 bedroom · 2 beds · 1 shared bath",
           "Private room",
           2,
           49
          ],
          [
           "Rental unit in Genève · ★5.0 · 1 bedroom · 1 bed · 1 bath",
           "Entire home/apt",
           2,
           135
          ],
          [
           "Rental unit in Genève · Studio · 5 beds · 1 bath",
           "Entire home/apt",
           1,
           113
          ],
          [
           "Rental unit in Genève · ★4.89 · 1 bedroom · 1 bed · 1 bath",
           "Entire home/apt",
           3,
           154
          ],
          [
           "Rental unit in Vernier · ★4.22 · 1 bedroom · 1 bed · 1 shared bath",
           "Private room",
           2,
           56
          ],
          [
           "Rental unit in Genève · ★4.84 · 1 bedroom · 1 bed · 1.5 baths",
           "Entire home/apt",
           2,
           138
          ],
          [
           "Rental unit in Genève · ★4.60 · 1 bedroom · 3 beds · 1 private bath",
           "Private room",
           6,
           63
          ],
          [
           "Rental unit in Genève · ★4.88 · 2 bedrooms · 1 bed · 1 shared bath",
           "Private room",
           1,
           62
          ],
          [
           "Rental unit in Genève · ★5.0 · 2 bedrooms · 1 bed · 1 bath",
           "Entire home/apt",
           3,
           99
          ],
          [
           "Rental unit in Le Grand-Saconnex · ★4.33 · 1 bedroom · 1 bed · 1 shared bath",
           "Private room",
           1,
           70
          ],
          [
           "Guesthouse in Troinex · ★4.87 · Studio · 2 beds · 1 bath",
           "Entire home/apt",
           4,
           95
          ],
          [
           "Rental unit in Genève · ★4.92 · 1 bedroom · 1 bed · 1.5 shared baths",
           "Private room",
           2,
           65
          ],
          [
           "Loft in Genève · ★4.75 · 1 bedroom · 1 bed · 1.5 baths",
           "Entire home/apt",
           2,
           190
          ],
          [
           "Yurt in Meyrin · ★4.83 · 1 bedroom · 4 beds · Half-bath",
           "Entire home/apt",
           4,
           65
          ],
          [
           "Rental unit in Genève · ★4.17 · 1 bedroom · 2 beds · 1 bath",
           "Entire home/apt",
           3,
           94
          ],
          [
           "Rental unit in Genève · ★4.89 · 1 bedroom · 1 bed · 1 shared bath",
           "Private room",
           1,
           47
          ],
          [
           "Rental unit in Genève · ★4.95 · 2 bedrooms · 2 beds · 1 bath",
           "Entire home/apt",
           3,
           270
          ],
          [
           "Rental unit in Genève · ★4.55 · 3 bedrooms · 2 beds · 2 shared baths",
           "Private room",
           3,
           120
          ],
          [
           "Rental unit in Genève · ★4.24 · 1 bedroom · 2 beds · 1 bath",
           "Entire home/apt",
           3,
           115
          ],
          [
           "Rental unit in Genève · ★4.88 · 1 bedroom · 2 beds · 1 bath",
           "Entire home/apt",
           4,
           130
          ],
          [
           "Rental unit in Genève · ★4.42 · 4 bedrooms · 5 beds · 1 bath",
           "Entire home/apt",
           8,
           223
          ],
          [
           "Rental unit in Grand-Lancy · 2 bedrooms · 2 beds · 1.5 baths",
           "Entire home/apt",
           4,
           120
          ],
          [
           "Rental unit in Genève · ★4.82 · 1 bedroom · 1 bed · 1 bath",
           "Entire home/apt",
           2,
           175
          ],
          [
           "Rental unit in Genève · 2 bedrooms · 1 bed · 1.5 baths",
           "Entire home/apt",
           2,
           185
          ],
          [
           "Condo in Genève · ★4.50 · 1 bedroom · 1 bed · 1 bath",
           "Entire home/apt",
           2,
           110
          ],
          [
           "Rental unit in Genève · ★4.44 · 1 bedroom · 1 bed · 1 bath",
           "Entire home/apt",
           2,
           120
          ],
          [
           "Rental unit in Versoix · ★4.48 · 2 bedrooms · 4 beds · 1.5 baths",
           "Entire home/apt",
           4,
           129
          ],
          [
           "Rental unit in Genève · ★4.0 · 2 bedrooms · 2 beds · 2 baths",
           "Entire home/apt",
           4,
           725
          ],
          [
           "Rental unit in Genève · ★4.48 · 1 bedroom · 1 bed · 1 bath",
           "Entire home/apt",
           2,
           117
          ],
          [
           "Rental unit in Genève · ★4.76 · 2 bedrooms · 2 beds · 1 bath",
           "Entire home/apt",
           3,
           140
          ],
          [
           "Rental unit in Genève · ★4.46 · 2 bedrooms · 2 beds · 1 bath",
           "Entire home/apt",
           6,
           390
          ],
          [
           "Rental unit in Genève · ★4.86 · 2 bedrooms · 2 beds · 1 bath",
           "Entire home/apt",
           4,
           150
          ],
          [
           "Rental unit in Bardonnex · ★4.86 · 1 bedroom · 1 bed · 1 shared bath",
           "Private room",
           1,
           49
          ],
          [
           "Home in Genève · ★4.67 · 4 bedrooms · 4 beds · 2.5 baths",
           "Entire home/apt",
           6,
           220
          ],
          [
           "Rental unit in Genève · ★4.75 · 1 bedroom · 1 bed · 1 shared bath",
           "Private room",
           2,
           131
          ],
          [
           "Rental unit in Genève · ★4.91 · 3 bedrooms · 3 beds · 1.5 baths",
           "Entire home/apt",
           5,
           298
          ],
          [
           "Rental unit in Genève · ★4.76 · 1 bedroom · 1 bed · 1 private bath",
           "Private room",
           1,
           66
          ],
          [
           "Rental unit in Genève · ★4.94 · Studio · 1 bed · 1 bath",
           "Entire home/apt",
           2,
           127
          ],
          [
           "Rental unit in Genève · 2 bedrooms · 3 beds · 2 baths",
           "Entire home/apt",
           5,
           135
          ],
          [
           "Condo in Carouge · ★4.75 · 1 bedroom · 1 bed · 1 bath",
           "Entire home/apt",
           2,
           107
          ],
          [
           "Rental unit in Genève · ★4.76 · 1 bedroom · 1 bed · 1.5 baths",
           "Entire home/apt",
           2,
           146
          ],
          [
           "Rental unit in Genève · ★4.91 · Studio · 2 beds · 1 bath",
           "Entire home/apt",
           4,
           104
          ],
          [
           "Rental unit in Carouge · ★4.24 · 1 bedroom · 2 beds · 1 bath",
           "Entire home/apt",
           2,
           50
          ],
          [
           "Rental unit in Genève · ★4.0 · 1 bedroom · 2 beds · 1 bath",
           "Entire home/apt",
           3,
           100
          ],
          [
           "Rental unit in Carouge · ★4.63 · 3 bedrooms · 4 beds · 1.5 baths",
           "Entire home/apt",
           6,
           220
          ],
          [
           "Boutique hotel in Genève · ★4.55 · Studio · 1 bed · 1 bath",
           "Entire home/apt",
           1,
           135
          ],
          [
           "Boutique hotel in Genève · ★4.21 · 1 bedroom · 1 bed · 1 private bath",
           "Private room",
           2,
           169
          ],
          [
           "Rental unit in Genève · ★5.0 · Studio · 1 bed · 1 bath",
           "Entire home/apt",
           2,
           145
          ],
          [
           "Rental unit in Genève · ★4.55 · Studio · 1 bed · 1 bath",
           "Entire home/apt",
           2,
           89
          ],
          [
           "Rental unit in Genève · ★4.85 · 1 bedroom · 4 beds · 1.5 baths",
           "Entire home/apt",
           4,
           175
          ],
          [
           "Rental unit in Genève · ★4.94 · 1 bedroom · 1 bed · 1.5 shared baths",
           "Private room",
           2,
           90
          ],
          [
           "Rental unit in Pregny-Chambésy · ★5.0 · 1 bedroom · 2 beds · 1 bath",
           "Entire home/apt",
           1,
           180
          ],
          [
           "Rental unit in Genève · ★5.0 · 1 bedroom · 1 bed · 1 bath",
           "Entire home/apt",
           3,
           170
          ],
          [
           "Rental unit in Carouge · ★4.77 · 1 bedroom · 1 bed · 1 bath",
           "Entire home/apt",
           3,
           110
          ],
          [
           "Rental unit in Vernier · ★4.94 · 2 bedrooms · 1 bed · 1 private bath",
           "Private room",
           1,
           57
          ],
          [
           "Condo in Bellevue · ★4.50 · 1 bedroom · 1 bed · 1 shared bath",
           "Private room",
           1,
           49
          ],
          [
           "Rental unit in Genève · ★4.0 · 1 bedroom · 2 beds · 1 bath",
           "Entire home/apt",
           4,
           109
          ],
          [
           "Rental unit in Genève · ★4.36 · 1 bedroom · 1 bed · 1 bath",
           "Entire home/apt",
           2,
           99
          ],
          [
           "Rental unit in Genève · ★4.65 · 1 bedroom · 1 bed · 1 bath",
           "Entire home/apt",
           2,
           170
          ],
          [
           "Serviced apartment in Genève · ★4.94 · 3 bedrooms · 5 beds · 2.5 baths",
           "Entire home/apt",
           6,
           425
          ],
          [
           "Rental unit in Genève · ★4.79 · 1 bedroom · 1 bed · 1 bath",
           "Entire home/apt",
           4,
           110
          ],
          [
           "Rental unit in Genève · 2 bedrooms · 2 beds · 1 bath",
           "Entire home/apt",
           4,
           115
          ],
          [
           "Rental unit in Genève · ★4.71 · 2 bedrooms · 1 bed · 1.5 shared baths",
           "Private room",
           2,
           70
          ],
          [
           "Rental unit in Genève · ★4.76 · 2 bedrooms · 2 beds · 2.5 baths",
           "Entire home/apt",
           4,
           180
          ],
          [
           "Home in Chêne-Bougeries · ★4.97 · 1 bedroom · 1 bed · 2 baths",
           "Private room",
           2,
           120
          ],
          [
           "Rental unit in Genève · ★4.76 · Studio · 1 bed · 1 bath",
           "Entire home/apt",
           3,
           89
          ],
          [
           "Rental unit in Genève · ★5.0 · 1 bedroom · 1 bed · 1 bath",
           "Entire home/apt",
           2,
           101
          ],
          [
           "Rental unit in Genève · ★4.40 · 1 bedroom · 1 bed · 1 bath",
           "Entire home/apt",
           2,
           56
          ],
          [
           "Rental unit in Onex · ★5.0 · 2 bedrooms · 3 beds · 1.5 baths",
           "Entire home/apt",
           4,
           250
          ],
          [
           "Rental unit in Genève · ★4.60 · 2 bedrooms · 2 beds · 1.5 baths",
           "Entire home/apt",
           4,
           145
          ],
          [
           "Rental unit in Genève · ★4.31 · 2 bedrooms · 3 beds · 2 baths",
           "Entire home/apt",
           5,
           189
          ],
          [
           "Rental unit in Chêne-Bougeries · Studio · 1 bed · 1 bath",
           "Entire home/apt",
           3,
           250
          ],
          [
           "Rental unit in Genève · ★4.52 · 1 bedroom · 1 bed · 1 bath",
           "Entire home/apt",
           2,
           120
          ],
          [
           "Rental unit in Genève · ★4.36 · 1 bedroom · 1 bed · 1.5 shared baths",
           "Private room",
           1,
           68
          ],
          [
           "Rental unit in Genève · ★4.88 · 1 bedroom · 1 bed · 1 bath",
           "Entire home/apt",
           2,
           93
          ],
          [
           "Townhouse in Le Grand-Saconnex · ★4.86 · 2 bedrooms · 6 beds · 1 shared bath",
           "Private room",
           6,
           410
          ],
          [
           "casa particular in Le Grand-Saconnex · ★4.80 · 1 bedroom · 1 bed · 1 shared bath",
           "Private room",
           2,
           80
          ],
          [
           "Rental unit in Genève · ★4.50 · 2 bedrooms · 2 beds · 1 bath",
           "Entire home/apt",
           4,
           170
          ],
          [
           "Rental unit in Genève · ★4.83 · 1 bedroom · 1 bed · 1 shared bath",
           "Private room",
           1,
           115
          ],
          [
           "Rental unit in Hermance · ★5.0 · 3 bedrooms · 4 beds · 2 baths",
           "Entire home/apt",
           5,
           250
          ],
          [
           "Loft in Cologny · ★5.0 · 4 bedrooms · 8 beds · 1 bath",
           "Entire home/apt",
           7,
           300
          ],
          [
           "Rental unit in Genève · ★4.47 · 1 bedroom · 1 bed · 1 bath",
           "Entire home/apt",
           2,
           120
          ],
          [
           "Home in Chambésy · ★4.97 · 2 bedrooms · 2 beds · 1 bath",
           "Entire home/apt",
           2,
           245
          ],
          [
           "Home in Le Grand-Saconnex · ★4.94 · 1 bedroom · 4 beds · 1 shared bath",
           "Private room",
           4,
           160
          ],
          [
           "Rental unit in Genève · 1 bedroom · 1 bed · 1 bath",
           "Entire home/apt",
           2,
           98
          ],
          [
           "Rental unit in Meinier · ★4.25 · 1 bedroom · 1 bed · 1 bath",
           "Entire home/apt",
           2,
           65
          ],
          [
           "Rental unit in Genève · ★4.89 · 1 bedroom · 1 bed · 1 shared bath",
           "Private room",
           2,
           67
          ],
          [
           "Rental unit in Genève · ★4.95 · Studio · 1 bed · 1 bath",
           "Entire home/apt",
           2,
           140
          ],
          [
           "Rental unit in Carouge · 1 bedroom · 1 bed · 2 baths",
           "Entire home/apt",
           2,
           190
          ],
          [
           "Rental unit in Genève · ★4.90 · 1 bedroom · 1 bed · 1 shared bath",
           "Private room",
           1,
           47
          ],
          [
           "Home in Chêne-Bourg · ★5.0 · 1 bedroom · 1 bed · 1 bath",
           "Private room",
           2,
           93
          ],
          [
           "Loft in Genève · ★5.0 · 1 bedroom · 1 bed · 1 private bath",
           "Private room",
           2,
           180
          ],
          [
           "Home in Le Grand-Saconnex · ★4.96 · 1 bedroom · 1 bed · 1 shared bath",
           "Private room",
           1,
           89
          ],
          [
           "Townhouse in Le Grand-Saconnex · ★4.96 · 1 bedroom · 2 beds · 1 shared bath",
           "Private room",
           2,
           99
          ],
          [
           "Rental unit in Genève · ★4.85 · 1 bedroom · 1 bed · 1 shared bath",
           "Private room",
           1,
           51
          ],
          [
           "Rental unit in Petit-Lancy · ★5.0 · 2 bedrooms · 2 beds · 1 bath",
           "Entire home/apt",
           4,
           130
          ],
          [
           "Rental unit in Genève · ★4.50 · 1 bedroom · 1 bed · 1.5 shared baths",
           "Private room",
           1,
           50
          ],
          [
           "Home in Vernier · ★4.88 · 1 bedroom · 1 bed · 1 shared bath",
           "Private room",
           1,
           40
          ],
          [
           "Loft in Genève · ★4.65 · 1 bedroom · 2 beds · 1 shared bath",
           "Private room",
           3,
           41
          ],
          [
           "Rental unit in Genève · ★4.97 · 1 bedroom · 1 bed · 1 bath",
           "Entire home/apt",
           2,
           190
          ],
          [
           "Chalet in Bardonnex · ★4.79 · 1 bedroom · 1 bed · 1 shared bath",
           "Private room",
           2,
           49
          ],
          [
           "Rental unit in Genève · ★4.92 · 1 bedroom · 2 beds · 1 bath",
           "Entire home/apt",
           2,
           130
          ],
          [
           "Rental unit in Genève · ★4.93 · 3 bedrooms · 5 beds · 1.5 baths",
           "Entire home/apt",
           7,
           290
          ],
          [
           "Rental unit in Genève · ★4.80 · 1 bedroom · 2 beds · 1 bath",
           "Entire home/apt",
           4,
           135
          ],
          [
           "Rental unit in Genève · ★4.80 · 1 bedroom · 1 bed · 1 bath",
           "Entire home/apt",
           2,
           95
          ],
          [
           "Condo in Versoix · 4 bedrooms · 5 beds · 2 baths",
           "Entire home/apt",
           7,
           120
          ],
          [
           "Rental unit in Genève · ★4.70 · Studio · 1 bed · 1 shared bath",
           "Private room",
           1,
           50
          ],
          [
           "Rental unit in Genève · ★4.27 · Studio · 1 bed · 1 bath",
           "Entire home/apt",
           1,
           130
          ],
          [
           "Rental unit in Genève · ★4.39 · 2 bedrooms · 3 beds · 1 bath",
           "Entire home/apt",
           4,
           171
          ],
          [
           "Rental unit in Genève · ★4.54 · 1 bedroom · 1 bed · 1 bath",
           "Entire home/apt",
           4,
           130
          ],
          [
           "Rental unit in Le Grand-Saconnex · ★4.95 · Studio · 1 bed · 1 bath",
           "Entire home/apt",
           2,
           70
          ],
          [
           "Rental unit in Genève · ★4.25 · 1 bedroom · 1 bed · 1 shared bath",
           "Private room",
           1,
           60
          ],
          [
           "Rental unit in Genève · ★4.90 · 1 bedroom · 1 bed · 1 shared bath",
           "Private room",
           1,
           70
          ],
          [
           "Condo in Cointrin · ★4.67 · 1 bedroom · 2 beds · 1 bath",
           "Entire home/apt",
           4,
           160
          ],
          [
           "Rental unit in Genève · ★4.72 · Studio · 2 beds · 1 bath",
           "Entire home/apt",
           2,
           155
          ],
          [
           "Rental unit in Genève · ★5.0 · 1 bedroom · 1 bed · 1 shared bath",
           "Private room",
           2,
           65
          ],
          [
           "Rental unit in Genève · ★4.58 · 2 bedrooms · 3 beds · 1 bath",
           "Entire home/apt",
           4,
           199
          ],
          [
           "Rental unit in Genève · ★4.82 · 1 bedroom · 1 bed · 1 shared bath",
           "Private room",
           1,
           75
          ],
          [
           "Rental unit in Geneva · ★5.0 · 3 bedrooms · 3 beds · 2.5 baths",
           "Entire home/apt",
           6,
           200
          ],
          [
           "Rental unit in Genève · ★5.0 · 2 bedrooms · 2 beds · 2.5 baths",
           "Entire home/apt",
           5,
           1500
          ],
          [
           "Rental unit in Geneva · ★4.53 · 1 bedroom · 1 bed · 1 bath",
           "Entire home/apt",
           2,
           118
          ],
          [
           "Rental unit in Genève · ★4.90 · 1 bedroom · 1 bed · 1 shared bath",
           "Private room",
           1,
           6582
          ],
          [
           "Rental unit in Genève · ★5.0 · 1 bedroom · 1 bed · 1 bath",
           "Entire home/apt",
           2,
           100
          ],
          [
           "Rental unit in Carouge · ★4.88 · 1 bedroom · 1 bed · 1.5 baths",
           "Entire home/apt",
           4,
           240
          ],
          [
           "Condo in Chêne-Bougeries · Studio · 1 bed · 1 bath",
           "Entire home/apt",
           1,
           90
          ],
          [
           "Rental unit in Petit-Lancy · ★4.86 · 1 bedroom · 1 bed · 1 shared bath",
           "Private room",
           2,
           40
          ],
          [
           "Rental unit in Genève · ★4.75 · 1 bedroom · 1 bed · 1 bath",
           "Entire home/apt",
           2,
           110
          ],
          [
           "Rental unit in Genève · ★4.83 · 1 bedroom · 1 bed · 1 private bath",
           "Private room",
           2,
           49
          ],
          [
           "Rental unit in Genève · ★5.0 · 1 bedroom · 1 bed · 1 bath",
           "Entire home/apt",
           2,
           1000
          ],
          [
           "Rental unit in Genève · ★5.0 · 2 bedrooms · 3 beds · 1.5 baths",
           "Entire home/apt",
           4,
           186
          ],
          [
           "Townhouse in Chêne-Bougeries · ★5.0 · 1 bedroom · 1 bed · 2 shared baths",
           "Private room",
           2,
           120
          ],
          [
           "Rental unit in Chêne-Bougeries · ★5.0 · 1 bedroom · 1 bed · 1 bath",
           "Entire home/apt",
           3,
           220
          ],
          [
           "Rental unit in Genève · 1 bedroom · 1 bed · 1 private bath",
           "Private room",
           1,
           34
          ],
          [
           "Rental unit in Genève · ★4.80 · 1 bedroom · 2 beds · 1 bath",
           "Entire home/apt",
           3,
           180
          ],
          [
           "Rental unit in Genève · ★4.63 · 1 bedroom · 1 bed · 2 shared baths",
           "Private room",
           2,
           579
          ],
          [
           "Rental unit in Carouge · 2 bedrooms · 3 beds · 2 baths",
           "Entire home/apt",
           4,
           189
          ],
          [
           "Rental unit in Genève · ★4.96 · 1 bedroom · 1 bed · 1 bath",
           "Entire home/apt",
           2,
           140
          ],
          [
           "Condo in Bellevue · ★4.40 · 1 bedroom · 1 bed · 1 shared bath",
           "Private room",
           1,
           49
          ],
          [
           "Rental unit in Genève · 3 bedrooms · 3 beds · 2 baths",
           "Entire home/apt",
           5,
           180
          ],
          [
           "Rental unit in Genève · ★4.85 · Studio · 1 bath",
           "Entire home/apt",
           2,
           122
          ],
          [
           "Rental unit in Genève · ★4.83 · 1 bedroom · 1 bed · 1 shared bath",
           "Private room",
           2,
           85
          ],
          [
           "Rental unit in Genève · ★4.70 · 3 bedrooms · 4 beds · 2 baths",
           "Entire home/apt",
           6,
           357
          ],
          [
           "Loft in Carouge · ★4.67 · Studio · 2 beds · 1 bath",
           "Entire home/apt",
           4,
           280
          ],
          [
           "Rental unit in Genève · ★4.95 · 1 bedroom · 1 bed · 1 bath",
           "Entire home/apt",
           2,
           200
          ],
          [
           "Rental unit in Genève · ★4.89 · 3 bedrooms · 4 beds · 1.5 baths",
           "Entire home/apt",
           4,
           211
          ],
          [
           "Rental unit in Genève · ★4.95 · Studio · 1 bed · 1 bath",
           "Entire home/apt",
           1,
           120
          ],
          [
           "Loft in Petit-Lancy · ★4.71 · 1 bedroom · 1 bed · 1 bath",
           "Entire home/apt",
           3,
           150
          ],
          [
           "Rental unit in Genève · ★4.89 · 1 bedroom · 1 bed · 1 bath",
           "Entire home/apt",
           2,
           95
          ],
          [
           "Rental unit in Genève · ★4.94 · 3 bedrooms · 3 beds · 1.5 baths",
           "Entire home/apt",
           5,
           180
          ],
          [
           "Rental unit in Genève · ★5.0 · 1 bedroom · 1 bed · 1 bath",
           "Entire home/apt",
           4,
           100
          ],
          [
           "Condo in Genève · ★4.88 · 1 bedroom · 1 bed · 1 shared bath",
           "Private room",
           1,
           45
          ],
          [
           "Rental unit in Genève · ★4.67 · 1 bedroom · 1 bed · 1 bath",
           "Entire home/apt",
           2,
           260
          ],
          [
           "Rental unit in Versoix · 1 bedroom · 1 bed · 1 shared bath",
           "Private room",
           1,
           45
          ],
          [
           "Rental unit in Genève · ★4.72 · 1 bedroom · 3 beds · 1 bath",
           "Entire home/apt",
           4,
           130
          ],
          [
           "Rental unit in Genève · ★4.64 · Studio · 2 beds · 1 bath",
           "Entire home/apt",
           2,
           99
          ],
          [
           "Rental unit in Genève · ★4.74 · 1 bedroom · 1 bed · 1 bath",
           "Entire home/apt",
           2,
           85
          ],
          [
           "Rental unit in Genève · ★4.71 · 1 bedroom · 1 bed · 1.5 baths",
           "Entire home/apt",
           2,
           85
          ],
          [
           "Rental unit in Genève · ★4.63 · 1 bedroom · 3 beds · 1 bath",
           "Entire home/apt",
           3,
           165
          ],
          [
           "Rental unit in Genève · ★5.0 · 1 bedroom · 1 bed · 1 shared bath",
           "Private room",
           2,
           77
          ],
          [
           "Rental unit in Genève · ★4.82 · 2 bedrooms · 2 beds · 1 bath",
           "Entire home/apt",
           2,
           85
          ],
          [
           "Home in Plan-les-Ouates · 3 bedrooms · 5 beds · 1 bath",
           "Entire home/apt",
           5,
           170
          ],
          [
           "Rental unit in Genève · ★4.84 · 1 bedroom · 1 bed · 2.5 shared baths",
           "Private room",
           1,
           90
          ],
          [
           "Rental unit in Genève · ★4.40 · 1 bedroom · 2 beds · 1 bath",
           "Entire home/apt",
           3,
           116
          ],
          [
           "Rental unit in Genève · ★4.50 · 1 bedroom · 1 bed · 1 bath",
           "Entire home/apt",
           2,
           140
          ],
          [
           "Villa in Chambésy · ★4.98 · 1 bedroom · 1 bed · 1.5 baths",
           "Private room",
           2,
           69
          ],
          [
           "Rental unit in Genève · ★5.0 · 1 bedroom · 1 bed · 1 bath",
           "Entire home/apt",
           2,
           179
          ],
          [
           "Rental unit in Veyrier · 1 bedroom · 1 bed · 1 shared bath",
           "Private room",
           4,
           70
          ],
          [
           "Rental unit in Genève · ★4.90 · 1 bedroom · 1 bed · 1 bath",
           "Entire home/apt",
           2,
           107
          ],
          [
           "Rental unit in Lancy · 2 bedrooms · 2 beds · 1 bath",
           "Entire home/apt",
           4,
           101
          ],
          [
           "Condo in Meyrin · ★5.0 · 1 bedroom · 1 bed · 1 bath",
           "Entire home/apt",
           4,
           85
          ],
          [
           "Rental unit in Chambésy · 1 bedroom · 1 bed · 1 bath",
           "Entire home/apt",
           2,
           100
          ],
          [
           "Condo in Genève · ★4.97 · 3 bedrooms · 4 beds · 1.5 baths",
           "Entire home/apt",
           6,
           200
          ],
          [
           "Serviced apartment in Chambésy · 1 bedroom · 2 beds · 1 bath",
           "Entire home/apt",
           3,
           285
          ],
          [
           "Rental unit in Genève · ★4.96 · 1 bedroom · 1 bed · 1 shared bath",
           "Private room",
           1,
           78
          ],
          [
           "Rental unit in Genève · ★4.62 · 1 bedroom · 3 beds · 1 bath",
           "Entire home/apt",
           5,
           128
          ],
          [
           "Rental unit in Grand-Saconnex · ★5.0 · 1 bedroom · 2 beds · 1.5 baths",
           "Entire home/apt",
           2,
           60
          ],
          [
           "Rental unit in Genève · ★4.50 · 1 bedroom · 1 bed · 1.5 shared baths",
           "Private room",
           2,
           75
          ],
          [
           "Rental unit in Genève · ★4.99 · 1 bedroom · 1 bed · 1 bath",
           "Entire home/apt",
           2,
           150
          ],
          [
           "Rental unit in Genève · ★4.83 · 1 bedroom · 2 beds · 1 bath",
           "Entire home/apt",
           4,
           139
          ],
          [
           "Rental unit in Genève · ★4.65 · 2 bedrooms · 4 beds · 1 bath",
           "Entire home/apt",
           4,
           150
          ],
          [
           "Rental unit in Genève · ★4.63 · 1 bedroom · 2 beds · 1 bath",
           "Entire home/apt",
           2,
           75
          ],
          [
           "Rental unit in Genève · ★4.48 · Studio · 2 beds · 1 bath",
           "Entire home/apt",
           3,
           60
          ],
          [
           "Rental unit in Genève · ★4.76 · 1 bedroom · 2 beds · 1 bath",
           "Entire home/apt",
           4,
           135
          ],
          [
           "Rental unit in Genève · ★4.91 · Studio · 1 bed · 1 bath",
           "Entire home/apt",
           2,
           124
          ],
          [
           "Rental unit in Genève · ★5.0 · 2 bedrooms · 1 bed · 1 shared bath",
           "Private room",
           1,
           86
          ],
          [
           "Rental unit in Genève · ★4.58 · 1 bedroom · 1 bed · 1 bath",
           "Entire home/apt",
           2,
           135
          ],
          [
           "Home in Vernier · 1 bedroom · 1 bed · 1 bath",
           "Private room",
           2,
           85
          ],
          [
           "Rental unit in Genève · ★4.79 · 2 bedrooms · 2 beds · 1.5 baths",
           "Entire home/apt",
           3,
           110
          ],
          [
           "Rental unit in Genève · ★4.80 · 1 bedroom · 1 bed · 1 shared bath",
           "Private room",
           2,
           76
          ],
          [
           "Rental unit in Genève · ★4.77 · 3 bedrooms · 4 beds · 1.5 baths",
           "Entire home/apt",
           4,
           126
          ],
          [
           "Rental unit in Cologny · 2 bedrooms · 1 bed · 2.5 baths",
           "Entire home/apt",
           2,
           400
          ],
          [
           "Rental unit in Genève · ★4.83 · 2 bedrooms · 2 beds · 1 shared bath",
           "Private room",
           2,
           80
          ],
          [
           "Rental unit in Genève · ★5.0 · 1 bedroom · 1 bed · 1 shared bath",
           "Private room",
           1,
           153
          ],
          [
           "Rental unit in Genève · ★4.67 · 1 bedroom · 1 bed · 1 shared bath",
           "Private room",
           2,
           75
          ],
          [
           "Rental unit in Genève · ★4.87 · 1 bedroom · 2 beds · 1.5 baths",
           "Entire home/apt",
           3,
           120
          ],
          [
           "Rental unit in Genève · ★4.58 · 2 bedrooms · 2 beds · 1 bath",
           "Entire home/apt",
           4,
           151
          ],
          [
           "Rental unit in Carouge · ★New · 2 bedrooms · 2 beds · 2 baths",
           "Entire home/apt",
           4,
           195
          ],
          [
           "Rental unit in Versoix · ★4.67 · 1 bedroom · 1 bed · 1 shared bath",
           "Private room",
           3,
           50
          ],
          [
           "Rental unit in Vernier · ★4.0 · 1 bedroom · 2 beds · 1 shared bath",
           "Private room",
           1,
           163
          ],
          [
           "Rental unit in Genève · ★4.92 · 2 bedrooms · 3 beds · 2 baths",
           "Entire home/apt",
           5,
           227
          ],
          [
           "Rental unit in Genève · ★4.83 · 1 bedroom · 1 bed · 1 bath",
           "Entire home/apt",
           2,
           110
          ],
          [
           "Rental unit in Genève · ★4.34 · 1 bedroom · 2 beds · 1.5 baths",
           "Entire home/apt",
           4,
           186
          ],
          [
           "Rental unit in Genève · 2 bedrooms · 2 beds · 1 bath",
           "Entire home/apt",
           4,
           165
          ],
          [
           "Guesthouse in Genève · ★4.89 · 1 bedroom · 1 bed · 1 bath",
           "Entire home/apt",
           2,
           100
          ],
          [
           "Rental unit in Genève · ★4.93 · 3 bedrooms · 4 beds · 1.5 baths",
           "Entire home/apt",
           6,
           290
          ],
          [
           "Condo in Genève · ★5.0 · 1 bedroom · 2 beds · 1.5 baths",
           "Entire home/apt",
           4,
           150
          ],
          [
           "Condo in Genève · ★4.59 · 1 bedroom · 3 beds · 1 shared bath",
           "Private room",
           3,
           47
          ],
          [
           "Rental unit in Genève · 1 bedroom · 1 bed · 1 bath",
           "Entire home/apt",
           2,
           79
          ],
          [
           "Rental unit in Genève · Studio · 1 bed · 1 bath",
           "Entire home/apt",
           2,
           89
          ],
          [
           "Rental unit in Vésenaz · 3 bedrooms · 3 beds · 2.5 baths",
           "Entire home/apt",
           6,
           280
          ],
          [
           "Condo in Genève · ★4.83 · 1 bedroom · 1 bed · 1 private bath",
           "Private room",
           2,
           67
          ],
          [
           "Condo in Genève · ★5.0 · 1 bedroom · 1 bed · 1 private bath",
           "Private room",
           2,
           67
          ],
          [
           "Loft in Genève · ★4.0 · 1 bedroom · 2 beds · 1 shared bath",
           "Private room",
           3,
           46
          ],
          [
           "Rental unit in Genève · ★4.67 · 1 bedroom · 1 bed · 1 bath",
           "Entire home/apt",
           2,
           99
          ],
          [
           "Rental unit in Genève · ★4.86 · 1 bedroom · 2 beds · 1 bath",
           "Entire home/apt",
           4,
           82
          ],
          [
           "Boutique hotel in Genève · ★4.0 · 1 bedroom · 1 bed · 1 private bath",
           "Private room",
           2,
           169
          ],
          [
           "Rental unit in Genève · ★4.97 · 2 bedrooms · 3 beds · 2 baths",
           "Entire home/apt",
           4,
           112
          ],
          [
           "Rental unit in Genève · ★4.73 · 1 bedroom · 1 bed · 1 bath",
           "Entire home/apt",
           2,
           145
          ],
          [
           "Rental unit in Genève · 1 bedroom · 1 bed · 1 bath",
           "Entire home/apt",
           4,
           450
          ],
          [
           "Rental unit in Genève · ★4.95 · 1 bedroom · 1 bed · 1.5 baths",
           "Entire home/apt",
           2,
           115
          ],
          [
           "Rental unit in Genève · ★5.0 · 1 bedroom · 1 bed · 1 bath",
           "Entire home/apt",
           2,
           90
          ],
          [
           "Rental unit in Genève · ★5.0 · 1 bedroom · 2 beds · 1.5 baths",
           "Entire home/apt",
           4,
           225
          ],
          [
           "Condo in Chêne-Bougeries · ★4.81 · 2 bedrooms · 1 bed · 1 bath",
           "Entire home/apt",
           3,
           125
          ],
          [
           "Loft in Genève · ★4.43 · 2 bedrooms · 6 beds · 1 bath",
           "Entire home/apt",
           8,
           106
          ],
          [
           "Rental unit in Genève · ★4.84 · 1 bedroom · 1 bed · 1.5 shared baths",
           "Private room",
           1,
           65
          ],
          [
           "Rental unit in Genève · ★4.84 · 1 bedroom · 2 beds · 1.5 shared baths",
           "Private room",
           2,
           85
          ],
          [
           "Rental unit in Plan-les-Ouates · ★4.97 · 1 bedroom · 1 bed · 1.5 shared baths",
           "Private room",
           2,
           41
          ],
          [
           "Rental unit in Genève · ★5.0 · 1 bedroom · 1 bed · 1 shared bath",
           "Private room",
           1,
           96
          ],
          [
           "Rental unit in Genève · ★4.77 · 1 bedroom · 1 bed · 1 bath",
           "Entire home/apt",
           2,
           110
          ],
          [
           "Rental unit in Gaillard  · ★4.67 · 1 bedroom · 1 bed · 1 bath",
           "Entire home/apt",
           2,
           233
          ],
          [
           "Condo in Genève · ★4.88 · 3 bedrooms · 3 beds · 2.5 baths",
           "Entire home/apt",
           7,
           150
          ],
          [
           "Rental unit in Genève · ★4.55 · 1 bedroom · 2 beds · 1 shared bath",
           "Private room",
           2,
           101
          ],
          [
           "Rental unit in Genève · ★4.75 · Studio · 1 bed · 1 bath",
           "Entire home/apt",
           2,
           89
          ],
          [
           "Rental unit in Genève · ★4.59 · 1 bedroom · 1 bed · 1.5 baths",
           "Entire home/apt",
           4,
           104
          ],
          [
           "Rental unit in Genève · ★5.0 · 2 bedrooms · 1 bed · 1 bath",
           "Entire home/apt",
           3,
           80
          ],
          [
           "Rental unit in Genève · ★5.0 · Studio · 1 bed · 1 bath",
           "Entire home/apt",
           2,
           95
          ],
          [
           "Rental unit in Genève · 2 bedrooms · 2 beds · 1.5 baths",
           "Entire home/apt",
           4,
           150
          ],
          [
           "Rental unit in Genève · ★4.75 · Studio · 2 beds · 1 bath",
           "Entire home/apt",
           2,
           92
          ],
          [
           "Rental unit in Genève · ★5.0 · 2 bedrooms · 6 beds · 1.5 baths",
           "Entire home/apt",
           4,
           210
          ],
          [
           "Rental unit in Genève · ★4.45 · 1 bedroom · 1 bed · 1 shared bath",
           "Private room",
           2,
           333
          ],
          [
           "Rental unit in Geneva · ★4.80 · 1 bedroom · 1 bed · 1 bath",
           "Entire home/apt",
           2,
           200
          ],
          [
           "Villa in Chêne-Bougeries · ★4.66 · 7 bedrooms · 8 beds · 2.5 baths",
           "Entire home/apt",
           10,
           500
          ],
          [
           "Rental unit in Genève · 2 bedrooms · 3 beds · 1 bath",
           "Entire home/apt",
           4,
           165
          ],
          [
           "Rental unit in Genève · ★4.89 · 1 bedroom · 1 bed · 1 shared bath",
           "Private room",
           2,
           90
          ],
          [
           "Rental unit in Genève · ★4.64 · 1 bedroom · 1 bed · 1 bath",
           "Entire home/apt",
           4,
           130
          ],
          [
           "Rental unit in Carouge · ★4.94 · 1 bedroom · 1 bed · 1 bath",
           "Entire home/apt",
           3,
           100
          ],
          [
           "Home in Anières · ★4.93 · 3 bedrooms · 7 beds · 2.5 baths",
           "Entire home/apt",
           6,
           450
          ],
          [
           "Rental unit in Genève · ★5.0 · 1 bedroom · 1 bed · 1 bath",
           "Entire home/apt",
           3,
           69
          ],
          [
           "Rental unit in Genève · ★4.87 · 1 bedroom · 1 bed · 1 bath",
           "Entire home/apt",
           2,
           90
          ],
          [
           "Rental unit in Genève · ★New · 1 bedroom · 2 beds · 1 bath",
           "Entire home/apt",
           3,
           130
          ],
          [
           "Rental unit in Genève · ★5.0 · 1 bedroom · 1 bed · 2 baths",
           "Entire home/apt",
           3,
           156
          ],
          [
           "Rental unit in Genève · ★5.0 · 2 bedrooms · 2 beds · 1 bath",
           "Entire home/apt",
           4,
           155
          ],
          [
           "Rental unit in Genève · ★4.53 · 2 bedrooms · 2 beds · 1 bath",
           "Entire home/apt",
           4,
           150
          ],
          [
           "Rental unit in Genève · ★4.85 · Studio · 2 beds · 1 bath",
           "Entire home/apt",
           4,
           100
          ],
          [
           "Rental unit in Genève · ★4.67 · 1 bedroom · 2 beds · 1 bath",
           "Entire home/apt",
           4,
           100
          ],
          [
           "Rental unit in Carouge · 1 bedroom · 1 bed · 1 bath",
           "Entire home/apt",
           2,
           55
          ],
          [
           "Rental unit in Carouge · ★4.90 · 1 bedroom · 1 bed · 1.5 shared baths",
           "Private room",
           1,
           50
          ],
          [
           "Rental unit in Genève · ★4.68 · 1 bedroom · 1 bed · 1 bath",
           "Entire home/apt",
           4,
           130
          ],
          [
           "Rental unit in Genève · ★4.53 · 1 bedroom · 1 bed · 1 bath",
           "Entire home/apt",
           4,
           108
          ],
          [
           "Rental unit in Lancy · ★4.88 · 2 bedrooms · 3 beds · 2 baths",
           "Entire home/apt",
           7,
           220
          ],
          [
           "Rental unit in Genève · ★4.91 · 1 bedroom · 2 beds · 1 bath",
           "Entire home/apt",
           3,
           150
          ],
          [
           "Rental unit in Genève · ★4.21 · 1 bedroom · 2 beds · 1 bath",
           "Entire home/apt",
           3,
           96
          ],
          [
           "Condo in Genève · Studio · 1 bed · 1 bath",
           "Entire home/apt",
           1,
           116
          ],
          [
           "Condo in Genève · Studio · 1 bed · 1 bath",
           "Entire home/apt",
           1,
           119
          ],
          [
           "Rental unit in Genève · 1 bedroom · 2 beds · 1 bath",
           "Entire home/apt",
           2,
           136
          ],
          [
           "Rental unit in Genève · ★4.92 · 1 bedroom · 1 bed · 1 bath",
           "Entire home/apt",
           1,
           150
          ],
          [
           "Rental unit in Genève · ★4.87 · 1 bedroom · 1 bed · 1 private bath",
           "Private room",
           2,
           51
          ],
          [
           "Rental unit in Carouge · ★4.0 · 1 bedroom · 1 bed · 1 bath",
           "Entire home/apt",
           3,
           130
          ],
          [
           "Rental unit in Genève · ★5.0 · 1 bedroom · 1 bed · 1 shared bath",
           "Private room",
           2,
           55
          ],
          [
           "Rental unit in Genève · ★4.47 · 2 bedrooms · 2 beds · 1 bath",
           "Entire home/apt",
           4,
           202
          ],
          [
           "Rental unit in Meyrin · 2 bedrooms · 2 beds · 1 bath",
           "Entire home/apt",
           3,
           151
          ],
          [
           "Rental unit in Genève · ★4.93 · 2 bedrooms · 2 beds · 1 bath",
           "Entire home/apt",
           4,
           250
          ],
          [
           "Rental unit in Genève · ★4.67 · 1 bedroom · 1 bed · 1 bath",
           "Entire home/apt",
           4,
           144
          ],
          [
           "Condo in Genève · 2 bedrooms · 2 beds · 2 baths",
           "Entire home/apt",
           4,
           203
          ],
          [
           "Rental unit in Genève · ★5.0 · 1 bedroom · 1 bed · 1 bath",
           "Entire home/apt",
           2,
           72
          ],
          [
           "Rental unit in Genève · ★5.0 · 1 bedroom · 1 bed · 1 shared bath",
           "Private room",
           1,
           157
          ],
          [
           "Rental unit in Lancy · ★4.67 · 3 bedrooms · 1 bed · 2 baths",
           "Entire home/apt",
           2,
           154
          ],
          [
           "Rental unit in Carouge · ★4.88 · 2 bedrooms · 2 beds · 1 bath",
           "Entire home/apt",
           4,
           120
          ],
          [
           "Rental unit in Genève · ★4.91 · 1 bedroom · 1 bed · 1 bath",
           "Entire home/apt",
           2,
           140
          ],
          [
           "Rental unit in Genève · ★4.83 · 1 bedroom · 1 bed · 1 shared bath",
           "Private room",
           2,
           42
          ],
          [
           "Rental unit in Meyrin · ★4.97 · 1 bedroom · 1 bed · 1 private bath",
           "Private room",
           2,
           74
          ],
          [
           "Rental unit in Genève · 3 bedrooms · 4 beds · 2 baths",
           "Entire home/apt",
           5,
           130
          ],
          [
           "Rental unit in Genève · ★4.87 · 1 bedroom · 2 beds · 1.5 baths",
           "Entire home/apt",
           2,
           120
          ],
          [
           "Rental unit in Meyrin · ★4.86 · 1 bedroom · 1 bed · 1 shared bath",
           "Private room",
           1,
           85
          ],
          [
           "Rental unit in Genève · ★4.88 · 1 bedroom · 2 beds · 1 bath",
           "Entire home/apt",
           3,
           150
          ],
          [
           "Rental unit in Genève · ★4.83 · 1 bedroom · 1 bed · 1 shared bath",
           "Private room",
           1,
           65
          ],
          [
           "Rental unit in Genève · ★4.21 · 1 bedroom · 1 bed · 1 bath",
           "Entire home/apt",
           2,
           100
          ],
          [
           "Home in Le Grand-Saconnex · ★4.61 · 2 bedrooms · 2 beds · 1 shared bath",
           "Private room",
           4,
           125
          ],
          [
           "Rental unit in Genève · ★5.0 · 1 bedroom · 1 bed · 1 bath",
           "Entire home/apt",
           2,
           150
          ],
          [
           "Guesthouse in Genève · ★4.67 · Studio · 1 bed · 1 bath",
           "Entire home/apt",
           2,
           95
          ],
          [
           "Home in Cointrin  · ★5.0 · 1 bedroom · 1 bed · 1 private bath",
           "Private room",
           2,
           110
          ],
          [
           "Aparthotel in Genève · ★5.0 · 1 bedroom · 1 bed · 1 bath",
           "Hotel room",
           2,
           270
          ],
          [
           "Aparthotel in Genève · ★4.75 · 1 bedroom · 1 bed · 1 bath",
           "Hotel room",
           2,
           270
          ],
          [
           "Rental unit in Genève · ★4.75 · 2 bedrooms · 2 beds · 1 bath",
           "Entire home/apt",
           4,
           250
          ],
          [
           "Rental unit in Genève · ★4.29 · 1 bedroom · 1 bed · 1 shared bath",
           "Private room",
           2,
           68
          ],
          [
           "Rental unit in Lancy · ★4.83 · 2 bedrooms · 2 beds · 2 baths",
           "Entire home/apt",
           4,
           150
          ],
          [
           "Rental unit in Genève · ★4.78 · 1 bedroom · 4 beds · 1 bath",
           "Entire home/apt",
           4,
           99
          ],
          [
           "Rental unit in Genève · ★4.98 · 1 bedroom · 1 bed · 1 shared bath",
           "Private room",
           2,
           80
          ],
          [
           "Home in Anières · ★5.0 · 1 bedroom · 1 bed · 1 private bath",
           "Private room",
           1,
           73
          ],
          [
           "Rental unit in Genève · ★4.97 · 2 bedrooms · 3 beds · 1.5 baths",
           "Entire home/apt",
           5,
           209
          ],
          [
           "Rental unit in Genève · 1 bedroom · 1 bed · 1 bath",
           "Entire home/apt",
           2,
           80
          ],
          [
           "Rental unit in Genève · ★4.97 · 1 bedroom · 1 bed · 1 shared bath",
           "Private room",
           1,
           70
          ],
          [
           "Rental unit in Carouge · ★4.91 · 1 bedroom · 1 bed · 1.5 baths",
           "Private room",
           1,
           85
          ],
          [
           "Rental unit in Carouge · ★4.90 · 1 bedroom · 1 bed · 1 shared bath",
           "Private room",
           1,
           86
          ],
          [
           "Rental unit in Genève · ★4.43 · 1 bedroom · 2 beds · 1 bath",
           "Entire home/apt",
           2,
           105
          ],
          [
           "Rental unit in Genève · ★4.82 · 1 bedroom · 2 beds · 1 bath",
           "Entire home/apt",
           2,
           149
          ],
          [
           "Rental unit in Genève · ★4.75 · 2 bedrooms · 3 beds · 1 bath",
           "Entire home/apt",
           4,
           380
          ],
          [
           "Loft in Versoix · ★4.50 · 2 bedrooms · 2 beds · 1 bath",
           "Entire home/apt",
           4,
           179
          ],
          [
           "Rental unit in Versoix · 1 bedroom · 1 bed · 1 shared bath",
           "Private room",
           1,
           69
          ],
          [
           "Home in Chêne-Bourg · ★4.85 · 1 bedroom · 1 bed · 1 private bath",
           "Private room",
           2,
           67
          ],
          [
           "Rental unit in Dardagny · 1 bedroom · 1 bed · 1 bath",
           "Entire home/apt",
           2,
           100
          ],
          [
           "Rental unit in Genève · ★4.75 · 1 bedroom · 2 beds · 1 bath",
           "Entire home/apt",
           3,
           140
          ],
          [
           "Rental unit in Genève · ★4.77 · Studio · 1 bed · 1 bath",
           "Entire home/apt",
           2,
           164
          ],
          [
           "Rental unit in Puplinge · ★5.0 · 1 bedroom · 3 beds · 1 shared bath",
           "Private room",
           1,
           42
          ],
          [
           "Rental unit in Genève · 3 bedrooms · 3 beds · 1.5 baths",
           "Entire home/apt",
           3,
           166
          ],
          [
           "Rental unit in Cologny · ★4.50 · 2 bedrooms · 2 beds · 2 baths",
           "Entire home/apt",
           5,
           147
          ],
          [
           "Hotel in Genève · ★4.65 · 2 bedrooms · 3 beds · 1.5 baths",
           "Private room",
           4,
           200
          ],
          [
           "Hotel in Genève · ★4.66 · 2 bedrooms · 3 beds · 1.5 baths",
           "Private room",
           4,
           200
          ],
          [
           "Rental unit in Genève · ★4.67 · 1 bedroom · 1 bed · 1 bath",
           "Entire home/apt",
           2,
           159
          ],
          [
           "Rental unit in Genève · 1 bedroom · 1 bed · 1 bath",
           "Entire home/apt",
           2,
           210
          ],
          [
           "Rental unit in Genève · ★4.83 · 1 bedroom · 1 bed · 1 shared bath",
           "Private room",
           1,
           65
          ],
          [
           "Rental unit in Genève · ★4.70 · 1 bedroom · 1 bed · 1 bath",
           "Entire home/apt",
           3,
           90
          ],
          [
           "Rental unit in Puplinge · 2 bedrooms · 2 beds · 1 bath",
           "Entire home/apt",
           4,
           145
          ],
          [
           "Loft in Genève · ★4.90 · Studio · 2 beds · 1 bath",
           "Entire home/apt",
           2,
           87
          ],
          [
           "Rental unit in Genève · ★4.92 · 1 bedroom · 1 bed · 1.5 shared baths",
           "Private room",
           3,
           90
          ],
          [
           "Rental unit in Genève · ★5.0 · 2 bedrooms · 2 beds · 1.5 baths",
           "Entire home/apt",
           4,
           111
          ],
          [
           "Rental unit in Genève · ★4.75 · 2 bedrooms · 2 beds · 1 bath",
           "Entire home/apt",
           4,
           181
          ],
          [
           "Rental unit in Genève · ★4.93 · 2 bedrooms · 3 beds · 2.5 baths",
           "Entire home/apt",
           4,
           150
          ],
          [
           "Rental unit in Genève · ★4.67 · 1 bedroom · 2 beds · 1 bath",
           "Entire home/apt",
           4,
           90
          ],
          [
           "Rental unit in Genève · ★4.70 · 2 bedrooms · 2 beds · 1 bath",
           "Entire home/apt",
           5,
           175
          ],
          [
           "Rental unit in Carouge · ★4.75 · 1 bedroom · 2 beds · 1 bath",
           "Entire home/apt",
           4,
           135
          ],
          [
           "Rental unit in Genève · ★4.86 · 1 bedroom · 1 bed · 1 bath",
           "Entire home/apt",
           3,
           90
          ],
          [
           "Rental unit in Genève · ★5.0 · 1 bedroom · 1 bed · 1 bath",
           "Entire home/apt",
           2,
           150
          ],
          [
           "Rental unit in Carouge · ★4.67 · 1 bedroom · 3 beds · 1 bath",
           "Entire home/apt",
           6,
           198
          ],
          [
           "Rental unit in Genève · ★5.0 · 1 bedroom · 1 bed · 1 bath",
           "Entire home/apt",
           4,
           110
          ],
          [
           "Home in Lancy · 4 bedrooms · 4 beds · 2 baths",
           "Entire home/apt",
           6,
           220
          ],
          [
           "Rental unit in Vessy · ★4.95 · 1 bedroom · 1 bed · 1 bath",
           "Entire home/apt",
           3,
           130
          ],
          [
           "Rental unit in Versoix · ★4.65 · Studio · 2 beds · 1 bath",
           "Entire home/apt",
           3,
           125
          ],
          [
           "Rental unit in Genève · ★5.0 · 1 bedroom · 1 bed · 1 private bath",
           "Private room",
           1,
           115
          ],
          [
           "Rental unit in Genève · ★4.90 · 1 bedroom · 1 bed · 1 bath",
           "Entire home/apt",
           2,
           60
          ],
          [
           "Home in Vernier · ★4.67 · 2 bedrooms · 1 bed · 1 shared bath",
           "Private room",
           1,
           40
          ],
          [
           "Rental unit in Genève · ★4.90 · 1 bedroom · 1 bed · 2 shared baths",
           "Private room",
           1,
           59
          ],
          [
           "Rental unit in Genève · 1 bedroom · 1 bed · 1.5 baths",
           "Entire home/apt",
           1,
           100
          ],
          [
           "Rental unit in Genève · ★4.73 · 1 bedroom · 1 bed · 1 bath",
           "Entire home/apt",
           1,
           100
          ],
          [
           "Rental unit in Genève · ★4.78 · 2 bedrooms · 2 beds · 1.5 baths",
           "Entire home/apt",
           5,
           163
          ],
          [
           "Rental unit in Châtelaine · 3 bedrooms · 2 beds · 2 shared baths",
           "Private room",
           1,
           60
          ],
          [
           "Condo in Chêne-Bougeries · 1 bedroom · 1 bed · 1 bath",
           "Entire home/apt",
           1,
           85
          ],
          [
           "Rental unit in Châtelaine · Studio · 1 bed · 2 shared baths",
           "Private room",
           1,
           60
          ],
          [
           "Rental unit in Châtelaine · 3 bedrooms · 1 bed · 2 baths",
           "Private room",
           1,
           70
          ],
          [
           "Rental unit in Genève · ★4.95 · 1 bedroom · 1 bed · 1 shared bath",
           "Private room",
           2,
           160
          ],
          [
           "Rental unit in Genève · ★4.49 · Studio · 2 beds · 1 bath",
           "Entire home/apt",
           2,
           49
          ],
          [
           "Rental unit in Genève · ★4.57 · 3 bedrooms · 3 beds · 2 baths",
           "Entire home/apt",
           5,
           263
          ],
          [
           "Rental unit in Genève · 1 bedroom · 1 bed · 1.5 shared baths",
           "Private room",
           1,
           40
          ],
          [
           "Rental unit in Genève · 1 bedroom · 2 beds · 1 bath",
           "Entire home/apt",
           3,
           250
          ],
          [
           "Rental unit in Chêne-Bougeries · ★4.33 · 2 bedrooms · 2 beds · 1 bath",
           "Entire home/apt",
           7,
           64
          ],
          [
           "Rental unit in Genève · ★4.85 · 1 bedroom · 1 bed · 1 bath",
           "Entire home/apt",
           2,
           100
          ],
          [
           "Rental unit in Genève · ★4.79 · 1 bedroom · 2 beds · 1 bath",
           "Entire home/apt",
           5,
           166
          ],
          [
           "Rental unit in Chêne-Bougeries · ★4.59 · 1 bedroom · 1 bed · 1 private bath",
           "Private room",
           2,
           60
          ],
          [
           "Rental unit in Genève · ★4.58 · Studio · 1 bed · 1 bath",
           "Entire home/apt",
           2,
           83
          ],
          [
           "Rental unit in Genève · ★4.70 · 2 bedrooms · 3 beds · 2.5 baths",
           "Entire home/apt",
           6,
           210
          ],
          [
           "Rental unit in Genève · ★4.96 · 2 bedrooms · 2 beds · 1.5 baths",
           "Entire home/apt",
           3,
           118
          ],
          [
           "Rental unit in Genève · ★5.0 · 1 bedroom · 1 bed · 1 bath",
           "Entire home/apt",
           2,
           150
          ],
          [
           "Townhouse in Chêne-Bougeries · ★5.0 · 1 bedroom · 1 bed · 2 shared baths",
           "Private room",
           1,
           120
          ],
          [
           "Condo in Vernier · 2 bedrooms · 2 beds · 2 baths",
           "Entire home/apt",
           4,
           300
          ],
          [
           "Rental unit in Genève · ★5.0 · 1 bedroom · 1 bed · 1.5 shared baths",
           "Private room",
           1,
           62
          ],
          [
           "Rental unit in Genève · ★4.82 · 1 bedroom · 1 bed · 1 bath",
           "Entire home/apt",
           2,
           115
          ],
          [
           "Rental unit in Genève · ★5.0 · Studio · 1 bed · 1 bath",
           "Entire home/apt",
           2,
           60
          ],
          [
           "Rental unit in Genève · ★4.94 · 1 bedroom · 1 bed · 1.5 shared baths",
           "Private room",
           1,
           59
          ],
          [
           "Rental unit in Cologny · ★4.88 · Studio · 2 beds · 1 bath",
           "Entire home/apt",
           3,
           110
          ],
          [
           "Rental unit in Thônex · ★4.79 · 2 bedrooms · 3 beds · 1 bath",
           "Entire home/apt",
           4,
           120
          ],
          [
           "Rental unit in Cologny · ★4.79 · 1 bedroom · 2 beds · 1 bath",
           "Entire home/apt",
           2,
           93
          ],
          [
           "Rental unit in Vernier · ★4.56 · 3 bedrooms · 5 beds · 2.5 baths",
           "Entire home/apt",
           8,
           160
          ],
          [
           "Home in Geneva · 4 bedrooms · 6 beds · 2.5 baths",
           "Entire home/apt",
           7,
           450
          ],
          [
           "Rental unit in Carouge · ★4.70 · 3 bedrooms · 3 beds · 1.5 baths",
           "Entire home/apt",
           6,
           200
          ],
          [
           "Rental unit in Genève · ★4.39 · Studio · 1 bed · 1 bath",
           "Entire home/apt",
           2,
           70
          ],
          [
           "Rental unit in Genève · ★4.69 · 1 bedroom · 2 beds · 1 bath",
           "Entire home/apt",
           4,
           155
          ],
          [
           "Townhouse in Chêne-Bougeries · ★5.0 · 1 bedroom · 1 bed · 2 shared baths",
           "Private room",
           2,
           120
          ],
          [
           "Rental unit in Genève · ★5.0 · 2 bedrooms · 2 beds · 2 baths",
           "Entire home/apt",
           4,
           170
          ],
          [
           "Home in Chêne-Bougeries · 1 bedroom · 1 bed · 2 shared baths",
           "Private room",
           2,
           120
          ],
          [
           "Rental unit in Châtelaine · ★5.0 · 2 bedrooms · 4 beds · 1 bath",
           "Entire home/apt",
           4,
           110
          ],
          [
           "Rental unit in Plan-les-Ouates · 2 bedrooms · 2 beds · 1 bath",
           "Entire home/apt",
           4,
           100
          ],
          [
           "Rental unit in Genève · ★4.84 · 2 bedrooms · 1 bed · 2 baths",
           "Entire home/apt",
           4,
           188
          ],
          [
           "Rental unit in Le Grand-Saconnex · ★5.0 · 1 bedroom · 1 bed · 1 bath",
           "Entire home/apt",
           3,
           140
          ],
          [
           "Rental unit in Cointrin · ★4.85 · 1 bedroom · 1 bed · 1 shared bath",
           "Private room",
           1,
           50
          ],
          [
           "Condo in Gaillard · 1 bedroom · 1 bed · 1.5 shared baths",
           "Private room",
           2,
           58
          ],
          [
           "Villa in Anières · ★4.85 · 1 bedroom · 1 bed · 1 private bath",
           "Private room",
           2,
           65
          ],
          [
           "Rental unit in Gaillard · ★4.83 · 1 bedroom · 2 beds · 1 bath",
           "Entire home/apt",
           4,
           77
          ],
          [
           "Rental unit in Genève · ★4.94 · 1 bedroom · 1 bed · 1 bath",
           "Entire home/apt",
           2,
           114
          ],
          [
           "Rental unit in Genève · 2 bedrooms · 1 bed · 1 bath",
           "Entire home/apt",
           2,
           211
          ],
          [
           "Rental unit in Meyrin · ★4.75 · 1 bedroom · 1 bed · 1 shared bath",
           "Private room",
           2,
           60
          ],
          [
           "Rental unit in Genève · ★4.80 · 1 bedroom · 1 bed · 1 bath",
           "Entire home/apt",
           2,
           130
          ],
          [
           "Rental unit in Genève · ★4.66 · 3 bedrooms · 3 beds · 2.5 baths",
           "Entire home/apt",
           4,
           200
          ],
          [
           "Rental unit in Genève · ★4.58 · Studio · 1 bed · 1 bath",
           "Entire home/apt",
           3,
           120
          ],
          [
           "Rental unit in Grand-Saconnex · 1 bedroom · 1 bed · 1 bath",
           "Private room",
           2,
           80
          ],
          [
           "Home in Thônex · 3 bedrooms · 2 beds · 2 baths",
           "Private room",
           5,
           150
          ],
          [
           "Home in Thônex · 1 bedroom · 1 bed · 1 private bath",
           "Private room",
           2,
           65
          ],
          [
           "Rental unit in Geneva · 1 bedroom · 1 bed · 2.5 shared baths",
           "Private room",
           2,
           150
          ],
          [
           "Rental unit in Genève · ★4.37 · 1 bedroom · 1 bed · 1 bath",
           "Entire home/apt",
           2,
           85
          ],
          [
           "Rental unit in Genève · ★4.92 · Studio · 1 bed · 1 bath",
           "Entire home/apt",
           2,
           110
          ],
          [
           "Farm stay in Le Grand-Saconnex · 1 bedroom · 1 bed · 1 private bath",
           "Private room",
           1,
           100
          ],
          [
           "Rental unit in Genève · Studio · 2 beds · 1 bath",
           "Entire home/apt",
           2,
           65
          ],
          [
           "Home in Lancy · ★New · 3 bedrooms · 3 beds · 2 baths",
           "Entire home/apt",
           4,
           215
          ],
          [
           "Rental unit in Genève · ★4.77 · 1 bedroom · 1 bed · 1 bath",
           "Entire home/apt",
           2,
           75
          ],
          [
           "Rental unit in Chêne-Bougeries · 1 bedroom · 1 bed · 1 shared bath",
           "Private room",
           2,
           105
          ],
          [
           "Rental unit in Genève · ★4.98 · 1 bedroom · 1 bed · 1.5 baths",
           "Private room",
           2,
           125
          ],
          [
           "Rental unit in Genève · ★5.0 · Studio · 1 bed · 1 bath",
           "Entire home/apt",
           2,
           80
          ],
          [
           "Serviced apartment in Genève · Studio · 1 bed · 1 bath",
           "Entire home/apt",
           2,
           135
          ],
          [
           "Rental unit in Le Lignon · ★4.79 · 1 bedroom · 1 bed · 1.5 baths",
           "Private room",
           2,
           80
          ],
          [
           "Rental unit in Genève · 1 bedroom · 1 bed · 1 bath",
           "Entire home/apt",
           2,
           150
          ],
          [
           "Home in Vessy · 3 bedrooms · 5 beds · 3 baths",
           "Entire home/apt",
           7,
           200
          ],
          [
           "Rental unit in Chêne-Bougeries · 1 bedroom · 1 bed · 1 shared bath",
           "Private room",
           2,
           105
          ],
          [
           "Rental unit in Chêne-Bougeries · ★4.67 · 1 bedroom · 1 bed · 1 bath",
           "Entire home/apt",
           4,
           230
          ],
          [
           "Condo in Genève · ★4.65 · 1 bedroom · 3 beds · 1 bath",
           "Entire home/apt",
           4,
           135
          ],
          [
           "Rental unit in Geneva · 1 bedroom · 1 bed · 1 bath",
           "Entire home/apt",
           1,
           139
          ],
          [
           "Rental unit in Geneva · 2 bedrooms · 2 beds · 2 baths",
           "Entire home/apt",
           2,
           204
          ],
          [
           "Rental unit in Genève · ★4.67 · 1 bedroom · 1 bed · 1 bath",
           "Entire home/apt",
           2,
           350
          ],
          [
           "Rental unit in Genève · ★4.83 · 2 bedrooms · 4 beds · 1.5 baths",
           "Entire home/apt",
           6,
           178
          ],
          [
           "Rental unit in Genève · ★4.77 · 1 bedroom · 2 beds · 1 bath",
           "Entire home/apt",
           2,
           98
          ],
          [
           "Rental unit in Genève · ★5.0 · 1 bedroom · 1 bed · 1 private bath",
           "Private room",
           2,
           87
          ],
          [
           "Rental unit in Geneva · 1 bedroom · 1 bed · 1.5 baths",
           "Entire home/apt",
           2,
           130
          ],
          [
           "Rental unit in Genève · 2 bedrooms · 2 beds · 1 bath",
           "Entire home/apt",
           4,
           129
          ],
          [
           "Rental unit in Genève · ★4.93 · Studio · 2 beds · 1.5 shared baths",
           "Private room",
           2,
           72
          ],
          [
           "Rental unit in Genève · ★4.93 · 1 bedroom · 1 bed · 1.5 shared baths",
           "Private room",
           1,
           60
          ],
          [
           "Condo in Genève · ★4.31 · 1 bedroom · 1 bed · 1.5 shared baths",
           "Private room",
           2,
           42
          ],
          [
           "Rental unit in Genève · ★4.49 · 1 bedroom · 1 bed · 1 shared bath",
           "Private room",
           1,
           60
          ],
          [
           "Rental unit in Ferney-Voltaire · ★4.87 · 4 bedrooms · 4 beds · 2 baths",
           "Entire home/apt",
           5,
           154
          ],
          [
           "Rental unit in Genève · ★4.84 · 1 bedroom · 1 bed · 1 bath",
           "Entire home/apt",
           2,
           92
          ],
          [
           "Rental unit in Genève · 1 bedroom · 1 bed · 1 bath",
           "Entire home/apt",
           2,
           215
          ],
          [
           "Serviced apartment in Genève · ★4.40 · Studio · 1 bed · 1 bath",
           "Entire home/apt",
           2,
           100
          ],
          [
           "Rental unit in Geneva · ★4.88 · 1 bedroom · 1 bed · 1 shared bath",
           "Private room",
           2,
           77
          ],
          [
           "Townhouse in Céligny · 4 bedrooms · 4 beds · 3 baths",
           "Entire home/apt",
           7,
           148
          ],
          [
           "Rental unit in Genève · ★4.66 · Studio · 1 bed · 1 bath",
           "Entire home/apt",
           2,
           100
          ],
          [
           "Condo in Genève · ★4.89 · 4 bedrooms · 8 beds · 2.5 baths",
           "Entire home/apt",
           8,
           330
          ],
          [
           "Rental unit in Genève · 1 bedroom · 1 bed · 1.5 baths",
           "Entire home/apt",
           3,
           85
          ],
          [
           "Hotel in Hermance · 2 bedrooms · 4 beds · 3 baths",
           "Private room",
           4,
           250
          ],
          [
           "Rental unit in Genève · ★4.75 · Studio · 1 bed · 1 bath",
           "Entire home/apt",
           2,
           75
          ],
          [
           "Rental unit in Genève · ★5.0 · Studio · 1 bed · 1 bath",
           "Entire home/apt",
           2,
           87
          ],
          [
           "Rental unit in Genève · ★4.88 · 1 bedroom · 4 beds · 1 bath",
           "Entire home/apt",
           4,
           127
          ],
          [
           "Rental unit in Genève · ★4.67 · 2 bedrooms · 2 beds · 1.5 baths",
           "Entire home/apt",
           4,
           195
          ],
          [
           "Rental unit in Genève · ★4.64 · Studio · 1 bed · 1 bath",
           "Entire home/apt",
           2,
           61
          ],
          [
           "Rental unit in Genève · ★4.63 · 1 bedroom · 1 bed · 1 bath",
           "Entire home/apt",
           2,
           125
          ],
          [
           "Rental unit in Versoix · ★4.91 · Studio · 2 beds · 1 bath",
           "Entire home/apt",
           2,
           85
          ],
          [
           "Rental unit in Genève · ★5.0 · 1 bedroom · 1 bed · 1 shared bath",
           "Private room",
           2,
           120
          ],
          [
           "Condo in Genève · ★4.80 · 1 bedroom · 2 beds · 1 bath",
           "Entire home/apt",
           2,
           120
          ],
          [
           "Rental unit in Genève · ★4.96 · 1 bedroom · 2 beds · 1 bath",
           "Entire home/apt",
           1,
           84
          ],
          [
           "Home in Le Grand-Saconnex · 5 bedrooms · 5 beds · 4.5 baths",
           "Entire home/apt",
           10,
           600
          ],
          [
           "Villa in Genève · ★4.84 · 3 bedrooms · 5 beds · 1 bath",
           "Entire home/apt",
           6,
           333
          ],
          [
           "Rental unit in Genève · ★4.93 · 1 bedroom · 1 bed · 1 private bath",
           "Private room",
           1,
           55
          ],
          [
           "Rental unit in Genève · ★5.0 · 2 bedrooms · 2 beds · 1.5 baths",
           "Entire home/apt",
           4,
           180
          ],
          [
           "Bed and breakfast in Genève  · Studio · 1 bed · 1 private bath",
           "Private room",
           2,
           48
          ],
          [
           "Rental unit in Genève · 1 bedroom · 1 bed · 1 bath",
           "Private room",
           4,
           220
          ],
          [
           "Rental unit in Genève · ★4.50 · Studio · 1 bed · 1 bath",
           "Entire home/apt",
           2,
           133
          ],
          [
           "Rental unit in Genève · ★4.81 · 1 bedroom · 3 beds · 2 shared baths",
           "Private room",
           2,
           90
          ],
          [
           "Houseboat in Genève · 1 bedroom · 1 bed · 1 bath",
           "Entire home/apt",
           2,
           490
          ],
          [
           "Rental unit in Genève · 1 bedroom · 1 bed · 1 bath",
           "Entire home/apt",
           2,
           80
          ],
          [
           "Rental unit in Genève · 1 bedroom · 1 bed · 1 shared bath",
           "Private room",
           1,
           64
          ],
          [
           "Condo in Onex · 1 bedroom · 1 bath",
           "Entire home/apt",
           2,
           92
          ],
          [
           "Rental unit in Chêne-Bougeries · ★4.88 · 1 bedroom · 1 bed · 1 private bath",
           "Private room",
           2,
           60
          ],
          [
           "Rental unit in Versoix · ★4.58 · 2 bedrooms · 2 beds · 1.5 baths",
           "Entire home/apt",
           4,
           180
          ],
          [
           "Rental unit in Genève · ★4.63 · 1 bedroom · 1 bed · 1 private bath",
           "Private room",
           2,
           56
          ],
          [
           "Townhouse in Genève · 2 bedrooms · 2 beds · 2 baths",
           "Entire home/apt",
           6,
           1359
          ],
          [
           "Rental unit in Genève · 1 bedroom · 1 bed · 1 bath",
           "Entire home/apt",
           2,
           590
          ],
          [
           "Rental unit in Genève · 1 bedroom · 1 bed · 1.5 baths",
           "Private room",
           2,
           71
          ],
          [
           "Rental unit in Le Grand-Saconnex · ★4.86 · 1 bedroom · 1 bed · 1 shared bath",
           "Private room",
           2,
           65
          ],
          [
           "Rental unit in Le Grand-Saconnex · ★4.88 · 1 bedroom · 1 bed · 1 shared bath",
           "Private room",
           1,
           69
          ],
          [
           "Boutique hotel in Genève · ★4.51 · 1 bedroom · 1 bed · 1 bath",
           "Private room",
           1,
           111
          ],
          [
           "Rental unit in Genève · ★5.0 · 1 bedroom · 1 bed · 1 bath",
           "Entire home/apt",
           2,
           80
          ],
          [
           "Home in Meyrin · ★5.0 · 1 bedroom · 1 bed · 1 private bath",
           "Private room",
           1,
           65
          ],
          [
           "Rental unit in Onex · 1 bedroom · 1 bed · 1 private bath",
           "Private room",
           2,
           150
          ],
          [
           "Rental unit in Genève · ★4.78 · 1 bedroom · 1 bed · 1 bath",
           "Entire home/apt",
           2,
           121
          ],
          [
           "Rental unit in Genève · ★4.89 · 1 bedroom · 1 bed · 1 bath",
           "Entire home/apt",
           2,
           82
          ],
          [
           "Rental unit in Versoix · 1 bedroom · 1 bed · 1 private bath",
           "Private room",
           1,
           78
          ],
          [
           "Boutique hotel in Genève · ★4.25 · 1 bedroom · 1 bed · 1 shared bath",
           "Private room",
           1,
           143
          ],
          [
           "Boutique hotel in Genève · ★4.70 · 1 bedroom · 1 bed · 1 bath",
           "Private room",
           2,
           105
          ],
          [
           "Rental unit in Genève · ★4.95 · 1 bedroom · 2 beds · 1 bath",
           "Entire home/apt",
           4,
           92
          ],
          [
           "Rental unit in Le Grand-Saconnex · ★4.45 · 1 bedroom · 1 bed · 2 baths",
           "Private room",
           1,
           70
          ],
          [
           "Condo in Plan-les-Ouates · ★4.67 · 1 bedroom · 1 bed · 1 shared bath",
           "Private room",
           1,
           49
          ],
          [
           "Rental unit in Bellevue · ★4.94 · 1 bedroom · 2 beds · 1.5 shared baths",
           "Private room",
           3,
           60
          ],
          [
           "Rental unit in Genève · 2 bedrooms · 2 beds · 1 bath",
           "Entire home/apt",
           4,
           200
          ],
          [
           "Rental unit in Cologny · 3 bedrooms · 5 beds · 2 baths",
           "Entire home/apt",
           5,
           270
          ],
          [
           "Rental unit in Genève · 1 bedroom · 2 beds · 1 bath",
           "Entire home/apt",
           2,
           99
          ],
          [
           "Rental unit in Le Grand-Saconnex · ★4.81 · 1 bedroom · 1 bed · 1.5 shared baths",
           "Private room",
           1,
           45
          ],
          [
           "Rental unit in Genève · ★4.32 · Studio · 1 bed · 1.5 baths",
           "Entire home/apt",
           2,
           94
          ],
          [
           "Rental unit in Genève · ★4.73 · 2 bedrooms · 2 beds · 1 bath",
           "Entire home/apt",
           5,
           100
          ],
          [
           "Rental unit in Genève · 1 bedroom · 1 bed · 1 bath",
           "Entire home/apt",
           2,
           88
          ],
          [
           "Rental unit in Genève · ★5.0 · 1 bedroom · 1 bed · 1.5 baths",
           "Private room",
           1,
           80
          ],
          [
           "Condo in Meyrin · ★5.0 · 1 bedroom · 3 beds · 1 bath",
           "Entire home/apt",
           4,
           72
          ],
          [
           "Rental unit in Genève · ★5.0 · 1 bedroom · 1 bed · 1.5 shared baths",
           "Private room",
           2,
           110
          ],
          [
           "Home in Aire-la-Ville · ★4.75 · 3 bedrooms · 4 beds · 2.5 baths",
           "Entire home/apt",
           6,
           130
          ],
          [
           "Rental unit in Lancy · ★4.50 · 1 bedroom · 2 beds · 1.5 baths",
           "Entire home/apt",
           4,
           140
          ],
          [
           "Home in Vésenaz · 2 bedrooms · 3 beds · 1.5 baths",
           "Entire home/apt",
           4,
           300
          ],
          [
           "Rental unit in Genève · ★4.89 · 1 bedroom · 2 beds · 1 bath",
           "Entire home/apt",
           3,
           100
          ],
          [
           "Rental unit in Genève · ★4.50 · 3 bedrooms · 3 beds · 2 baths",
           "Entire home/apt",
           6,
           200
          ],
          [
           "Home in Plan-les-Ouates · 3 bedrooms · 4 beds · 2.5 baths",
           "Entire home/apt",
           5,
           200
          ],
          [
           "Rental unit in Genève · ★4.76 · Studio · 1 bed · 1 bath",
           "Entire home/apt",
           2,
           113
          ],
          [
           "Rental unit in Genève · ★4.94 · 1 bedroom · 2 beds · 1.5 baths",
           "Entire home/apt",
           3,
           180
          ],
          [
           "Rental unit in Genève · 1 bedroom · 1 bed · 1 bath",
           "Entire home/apt",
           2,
           100
          ],
          [
           "Bed and breakfast in Thônex · ★4.79 · 1 bedroom · 2 beds · 1.5 shared baths",
           "Private room",
           2,
           50
          ],
          [
           "Bed and breakfast in Plan-les-Ouates · 1 bedroom · 1 bed · 1 private bath",
           "Private room",
           1,
           85
          ],
          [
           "Home in Le Grand-Saconnex · 1 bedroom · 4 beds · 1 shared bath",
           "Private room",
           4,
           160
          ],
          [
           "Home in Le Grand-Saconnex · ★5.0 · 1 bedroom · 2 beds · 1 shared bath",
           "Private room",
           2,
           99
          ],
          [
           "Home in Le Grand-Saconnex · 1 bedroom · 1 bed · 1 shared bath",
           "Private room",
           1,
           89
          ],
          [
           "Rental unit in Genève · ★4.71 · Studio · 1 bed · 1 bath",
           "Entire home/apt",
           2,
           100
          ],
          [
           "Rental unit in Genève · ★4.67 · 2 bedrooms · 2 beds · 1.5 baths",
           "Entire home/apt",
           4,
           233
          ],
          [
           "Guest suite in Aïre le Lignon · ★4.14 · Studio · 1 bed · 1 bath",
           "Entire home/apt",
           2,
           110
          ],
          [
           "Home in Chêne-Bourg · 2 bedrooms · 3 beds · 2 baths",
           "Entire home/apt",
           4,
           300
          ],
          [
           "Home in Chêne-Bourg · 3 bedrooms · 3 beds · 3 baths",
           "Entire home/apt",
           5,
           350
          ],
          [
           "Rental unit in Genève · Studio · 1 bed · 1 bath",
           "Entire home/apt",
           2,
           590
          ],
          [
           "Rental unit in Genève · 1 bedroom · 2 beds · 1 bath",
           "Entire home/apt",
           4,
           690
          ],
          [
           "Rental unit in Genève · 1 bedroom · 2 beds · 1 bath",
           "Entire home/apt",
           4,
           690
          ],
          [
           "Rental unit in Genève · 1 bedroom · 1 bed · 1 bath",
           "Entire home/apt",
           4,
           690
          ],
          [
           "Rental unit in Genève · 2 bedrooms · 2 beds · 2.5 baths",
           "Entire home/apt",
           6,
           1250
          ],
          [
           "Rental unit in Genève · 2 bedrooms · 2 beds · 2 baths",
           "Entire home/apt",
           6,
           2000
          ],
          [
           "Rental unit in Genève · ★5.0 · 1 bedroom · 1 bed · 1 bath",
           "Entire home/apt",
           4,
           110
          ],
          [
           "Rental unit in Thônex · Studio · 2 beds · 1 private bath",
           "Private room",
           4,
           65
          ],
          [
           "Rental unit in Lancy · ★5.0 · 1 bedroom · 1 bed · 1 shared bath",
           "Private room",
           2,
           67
          ],
          [
           "Rental unit in Genève · ★4.54 · 1 bedroom · 1 bed · 1 bath",
           "Entire home/apt",
           2,
           118
          ],
          [
           "Rental unit in Genève · ★4.64 · Studio · 1 bed · 1 bath",
           "Entire home/apt",
           2,
           128
          ],
          [
           "Rental unit in Chêne-Bougeries · ★4.96 · 2 bedrooms · 3 beds · 1 bath",
           "Entire home/apt",
           4,
           150
          ],
          [
           "Rental unit in Chêne-Bougeries · 1 bedroom · 3 beds · 1 shared bath",
           "Private room",
           2,
           90
          ],
          [
           "Serviced apartment in Genève · 1 bedroom · 1 bed · 1 bath",
           "Entire home/apt",
           2,
           85
          ],
          [
           "Rental unit in Genève · 3 bedrooms · 3 beds · 3.5 baths",
           "Entire home/apt",
           4,
           366
          ],
          [
           "Rental unit in Russin · ★4.88 · 2 bedrooms · 4 beds · 1 bath",
           "Entire home/apt",
           4,
           120
          ],
          [
           "Rental unit in Geneva · ★4.33 · 1 bedroom · 1 bed · 1 shared bath",
           "Private room",
           1,
           65
          ],
          [
           "Rental unit in Cologny · ★4.73 · 2 bedrooms · 4 beds · 1.5 baths",
           "Entire home/apt",
           6,
           159
          ],
          [
           "Home in Vandœuvres · 1 bedroom · 1 bed · 1 private bath",
           "Private room",
           1,
           75
          ],
          [
           "Rental unit in Genève · 1 bedroom · 1 bed · 1.5 shared baths",
           "Private room",
           1,
           78
          ],
          [
           "Rental unit in Genève · ★5.0 · 1 bedroom · 2 beds · 1 bath",
           "Entire home/apt",
           2,
           130
          ],
          [
           "Townhouse in Le Grand-Saconnex · 1 bedroom · 1 bed · 1 shared bath",
           "Private room",
           1,
           100
          ],
          [
           "Rental unit in Le Lignon · 1 bedroom · 2 beds · 1.5 baths",
           "Entire home/apt",
           4,
           90
          ],
          [
           "Rental unit in Genève · ★4.0 · 1 bedroom · 0 shared baths",
           "Shared room",
           2,
           434
          ],
          [
           "Guesthouse in Chêne-Bourg  · ★4.33 · Studio · 1 bath",
           "Entire home/apt",
           2,
           73
          ],
          [
           "Guesthouse in Bellevue · ★4.98 · 1 bedroom · 2 beds · 1 bath",
           "Entire home/apt",
           2,
           126
          ],
          [
           "Rental unit in Carouge · 1 bedroom · 1 bed · 1 bath",
           "Entire home/apt",
           2,
           99
          ],
          [
           "Condo in Genève · ★4.89 · 1 bedroom · 1 bath",
           "Private room",
           2,
           90
          ],
          [
           "Rental unit in Genève · ★4.47 · 1 bedroom · 1 bed · 1 bath",
           "Entire home/apt",
           2,
           128
          ],
          [
           "Rental unit in Genève · ★4.64 · 1 bedroom · 1 bed · 1.5 shared baths",
           "Private room",
           1,
           68
          ],
          [
           "Rental unit in Genève · 2 bedrooms · 3 beds · 1.5 baths",
           "Entire home/apt",
           5,
           116
          ],
          [
           "Rental unit in Genève · ★4.33 · 1 bedroom · 1 bed · 1 shared bath",
           "Private room",
           2,
           78
          ],
          [
           "Rental unit in Onex · ★5.0 · 1 bedroom · 2 beds · 1.5 baths",
           "Entire home/apt",
           4,
           200
          ],
          [
           "Rental unit in Genève · ★5.0 · 1 bedroom · 2 beds · 1 bath",
           "Entire home/apt",
           3,
           150
          ],
          [
           "Rental unit in Thônex · ★4.63 · 1 bedroom · 2 beds · 1.5 shared baths",
           "Private room",
           1,
           36
          ],
          [
           "Rental unit in Genève · ★4.89 · 2 bedrooms · 3 beds · 1 bath",
           "Entire home/apt",
           6,
           200
          ],
          [
           "Condo in Carouge · ★4.92 · 2 bedrooms · 2 beds · 3 baths",
           "Entire home/apt",
           4,
           250
          ],
          [
           "Hotel in Genève · ★4.50 · 1 bedroom · 1 bed · 1 bath",
           "Private room",
           1,
           108
          ],
          [
           "Rental unit in Genève · ★4.70 · 1 bedroom · 1 bed · 1 bath",
           "Entire home/apt",
           2,
           118
          ],
          [
           "Rental unit in Genève · ★4.53 · 1 bedroom · 1 bed · 1 bath",
           "Entire home/apt",
           2,
           118
          ],
          [
           "Rental unit in Genève · ★4.56 · 1 bedroom · 1 bed · 1 bath",
           "Entire home/apt",
           2,
           128
          ],
          [
           "Rental unit in Genève · ★4.75 · 1 bedroom · 1 bed · 1 bath",
           "Entire home/apt",
           2,
           120
          ],
          [
           "Rental unit in Genève · ★4.43 · 1 bedroom · 1 bed · 1 bath",
           "Entire home/apt",
           2,
           116
          ],
          [
           "Rental unit in Genève · 2 bedrooms · 2 beds · 2 baths",
           "Entire home/apt",
           4,
           748
          ],
          [
           "Rental unit in Versoix · ★3.75 · 1 bedroom · 2 beds · 1 bath",
           "Entire home/apt",
           4,
           80
          ],
          [
           "Rental unit in Genève · ★4.58 · Studio · 1 bed · 1 bath",
           "Entire home/apt",
           2,
           119
          ],
          [
           "Rental unit in Genève · ★4.58 · 1 bedroom · 1 bed · 1 bath",
           "Entire home/apt",
           2,
           116
          ],
          [
           "Rental unit in Genève · 3 bedrooms · 3 beds · 1.5 baths",
           "Entire home/apt",
           5,
           150
          ],
          [
           "Rental unit in Genève · 1 bedroom · 1 bed · 1 bath",
           "Entire home/apt",
           2,
           151
          ],
          [
           "Rental unit in Genève · ★4.94 · 1 bedroom · 1 bed · 1.5 baths",
           "Private room",
           1,
           72
          ],
          [
           "Rental unit in Genève · ★4.80 · 1 bedroom · 2 beds · 1 bath",
           "Entire home/apt",
           4,
           174
          ],
          [
           "Rental unit in Genève · ★4.40 · 2 bedrooms · 2 beds · 1 bath",
           "Entire home/apt",
           3,
           130
          ],
          [
           "Rental unit in Genève · ★4.77 · 1 bedroom · 1 bed · 1 private bath",
           "Private room",
           2,
           100
          ],
          [
           "Home in Meyrin · ★4.97 · 1 bedroom · 1 bed · 1 shared bath",
           "Private room",
           1,
           65
          ],
          [
           "Rental unit in Versoix · 1 bedroom · 1 bed · 1 shared bath",
           "Private room",
           1,
           85
          ],
          [
           "Rental unit in Genève · ★4.86 · 1 bedroom · 2 beds · 1 bath",
           "Entire home/apt",
           3,
           123
          ],
          [
           "Rental unit in Cologny · 1 bedroom · 1 bed · 1 bath",
           "Entire home/apt",
           2,
           99
          ],
          [
           "Rental unit in Chêne-Bourg · 3 bedrooms · 3 beds · 1 bath",
           "Entire home/apt",
           4,
           78
          ],
          [
           "Rental unit in Genève · ★4.82 · Studio · 1 bed · 1 bath",
           "Entire home/apt",
           4,
           140
          ],
          [
           "Rental unit in Collonge-Bellerive · ★4.88 · 1 bedroom · 1 bed · 1 bath",
           "Entire home/apt",
           1,
           69
          ],
          [
           "Rental unit in Genève · ★4.77 · 1 bedroom · 2 beds · 1 bath",
           "Entire home/apt",
           1,
           150
          ],
          [
           "Rental unit in Genève · ★4.89 · 1 bedroom · 1 bed · 1 bath",
           "Entire home/apt",
           2,
           90
          ],
          [
           "Rental unit in Genève · ★4.67 · 2 bedrooms · 3 beds · 1.5 baths",
           "Entire home/apt",
           4,
           324
          ],
          [
           "Rental unit in Genève · ★4.52 · 1 bedroom · 1 bed · 1 shared bath",
           "Private room",
           2,
           60
          ],
          [
           "Serviced apartment in Genève · 1 bedroom · 1 bed · 1 bath",
           "Entire home/apt",
           2,
           85
          ],
          [
           "Rental unit in Genève · ★4.78 · Studio · 1 bed · 1 bath",
           "Entire home/apt",
           1,
           71
          ],
          [
           "Rental unit in Genève · ★4.38 · 1 bedroom · 1 bed · 1 bath",
           "Entire home/apt",
           2,
           89
          ],
          [
           "Townhouse in Le Grand-Saconnex · 1 bedroom · 1 bed · 1 shared bath",
           "Private room",
           2,
           168
          ],
          [
           "Townhouse in Le Grand-Saconnex · ★5.0 · 1 bedroom · 1 bed · 1 shared bath",
           "Private room",
           2,
           168
          ],
          [
           "Rental unit in Genève · ★4.89 · Studio · 2 beds · 1 bath",
           "Entire home/apt",
           4,
           88
          ],
          [
           "Townhouse in Le Grand-Saconnex · 1 bedroom · 3 beds · 1 shared bath",
           "Private room",
           4,
           336
          ],
          [
           "Rental unit in Genève · ★4.88 · 1 bedroom · 1 bed · 1 shared bath",
           "Private room",
           2,
           67
          ],
          [
           "Rental unit in Genève · 2 bedrooms · 2 beds · 1 bath",
           "Entire home/apt",
           3,
           109
          ],
          [
           "Townhouse in Le Grand-Saconnex · 1 bedroom · 2 beds · 1 private bath",
           "Private room",
           3,
           288
          ],
          [
           "Rental unit in Genève · ★4.71 · Studio · 1 bed · 1 bath",
           "Entire home/apt",
           2,
           130
          ],
          [
           "Serviced apartment in Genève · ★4.67 · 1 bedroom · 1 bed · 1 private bath",
           "Private room",
           2,
           249
          ],
          [
           "Rental unit in Genève · ★3.80 · 1 bedroom · 2 beds · 1.5 baths",
           "Entire home/apt",
           3,
           200
          ],
          [
           "Rental unit in Le Grand-Saconnex · ★4.86 · 1 bedroom · 1 bed · 1 bath",
           "Entire home/apt",
           2,
           130
          ],
          [
           "Rental unit in Thônex · ★4.88 · 1 bedroom · 1 bed · 1.5 shared baths",
           "Private room",
           1,
           36
          ],
          [
           "Rental unit in Carouge · 1 bedroom · 1 bath",
           "Entire home/apt",
           1,
           116
          ],
          [
           "Rental unit in Carouge · 1 bedroom · 1 bath",
           "Entire home/apt",
           1,
           107
          ],
          [
           "Rental unit in Carouge · 1 bedroom · 1 bath",
           "Entire home/apt",
           1,
           107
          ],
          [
           "Rental unit in Genève · ★4.80 · 1 bedroom · 2 beds · 1 bath",
           "Entire home/apt",
           3,
           116
          ],
          [
           "Bed and breakfast in Bernex · Studio · 1 bed · 1 shared bath",
           "Private room",
           1,
           82
          ],
          [
           "Rental unit in Genève · ★5.0 · 2 bedrooms · 1 bed · 1 bath",
           "Entire home/apt",
           3,
           94
          ],
          [
           "Rental unit in Genève · ★4.46 · Studio · 2 beds · 1 bath",
           "Entire home/apt",
           3,
           99
          ],
          [
           "Rental unit in Genève · ★4.40 · 1 bedroom · 1 bed · 1 bath",
           "Entire home/apt",
           2,
           116
          ],
          [
           "Rental unit in Carouge · 1 bedroom · 1 bath",
           "Entire home/apt",
           1,
           107
          ],
          [
           "Hotel in Geneva · ★4.46 · 1 bedroom · 1 bed · 1 private bath",
           "Private room",
           1,
           100
          ],
          [
           "Hotel in Geneva · ★4.43 · 1 bedroom · 1 bed · 1 private bath",
           "Private room",
           2,
           140
          ],
          [
           "Condo in Genève · ★4.79 · 1 bedroom · 1 bed · 1.5 baths",
           "Entire home/apt",
           2,
           99
          ],
          [
           "Rental unit in Genève · ★3.60 · 1 bedroom · 2 beds · 1 bath",
           "Entire home/apt",
           3,
           90
          ],
          [
           "Home in Plan-les-Ouates · ★4.25 · 3 bedrooms · 5 beds · 2 baths",
           "Entire home/apt",
           6,
           350
          ],
          [
           "Rental unit in Carouge · ★4.92 · 1 bedroom · 1 bed · 1 bath",
           "Private room",
           1,
           85
          ],
          [
           "Condo in Genève · ★4.47 · Studio · 1 bed · 1 bath",
           "Entire home/apt",
           2,
           148
          ],
          [
           "Condo in Genève · ★4.50 · Studio · 1 bed · 1 bath",
           "Entire home/apt",
           2,
           148
          ],
          [
           "Condo in Genève · ★4.79 · Studio · 1 bed · 1 bath",
           "Entire home/apt",
           2,
           148
          ],
          [
           "Condo in Genève · Studio · 1 bed · 1 bath",
           "Entire home/apt",
           2,
           148
          ],
          [
           "Condo in Genève · ★4.83 · Studio · 1 bed · 1 bath",
           "Entire home/apt",
           2,
           148
          ],
          [
           "Condo in Genève · ★4.50 · Studio · 1 bed · 1 bath",
           "Entire home/apt",
           2,
           148
          ],
          [
           "Condo in Genève · ★4.75 · Studio · 1 bed · 1 bath",
           "Entire home/apt",
           2,
           148
          ],
          [
           "Condo in Genève · ★4.71 · Studio · 1 bed · 1 bath",
           "Entire home/apt",
           2,
           148
          ],
          [
           "Condo in Genève · ★5.0 · Studio · 1 bed · 1 bath",
           "Entire home/apt",
           2,
           148
          ],
          [
           "Rental unit in Genève · ★5.0 · 2 bedrooms · 2 beds · 1.5 baths",
           "Entire home/apt",
           4,
           285
          ],
          [
           "Loft in Genève · Studio · 1 bath",
           "Entire home/apt",
           2,
           68
          ],
          [
           "Rental unit in Genève · ★4.55 · Studio · 1 bed · 1 bath",
           "Entire home/apt",
           2,
           100
          ],
          [
           "Rental unit in Genève · ★5.0 · 2 bedrooms · 2 beds · 1 bath",
           "Entire home/apt",
           3,
           163
          ],
          [
           "Rental unit in Genève · ★4.91 · 1 bedroom · 1 bed · 1 bath",
           "Entire home/apt",
           2,
           110
          ],
          [
           "Rental unit in Genève · ★5.0 · 1 bedroom · 1 bed · 1 bath",
           "Entire home/apt",
           3,
           115
          ],
          [
           "Serviced apartment in Genève · ★4.90 · 2 bedrooms · 3 beds · 2.5 baths",
           "Entire home/apt",
           6,
           890
          ],
          [
           "Rental unit in Genève · 1 bedroom · 1 bath",
           "Entire home/apt",
           2,
           120
          ],
          [
           "Home in Lancy · 3 bedrooms · 3 beds · 2.5 baths",
           "Entire home/apt",
           4,
           300
          ],
          [
           "Rental unit in Chêne-Bourg · 1 bedroom · 1 shared bath",
           "Private room",
           2,
           60
          ],
          [
           "Serviced apartment in Genève · 1 bedroom · 1 bed · 1 shared bath",
           "Private room",
           4,
           332
          ],
          [
           "Serviced apartment in Genève · ★4.40 · 1 bedroom · 2 beds · 1 private bath",
           "Private room",
           2,
           291
          ],
          [
           "Home in Thônex · 1 bedroom · 1 bed · 1 shared bath",
           "Private room",
           2,
           40
          ],
          [
           "Rental unit in Thônex · Studio · 1 bed · 1 bath",
           "Entire home/apt",
           2,
           54
          ],
          [
           "Boat in Genève · ★4.52 · 1 bed · Half-bath",
           "Entire home/apt",
           2,
           150
          ],
          [
           "Rental unit in Genève · ★4.63 · 1 bedroom · 1 bed · 1 bath",
           "Entire home/apt",
           2,
           85
          ],
          [
           "Rental unit in Gaillard · ★4.90 · Studio · 1 bed · 1 bath",
           "Entire home/apt",
           2,
           70
          ],
          [
           "Home in Le Grand-Saconnex · ★5.0 · 1 bedroom · 1 bed · 1 bath",
           "Entire home/apt",
           2,
           200
          ],
          [
           "Rental unit in Genève · ★4.72 · 1 bedroom · 1 bed · 1 bath",
           "Entire home/apt",
           2,
           102
          ],
          [
           "Rental unit in Genève · ★4.86 · 1 bedroom · 1 bed · 1 shared bath",
           "Private room",
           1,
           57
          ],
          [
           "Rental unit in Genève · 2 bedrooms · 2 beds · 1 bath",
           "Entire home/apt",
           4,
           115
          ],
          [
           "Rental unit in Genève · ★4.33 · 1 bedroom · 1 bed · 1 shared bath",
           "Private room",
           2,
           65
          ],
          [
           "Rental unit in Genève · ★4.75 · Studio · 1 bed · 1 bath",
           "Entire home/apt",
           2,
           77
          ],
          [
           "Rental unit in Genève · 1 bedroom · 1 bed · 1 shared bath",
           "Private room",
           1,
           50
          ],
          [
           "Hotel in Genève · ★5.0 · 1 bedroom · 1 bed · 1 bath",
           "Private room",
           1,
           128
          ],
          [
           "Hotel in Genève · ★4.84 · 1 bedroom · 1 bed · 1 bath",
           "Private room",
           2,
           128
          ],
          [
           "Rental unit in Genève · ★4.44 · 1 bedroom · 1 bed · 1 bath",
           "Entire home/apt",
           2,
           119
          ],
          [
           "Rental unit in Versoix · ★5.0 · 1 bedroom · 1 bed · 1 shared bath",
           "Private room",
           1,
           69
          ],
          [
           "Rental unit in Genève · ★3.60 · 1 bedroom · 1 bed · 1 bath",
           "Entire home/apt",
           2,
           136
          ],
          [
           "Rental unit in Genève · Studio · 2 beds · 1 bath",
           "Entire home/apt",
           3,
           69
          ],
          [
           "Rental unit in Genève · ★4.80 · 3 bedrooms · 4 beds · 1 bath",
           "Entire home/apt",
           5,
           170
          ],
          [
           "Rental unit in Genève · 1 bedroom · 2 beds · 1 bath",
           "Entire home/apt",
           2,
           140
          ],
          [
           "Rental unit in Châtelaine · 3 bedrooms · 3 beds · 1 bath",
           "Entire home/apt",
           4,
           110
          ],
          [
           "Hotel in Genève · 1 bedroom · 1 bed · 1 private bath",
           "Private room",
           2,
           220
          ],
          [
           "Hotel in Genève · 1 bedroom · 2 beds · 1 private bath",
           "Private room",
           3,
           288
          ],
          [
           "Hotel in Genève · 1 bedroom · 1 bed · 1 private bath",
           "Private room",
           2,
           500
          ],
          [
           "Home in Thônex · ★5.0 · Studio · 2 beds · 1 bath",
           "Entire home/apt",
           2,
           60
          ],
          [
           "Rental unit in Genève · 1 bedroom · 1 bed · 1 bath",
           "Entire home/apt",
           2,
           149
          ],
          [
           "Rental unit in Genève · 1 bedroom · 1 bed · 1 bath",
           "Entire home/apt",
           4,
           200
          ],
          [
           "Hotel in Genève · 1 bedroom · 1 bed · 1 private bath",
           "Private room",
           2,
           107
          ],
          [
           "Hotel in Genève · 1 bedroom · 1 shared bath",
           "Private room",
           2,
           116
          ],
          [
           "Hotel in Genève · 1 bedroom · 1 shared bath",
           "Private room",
           2,
           125
          ],
          [
           "Hotel in Genève · 1 bedroom · 1.5 baths",
           "Private room",
           2,
           144
          ],
          [
           "Condo in Genève · 2 bedrooms · 2 beds · 1 bath",
           "Entire home/apt",
           3,
           136
          ],
          [
           "Rental unit in Dardagny · 2 bedrooms · 3 beds · 2 baths",
           "Entire home/apt",
           4,
           105
          ],
          [
           "Guest suite in Genève · 1 bedroom · 1 bed · 1.5 baths",
           "Entire home/apt",
           1,
           49
          ],
          [
           "Guest suite in Genève · 1 bedroom · 1 bed · 1.5 baths",
           "Entire home/apt",
           1,
           49
          ],
          [
           "Guest suite in Genève · ★4.67 · 1 bedroom · 1 bed · 1.5 baths",
           "Entire home/apt",
           1,
           49
          ],
          [
           "Guest suite in Genève · 1 bedroom · 1 bed · 1.5 baths",
           "Entire home/apt",
           1,
           49
          ],
          [
           "Guest suite in Genève · 1 bedroom · 1 bed · 1.5 baths",
           "Entire home/apt",
           1,
           49
          ],
          [
           "Guest suite in Genève · 1 bedroom · 1 bed · 1.5 baths",
           "Entire home/apt",
           1,
           49
          ],
          [
           "Rental unit in Genève · ★5.0 · 1 bedroom · 1 bed · 1 bath",
           "Entire home/apt",
           2,
           145
          ],
          [
           "Rental unit in Genève · ★4.80 · 1 bedroom · 1 bed · 1 bath",
           "Entire home/apt",
           4,
           123
          ],
          [
           "Rental unit in Genève · 1 bedroom · 1 bed · 1 bath",
           "Entire home/apt",
           2,
           103
          ],
          [
           "Rental unit in Genève · ★4.50 · Studio · 1 bed · 1 bath",
           "Entire home/apt",
           4,
           55
          ],
          [
           "Rental unit in Carouge · Studio · 3 beds · 1 bath",
           "Entire home/apt",
           2,
           35
          ],
          [
           "Rental unit in Carouge · 2 bedrooms · 2 beds · 1 bath",
           "Entire home/apt",
           4,
           200
          ],
          [
           "Rental unit in Genève · 1 bedroom · 2 beds · 1 bath",
           "Entire home/apt",
           4,
           108
          ],
          [
           "Rental unit in Bellevue · ★5.0 · 1 bedroom · 1 bed · 1.5 baths",
           "Entire home/apt",
           2,
           120
          ],
          [
           "Rental unit in Genève · ★4.50 · 1 bedroom · 1 bed · 1 bath",
           "Entire home/apt",
           2,
           128
          ],
          [
           "Condo in Genève · ★4.84 · Studio · 1 bed · 1 shared bath",
           "Private room",
           1,
           58
          ],
          [
           "Condo in Thônex · 1 bedroom · 2 beds · 1 bath",
           "Entire home/apt",
           4,
           200
          ],
          [
           "Rental unit in Genève · ★4.50 · 1 bedroom · 1 bed · 1 bath",
           "Entire home/apt",
           2,
           65
          ],
          [
           "Rental unit in Genève · 1 bedroom · 1 bed · 1 shared bath",
           "Private room",
           2,
           47
          ],
          [
           "Hotel in Genève · ★5.0 · 1 bedroom · 1 bed · 1 private bath",
           "Private room",
           2,
           220
          ],
          [
           "Hotel in Genève · ★4.0 · 1 bedroom · 2 beds · 1 private bath",
           "Private room",
           4,
           288
          ],
          [
           "Rental unit in Genève · ★4.29 · 1 bedroom · 1 bed · 1 bath",
           "Entire home/apt",
           2,
           137
          ],
          [
           "Rental unit in Genève · ★4.50 · 1 bedroom · 1 bed · 1 bath",
           "Entire home/apt",
           4,
           95
          ],
          [
           "Rental unit in Genève · ★4.86 · 1 bedroom · 1 bed · 1 bath",
           "Entire home/apt",
           4,
           105
          ],
          [
           "Rental unit in Genève · ★4.92 · 1 bedroom · 1 bed · 1 shared bath",
           "Private room",
           2,
           78
          ],
          [
           "Loft in Genève · 1 bedroom · 3 beds · 1 bath",
           "Entire home/apt",
           4,
           160
          ],
          [
           "Condo in Pregny-Chambésy · ★5.0 · 1 bedroom · 1 bed · 1 bath",
           "Entire home/apt",
           3,
           103
          ],
          [
           "Hotel in Genève · 1 bedroom · 1 bed · 1 private bath",
           "Private room",
           1,
           127
          ],
          [
           "Hotel in Genève · ★4.50 · 1 bedroom · 1 bed · 1 private bath",
           "Private room",
           2,
           128
          ],
          [
           "Hotel in Genève · 1 bedroom · 1 bed · 1 private bath",
           "Private room",
           2,
           127
          ],
          [
           "Hotel in Genève · ★4.50 · 1 bedroom · 1 bed · 1 private bath",
           "Private room",
           2,
           128
          ],
          [
           "Rental unit in Genève · 2 bedrooms · 2 beds · 1 bath",
           "Entire home/apt",
           4,
           95
          ],
          [
           "Rental unit in Genève · ★4.89 · 1 bedroom · 2 beds · 1 bath",
           "Entire home/apt",
           2,
           90
          ],
          [
           "Rental unit in Genève · ★4.90 · 1 bedroom · 1 bed · 1 shared bath",
           "Private room",
           1,
           70
          ],
          [
           "Hotel in Genève · ★4.69 · 1 bedroom · 1 bed · 1 private bath",
           "Private room",
           2,
           128
          ],
          [
           "Hotel in Genève · ★4.67 · 1 bedroom · 1 bed · 1 private bath",
           "Private room",
           2,
           128
          ],
          [
           "Hotel in Genève · ★4.14 · 1 bedroom · 1 bed · 1 shared bath",
           "Private room",
           1,
           101
          ],
          [
           "Rental unit in Genève · 1 bedroom · 2 beds · 1 bath",
           "Entire home/apt",
           4,
           120
          ],
          [
           "Hotel in Genève · 1 bedroom · 1 bed · 1 shared bath",
           "Private room",
           1,
           109
          ],
          [
           "Rental unit in Genève · ★4.67 · 1 bedroom · 1 bed · 1 bath",
           "Entire home/apt",
           2,
           66
          ],
          [
           "Rental unit in Carouge · 1 bedroom · 1 bed · 1 shared bath",
           "Private room",
           2,
           35
          ],
          [
           "Rental unit in Genève · ★4.67 · 3 bedrooms · 3 beds · 2 baths",
           "Entire home/apt",
           6,
           425
          ],
          [
           "Boutique hotel in Genève · ★4.54 · 1 bedroom · 1 private bath",
           "Private room",
           1,
           75
          ],
          [
           "Boutique hotel in Genève · ★4.67 · 1 bedroom · 1 bed · 1 private bath",
           "Private room",
           2,
           159
          ],
          [
           "Rental unit in Genève · ★4.63 · Studio · 1 bed · 1 bath",
           "Entire home/apt",
           2,
           93
          ],
          [
           "Rental unit in Genève · 1 bedroom · 1 bed · 1 bath",
           "Entire home/apt",
           2,
           200
          ],
          [
           "Rental unit in Genève · ★4.37 · 1 bedroom · 1 bed · 1 bath",
           "Entire home/apt",
           2,
           91
          ],
          [
           "Rental unit in Genève · 1 bedroom · 1 bed · 1 private bath",
           "Private room",
           2,
           115
          ],
          [
           "Rental unit in Genève · ★4.54 · 1 bedroom · 1 bed · 1 shared bath",
           "Private room",
           1,
           65
          ],
          [
           "Condo in Genève · ★4.31 · 2 bedrooms · 2 beds · 1.5 baths",
           "Entire home/apt",
           4,
           159
          ],
          [
           "Rental unit in Corsier · 1 bedroom · 1 bed · 1 bath",
           "Entire home/apt",
           2,
           165
          ],
          [
           "Rental unit in Genève · ★4.63 · Studio · 1 bath",
           "Entire home/apt",
           4,
           70
          ],
          [
           "Rental unit in Genève · ★5.0 · 1 bedroom · 1 bed · 1 shared bath",
           "Private room",
           1,
           88
          ],
          [
           "Rental unit in Genève · ★4.84 · 1 bedroom · 1 bed · 1 bath",
           "Entire home/apt",
           2,
           100
          ],
          [
           "Rental unit in Troinex · ★4.82 · 1 bedroom · 3 beds · 1 bath",
           "Entire home/apt",
           4,
           90
          ],
          [
           "Rental unit in Genève · ★4.92 · 1 bedroom · 1 bed · 1 bath",
           "Entire home/apt",
           2,
           120
          ],
          [
           "Rental unit in Genève · ★5.0 · 1 bedroom · 2 beds · 1 bath",
           "Entire home/apt",
           2,
           155
          ],
          [
           "Rental unit in Genève · 3 bedrooms · 2 beds · 1 bath",
           "Entire home/apt",
           4,
           125
          ],
          [
           "Rental unit in Genève · 1 bedroom · 1 bed · 1 bath",
           "Entire home/apt",
           3,
           65
          ],
          [
           "Rental unit in Genève · ★4.33 · Studio · 1 bed · 1 bath",
           "Entire home/apt",
           2,
           70
          ],
          [
           "Rental unit in Genève · 1 bedroom · 1 bed · 1.5 baths",
           "Entire home/apt",
           2,
           72
          ],
          [
           "Rental unit in Genève · 1 bedroom · 2 beds · 1.5 baths",
           "Entire home/apt",
           2,
           60
          ],
          [
           "Rental unit in Genève · 2 bedrooms · 2 beds · 1 bath",
           "Entire home/apt",
           4,
           119
          ],
          [
           "Rental unit in Lancy · 1 bedroom · 1 bed · 1 shared bath",
           "Private room",
           2,
           78
          ],
          [
           "Rental unit in Genève · ★4.93 · Studio · 1 bed · 1 bath",
           "Entire home/apt",
           2,
           100
          ],
          [
           "Rental unit in Genève · 4 bedrooms · 4 beds · 2 baths",
           "Entire home/apt",
           6,
           160
          ],
          [
           "Condo in Genève · Studio · 1 bed · 1 bath",
           "Entire home/apt",
           1,
           125
          ],
          [
           "Townhouse in Genève · ★4.82 · 1 bedroom · 1 bed · 1 bath",
           "Entire home/apt",
           2,
           100
          ],
          [
           "Rental unit in Genève · 1 bedroom · 1 bed · 1 private bath",
           "Private room",
           1,
           45
          ],
          [
           "Home in Chêne-Bourg · ★4.89 · 1 bedroom · 1 bed · 1 private bath",
           "Private room",
           2,
           55
          ],
          [
           "Rental unit in Genève · ★4.87 · 1 bedroom · 1 bed · 1.5 shared baths",
           "Private room",
           2,
           99
          ],
          [
           "Rental unit in Genève · 1 bedroom · 1 bed · 1 bath",
           "Entire home/apt",
           2,
           79
          ],
          [
           "Condo in Genève · 1 bedroom · 1 bath",
           "Entire home/apt",
           4,
           69
          ],
          [
           "Condo in Meinier · ★4.57 · 1 bedroom · 2 beds · 1 bath",
           "Entire home/apt",
           4,
           351
          ],
          [
           "Loft in Genève · 2 bedrooms · 2 beds · 2 baths",
           "Entire home/apt",
           4,
           150
          ],
          [
           "Rental unit in Vernier · ★5.0 · 1 bedroom · 2 beds · 1 bath",
           "Entire home/apt",
           4,
           120
          ],
          [
           "Rental unit in Genève · ★4.91 · 1 bedroom · 1 bed · 1.5 shared baths",
           "Private room",
           1,
           86
          ],
          [
           "Rental unit in Versoix · ★5.0 · 2 bedrooms · 2 beds · 1 bath",
           "Entire home/apt",
           4,
           96
          ],
          [
           "Rental unit in Genève · ★4.79 · 2 bedrooms · 3 beds · 1 bath",
           "Entire home/apt",
           4,
           209
          ],
          [
           "Loft in Genève · ★4.80 · 1 bedroom · 1 bed · 1 bath",
           "Entire home/apt",
           2,
           74
          ],
          [
           "Rental unit in Genève · ★5.0 · 1 bedroom · 1 bed · 1 shared bath",
           "Private room",
           2,
           40
          ],
          [
           "Rental unit in Carouge · ★4.25 · 1 bedroom · 1 bed · 1 private bath",
           "Private room",
           1,
           80
          ],
          [
           "Rental unit in Versoix · ★5.0 · 1 bedroom · 1 bed · 1 bath",
           "Entire home/apt",
           2,
           155
          ],
          [
           "Condo in Genève · ★4.10 · 1 bedroom · 1 bed · 1 bath",
           "Entire home/apt",
           4,
           132
          ],
          [
           "Rental unit in Genève · ★4.19 · 2 bedrooms · 3 beds · 1 bath",
           "Entire home/apt",
           6,
           175
          ],
          [
           "Rental unit in Genève · 1 bedroom · 1 bed · 1 bath",
           "Entire home/apt",
           2,
           75
          ],
          [
           "Rental unit in Genève · ★4.85 · 1 bedroom · 1 bed · 1.5 baths",
           "Entire home/apt",
           2,
           117
          ],
          [
           "Condo in Genève · ★4.62 · 1 bedroom · 1 bed · 1 bath",
           "Entire home/apt",
           2,
           121
          ],
          [
           "Rental unit in Genève · 1 bedroom · 2 beds · 1 shared bath",
           "Private room",
           2,
           42
          ],
          [
           "Rental unit in Genève · ★4.89 · 1 bedroom · 1 bed · 1 bath",
           "Entire home/apt",
           2,
           71
          ],
          [
           "Bed and breakfast in Genève · ★4.82 · 1 bedroom · 1 bed · 1 shared bath",
           "Private room",
           2,
           64
          ],
          [
           "Rental unit in Genève · ★5.0 · 1 bedroom · 2 beds · 1 bath",
           "Entire home/apt",
           4,
           320
          ],
          [
           "Rental unit in Genève · 1 bedroom · 1 bed · 1.5 baths",
           "Entire home/apt",
           2,
           100
          ],
          [
           "Loft in Genève · ★5.0 · 3 bedrooms · 6 beds · 1.5 baths",
           "Entire home/apt",
           10,
           240
          ],
          [
           "Rental unit in Carouge · ★4.89 · 1 bedroom · 1 bed · 1 shared bath",
           "Private room",
           2,
           75
          ],
          [
           "Rental unit in Genève · ★4.88 · 1 bedroom · 2 beds · 1 bath",
           "Entire home/apt",
           2,
           106
          ],
          [
           "Rental unit in Genève · Studio · 2 beds · 1 bath",
           "Entire home/apt",
           3,
           300
          ],
          [
           "Rental unit in Chêne-Bougeries · Studio · 1 bed · 1 shared bath",
           "Private room",
           2,
           105
          ],
          [
           "Bed and breakfast in Meyrin · ★4.31 · 1 bedroom · 1 bed · 1 shared bath",
           "Private room",
           2,
           99
          ],
          [
           "Rental unit in Genève · ★5.0 · 1 bedroom · 1 bed · 1 shared bath",
           "Private room",
           1,
           75
          ],
          [
           "Rental unit in Chambésy · ★4.66 · 1 bedroom · 1 bed · 1 bath",
           "Entire home/apt",
           3,
           120
          ],
          [
           "Rental unit in Genève · Studio · 1 bed · 1 bath",
           "Entire home/apt",
           2,
           77
          ],
          [
           "Condo in Cologny · ★5.0 · Studio · 1 bed · 1 bath",
           "Entire home/apt",
           2,
           130
          ],
          [
           "Rental unit in Vernier · ★4.80 · Studio · 2 beds · 1 bath",
           "Entire home/apt",
           3,
           79
          ],
          [
           "Rental unit in Genève · ★5.0 · 1 bedroom · 2 beds · 1 bath",
           "Entire home/apt",
           2,
           105
          ],
          [
           "Rental unit in Genève · 1 bedroom · 1 bed · 1 bath",
           "Entire home/apt",
           2,
           140
          ],
          [
           "Rental unit in Genève · ★4.76 · 1 bedroom · 2 beds · 1 bath",
           "Entire home/apt",
           2,
           89
          ],
          [
           "Rental unit in Troinex · ★4.81 · 1 bedroom · 1 bed · 1 bath",
           "Entire home/apt",
           2,
           40
          ],
          [
           "Rental unit in Genève · 1 bedroom · 1 bed · 1.5 baths",
           "Entire home/apt",
           3,
           100
          ],
          [
           "Rental unit in Genève · ★4.67 · 1 bedroom · 2 beds · 1 shared bath",
           "Private room",
           4,
           50
          ],
          [
           "Rental unit in Genève · ★5.0 · 2 bedrooms · 2 beds · 1 bath",
           "Entire home/apt",
           4,
           180
          ],
          [
           "Rental unit in Genève · 1 bedroom · 1 bed · 1 private bath",
           "Private room",
           2,
           70
          ],
          [
           "Rental unit in Genève · 1 bedroom · 2 beds · 1 bath",
           "Entire home/apt",
           3,
           53
          ],
          [
           "Rental unit in Genève · ★3.80 · 2 bedrooms · 2 beds · 1 bath",
           "Entire home/apt",
           2,
           98
          ],
          [
           "Rental unit in Genève · ★4.92 · 1 bedroom · 1 bed · 2 baths",
           "Private room",
           1,
           75
          ],
          [
           "Rental unit in Genève · ★4.37 · 1 bedroom · 1 bed · 1.5 shared baths",
           "Private room",
           1,
           68
          ],
          [
           "Rental unit in Genève · ★4.40 · 1 bedroom · 1 bed · 1 bath",
           "Entire home/apt",
           2,
           120
          ],
          [
           "Rental unit in Genève · ★4.15 · 1 bedroom · 2 beds · 1 bath",
           "Entire home/apt",
           4,
           250
          ],
          [
           "Rental unit in Genève · ★4.40 · 3 bedrooms · 3 beds · 1 bath",
           "Entire home/apt",
           6,
           110
          ],
          [
           "Rental unit in Genève · ★4.80 · Studio · 1 bed · 1 bath",
           "Entire home/apt",
           3,
           90
          ],
          [
           "Rental unit in Chêne-Bougeries · ★4.13 · 2 bedrooms · 2 beds · 2 baths",
           "Entire home/apt",
           4,
           186
          ],
          [
           "Condo in Genève · ★4.86 · Studio · 1 bed · 1 bath",
           "Entire home/apt",
           3,
           90
          ],
          [
           "Rental unit in Corsier · ★5.0 · Studio · 1 bed · 1 bath",
           "Entire home/apt",
           2,
           99
          ],
          [
           "Rental unit in Genève · 1 bedroom · 2 beds · 1 bath",
           "Entire home/apt",
           4,
           115
          ],
          [
           "Rental unit in Genève · 1 bedroom · 1 private bath",
           "Private room",
           1,
           50
          ],
          [
           "Condo in Pregny-Chambésy · ★5.0 · 1 bedroom · 3 beds · 1 bath",
           "Entire home/apt",
           2,
           95
          ],
          [
           "Rental unit in Genève · ★4.97 · 1 bedroom · 1 bed · 1.5 shared baths",
           "Private room",
           1,
           75
          ],
          [
           "Rental unit in Versoix · 1 bedroom · 2 beds · 1 bath",
           "Entire home/apt",
           4,
           116
          ],
          [
           "Rental unit in Genève · ★4.80 · 1 bedroom · 1 bed · 1 shared bath",
           "Private room",
           2,
           50
          ],
          [
           "Rental unit in Genève · 3 bedrooms · 4 beds · 2 baths",
           "Entire home/apt",
           5,
           250
          ],
          [
           "Condo in Gaillard · ★4.67 · 1 bedroom · 1 bed · 1 bath",
           "Entire home/apt",
           2,
           43
          ],
          [
           "Townhouse in Pregny-Chambésy · 1 bedroom · 1 bed · 1 bath",
           "Entire home/apt",
           2,
           90
          ],
          [
           "Rental unit in Genève · ★4.91 · 3 bedrooms · 5 beds · 2 baths",
           "Entire home/apt",
           6,
           290
          ],
          [
           "Rental unit in Genève · ★4.74 · 1 bedroom · 1 bed · 1 private bath",
           "Private room",
           2,
           69
          ],
          [
           "Rental unit in Vernier · 1 bedroom · 1 bed · 1.5 baths",
           "Private room",
           4,
           1500
          ],
          [
           "Rental unit in Genève · ★5.0 · 1 bedroom · 1 bed · 1 bath",
           "Entire home/apt",
           2,
           138
          ],
          [
           "Rental unit in Carouge · ★5.0 · 1 bedroom · 1 bed · 1 bath",
           "Entire home/apt",
           2,
           140
          ],
          [
           "Rental unit in Genève · ★5.0 · 1 bedroom · 2 beds · 1 bath",
           "Entire home/apt",
           4,
           120
          ],
          [
           "Condo in Carouge · Studio · 1 bed · 1 bath",
           "Entire home/apt",
           2,
           120
          ],
          [
           "Rental unit in Genève · ★5.0 · 2 bedrooms · 2 beds · 2.5 baths",
           "Entire home/apt",
           4,
           450
          ],
          [
           "Rental unit in Carouge · ★4.67 · 1 bedroom · 1 bed · 1 bath",
           "Entire home/apt",
           2,
           130
          ],
          [
           "Rental unit in Genève · ★4.14 · 1 bedroom · 1 bed · 1 shared bath",
           "Private room",
           2,
           153
          ],
          [
           "Rental unit in Genève · ★4.67 · 1 bedroom · 1 bed · 1 bath",
           "Entire home/apt",
           3,
           140
          ],
          [
           "Condo in Genève · ★4.43 · 2 bedrooms · 3 beds · 1.5 baths",
           "Entire home/apt",
           5,
           187
          ],
          [
           "Rental unit in Vernier · ★4.56 · 3 bedrooms · 3 beds · 1 bath",
           "Entire home/apt",
           5,
           133
          ],
          [
           "Condo in Genève · Studio · 1 bed · 1 bath",
           "Entire home/apt",
           4,
           111
          ],
          [
           "Rental unit in Genève · ★4.73 · 1 bedroom · 1 bed · 1.5 shared baths",
           "Private room",
           2,
           86
          ],
          [
           "Bed and breakfast in Vernier · ★4.92 · 1 bedroom · 1 bed · 1 shared bath",
           "Private room",
           2,
           39
          ],
          [
           "Condo in Genève · 4 bedrooms · 4 beds · 2.5 baths",
           "Entire home/apt",
           6,
           200
          ],
          [
           "Condo in Vessy · ★4.87 · 1 bedroom · 1 bed · 1 bath",
           "Entire home/apt",
           2,
           70
          ],
          [
           "Rental unit in Genève · 1 bedroom · 1 bed · 1 bath",
           "Entire home/apt",
           3,
           95
          ],
          [
           "Rental unit in Genève · ★3.33 · Studio · 2 beds · 1 bath",
           "Entire home/apt",
           2,
           95
          ],
          [
           "Bed and breakfast in Lancy · ★4.89 · Studio · 1 bed · 1 shared bath",
           "Private room",
           2,
           60
          ],
          [
           "Rental unit in Genève · ★4.92 · 2 bedrooms · 3 beds · 2 baths",
           "Entire home/apt",
           3,
           250
          ],
          [
           "Rental unit in Genève · 2 bedrooms · 3 beds · 2 baths",
           "Entire home/apt",
           5,
           338
          ],
          [
           "Rental unit in Genève · ★4.56 · 1 bedroom · 2 beds · 1 bath",
           "Entire home/apt",
           4,
           100
          ],
          [
           "Rental unit in Chêne-Bougeries · 2 bedrooms · 3 beds · 1 bath",
           "Entire home/apt",
           1,
           110
          ],
          [
           "Rental unit in Genève · ★5.0 · 1 bedroom · 1 bed · 1 bath",
           "Entire home/apt",
           2,
           214
          ],
          [
           "Rental unit in Genève · ★5.0 · 1 bedroom · 1 bed · 1 bath",
           "Entire home/apt",
           2,
           90
          ],
          [
           "Rental unit in Genève · ★4.46 · 1 bedroom · 3 beds · 1 bath",
           "Entire home/apt",
           3,
           138
          ],
          [
           "Rental unit in Genève · ★4.56 · 3 bedrooms · 1 bed · 1 bath",
           "Entire home/apt",
           2,
           149
          ],
          [
           "Rental unit in Genève · ★4.62 · 1 bedroom · 1 bed · 1 bath",
           "Entire home/apt",
           2,
           135
          ],
          [
           "Rental unit in Genève · ★4.51 · 3 bedrooms · 3 beds · 1 bath",
           "Entire home/apt",
           3,
           151
          ],
          [
           "Rental unit in Genève · ★4.51 · 1 bedroom · 3 beds · 1 bath",
           "Entire home/apt",
           3,
           139
          ],
          [
           "Rental unit in Genève · ★4.33 · 1 bedroom · 3 beds · 1 bath",
           "Entire home/apt",
           3,
           146
          ],
          [
           "Rental unit in Genève · ★5.0 · 1 bedroom · 2 beds · 1.5 baths",
           "Entire home/apt",
           5,
           149
          ],
          [
           "Rental unit in Genève · 1 bedroom · 1 bed · 1 bath",
           "Entire home/apt",
           2,
           120
          ],
          [
           "Rental unit in Genève · ★4.35 · 1 bedroom · 3 beds · 1 bath",
           "Entire home/apt",
           3,
           138
          ],
          [
           "Rental unit in Genève · ★4.64 · 1 bedroom · 3 beds · 1 bath",
           "Entire home/apt",
           3,
           146
          ],
          [
           "Rental unit in Genève · ★4.60 · 1 bedroom · 3 beds · 1 bath",
           "Entire home/apt",
           3,
           138
          ],
          [
           "Rental unit in Genève · ★4.58 · 1 bedroom · 3 beds · 1 bath",
           "Entire home/apt",
           3,
           138
          ],
          [
           "Rental unit in Genève · 1 bedroom · 1 bed · 1.5 shared baths",
           "Private room",
           1,
           85
          ],
          [
           "Rental unit in Genève · ★4.59 · 1 bedroom · 3 beds · 1 bath",
           "Entire home/apt",
           3,
           143
          ],
          [
           "Rental unit in Genève · ★4.31 · 1 bedroom · 3 beds · 1 bath",
           "Entire home/apt",
           3,
           146
          ],
          [
           "Condo in Genève · ★4.54 · 1 bedroom · 1 bath",
           "Entire home/apt",
           2,
           215
          ],
          [
           "Rental unit in Genève · ★4.90 · 3 bedrooms · 2 beds · 2 baths",
           "Entire home/apt",
           3,
           350
          ],
          [
           "Rental unit in Genève · 1 bedroom · 1 bed · 1.5 baths",
           "Entire home/apt",
           2,
           189
          ],
          [
           "Condo in Genève · ★4.80 · 1 bedroom · 1 bed · 1 bath",
           "Entire home/apt",
           2,
           115
          ],
          [
           "Rental unit in Genève · 1 bedroom · 2 beds · 1 bath",
           "Entire home/apt",
           3,
           95
          ],
          [
           "Rental unit in Genève · ★5.0 · 1 bedroom · 1 bed · 1 bath",
           "Entire home/apt",
           2,
           100
          ],
          [
           "Rental unit in Gaillard · ★4.88 · 1 bedroom · 1 bed · 1 bath",
           "Entire home/apt",
           4,
           135
          ],
          [
           "Rental unit in Genève · ★4.52 · 1 bedroom · 1 bath",
           "Entire home/apt",
           2,
           212
          ],
          [
           "Hotel in Genève · 1 bedroom · 1 bed · 1 private bath",
           "Private room",
           2,
           441
          ],
          [
           "Hotel in Genève · 1 bedroom · 1 bed · 1 private bath",
           "Private room",
           3,
           516
          ],
          [
           "Hotel in Genève · 1 bedroom · 1 bed · 1 private bath",
           "Private room",
           3,
           596
          ],
          [
           "Rental unit in Genève · 1 bedroom · 1 bed · 1.5 shared baths",
           "Private room",
           2,
           77
          ],
          [
           "Rental unit in Le Grand-Saconnex · ★5.0 · 1 bedroom · 2 beds · 1 shared bath",
           "Private room",
           2,
           58
          ],
          [
           "Condo in Genève · ★4.18 · Studio · 2 beds · 1 bath",
           "Entire home/apt",
           4,
           173
          ],
          [
           "Rental unit in Genève · ★4.58 · Studio · 1 bed · 1 bath",
           "Entire home/apt",
           2,
           108
          ],
          [
           "Rental unit in Genève · ★3.50 · 2 bedrooms · 2 beds · 1 bath",
           "Entire home/apt",
           2,
           100
          ],
          [
           "Rental unit in Genève · 1 bedroom · 1 bed · 1 bath",
           "Entire home/apt",
           2,
           69
          ],
          [
           "Rental unit in Genève · ★4.86 · 3 bedrooms · 4 beds · 1 bath",
           "Entire home/apt",
           4,
           220
          ],
          [
           "Serviced apartment in Genève · ★4.70 · 2 bedrooms · 3 beds · 1 bath",
           "Entire home/apt",
           4,
           320
          ],
          [
           "Rental unit in Genève · ★4.50 · 1 bedroom · 1 bed · 1 bath",
           "Entire home/apt",
           3,
           110
          ],
          [
           "Rental unit in Genève · 1 bedroom · 1 bed · 1 private bath",
           "Private room",
           1,
           80
          ],
          [
           "Rental unit in Genève · ★4.95 · 1 bedroom · 1 bed · 1 bath",
           "Entire home/apt",
           2,
           153
          ],
          [
           "Rental unit in Genève · ★4.83 · 1 bedroom · 2 beds · 1 bath",
           "Entire home/apt",
           3,
           126
          ],
          [
           "Rental unit in Genève · ★3.78 · 2 bedrooms · 2 beds · 1 bath",
           "Entire home/apt",
           4,
           314
          ],
          [
           "Rental unit in Genève · 1 bedroom · 1 bed · 1 shared bath",
           "Private room",
           2,
           40
          ],
          [
           "Condo in Genève · ★4.50 · 2 bedrooms · 2 beds · 2 baths",
           "Entire home/apt",
           4,
           384
          ],
          [
           "Condo in Genève · ★4.77 · 1 bedroom · 1 bed · 1.5 baths",
           "Entire home/apt",
           2,
           265
          ],
          [
           "Condo in Genève · ★4.33 · 1 bedroom · 1 shared bath",
           "Private room",
           1,
           8577
          ],
          [
           "Rental unit in Genève · ★3.92 · 1 bedroom · 1 bed · 1 bath",
           "Entire home/apt",
           2,
           170
          ],
          [
           "Rental unit in Genève · ★4.57 · 1 bedroom · 1 bed · 1 bath",
           "Entire home/apt",
           2,
           100
          ],
          [
           "Rental unit in Genève · 1 bedroom · 1 bath",
           "Entire home/apt",
           2,
           350
          ],
          [
           "Rental unit in Genève · ★5.0 · Studio · 1 bed · 1 bath",
           "Entire home/apt",
           2,
           100
          ],
          [
           "casa particular in Le Grand-Saconnex · ★4.64 · 1 bedroom · 1 bed · 1 shared bath",
           "Private room",
           1,
           65
          ],
          [
           "Rental unit in Genève · ★4.43 · 1 bedroom · 1 bed · 1 bath",
           "Entire home/apt",
           2,
           97
          ],
          [
           "Home in Le Grand-Saconnex · 6 bedrooms · 9 beds · 2.5 baths",
           "Entire home/apt",
           15,
           500
          ],
          [
           "Rental unit in Genève · ★4.71 · 1 bedroom · 1 bed · 1.5 baths",
           "Entire home/apt",
           3,
           157
          ],
          [
           "Rental unit in Geneva · ★New · 1 bedroom · 2 beds · 1 bath",
           "Entire home/apt",
           3,
           100
          ],
          [
           "Rental unit in Genève · 1 bedroom · 2 beds · 1 bath",
           "Entire home/apt",
           2,
           150
          ],
          [
           "Loft in Genève · ★4.87 · 2 bedrooms · 4 beds · 1.5 baths",
           "Entire home/apt",
           6,
           273
          ],
          [
           "Rental unit in Genève · 1 bedroom · 1 bed · 1 bath",
           "Entire home/apt",
           3,
           160
          ],
          [
           "Rental unit in Genève · ★4.91 · 1 bedroom · 1 bed · 1.5 baths",
           "Entire home/apt",
           2,
           109
          ],
          [
           "Place to stay in Genève · ★4.88 · 1 bedroom · 1 bed · 1 bath",
           "Entire home/apt",
           1,
           119
          ],
          [
           "Rental unit in Genève · ★5.0 · 1 bedroom · 1 bed · 1.5 baths",
           "Entire home/apt",
           4,
           117
          ],
          [
           "Rental unit in Genève · ★5.0 · 1 bedroom · 1 bed · 1 shared bath",
           "Private room",
           2,
           65
          ],
          [
           "Rental unit in Genève · 2 bedrooms · 2 beds · 1 bath",
           "Entire home/apt",
           4,
           255
          ],
          [
           "Rental unit in Vésenaz · 1 bedroom · 1 bed · 1 bath",
           "Entire home/apt",
           2,
           51
          ],
          [
           "Rental unit in Versoix · 3 bedrooms · 4 beds · 1 bath",
           "Entire home/apt",
           6,
           129
          ],
          [
           "Rental unit in Genève · 2 bedrooms · 2 beds · 1 bath",
           "Entire home/apt",
           3,
           200
          ],
          [
           "Condo in Genève · ★4.92 · 1 bedroom · 2 beds · 1 bath",
           "Entire home/apt",
           3,
           125
          ],
          [
           "Rental unit in Genève · ★4.67 · 1 bedroom · 1 bed · 1 bath",
           "Entire home/apt",
           2,
           95
          ],
          [
           "Rental unit in Genève · ★4.83 · 1 bedroom · 2 beds · 1 bath",
           "Entire home/apt",
           2,
           159
          ],
          [
           "Bed and breakfast in Genève · ★4.33 · 1 bedroom · 1 bed · 1 shared bath",
           "Private room",
           1,
           80
          ],
          [
           "Rental unit in Lancy · ★3.50 · 1 bedroom · 2 beds · 1 bath",
           "Entire home/apt",
           4,
           82
          ],
          [
           "Rental unit in Genève · Studio · 1 bed · 1 bath",
           "Entire home/apt",
           2,
           70
          ],
          [
           "Rental unit in Bernex · ★5.0 · 2 bedrooms · 2 beds · 3 baths",
           "Entire home/apt",
           4,
           125
          ],
          [
           "Home in Ville-la-Grand · ★4.69 · 4 bedrooms · 6 beds · 1 bath",
           "Entire home/apt",
           8,
           125
          ],
          [
           "Rental unit in Thônex · ★4.88 · 3 bedrooms · 5 beds · 2.5 baths",
           "Entire home/apt",
           6,
           150
          ],
          [
           "Rental unit in Genève · ★2.63 · 1 bedroom · 1 bed · 1 bath",
           "Entire home/apt",
           3,
           495
          ],
          [
           "Condo in Bernex · ★4.87 · 1 bedroom · 4 beds · 1 bath",
           "Entire home/apt",
           5,
           145
          ],
          [
           "Rental unit in Genève · ★4.48 · 1 bedroom · 3 beds · 1 bath",
           "Entire home/apt",
           4,
           200
          ],
          [
           "Rental unit in Genève · ★5.0 · 2 bedrooms · 2 beds · 1 bath",
           "Entire home/apt",
           5,
           130
          ],
          [
           "Rental unit in Genève · ★4.91 · 2 bedrooms · 1 bed · 1 bath",
           "Entire home/apt",
           2,
           159
          ],
          [
           "Rental unit in Genève · ★5.0 · 1 bedroom · 1 bed · 1 bath",
           "Entire home/apt",
           4,
           150
          ],
          [
           "Condo in Vessy · ★4.62 · 1 bedroom · 1 bed · 1 bath",
           "Entire home/apt",
           2,
           75
          ],
          [
           "Rental unit in Genève · ★4.44 · 1 bedroom · 2 beds · 1 bath",
           "Entire home/apt",
           4,
           129
          ],
          [
           "Rental unit in Genève · ★4.80 · 2 bedrooms · 1 bed · 1 bath",
           "Entire home/apt",
           3,
           79
          ],
          [
           "Rental unit in Cointrin · ★4.83 · 1 bedroom · 1 bed · 1 bath",
           "Entire home/apt",
           2,
           85
          ],
          [
           "Rental unit in Genève · ★4.52 · 1 bedroom · 1 bed · 1.5 baths",
           "Entire home/apt",
           1,
           90
          ],
          [
           "Condo in Petit-Lancy · 1 bedroom · 2 beds · 1 bath",
           "Entire home/apt",
           4,
           164
          ],
          [
           "Rental unit in Genève · 1 bedroom · 1 bed · 1 bath",
           "Entire home/apt",
           1,
           100
          ],
          [
           "Condo in Chêne-Bougeries · ★4.92 · 1 bedroom · 1 bed · 1 private bath",
           "Private room",
           2,
           80
          ],
          [
           "Condo in Genève · ★4.85 · 1 bedroom · 2 beds · 1 bath",
           "Entire home/apt",
           4,
           137
          ],
          [
           "Rental unit in Genève · ★4.98 · 1 bedroom · 1 shared bath",
           "Private room",
           2,
           80
          ],
          [
           "Rental unit in Genève · ★4.70 · 1 bedroom · 1 bed · 1 bath",
           "Entire home/apt",
           1,
           88
          ],
          [
           "Rental unit in Genève · ★4.71 · 1 bedroom · 1 bed · 1 bath",
           "Entire home/apt",
           2,
           110
          ],
          [
           "Bed and breakfast in Genève · ★4.90 · 2 bedrooms · 3 beds · 3 shared baths",
           "Private room",
           2,
           95
          ],
          [
           "Rental unit in Versoix · ★4.22 · 1 bedroom · 1 bed · 1 shared bath",
           "Private room",
           2,
           70
          ],
          [
           "Condo in Genève · 1 bedroom · 1 bed · 1 shared bath",
           "Private room",
           2,
           45
          ],
          [
           "Rental unit in Le Grand-Saconnex · 1 bedroom · 1 bed · 1 bath",
           "Entire home/apt",
           4,
           351
          ],
          [
           "Hotel in Genève · ★4.81 · 2 bedrooms · 4 beds · 2 baths",
           "Private room",
           4,
           178
          ],
          [
           "Rental unit in Genève · 1 bedroom · 1.5 baths",
           "Entire home/apt",
           1,
           195
          ],
          [
           "Rental unit in Genève · ★4.89 · Studio · 1 bed · 1 bath",
           "Entire home/apt",
           2,
           88
          ],
          [
           "Rental unit in Geneva · ★4.88 · 1 bedroom · 1 bed · 1 shared bath",
           "Private room",
           1,
           75
          ],
          [
           "casa particular in Chêne-Bourg · 2 bedrooms · 2 beds · 1 shared bath",
           "Private room",
           4,
           186
          ],
          [
           "Rental unit in Genève · ★4.83 · 1 bedroom · 1 bed · 1 shared bath",
           "Shared room",
           1,
           56
          ],
          [
           "Rental unit in Genève · ★4.50 · Studio · 1 bed · 1 bath",
           "Entire home/apt",
           2,
           99
          ],
          [
           "Condo in Genève · 1 bedroom · 1 bed · 1 bath",
           "Entire home/apt",
           2,
           129
          ],
          [
           "Condo in Genève · ★4.93 · 1 bedroom · 2 beds · 2 baths",
           "Entire home/apt",
           2,
           250
          ],
          [
           "Condo in Carouge · 1 bedroom · 1 bed · 1.5 baths",
           "Entire home/apt",
           2,
           180
          ],
          [
           "Condo in Genève · 1 bedroom · 1 bed · 1 shared bath",
           "Private room",
           1,
           69
          ],
          [
           "Rental unit in Genève · 1 bedroom · 1 bed · 1 bath",
           "Entire home/apt",
           3,
           495
          ],
          [
           "Rental unit in Genève · ★4.11 · 1 bedroom · 1 bed · 1 bath",
           "Entire home/apt",
           3,
           495
          ],
          [
           "Rental unit in Genève · ★4.89 · 1 bedroom · 1 bed · 1 bath",
           "Entire home/apt",
           2,
           130
          ],
          [
           "Condo in Genève · ★4.63 · 1 bedroom · 1 bed · 1 bath",
           "Private room",
           1,
           59
          ],
          [
           "Condo in Genève · 1 bedroom · 1 bed · 1 shared bath",
           "Private room",
           1,
           59
          ],
          [
           "Rental unit in Genève · ★4.0 · 1 bedroom · 2 beds · 1 bath",
           "Entire home/apt",
           2,
           132
          ],
          [
           "Condo in Genève · Studio · 2 beds · 1.5 baths",
           "Entire home/apt",
           2,
           80
          ],
          [
           "Hotel in Cointrin · 1 bedroom · 1 bed · 1 private bath",
           "Private room",
           2,
           160
          ],
          [
           "Rental unit in Genève · 2 bedrooms · 2 beds · 1.5 baths",
           "Entire home/apt",
           4,
           180
          ],
          [
           "Rental unit in Genève · 1 bedroom · 1 bed · 1 shared bath",
           "Private room",
           2,
           95
          ],
          [
           "Condo in Genève · 3 bedrooms · 3 beds · 2.5 baths",
           "Entire home/apt",
           6,
           309
          ],
          [
           "Rental unit in Genève · Studio · 1 bed · 1 bath",
           "Entire home/apt",
           2,
           98
          ],
          [
           "Rental unit in Genève · ★4.76 · 2 bedrooms · 2 beds · 1 bath",
           "Entire home/apt",
           4,
           188
          ],
          [
           "Rental unit in Genève · ★4.84 · 1 bedroom · 1 bed · 1 bath",
           "Entire home/apt",
           4,
           129
          ],
          [
           "Rental unit in Genève · ★4.87 · 1 bedroom · 1 bed · 1 bath",
           "Entire home/apt",
           2,
           113
          ],
          [
           "Rental unit in Genève · ★4.58 · 1 bedroom · 2 beds · 1 bath",
           "Entire home/apt",
           4,
           96
          ],
          [
           "Rental unit in Genève · ★5.0 · 1 bedroom · 1 bed · 1 bath",
           "Private room",
           2,
           95
          ],
          [
           "Condo in Genève · 2 bedrooms · 1 bed · 1 bath",
           "Entire home/apt",
           4,
           280
          ],
          [
           "Rental unit in Genève · ★5.0 · 1 bedroom · 1 bed · 1 bath",
           "Entire home/apt",
           2,
           105
          ],
          [
           "Rental unit in Genève · ★4.60 · 1 bedroom · 1 bed · 1 shared bath",
           "Private room",
           2,
           70
          ],
          [
           "Rental unit in Genève · ★4.92 · 2 bedrooms · 2 beds · 2 baths",
           "Entire home/apt",
           4,
           185
          ],
          [
           "Condo in Lancy · 1 bedroom · 1 bed · 2 shared baths",
           "Private room",
           1,
           134
          ],
          [
           "Rental unit in Genève · ★4.15 · Studio · 1 bed · 1 bath",
           "Entire home/apt",
           2,
           100
          ],
          [
           "casa particular in Genève · ★4.82 · 1 bedroom · 1 bed · 1.5 baths",
           "Private room",
           2,
           75
          ],
          [
           "Rental unit in Genève · ★4.88 · 2 bedrooms · 2 beds · 1 bath",
           "Entire home/apt",
           4,
           219
          ],
          [
           "Rental unit in Carouge · ★5.0 · 1 bedroom · 1 bed · 1 bath",
           "Entire home/apt",
           2,
           150
          ],
          [
           "Rental unit in Genève · ★4.88 · 4 bedrooms · 5 beds · 3 baths",
           "Entire home/apt",
           8,
           631
          ],
          [
           "Rental unit in Genève · ★4.86 · 2 bedrooms · 3 beds · 1 bath",
           "Entire home/apt",
           5,
           169
          ],
          [
           "Rental unit in Genève · ★5.0 · 2 bedrooms · 2 beds · 1 bath",
           "Entire home/apt",
           4,
           190
          ],
          [
           "Rental unit in Genève · 2 bedrooms · 2 beds · 1 bath",
           "Entire home/apt",
           4,
           131
          ],
          [
           "Rental unit in Genève · 1 bedroom · 1.5 baths",
           "Entire home/apt",
           3,
           121
          ],
          [
           "Rental unit in Genève · 1 bedroom · 1 bed · 1 bath",
           "Entire home/apt",
           2,
           500
          ],
          [
           "Rental unit in Genève · ★4.80 · 2 bedrooms · 2 beds · 1 bath",
           "Entire home/apt",
           3,
           294
          ],
          [
           "Rental unit in Genève · ★5.0 · 2 bedrooms · 1 bed · 1.5 shared baths",
           "Private room",
           2,
           75
          ],
          [
           "Loft in Hermance · 1 bedroom · 1 bath",
           "Entire home/apt",
           2,
           150
          ],
          [
           "Rental unit in Versoix · ★5.0 · 1 bedroom · 1 bed · 1 bath",
           "Entire home/apt",
           1,
           60
          ],
          [
           "Rental unit in Vernier · ★4.22 · 1 bedroom · 1 bed · 1 bath",
           "Entire home/apt",
           3,
           111
          ],
          [
           "Rental unit in Genève · 1 bedroom · 1 bath",
           "Entire home/apt",
           2,
           125
          ],
          [
           "Villa in Onex · 4 bedrooms · 4 beds · 3.5 baths",
           "Entire home/apt",
           5,
           180
          ],
          [
           "Rental unit in Thônex · ★5.0 · 1 bedroom · 1 bed · 1 bath",
           "Entire home/apt",
           2,
           96
          ],
          [
           "Condo in Genève · 1 bedroom · 1 bed · 1 bath",
           "Entire home/apt",
           2,
           775
          ],
          [
           "Rental unit in Genève · 1 bedroom · 2 beds · 2 baths",
           "Entire home/apt",
           3,
           90
          ],
          [
           "Rental unit in Genève · ★3.50 · 2 bedrooms · 4 beds · 2 baths",
           "Private room",
           6,
           90
          ],
          [
           "Rental unit in Genève · ★4.75 · 1 bedroom · 1 bed · 1 private bath",
           "Private room",
           2,
           75
          ],
          [
           "Rental unit in Genève · ★4.84 · 2 bedrooms · 2 beds · 1 bath",
           "Entire home/apt",
           3,
           180
          ],
          [
           "Rental unit in Genève · ★4.82 · 2 bedrooms · 2 beds · 1 bath",
           "Entire home/apt",
           4,
           239
          ],
          [
           "Rental unit in Genève · ★4.62 · Studio · 1 bed · 1 bath",
           "Entire home/apt",
           2,
           135
          ],
          [
           "Bed and breakfast in Meyrin · 1 bedroom · 2 beds · 1 private bath",
           "Private room",
           2,
           135
          ],
          [
           "Bed and breakfast in Meyrin · ★5.0 · 1 bedroom · 2 beds · 2 shared baths",
           "Private room",
           2,
           125
          ],
          [
           "Bed and breakfast in Meyrin · ★5.0 · 1 bedroom · 1 bed · 2 shared baths",
           "Private room",
           2,
           140
          ],
          [
           "Bed and breakfast in Laconnex · ★New · 1 bedroom · 1 bed · 1 shared bath",
           "Private room",
           2,
           87
          ],
          [
           "Bed and breakfast in Meyrin · ★4.92 · 1 bedroom · 2 beds · 1.5 baths",
           "Private room",
           2,
           117
          ],
          [
           "Rental unit in Genève · ★New · 1 bedroom · 1 bed · 1 bath",
           "Entire home/apt",
           4,
           157
          ],
          [
           "Rental unit in Genève · ★4.58 · 1 bedroom · 1 bed · 1 bath",
           "Entire home/apt",
           2,
           107
          ],
          [
           "Condo in Genève · 1 bedroom · 1 bed · 1 bath",
           "Entire home/apt",
           2,
           140
          ],
          [
           "Rental unit in Genève · ★4.48 · 1 bedroom · 1 bed · 1 bath",
           "Entire home/apt",
           2,
           87
          ],
          [
           "Rental unit in Genève · ★4.78 · 1 bedroom · 1 bed · 1 bath",
           "Entire home/apt",
           4,
           130
          ],
          [
           "Rental unit in Genève · ★4.65 · 1 bedroom · 1 bed · 1 bath",
           "Entire home/apt",
           2,
           260
          ],
          [
           "Rental unit in Soral · 1 bedroom · 2 beds · 1 bath",
           "Entire home/apt",
           2,
           58
          ],
          [
           "Rental unit in Genève · ★5.0 · 1 bedroom · 1 bath",
           "Entire home/apt",
           4,
           105
          ],
          [
           "casa particular in Carouge · ★4.64 · 2 bedrooms · 3 beds · 1 bath",
           "Entire home/apt",
           4,
           189
          ],
          [
           "Rental unit in Genève · 1 bedroom · 1 bed · 1 bath",
           "Entire home/apt",
           1,
           200
          ],
          [
           "Condo in Genève · ★4.57 · 1 bedroom · 1 bed · 1 bath",
           "Entire home/apt",
           2,
           200
          ],
          [
           "Rental unit in Genève · ★4.67 · 2 bedrooms · 3 beds · 1 bath",
           "Entire home/apt",
           5,
           99
          ],
          [
           "Rental unit in Genève · ★4.56 · 2 bedrooms · 3 beds · 1 bath",
           "Entire home/apt",
           5,
           175
          ],
          [
           "Serviced apartment in Vernier · ★4.91 · Studio · 1 bed · 1 bath",
           "Entire home/apt",
           2,
           146
          ],
          [
           "casa particular in Genève · ★4.86 · 1 bedroom · 1 bed · 1 shared bath",
           "Private room",
           1,
           49
          ],
          [
           "Rental unit in Genève · ★4.27 · 1 bedroom · 1 bed · 1 bath",
           "Entire home/apt",
           3,
           145
          ],
          [
           "Rental unit in Vernier · ★4.94 · 1 bedroom · 1 bed · 1 shared bath",
           "Private room",
           1,
           50
          ],
          [
           "Rental unit in Genève · ★4.56 · 1 bedroom · 1 bed · 1 bath",
           "Entire home/apt",
           2,
           135
          ],
          [
           "Rental unit in Genève · ★5.0 · 2 bedrooms · 2 beds · 1 bath",
           "Entire home/apt",
           4,
           150
          ],
          [
           "Rental unit in Genève · ★5.0 · 1 bedroom · 2 beds · 1 bath",
           "Entire home/apt",
           3,
           220
          ],
          [
           "Rental unit in Genève · ★5.0 · 1 bedroom · 1 bed · 1.5 shared baths",
           "Private room",
           1,
           49
          ],
          [
           "Townhouse in Chêne-Bourg · 1 bedroom · 1 bed · 1.5 shared baths",
           "Private room",
           2,
           80
          ],
          [
           "Serviced apartment in Genève · 1 bedroom · 1 bed · 1 bath",
           "Entire home/apt",
           2,
           766
          ],
          [
           "Condo in Genève · ★4.94 · 1 bedroom · 1 bed · 1 private bath",
           "Private room",
           1,
           88
          ],
          [
           "Rental unit in Genève · 2 bedrooms · 3 beds · 1 bath",
           "Entire home/apt",
           4,
           68
          ],
          [
           "Rental unit in Genève · ★5.0 · 1 bedroom · 2 beds · 1.5 baths",
           "Entire home/apt",
           3,
           170
          ],
          [
           "Vacation home in Genève · ★4.55 · Studio · 1 bed · 1 bath",
           "Entire home/apt",
           2,
           76
          ],
          [
           "Rental unit in Genève · ★5.0 · 1 bedroom · 2 beds · 1 bath",
           "Entire home/apt",
           3,
           265
          ],
          [
           "Villa in Vernier · ★4.82 · 1 bedroom · 1 bed · 1.5 shared baths",
           "Private room",
           1,
           40
          ],
          [
           "Rental unit in Carouge · ★4.80 · 3 bedrooms · 3 beds · 1 bath",
           "Entire home/apt",
           4,
           220
          ],
          [
           "Rental unit in Genève · ★5.0 · 1 bedroom · 1 bed · 1 bath",
           "Entire home/apt",
           1,
           120
          ],
          [
           "Vacation home in Genève · ★5.0 · 1 bedroom · 2 beds · 1.5 baths",
           "Entire home/apt",
           4,
           130
          ],
          [
           "Rental unit in Genève · ★4.47 · 1 bedroom · 1 bed · 1 bath",
           "Entire home/apt",
           2,
           101
          ],
          [
           "Condo in Genève · ★5.0 · 1 bedroom · 1 bed · 1 bath",
           "Entire home/apt",
           2,
           171
          ],
          [
           "Rental unit in Plan-les-Ouates · ★5.0 · 3 bedrooms · 4 beds · 2 baths",
           "Entire home/apt",
           6,
           351
          ],
          [
           "Rental unit in Genève · ★4.43 · 1 bedroom · 1 bed · 1 bath",
           "Entire home/apt",
           3,
           140
          ],
          [
           "Rental unit in Genève · ★4.67 · 1 bedroom · 1 bed · 1.5 shared baths",
           "Private room",
           2,
           82
          ],
          [
           "Rental unit in Genève · 1 bedroom · 1 bed · 1 bath",
           "Entire home/apt",
           2,
           131
          ],
          [
           "Rental unit in Genève · 1 bedroom · 1 bed · 1.5 baths",
           "Entire home/apt",
           2,
           135
          ],
          [
           "Rental unit in Genève · ★4.17 · 1 bedroom · 2 beds · 1 bath",
           "Entire home/apt",
           3,
           120
          ],
          [
           "Bed and breakfast in Vernier · ★4.86 · 1 bedroom · 1 bed · 1.5 shared baths",
           "Private room",
           2,
           60
          ],
          [
           "Bed and breakfast in Vernier · ★4.67 · 1 bedroom · 1 bed · 1 private bath",
           "Private room",
           1,
           38
          ],
          [
           "Bed and breakfast in Genève · ★4.98 · 1 bedroom · 1 bed · 1.5 shared baths",
           "Private room",
           1,
           61
          ],
          [
           "Bed and breakfast in Vernier · ★4.87 · 1 bedroom · 1 bed · 1.5 shared baths",
           "Private room",
           1,
           40
          ],
          [
           "Rental unit in Genève · ★4.90 · 1 bedroom · 1 bed · 1 bath",
           "Entire home/apt",
           3,
           117
          ],
          [
           "Rental unit in Genève · ★4.69 · 1 bedroom · 1 bed · 1 bath",
           "Entire home/apt",
           2,
           140
          ],
          [
           "Rental unit in Genève · ★New · 1 bedroom · 1 bed · 1 bath",
           "Entire home/apt",
           2,
           111
          ],
          [
           "Rental unit in Genève · ★5.0 · 1 bedroom · 1 bed · 1 bath",
           "Entire home/apt",
           2,
           114
          ],
          [
           "Rental unit in Genève · ★4.50 · 1 bedroom · 1 bed · 1 bath",
           "Entire home/apt",
           4,
           159
          ],
          [
           "Hotel in Genève · ★4.83 · 1 bedroom · 1 bed · 1 bath",
           "Private room",
           1,
           108
          ],
          [
           "Vacation home in Genève · ★4.58 · 2 bedrooms · 2 beds · 1 bath",
           "Entire home/apt",
           4,
           137
          ],
          [
           "Condo in Genève · 2 bedrooms · 3 beds · 1 bath",
           "Entire home/apt",
           6,
           170
          ],
          [
           "Rental unit in Genève · ★4.75 · 1 bedroom · 1 bed · 1 bath",
           "Entire home/apt",
           2,
           133
          ],
          [
           "Condo in Genève · 1 bedroom · 1 bed · 1 bath",
           "Entire home/apt",
           3,
           244
          ],
          [
           "Rental unit in Genève · ★4.90 · 1 bedroom · 1 bed · 1 bath",
           "Entire home/apt",
           2,
           70
          ],
          [
           "Rental unit in Genève · ★4.75 · 1 bedroom · 1 bed · 1 shared bath",
           "Private room",
           1,
           65
          ],
          [
           "Rental unit in Genève · ★4.52 · 1 bedroom · 1 bed · 1.5 shared baths",
           "Private room",
           1,
           67
          ],
          [
           "Condo in Vernier · 1 bedroom · 3 beds · 1 bath",
           "Entire home/apt",
           4,
           84
          ],
          [
           "Rental unit in Thônex · 1 bedroom · 1 bed · 1 shared bath",
           "Private room",
           2,
           72
          ],
          [
           "Bed and breakfast in Plan-les-Ouates · 1 bedroom · 2 beds · 1 private bath",
           "Private room",
           1,
           98
          ],
          [
           "Rental unit in Versoix · 1 bedroom · 1 bed · 1.5 baths",
           "Private room",
           2,
           80
          ],
          [
           "Rental unit in Genève · ★4.85 · 1 bedroom · 2 beds · 1.5 shared baths",
           "Private room",
           1,
           75
          ],
          [
           "Rental unit in Genève · ★4.31 · 2 bedrooms · 2 beds · 1 shared bath",
           "Private room",
           5,
           120
          ],
          [
           "Rental unit in Genève · 1 bedroom · 1 bed · 1 bath",
           "Entire home/apt",
           2,
           80
          ],
          [
           "Rental unit in Carouge · 1 bedroom · 1 bed · 1 bath",
           "Entire home/apt",
           2,
           110
          ],
          [
           "Rental unit in Genève · ★5.0 · 1 bedroom · 1 bed · 1 bath",
           "Entire home/apt",
           2,
           90
          ],
          [
           "Rental unit in Genève · ★5.0 · 4 bedrooms · 1 bed · 2.5 baths",
           "Entire home/apt",
           2,
           160
          ],
          [
           "Rental unit in Genève · ★4.71 · 1 bedroom · 1 bed · 1 shared bath",
           "Private room",
           2,
           80
          ],
          [
           "Rental unit in Genève · ★4.76 · 1 bedroom · 1 bed · 1 bath",
           "Entire home/apt",
           2,
           76
          ],
          [
           "Rental unit in Genève · ★4.86 · 1 bedroom · 1 bed · 1 private bath",
           "Private room",
           2,
           60
          ],
          [
           "Guesthouse in Le Grand-Saconnex · ★4.96 · 1 bedroom · 1 bed · 1.5 baths",
           "Entire home/apt",
           2,
           180
          ],
          [
           "Condo in Genève · 1 bedroom · 1 bed · 1 bath",
           "Entire home/apt",
           2,
           276
          ],
          [
           "Condo in Genève · 1 bedroom · 1 bed · 1 bath",
           "Entire home/apt",
           2,
           298
          ],
          [
           "Villa in Troinex · 4 bedrooms · 5 beds · 2.5 baths",
           "Entire home/apt",
           8,
           350
          ],
          [
           "Rental unit in Genève · ★4.67 · 1 bedroom · 1 bed · 1 bath",
           "Entire home/apt",
           1,
           90
          ],
          [
           "Condo in Genève · ★4.20 · Studio · 2 beds · 1 bath",
           "Entire home/apt",
           3,
           91
          ],
          [
           "Condo in Genève · ★4.78 · 2 bedrooms · 2 beds · 2 baths",
           "Entire home/apt",
           4,
           191
          ],
          [
           "Rental unit in Genève · ★3.33 · 1 bedroom · 1 bed · 1 bath",
           "Entire home/apt",
           2,
           98
          ],
          [
           "Rental unit in Chêne-Bougeries · 1 bedroom · 1 bed · 1 bath",
           "Entire home/apt",
           2,
           90
          ],
          [
           "Condo in Genève · ★5.0 · 1 bedroom · 1 bed · 1 bath",
           "Entire home/apt",
           2,
           173
          ],
          [
           "Condo in Chêne-Bourg · ★4.20 · 1 bedroom · 1 bed · 1 bath",
           "Entire home/apt",
           2,
           80
          ],
          [
           "Rental unit in Genève · ★4.40 · 1 bedroom · 2 beds · 1 bath",
           "Entire home/apt",
           2,
           93
          ],
          [
           "Rental unit in Genève · 1 bedroom · 1 bed · 1 bath",
           "Entire home/apt",
           2,
           100
          ],
          [
           "Rental unit in Genève · ★5.0 · 1 bedroom · 1 bed · 1.5 shared baths",
           "Private room",
           1,
           70
          ],
          [
           "Condo in Genève · ★5.0 · 1 bedroom · 1 bed · 1 shared bath",
           "Private room",
           1,
           75
          ],
          [
           "Rental unit in Genève · 1 bedroom · 1 bed · 1 bath",
           "Entire home/apt",
           2,
           117
          ],
          [
           "Rental unit in Genève · ★4.29 · 1 bedroom · 2 beds · 1 bath",
           "Entire home/apt",
           4,
           200
          ],
          [
           "Condo in Genève · ★4.54 · 1 bedroom · 2 beds · 1 bath",
           "Entire home/apt",
           4,
           163
          ],
          [
           "Rental unit in Genève · ★4.79 · 1 bedroom · 2 beds · 1 bath",
           "Entire home/apt",
           2,
           155
          ],
          [
           "Rental unit in Genève · ★4.0 · 1 bedroom · 1 bed · 1 bath",
           "Entire home/apt",
           2,
           116
          ],
          [
           "Rental unit in Genève · ★4.67 · 1 bedroom · 1 bed · 1 bath",
           "Entire home/apt",
           2,
           120
          ],
          [
           "Condo in Genève · ★5.0 · 1 bedroom · 4 beds · 1.5 baths",
           "Entire home/apt",
           4,
           108
          ],
          [
           "Rental unit in Genève · ★4.80 · 2 bedrooms · 2 beds · 1 bath",
           "Entire home/apt",
           4,
           124
          ],
          [
           "Rental unit in Genève · ★4.82 · 2 bedrooms · 2 beds · 1.5 baths",
           "Entire home/apt",
           4,
           173
          ],
          [
           "Home in Veyrier · ★5.0 · 1 bedroom · 1 bed · 1 shared bath",
           "Private room",
           1,
           60
          ],
          [
           "Rental unit in Genève · ★4.75 · 1 bedroom · 1 bed · 1 bath",
           "Entire home/apt",
           2,
           125
          ],
          [
           "Rental unit in Genève · ★5.0 · 2 bedrooms · 2 beds · 1 bath",
           "Entire home/apt",
           4,
           170
          ],
          [
           "Rental unit in Genève · ★4.79 · 1 bedroom · 1 bed · 1 bath",
           "Entire home/apt",
           2,
           85
          ],
          [
           "Rental unit in Genève · ★4.68 · 1 bedroom · 1 bed · 1 bath",
           "Entire home/apt",
           2,
           145
          ],
          [
           "Rental unit in Genève · 1 bedroom · 1 bed · 1 bath",
           "Entire home/apt",
           2,
           123
          ],
          [
           "Rental unit in Genève · ★4.55 · 1 bedroom · 1 bed · 1 bath",
           "Entire home/apt",
           1,
           85
          ],
          [
           "Rental unit in Genève · ★4.91 · 1 bedroom · 1 bed · 1 bath",
           "Entire home/apt",
           2,
           155
          ],
          [
           "Rental unit in Genève · 2 bedrooms · 2 beds · 1 bath",
           "Entire home/apt",
           3,
           190
          ],
          [
           "Rental unit in Genève · ★5.0 · 1 bedroom · 1 bed · 1 bath",
           "Entire home/apt",
           2,
           103
          ],
          [
           "Rental unit in Genève · ★4.79 · 1 bedroom · 2 beds · 1 bath",
           "Entire home/apt",
           3,
           150
          ],
          [
           "Loft in Genève · ★4.88 · 1 bedroom · 1 bed · 1 bath",
           "Entire home/apt",
           2,
           86
          ],
          [
           "Rental unit in Genève · ★5.0 · 1 bedroom · 2 beds · 1 bath",
           "Entire home/apt",
           2,
           100
          ],
          [
           "Rental unit in Genève · ★5.0 · 1 bedroom · 1 bed · 1.5 shared baths",
           "Shared room",
           1,
           60
          ],
          [
           "Condo in Genève · ★3.71 · 1 bedroom · 1 bed · 1 shared bath",
           "Private room",
           1,
           59
          ],
          [
           "casa particular in Onex · ★5.0 · 1 bedroom · 1 bed · 1 shared bath",
           "Private room",
           1,
           40
          ],
          [
           "Condo in Genève · 1 bedroom · 1 bed · 1 bath",
           "Entire home/apt",
           2,
           102
          ],
          [
           "Rental unit in Genève · ★3.33 · 1 bedroom · 2 beds · 1 bath",
           "Entire home/apt",
           4,
           149
          ],
          [
           "Rental unit in Genève · 1 bedroom · 1 bed · 1.5 shared baths",
           "Private room",
           2,
           55
          ],
          [
           "Rental unit in Genève · 1 bedroom · 2 beds · 1 bath",
           "Entire home/apt",
           4,
           245
          ],
          [
           "Rental unit in Genève · ★4.33 · 2 bedrooms · 2 beds · 2 baths",
           "Entire home/apt",
           4,
           646
          ],
          [
           "Rental unit in Genève · ★4.85 · Studio · 1 bed · 1 bath",
           "Entire home/apt",
           2,
           154
          ],
          [
           "Rental unit in Meinier · 2 bedrooms · 3 beds · 1 bath",
           "Entire home/apt",
           4,
           130
          ],
          [
           "Rental unit in Genève · ★4.64 · 1 bedroom · 1 bed · 1 shared bath",
           "Private room",
           1,
           67
          ],
          [
           "Rental unit in Genève · ★4.75 · 1 bedroom · 1 bed · 1 shared bath",
           "Private room",
           1,
           67
          ],
          [
           "Home in Vernier · ★4.25 · 1 bedroom · 1 bed · 1 bath",
           "Private room",
           2,
           72
          ],
          [
           "Rental unit in Genève · ★3.11 · 1 bedroom · 2 beds · 1.5 shared baths",
           "Private room",
           3,
           79
          ],
          [
           "Rental unit in Genève · ★4.0 · 2 bedrooms · 3 beds · 2 baths",
           "Entire home/apt",
           6,
           620
          ],
          [
           "Rental unit in Genève · ★4.86 · 1 bedroom · 1 bed · 1 shared bath",
           "Private room",
           2,
           110
          ],
          [
           "Rental unit in Genève · ★4.56 · 3 bedrooms · 3 beds · 1 bath",
           "Entire home/apt",
           4,
           150
          ],
          [
           "Condo in Genève · ★5.0 · 1 bedroom · 2 beds · 1 private bath",
           "Private room",
           2,
           70
          ],
          [
           "Rental unit in Genève · ★4.55 · 1 bedroom · 1 bed · 1 bath",
           "Entire home/apt",
           2,
           130
          ],
          [
           "Condo in Genève · ★4.75 · 4 bedrooms · 5 beds · 3 baths",
           "Entire home/apt",
           5,
           275
          ],
          [
           "Rental unit in Genève · ★4.55 · 1 bedroom · 1 bed · 1 bath",
           "Entire home/apt",
           1,
           85
          ],
          [
           "Rental unit in Versoix · Studio · 1 bed · 1 bath",
           "Entire home/apt",
           2,
           65
          ],
          [
           "Rental unit in Genève · ★4.93 · 1 bedroom · 1 bed · 1 bath",
           "Entire home/apt",
           2,
           129
          ],
          [
           "Rental unit in Genève · ★5.0 · 1 bedroom · 1 bed · 1.5 baths",
           "Entire home/apt",
           2,
           135
          ],
          [
           "Rental unit in Genève · ★4.67 · 1 bedroom · 1 bed · 1 bath",
           "Entire home/apt",
           2,
           105
          ],
          [
           "Rental unit in Genève · 1 bedroom · 1 bed · 1 bath",
           "Entire home/apt",
           2,
           180
          ],
          [
           "Rental unit in Genève · ★4.80 · 1 bedroom · 1 bed · 1 shared bath",
           "Private room",
           2,
           312
          ],
          [
           "Rental unit in Genève · 1 bedroom · 1 bed · 1 bath",
           "Entire home/apt",
           2,
           290
          ],
          [
           "Rental unit in Onex · 2 bedrooms · 2 beds · 1 bath",
           "Entire home/apt",
           3,
           161
          ],
          [
           "Condo in Genève · 2 bedrooms · 2 beds · 1 bath",
           "Entire home/apt",
           4,
           245
          ],
          [
           "Rental unit in Genève · ★4.56 · 1 bedroom · 2 beds · 1.5 baths",
           "Entire home/apt",
           4,
           250
          ],
          [
           "Rental unit in Genève · ★5.0 · 1 bedroom · 1 bed · 1 bath",
           "Entire home/apt",
           1,
           140
          ],
          [
           "Home in Thônex · 1 bedroom · 2 beds · 1.5 baths",
           "Private room",
           3,
           67
          ],
          [
           "Rental unit in Genève · 2 bedrooms · 2 beds · 1 bath",
           "Entire home/apt",
           4,
           120
          ],
          [
           "Rental unit in Genève · ★4.74 · 1 bedroom · 6 beds · 1 bath",
           "Entire home/apt",
           6,
           341
          ],
          [
           "Rental unit in Genève · ★4.44 · 1 bedroom · 4 beds · 1 bath",
           "Entire home/apt",
           4,
           160
          ],
          [
           "Guesthouse in Bernex · ★5.0 · 1 bedroom · 1 bed · 1 bath",
           "Entire home/apt",
           2,
           91
          ],
          [
           "Rental unit in Carouge · ★4.96 · 1 bedroom · 1 bed · 1 bath",
           "Entire home/apt",
           2,
           120
          ],
          [
           "Rental unit in Genève · ★4.92 · 1 bedroom · 1 bed · 1 bath",
           "Entire home/apt",
           2,
           89
          ],
          [
           "Rental unit in Genf · ★4.86 · 1 bedroom · 1 bed · 1 bath",
           "Entire home/apt",
           2,
           95
          ],
          [
           "Condo in Genève · ★4.80 · 1 bedroom · 1 bed · 1 bath",
           "Entire home/apt",
           2,
           120
          ],
          [
           "Rental unit in Carouge · 1 bedroom · 1 bed · 1 bath",
           "Entire home/apt",
           2,
           100
          ],
          [
           "Rental unit in Genève · ★4.67 · Studio · 1 bed · 1 bath",
           "Entire home/apt",
           2,
           87
          ],
          [
           "Rental unit in Le Grand-Saconnex · 3 bedrooms · 4 beds · 1.5 shared baths",
           "Private room",
           8,
           414
          ],
          [
           "Rental unit in Genève · Studio · 1 bed · 1 bath",
           "Entire home/apt",
           2,
           160
          ],
          [
           "Rental unit in Genève · ★4.86 · 1 bedroom · 1 bed · 1 shared bath",
           "Private room",
           2,
           64
          ],
          [
           "Rental unit in Genève · 1 bedroom · 1 bed · 1 bath",
           "Private room",
           2,
           68
          ],
          [
           "Rental unit in Genève · ★5.0 · 1 bedroom · 1 bed · 1 bath",
           "Entire home/apt",
           2,
           340
          ],
          [
           "Rental unit in Carouge · ★4.95 · 1 bedroom · 2 beds · 1 private bath",
           "Private room",
           2,
           58
          ],
          [
           "Rental unit in Chêne-Bougeries · ★4.75 · 2 bedrooms · 2 beds · 1 bath",
           "Entire home/apt",
           4,
           161
          ],
          [
           "Rental unit in Genève · ★5.0 · 1 bedroom · 1 bed · 1 bath",
           "Entire home/apt",
           1,
           50
          ],
          [
           "Rental unit in Genève · ★4.20 · 3 bedrooms · 2 beds · 2.5 baths",
           "Entire home/apt",
           4,
           100
          ],
          [
           "Rental unit in Genève · 1 bedroom · 1 bed · 1 bath",
           "Entire home/apt",
           2,
           128
          ],
          [
           "Rental unit in Genève · ★4.59 · 1 bedroom · 1 bed · 1 bath",
           "Entire home/apt",
           2,
           265
          ],
          [
           "Rental unit in Genève · ★4.69 · 2 bedrooms · 3 beds · 1 bath",
           "Entire home/apt",
           6,
           206
          ],
          [
           "Rental unit in Genève · ★4.95 · 1 bedroom · 1 bed · 1 bath",
           "Entire home/apt",
           2,
           150
          ],
          [
           "Rental unit in Genève · ★4.92 · 1 bedroom · 1 bed · 1.5 baths",
           "Entire home/apt",
           2,
           130
          ],
          [
           "Rental unit in Carouge · ★4.89 · 1 bedroom · 1 bed · 1 shared bath",
           "Private room",
           2,
           55
          ],
          [
           "Rental unit in Genève · ★4.63 · 1 bedroom · 1 bed · 1 bath",
           "Entire home/apt",
           2,
           111
          ],
          [
           "Condo in Genève · ★4.66 · 1 bedroom · 1 bed · 1 bath",
           "Entire home/apt",
           2,
           104
          ],
          [
           "Rental unit in Genève · ★4.68 · 1 bedroom · 1 bed · 1 shared bath",
           "Private room",
           1,
           65
          ],
          [
           "Rental unit in Carouge · ★4.72 · 1 bedroom · 1 bed · 1 shared bath",
           "Private room",
           2,
           84
          ],
          [
           "Townhouse in Cologny · 1 bedroom · 1 bed · 1 private bath",
           "Private room",
           2,
           155
          ],
          [
           "Rental unit in Genève · 1 bedroom · 1 bed · 1 bath",
           "Entire home/apt",
           2,
           112
          ],
          [
           "Rental unit in Genève · 2 bedrooms · 2 beds · 1 bath",
           "Entire home/apt",
           4,
           183
          ],
          [
           "Rental unit in Genève · ★4.88 · 1 bedroom · 1 bed · 1 shared bath",
           "Private room",
           1,
           117
          ],
          [
           "Condo in Genève · 1 bedroom · 1 bed · 1 bath",
           "Entire home/apt",
           4,
           295
          ],
          [
           "Rental unit in Genève · ★4.59 · Studio · 1 bed · 1 bath",
           "Entire home/apt",
           2,
           99
          ],
          [
           "Rental unit in Carouge · 1 bedroom · 1 bed · 1 bath",
           "Entire home/apt",
           2,
           112
          ],
          [
           "Rental unit in Chêne-Bougeries · 3 bedrooms · 3 beds · 2 baths",
           "Entire home/apt",
           5,
           200
          ],
          [
           "Rental unit in Chêne-Bougeries · 1 bedroom · 1 bed · 1 shared bath",
           "Private room",
           1,
           75
          ],
          [
           "Rental unit in Genève · ★New · 1 bedroom · 1 bed · 1 bath",
           "Entire home/apt",
           2,
           150
          ],
          [
           "Rental unit in Vernier · 2 bedrooms · 2 beds · 2 baths",
           "Entire home/apt",
           4,
           260
          ],
          [
           "Rental unit in Genève · ★4.76 · 1 bedroom · 1 bed · 1 bath",
           "Entire home/apt",
           2,
           75
          ],
          [
           "Rental unit in Genève · 1 bedroom · 1 bed · 1 bath",
           "Entire home/apt",
           2,
           120
          ],
          [
           "Rental unit in Genève · ★5.0 · 1 bedroom · 1 bed · 1 bath",
           "Entire home/apt",
           2,
           200
          ],
          [
           "casa particular in Genève · 1 bedroom · 1 bed · 1 shared bath",
           "Private room",
           1,
           85
          ],
          [
           "Rental unit in Genève · ★5.0 · 1 bedroom · 1 bed · 1 bath",
           "Entire home/apt",
           2,
           100
          ],
          [
           "Rental unit in Genève · 1 bedroom · 1 bed · 1 bath",
           "Entire home/apt",
           2,
           2000
          ],
          [
           "Rental unit in Genève · ★4.69 · 2 bedrooms · 3 beds · 1 bath",
           "Entire home/apt",
           6,
           200
          ],
          [
           "Rental unit in Vernier · ★5.0 · 1 bedroom · 1 bed · 1 bath",
           "Entire home/apt",
           2,
           155
          ],
          [
           "Rental unit in Genève · ★4.91 · 1 bedroom · 1 bed · 1 bath",
           "Entire home/apt",
           3,
           104
          ],
          [
           "Rental unit in Genève · ★4.85 · 1 bedroom · 1 bed · 1.5 baths",
           "Entire home/apt",
           2,
           130
          ],
          [
           "Rental unit in Genève · 4 bedrooms · 4 beds · 4 baths",
           "Entire home/apt",
           8,
           1585
          ],
          [
           "Rental unit in Lancy · 1 bedroom · 2 beds · 1.5 baths",
           "Entire home/apt",
           2,
           90
          ],
          [
           "Condo in Genève · ★4.43 · 1 bedroom · 1 bed · 1 bath",
           "Entire home/apt",
           2,
           85
          ],
          [
           "Rental unit in Genève · ★4.88 · 1 bedroom · 2 beds · 1 bath",
           "Entire home/apt",
           3,
           102
          ],
          [
           "Rental unit in Genève · ★4.35 · 1 bedroom · 2 beds · 1 bath",
           "Entire home/apt",
           4,
           125
          ],
          [
           "Condo in Bernex · ★5.0 · 2 bedrooms · 2 beds · 2 baths",
           "Entire home/apt",
           4,
           230
          ],
          [
           "Townhouse in Onex · 3 bedrooms · 3 beds · 2.5 baths",
           "Entire home/apt",
           5,
           330
          ],
          [
           "Rental unit in Genève · 1 bedroom · 1 bed · 1.5 baths",
           "Entire home/apt",
           4,
           435
          ],
          [
           "Home in Hermance · ★4.75 · 1 bedroom · 1 bed · 1 bath",
           "Entire home/apt",
           2,
           220
          ],
          [
           "Vacation home in Genève · ★4.33 · 1 bedroom · 2 beds · 1 bath",
           "Entire home/apt",
           2,
           117
          ],
          [
           "Rental unit in Genève · ★5.0 · 2 bedrooms · 2 beds · 2 baths",
           "Entire home/apt",
           3,
           215
          ],
          [
           "Rental unit in Genève · Studio · 1 bed · 1.5 baths",
           "Entire home/apt",
           3,
           70
          ],
          [
           "Rental unit in Genève · 1 bedroom · 2 beds · 1 bath",
           "Entire home/apt",
           4,
           100
          ],
          [
           "Rental unit in Genève · ★4.88 · 1 bedroom · 1 bed · 1 shared bath",
           "Private room",
           2,
           85
          ],
          [
           "Condo in Genève · ★4.76 · 1 bedroom · 1 bed · 1 bath",
           "Entire home/apt",
           1,
           95
          ],
          [
           "Rental unit in Genève · ★4.33 · 1 bedroom · 1 bed · 1 bath",
           "Entire home/apt",
           3,
           138
          ],
          [
           "Condo in Genève · 1 bedroom · 2 beds · 1 bath",
           "Entire home/apt",
           3,
           180
          ],
          [
           "casa particular in Lancy · ★5.0 · 1 bedroom · 1 bed · 1.5 shared baths",
           "Private room",
           2,
           65
          ],
          [
           "Rental unit in Corsier · ★5.0 · 1 bedroom · 1 bed · 1 bath",
           "Entire home/apt",
           2,
           106
          ],
          [
           "Rental unit in Genève · 1 bedroom · 1 bed · 1 bath",
           "Entire home/apt",
           2,
           85
          ],
          [
           "Rental unit in Genève · 2 bedrooms · 1 bed · 1.5 baths",
           "Entire home/apt",
           4,
           120
          ],
          [
           "Rental unit in Genève · ★4.60 · 1 bedroom · 1 bed · 1 bath",
           "Entire home/apt",
           3,
           150
          ],
          [
           "Rental unit in Genève · ★4.79 · 1 bedroom · 1 bed · 1 bath",
           "Entire home/apt",
           2,
           120
          ],
          [
           "Condo in Genève · ★5.0 · 1 bedroom · 1 bed · 1 bath",
           "Entire home/apt",
           2,
           150
          ],
          [
           "Home in Satigny · 1 bedroom · 1 bed · 1 private bath",
           "Private room",
           2,
           100
          ],
          [
           "Rental unit in Genève · ★5.0 · 1 bedroom · 1 bed · 2.5 baths",
           "Entire home/apt",
           2,
           100
          ],
          [
           "Rental unit in Genève · 4 bedrooms · 3 beds · 2 baths",
           "Entire home/apt",
           5,
           330
          ],
          [
           "Condo in Genève · ★4.84 · 1 bedroom · 1 bed · 1 bath",
           "Entire home/apt",
           1,
           100
          ],
          [
           "Rental unit in Genève · ★4.79 · Studio · 1 bed · 1 bath",
           "Entire home/apt",
           2,
           75
          ],
          [
           "Rental unit in Genève · ★4.66 · Studio · 1 bed · 1 bath",
           "Entire home/apt",
           2,
           110
          ],
          [
           "Rental unit in Genthod · ★5.0 · 1 bedroom · 1 bed · 1 bath",
           "Entire home/apt",
           2,
           75
          ],
          [
           "Rental unit in Genève · 1 bedroom · 1 bed · 1 shared bath",
           "Private room",
           1,
           81
          ],
          [
           "Rental unit in Genève · 1 bedroom · 1 bed · 1 bath",
           "Entire home/apt",
           3,
           180
          ],
          [
           "Home in Veyrier · ★4.94 · 1 bedroom · 1 bed · 1 shared bath",
           "Private room",
           1,
           60
          ],
          [
           "Rental unit in Genève · ★4.80 · 1 bedroom · 2 beds · 1 bath",
           "Entire home/apt",
           2,
           130
          ],
          [
           "Rental unit in Geneva · 1 bedroom · 2 beds · 1 bath",
           "Entire home/apt",
           4,
           190
          ],
          [
           "Condo in Genève · ★4.82 · 1 bedroom · 1 bed · 1 bath",
           "Entire home/apt",
           2,
           115
          ],
          [
           "Home in Avully · ★5.0 · 4 bedrooms · 4 beds · 2.5 baths",
           "Entire home/apt",
           7,
           286
          ],
          [
           "Rental unit in Genève · ★5.0 · 1 bedroom · 2 beds · 1.5 baths",
           "Entire home/apt",
           2,
           120
          ],
          [
           "Villa in Thônex · 1 bedroom · 2 beds · 1 private bath",
           "Private room",
           2,
           79
          ],
          [
           "Condo in Hermance · 1 bedroom · 2 beds · 1 bath",
           "Entire home/apt",
           4,
           450
          ],
          [
           "Condo in Genève · ★4.75 · 1 bedroom · 1 bed · 1 bath",
           "Entire home/apt",
           3,
           101
          ],
          [
           "Home in Chêne-Bourg · 2 bedrooms · 2 beds · 2 baths",
           "Entire home/apt",
           4,
           140
          ],
          [
           "Rental unit in Vernier · ★5.0 · 1 bedroom · 1 bed · 1 shared bath",
           "Private room",
           1,
           53
          ],
          [
           "Rental unit in Genève · ★4.85 · 1 bedroom · 1 bed · 1 shared bath",
           "Private room",
           1,
           56
          ],
          [
           "Villa in Plan-les-Ouates · ★4.33 · 3 bedrooms · 3 beds · 2 baths",
           "Entire home/apt",
           4,
           250
          ],
          [
           "Rental unit in Versoix · 1 bedroom · 1 bed · 1 bath",
           "Entire home/apt",
           4,
           150
          ],
          [
           "Condo in Genève · ★4.44 · 2 bedrooms · 2 beds · 1 bath",
           "Entire home/apt",
           4,
           200
          ],
          [
           "Rental unit in Versoix · ★4.80 · 1 bedroom · 1 bed · 1 shared bath",
           "Private room",
           2,
           351
          ],
          [
           "Rental unit in Genève · ★4.83 · 2 bedrooms · 3 beds · 1.5 baths",
           "Entire home/apt",
           4,
           165
          ],
          [
           "Rental unit in Genève · ★5.0 · 2 bedrooms · 3 beds · 1 bath",
           "Entire home/apt",
           4,
           287
          ],
          [
           "Rental unit in Versoix · ★5.0 · 1 bedroom · 1 bed · 1 shared bath",
           "Private room",
           2,
           351
          ],
          [
           "Rental unit in Genève · 2 bedrooms · 1 bed · 1 bath",
           "Entire home/apt",
           4,
           175
          ],
          [
           "Rental unit in Genève · ★5.0 · 2 bedrooms · 2 beds · 1.5 baths",
           "Entire home/apt",
           4,
           365
          ],
          [
           "Condo in Troinex · 2 bedrooms · 2 beds · 2 baths",
           "Entire home/apt",
           4,
           450
          ],
          [
           "Rental unit in Genève · ★5.0 · 3 bedrooms · 3 beds · 1.5 baths",
           "Entire home/apt",
           4,
           380
          ],
          [
           "Rental unit in Genève · ★5.0 · 1 bedroom · 1 bed · 1 shared bath",
           "Private room",
           1,
           80
          ],
          [
           "Condo in Genève · ★4.71 · 1 bedroom · 2 beds · 1 shared bath",
           "Private room",
           2,
           80
          ],
          [
           "Rental unit in Genève · 1 bedroom · 1 bed · 1 bath",
           "Entire home/apt",
           2,
           118
          ],
          [
           "Rental unit in Genève · 2 bedrooms · 3 beds · 1 bath",
           "Entire home/apt",
           4,
           172
          ],
          [
           "Rental unit in Genève · 1 bedroom · 1 bed · 1 bath",
           "Entire home/apt",
           2,
           128
          ],
          [
           "Condo in Genève · ★4.73 · 1 bedroom · 2 beds · 1 bath",
           "Entire home/apt",
           2,
           105
          ],
          [
           "Rental unit in Genève · 1 bedroom · 1 bed · 1 bath",
           "Entire home/apt",
           2,
           74
          ],
          [
           "Rental unit in Genève · 1 bedroom · 1 bed · 1 bath",
           "Entire home/apt",
           2,
           130
          ],
          [
           "Rental unit in Genève · 1 bedroom · 1 bed · 1 bath",
           "Entire home/apt",
           2,
           130
          ],
          [
           "Condo in Genève · ★4.67 · 2 bedrooms · 2 beds · 1.5 baths",
           "Entire home/apt",
           3,
           162
          ],
          [
           "Serviced apartment in Genève · ★4.75 · 1 bedroom · 2 beds · 1 bath",
           "Entire home/apt",
           1,
           100
          ],
          [
           "Rental unit in Genève · 1 bedroom · 1 bed · 1 bath",
           "Entire home/apt",
           2,
           200
          ],
          [
           "Rental unit in Genève · ★4.38 · 1 bedroom · 1 bed · 1 bath",
           "Entire home/apt",
           2,
           100
          ],
          [
           "Condo in Genève · ★4.50 · 1 bedroom · 1 bed · 1.5 baths",
           "Entire home/apt",
           2,
           125
          ],
          [
           "Rental unit in Genève · 1 bedroom · 1 bed · 1 bath",
           "Entire home/apt",
           2,
           96
          ],
          [
           "Rental unit in Genève · ★4.22 · 1 bedroom · 1 bed · 1 bath",
           "Private room",
           2,
           85
          ],
          [
           "Rental unit in Genève · ★4.33 · Studio · 1 bed · 1 bath",
           "Entire home/apt",
           2,
           80
          ],
          [
           "Rental unit in Versoix · ★4.50 · 1 bedroom · 1 bath",
           "Entire home/apt",
           3,
           135
          ],
          [
           "Rental unit in Veyrier · ★4.49 · 2 bedrooms · 3 beds · 1 bath",
           "Entire home/apt",
           8,
           149
          ],
          [
           "Rental unit in Genève · 1 bedroom · 1 bed · 1 bath",
           "Entire home/apt",
           2,
           102
          ],
          [
           "Rental unit in Genève · ★5.0 · 1 bedroom · 2 beds · 1 bath",
           "Entire home/apt",
           2,
           97
          ],
          [
           "Bed and breakfast in Le Grand-Saconnex · ★4.70 · 1 bedroom · 1 bed · 1 shared bath",
           "Private room",
           2,
           85
          ],
          [
           "Loft in Versoix · 1 bedroom · 1 bed · 1 shared bath",
           "Private room",
           1,
           54
          ],
          [
           "Rental unit in Genève · ★4.93 · 1 bedroom · 1 bed · 1 bath",
           "Entire home/apt",
           2,
           175
          ],
          [
           "Bed and breakfast in Le Grand-Saconnex · ★4.76 · 1 bedroom · 1 bed · 1 shared bath",
           "Private room",
           2,
           65
          ],
          [
           "Rental unit in Genève · 2 bedrooms · 2 beds · 1 bath",
           "Entire home/apt",
           4,
           109
          ],
          [
           "Rental unit in Genève · ★3.96 · Studio · 1 bed · 1 bath",
           "Entire home/apt",
           2,
           120
          ],
          [
           "Rental unit in Petit-Lancy · 1 bedroom · 1 bed · 1 bath",
           "Entire home/apt",
           4,
           101
          ],
          [
           "Rental unit in Genève · 1 bedroom · 1 bed · 1.5 baths",
           "Entire home/apt",
           2,
           70
          ],
          [
           "Rental unit in Genève · ★4.55 · 1 bedroom · 2 beds · 1 private bath",
           "Private room",
           2,
           80
          ],
          [
           "Rental unit in Genève · ★4.65 · Studio · 1 bed · 1 bath",
           "Entire home/apt",
           4,
           101
          ],
          [
           "Bed and breakfast in Genève · ★4.86 · 1 bedroom · 2 beds · 1 shared bath",
           "Private room",
           3,
           55
          ],
          [
           "Home in Collex-Bossy · 1 bedroom · 1 bed · 1 private bath",
           "Private room",
           1,
           65
          ],
          [
           "Rental unit in Genève · ★4.40 · 1 bedroom · 1 bed · 1 bath",
           "Entire home/apt",
           2,
           105
          ],
          [
           "Rental unit in Le Grand-Saconnex · ★5.0 · 1 bedroom · 1 bed · 1 shared bath",
           "Private room",
           1,
           113
          ],
          [
           "Rental unit in Carouge · ★5.0 · 1 bedroom · 1 bed · 1 bath",
           "Entire home/apt",
           3,
           120
          ],
          [
           "Condo in Genève · ★4.86 · 1 bedroom · 1 bed · 1.5 baths",
           "Entire home/apt",
           3,
           302
          ],
          [
           "Rental unit in Genève · ★4.82 · 1 bedroom · 2 beds · 1 bath",
           "Entire home/apt",
           2,
           103
          ],
          [
           "Rental unit in Genève · 1 bedroom · 1 bed · 1 bath",
           "Entire home/apt",
           2,
           80
          ],
          [
           "Rental unit in Genève · ★4.80 · 1 bedroom · 1 bed · 1 bath",
           "Entire home/apt",
           4,
           199
          ],
          [
           "Condo in Genève · ★4.80 · 1 bedroom · 2 beds · 1 bath",
           "Entire home/apt",
           2,
           121
          ],
          [
           "Rental unit in Genève · ★4.89 · 2 bedrooms · 1 bed · 1 bath",
           "Entire home/apt",
           4,
           163
          ],
          [
           "Rental unit in Genève · ★5.0 · 1 bedroom · 1 bed · 1 shared bath",
           "Private room",
           1,
           60
          ],
          [
           "Condo in Genève · ★4.89 · 1 bedroom · 1 bed · 1 bath",
           "Entire home/apt",
           2,
           210
          ],
          [
           "Rental unit in Genève · ★4.0 · 1 bedroom · 1 bed · 1 bath",
           "Entire home/apt",
           2,
           92
          ],
          [
           "Rental unit in Chêne-Bougeries · 2 bedrooms · 1 bed · 2 baths",
           "Entire home/apt",
           4,
           110
          ],
          [
           "Condo in Genève · ★4.33 · 1 bedroom · 1 bed · 1 bath",
           "Entire home/apt",
           2,
           93
          ],
          [
           "Condo in Genève · 1 bedroom · 1 bed · 1 bath",
           "Entire home/apt",
           2,
           150
          ],
          [
           "Rental unit in Genève · ★4.75 · 1 bedroom · 1 bed · 1 bath",
           "Entire home/apt",
           2,
           110
          ],
          [
           "Home in Collex-Bossy · 1 bedroom · 1 bed · 1 bath",
           "Private room",
           1,
           73
          ],
          [
           "Rental unit in Genève · ★4.91 · 1 bedroom · 1 bed · 1.5 baths",
           "Entire home/apt",
           2,
           152
          ],
          [
           "Rental unit in Collonge-Bellerive · 1 bedroom · 1 bed · 1.5 shared baths",
           "Private room",
           1,
           200
          ],
          [
           "Condo in Genève · ★5.0 · 2 bedrooms · 3 beds · 1.5 baths",
           "Entire home/apt",
           3,
           150
          ],
          [
           "Home in Genève · ★4.92 · 1 bedroom · 2 beds · 1 private bath",
           "Private room",
           2,
           68
          ],
          [
           "Rental unit in Carouge · 3 bedrooms · 3 beds · 2 baths",
           "Entire home/apt",
           6,
           300
          ],
          [
           "Rental unit in Genève · ★5.0 · 1 bedroom · 1 bed · 1 bath",
           "Entire home/apt",
           2,
           110
          ],
          [
           "Rental unit in Genève · ★3.80 · 1 bedroom · 1 bed · 1 bath",
           "Entire home/apt",
           2,
           120
          ],
          [
           "Condo in Genève · ★3.75 · 2 bedrooms · 1 bed · 1 bath",
           "Entire home/apt",
           4,
           230
          ],
          [
           "Rental unit in Genève · ★4.83 · 1 bedroom · 2 beds · 1.5 baths",
           "Private room",
           2,
           99
          ],
          [
           "Bed and breakfast in Genève · ★4.33 · 1 bedroom · 1 bed · 1 shared bath",
           "Private room",
           2,
           119
          ],
          [
           "Rental unit in Jussy · ★4.93 · 1 bedroom · 1 bed · 1 bath",
           "Entire home/apt",
           2,
           65
          ],
          [
           "Rental unit in Genève · ★5.0 · Studio · 1 bed · 1.5 baths",
           "Private room",
           2,
           80
          ],
          [
           "Rental unit in Genève · Studio · 1 bed · 1 bath",
           "Entire home/apt",
           2,
           169
          ],
          [
           "Rental unit in Genève · ★4.88 · 1 bedroom · 1 bed · 1.5 shared baths",
           "Private room",
           1,
           68
          ],
          [
           "Condo in Plan-les-Ouates · ★4.50 · 3 bedrooms · 4 beds · 2 baths",
           "Entire home/apt",
           5,
           140
          ],
          [
           "Rental unit in Genève · 1 bedroom · 1 bed · 1 private bath",
           "Private room",
           1,
           115
          ],
          [
           "Condo in Genève · ★5.0 · 3 bedrooms · 3 beds · 2.5 baths",
           "Entire home/apt",
           5,
           495
          ],
          [
           "Rental unit in Genève · ★5.0 · 1 bedroom · 2 beds · 1 bath",
           "Entire home/apt",
           4,
           159
          ],
          [
           "Condo in Plan-les-Ouates · 1 bedroom · 1 bed · 1 shared bath",
           "Private room",
           1,
           45
          ],
          [
           "Rental unit in Genève · ★4.44 · 1 bedroom · 1 bed · 1 bath",
           "Entire home/apt",
           2,
           75
          ],
          [
           "Rental unit in Genève · ★4.89 · 1 bedroom · 1 bed · 1 shared bath",
           "Private room",
           2,
           80
          ],
          [
           "Rental unit in Genève · 1 bedroom · 1 bed · 1 bath",
           "Entire home/apt",
           2,
           120
          ],
          [
           "Rental unit in Genève · ★5.0 · 1 bedroom · 1 bed · 1 shared bath",
           "Private room",
           2,
           48
          ],
          [
           "Bed and breakfast in Cologny · 1 bedroom · 1 bed · 1 private bath",
           "Private room",
           2,
           195
          ],
          [
           "Rental unit in Genève · ★4.60 · 1 bedroom · 1 bed · 1 shared bath",
           "Private room",
           2,
           99
          ],
          [
           "Bed and breakfast in Cologny · 1 bedroom · 1 bed · 1 private bath",
           "Private room",
           2,
           204
          ],
          [
           "Home in Plan-les-Ouates · ★4.84 · 2 bedrooms · 3 beds · 1 bath",
           "Entire home/apt",
           4,
           135
          ],
          [
           "Rental unit in Genève · 2 bedrooms · 2 beds · 1.5 baths",
           "Entire home/apt",
           4,
           200
          ],
          [
           "Rental unit in Lancy · 1 bedroom · 1 bed · 1 shared bath",
           "Private room",
           1,
           55
          ],
          [
           "Villa in Cologny · 5 bedrooms · 5 beds · 5 baths",
           "Entire home/apt",
           10,
           8000
          ],
          [
           "Rental unit in Genève · 1 bedroom · 1 bed · 1 bath",
           "Entire home/apt",
           2,
           150
          ],
          [
           "Rental unit in Genève · ★4.62 · 1 bedroom · 2 beds · 1 bath",
           "Entire home/apt",
           4,
           198
          ],
          [
           "Rental unit in Genève · 3 bedrooms · 5 beds · 2.5 baths",
           "Entire home/apt",
           6,
           340
          ],
          [
           "Rental unit in Genève · ★4.44 · 1 bedroom · 1 bed · 1 bath",
           "Entire home/apt",
           2,
           80
          ],
          [
           "Rental unit in Genève · ★4.59 · 1 bedroom · 1 bed · 1 bath",
           "Entire home/apt",
           2,
           95
          ],
          [
           "Rental unit in Genève · ★5.0 · 2 bedrooms · 2 beds · 1 bath",
           "Entire home/apt",
           4,
           409
          ],
          [
           "Condo in Genève · ★4.50 · 1 bedroom · 1 bed · 1 bath",
           "Entire home/apt",
           2,
           125
          ],
          [
           "Rental unit in Genève · ★4.86 · 1 bedroom · 1 bed · 1 bath",
           "Entire home/apt",
           2,
           115
          ],
          [
           "Bed and breakfast in Genève · ★4.87 · 1 bedroom · 1 bed · 1 shared bath",
           "Private room",
           1,
           60
          ],
          [
           "Rental unit in Genève · ★4.73 · 1 bedroom · 1 bed · 1 bath",
           "Entire home/apt",
           2,
           96
          ],
          [
           "Rental unit in Genève · 1 bedroom · 1 bed · 1 shared bath",
           "Private room",
           1,
           75
          ],
          [
           "Rental unit in Genève · ★4.67 · 1 bedroom · 1 bed · 1 shared bath",
           "Private room",
           2,
           50
          ],
          [
           "Rental unit in Genève · ★4.90 · 2 bedrooms · 2 beds · 1 bath",
           "Entire home/apt",
           2,
           129
          ],
          [
           "Rental unit in Genève · 1 bedroom · 2 beds · 1 bath",
           "Entire home/apt",
           4,
           110
          ],
          [
           "Rental unit in Genève · ★5.0 · 1 bedroom · 1 bed · 1.5 shared baths",
           "Private room",
           1,
           60
          ],
          [
           "Rental unit in Genève · ★4.83 · 2 bedrooms · 2 beds · 2 baths",
           "Entire home/apt",
           3,
           631
          ],
          [
           "Rental unit in Genève · 1 bedroom · 1 bed · 1.5 baths",
           "Entire home/apt",
           2,
           260
          ],
          [
           "Condo in Genève · 1 bedroom · 1 bed · 2.5 baths",
           "Entire home/apt",
           4,
           180
          ],
          [
           "casa particular in Genève · 1 bed · 1 bath",
           "Entire home/apt",
           3,
           495
          ],
          [
           "Condo in Chêne-Bougeries · 1 bedroom · 2 beds · 1 private bath",
           "Private room",
           4,
           120
          ],
          [
           "casa particular in Chêne-Bougeries · 1 bedroom · 1 bed · 1 private bath",
           "Private room",
           2,
           100
          ],
          [
           "Bed and breakfast in Genève · ★4.46 · 1 bedroom · 1 bed · 1.5 shared baths",
           "Private room",
           2,
           108
          ],
          [
           "Rental unit in Genève · ★4.59 · 2 bedrooms · 2 beds · 1 bath",
           "Entire home/apt",
           5,
           182
          ],
          [
           "Rental unit in Genève · Studio · 1 bed · 1 bath",
           "Entire home/apt",
           1,
           180
          ],
          [
           "Rental unit in Genève · 1 bedroom · 1 bed · 1 shared bath",
           "Private room",
           2,
           132
          ],
          [
           "Bed and breakfast in Genève · ★4.53 · 1 bedroom · 1 bed · 1.5 shared baths",
           "Private room",
           2,
           108
          ],
          [
           "Bed and breakfast in Genève · ★4.82 · 1 bedroom · 1 bed · 1.5 shared baths",
           "Private room",
           2,
           108
          ],
          [
           "Bed and breakfast in Genève · ★4.57 · 1 bedroom · 1 bed · 1.5 shared baths",
           "Private room",
           2,
           108
          ],
          [
           "Rental unit in Meyrin · 1 bedroom · 1 bed · 1 shared bath",
           "Private room",
           1,
           58
          ],
          [
           "Rental unit in Genève · 1 bedroom · 1 bed · 1 private bath",
           "Private room",
           1,
           100
          ],
          [
           "Home in Versoix · 1 bedroom · 1 bed · 1 shared bath",
           "Private room",
           1,
           80
          ],
          [
           "Rental unit in Gaillard · ★4.90 · 1 bedroom · 2 beds · 1 bath",
           "Entire home/apt",
           4,
           86
          ],
          [
           "Rental unit in Genève · ★3.67 · 1 bedroom · 1 bed · 1 bath",
           "Entire home/apt",
           4,
           84
          ],
          [
           "Rental unit in Genève · ★4.48 · 1 bedroom · 1 bed · 1 bath",
           "Entire home/apt",
           4,
           200
          ],
          [
           "Condo in Chêne-Bougeries · 1 bedroom · 1 bed · 2 baths",
           "Entire home/apt",
           4,
           135
          ],
          [
           "Rental unit in Genève · ★5.0 · Studio · 2 beds · 1 bath",
           "Entire home/apt",
           2,
           180
          ],
          [
           "Rental unit in Genève · ★4.57 · 1 bedroom · 1 bed · 1 bath",
           "Entire home/apt",
           2,
           150
          ],
          [
           "Rental unit in Genève · ★4.50 · 1 bedroom · 1 bed · 1 bath",
           "Entire home/apt",
           2,
           120
          ],
          [
           "Condo in Genève · ★4.33 · 3 bedrooms · 3 beds · 1.5 baths",
           "Entire home/apt",
           4,
           260
          ],
          [
           "Rental unit in Chêne-Bougeries · 1 bedroom · 1 bed · 1 private bath",
           "Private room",
           4,
           1000
          ],
          [
           "Rental unit in Genève · ★3.75 · 1 bedroom · 1 bed · 1 shared bath",
           "Private room",
           2,
           74
          ],
          [
           "Camper/RV in Chêne-Bougeries · 1 bedroom · 2 beds · 1 bath",
           "Entire home/apt",
           4,
           153
          ],
          [
           "Rental unit in Meyrin · Studio · 1 bed · 1 bath",
           "Entire home/apt",
           3,
           100
          ],
          [
           "Rental unit in Genève · 2 bedrooms · 1 bed · 2 shared baths",
           "Private room",
           2,
           153
          ],
          [
           "Rental unit in Genève · ★4.52 · 1 bedroom · 1 bed · 1 bath",
           "Entire home/apt",
           2,
           183
          ],
          [
           "Loft in Genève · 1 bedroom · 1 bed · 1 bath",
           "Entire home/apt",
           2,
           100
          ],
          [
           "Rental unit in Genève · 2 bedrooms · 1 bed · 1 bath",
           "Entire home/apt",
           4,
           180
          ],
          [
           "Place to stay in Genève · ★4.86 · 1 bedroom · 1 bed · 2 baths",
           "Entire home/apt",
           2,
           116
          ],
          [
           "Condo in Genève · ★4.85 · 1 bedroom · 2 beds · 1 bath",
           "Entire home/apt",
           4,
           141
          ],
          [
           "Rental unit in Genève · ★4.32 · 1 bedroom · 1 bed · 1 bath",
           "Entire home/apt",
           2,
           100
          ],
          [
           "Rental unit in Genève · 4 bedrooms · 4 beds · 4 baths",
           "Entire home/apt",
           8,
           5000
          ],
          [
           "Rental unit in Genève · 2 bedrooms · 2 beds · 2 baths",
           "Entire home/apt",
           4,
           500
          ],
          [
           "Rental unit in Genève · ★4.86 · 2 bedrooms · 3 beds · 1 bath",
           "Entire home/apt",
           5,
           244
          ],
          [
           "Rental unit in Genève · ★4.96 · 1 bedroom · 1 bed · 1 bath",
           "Entire home/apt",
           2,
           100
          ],
          [
           "Rental unit in Genève · 2 bedrooms · 1 bed · 1 bath",
           "Entire home/apt",
           2,
           80
          ],
          [
           "Rental unit in Genève · ★4.71 · 2 bedrooms · 2 beds · 2 baths",
           "Entire home/apt",
           3,
           200
          ],
          [
           "Boat in Bellevue · 1 bedroom · 1 bed · 1 bath",
           "Entire home/apt",
           9,
           6500
          ],
          [
           "Rental unit in Genève · ★4.86 · 2 bedrooms · 3 beds · 1 bath",
           "Entire home/apt",
           6,
           311
          ],
          [
           "Rental unit in Genève · 1 bedroom · 1 bed · 1 shared bath",
           "Private room",
           2,
           141
          ],
          [
           "Rental unit in Genève · ★4.78 · 1 bedroom · 1 bed · 1 bath",
           "Entire home/apt",
           2,
           166
          ],
          [
           "Home in Bellevue · 5 bedrooms · 7 beds · 4.5 baths",
           "Entire home/apt",
           12,
           25000
          ],
          [
           "Rental unit in Genève · 1 bedroom · 1 bed · 1 bath",
           "Entire home/apt",
           2,
           100
          ],
          [
           "Rental unit in Genève · 1 bedroom · 1 bed · 1 shared bath",
           "Private room",
           2,
           152
          ],
          [
           "Rental unit in Genève · 1 bedroom · 2 beds · 1 bath",
           "Entire home/apt",
           4,
           130
          ],
          [
           "Rental unit in Thônex · ★4.75 · 1 bedroom · 1 bed · 1 bath",
           "Private room",
           1,
           38
          ],
          [
           "Rental unit in Genève · 1 bedroom · 1 bed · 1 bath",
           "Entire home/apt",
           2,
           123
          ],
          [
           "Rental unit in Versoix · 1 bedroom · 1 bed · 1 private bath",
           "Private room",
           1,
           80
          ],
          [
           "Rental unit in Genève · 1 bedroom · 1 bed · 1 shared bath",
           "Private room",
           3,
           65
          ],
          [
           "Rental unit in Genève · 1 bedroom · 1 bed · 1 bath",
           "Entire home/apt",
           1,
           129
          ],
          [
           "Rental unit in Le Grand-Saconnex · ★5.0 · 2 bedrooms · 2 beds · 1.5 baths",
           "Entire home/apt",
           3,
           300
          ],
          [
           "Rental unit in Genève · ★5.0 · 1 bedroom · 1 bed · 1 shared bath",
           "Private room",
           1,
           66
          ],
          [
           "Rental unit in Genève · ★4.57 · 3 bedrooms · 3 beds · 1 bath",
           "Entire home/apt",
           6,
           200
          ],
          [
           "Rental unit in Genève · ★4.86 · 1 bedroom · 1 bed · 1 bath",
           "Entire home/apt",
           2,
           113
          ],
          [
           "Rental unit in Genève · ★4.59 · 1 bedroom · 2 beds · 1 bath",
           "Entire home/apt",
           4,
           141
          ],
          [
           "Rental unit in Genève · 1 bedroom · 1 bed · 1 shared bath",
           "Private room",
           2,
           110
          ],
          [
           "Rental unit in Genève · 1 bedroom · 1 bed · 1 bath",
           "Entire home/apt",
           2,
           145
          ],
          [
           "Rental unit in Genève · ★4.50 · 2 bedrooms · 2 beds · 2.5 baths",
           "Entire home/apt",
           4,
           299
          ],
          [
           "Rental unit in Genève · 1 bedroom · 1 bed · 1.5 shared baths",
           "Private room",
           2,
           88
          ],
          [
           "Rental unit in Genève · ★4.64 · 2 bedrooms · 2 beds · 2 baths",
           "Entire home/apt",
           4,
           247
          ],
          [
           "Rental unit in Genève · ★4.95 · 1 bedroom · 1 bed · 1 bath",
           "Entire home/apt",
           2,
           140
          ],
          [
           "Home in Genthod · ★4.43 · 3 bedrooms · 5 beds · 1.5 baths",
           "Entire home/apt",
           5,
           200
          ],
          [
           "Rental unit in Genève · 1 bedroom · 1 bed · 1 bath",
           "Entire home/apt",
           2,
           210
          ],
          [
           "Rental unit in Genève · 1 bedroom · 2 beds · 1 shared bath",
           "Shared room",
           1,
           25
          ],
          [
           "Rental unit in Genève · 1 bedroom · 1 bed · 1.5 shared baths",
           "Private room",
           2,
           70
          ],
          [
           "Rental unit in Lancy · ★4.88 · 1 bedroom · 1 bed · 1 bath",
           "Entire home/apt",
           2,
           118
          ],
          [
           "Bed and breakfast in Genève · ★4.87 · 1 bedroom · 1 bed · 1 shared bath",
           "Private room",
           1,
           67
          ],
          [
           "Rental unit in Genève · ★4.0 · 1 bedroom · 1 bed · 1 bath",
           "Entire home/apt",
           4,
           143
          ],
          [
           "Rental unit in Genève · 1 bedroom · 1 bed · 1 bath",
           "Entire home/apt",
           2,
           135
          ],
          [
           "Rental unit in Chêne-Bougeries · 1 bedroom · 1 bed · 1 bath",
           "Entire home/apt",
           2,
           433
          ],
          [
           "Rental unit in Genève · 2 bedrooms · 2 beds · 1 bath",
           "Entire home/apt",
           4,
           250
          ],
          [
           "Rental unit in Genève · ★5.0 · 2 bedrooms · 2 beds · 2 baths",
           "Entire home/apt",
           3,
           220
          ],
          [
           "Rental unit in Versoix · 1 bedroom · 2 beds · 2 baths",
           "Entire home/apt",
           2,
           145
          ],
          [
           "Home in Thônex · 1 bedroom · 1 bed · 1 shared bath",
           "Private room",
           1,
           75
          ],
          [
           "Rental unit in Genève · ★5.0 · 1 bedroom · 1 bed · 1 bath",
           "Entire home/apt",
           2,
           170
          ],
          [
           "Rental unit in Genève · 2 bedrooms · 3 beds · 1.5 baths",
           "Entire home/apt",
           3,
           125
          ],
          [
           "Rental unit in Genève · ★4.71 · 1 bedroom · 1 bed · 1 bath",
           "Entire home/apt",
           2,
           87
          ],
          [
           "Rental unit in Genève · 1 bedroom · 1 bed · 1 bath",
           "Entire home/apt",
           4,
           150
          ],
          [
           "Bed and breakfast in Le Grand-Saconnex · 1 bedroom · 1 bed · 1.5 shared baths",
           "Private room",
           2,
           109
          ],
          [
           "Rental unit in Genève · ★5.0 · 1 bedroom · 1 bed · 1 bath",
           "Entire home/apt",
           2,
           120
          ],
          [
           "Rental unit in Genève · ★4.0 · 1 bedroom · 1 bed · 1.5 baths",
           "Entire home/apt",
           3,
           140
          ],
          [
           "Condo in Vernier · ★4.75 · 1 bedroom · 1 bed · 1 private bath",
           "Private room",
           3,
           76
          ],
          [
           "Rental unit in Genève · 2 bedrooms · 2 beds · 1 bath",
           "Entire home/apt",
           4,
           163
          ],
          [
           "Rental unit in Ville-la-Grand · 2 bedrooms · 3 beds · 1 bath",
           "Entire home/apt",
           4,
           87
          ],
          [
           "Rental unit in Bernex · 1 bedroom · 1 bed · 1 bath",
           "Entire home/apt",
           3,
           50
          ],
          [
           "Rental unit in Genève · ★5.0 · 1 bedroom · 1 bed · 1 shared bath",
           "Private room",
           2,
           62
          ],
          [
           "Rental unit in Genève · 1 bedroom · 1 bed · 1 bath",
           "Entire home/apt",
           1,
           97
          ],
          [
           "Rental unit in Genève · 1 bedroom · 1 bed · 1 shared bath",
           "Private room",
           2,
           120
          ],
          [
           "Rental unit in Genève · ★5.0 · 1 bedroom · 1 bed · 1 bath",
           "Entire home/apt",
           2,
           209
          ],
          [
           "Condo in Genève · 5 bedrooms · 9 beds · 3.5 baths",
           "Entire home/apt",
           12,
           355
          ],
          [
           "Rental unit in Genève · ★5.0 · 2 bedrooms · 1 bed · 1 shared bath",
           "Private room",
           1,
           104
          ],
          [
           "Rental unit in Genève · 1 bedroom · 1 bed · 1 bath",
           "Entire home/apt",
           2,
           149
          ],
          [
           "Rental unit in Genève · 1 bedroom · 1 bed · 1 bath",
           "Entire home/apt",
           2,
           234
          ],
          [
           "Rental unit in Chêne-Bourg · 1 bedroom · 1 bed · 1.5 shared baths",
           "Private room",
           2,
           65
          ],
          [
           "Rental unit in Genève · ★4.95 · 1 bedroom · 2 beds · 1 bath",
           "Entire home/apt",
           4,
           139
          ],
          [
           "Home in Chêne-Bourg · ★5.0 · 5 bedrooms · 6 beds · 2 baths",
           "Entire home/apt",
           10,
           303
          ],
          [
           "Rental unit in Genève · ★4.57 · 1 bedroom · 2 beds · 1 bath",
           "Entire home/apt",
           4,
           129
          ],
          [
           "Rental unit in Genève · 2 bedrooms · 2 beds · 2.5 baths",
           "Entire home/apt",
           4,
           225
          ],
          [
           "Rental unit in Genève · ★5.0 · 1 bedroom · 2 beds · 1 bath",
           "Entire home/apt",
           4,
           125
          ],
          [
           "Rental unit in Genève · ★4.45 · Studio · 1 bed · 1 bath",
           "Entire home/apt",
           2,
           132
          ],
          [
           "Rental unit in Genève · ★4.57 · 1 bedroom · 1 bed · 1 bath",
           "Entire home/apt",
           2,
           103
          ],
          [
           "Rental unit in Petit-Lancy · 1 bedroom · 1 bed · 1 bath",
           "Entire home/apt",
           2,
           90
          ],
          [
           "Home in Le Grand-Saconnex · 1 bedroom · 1 bed · 1 shared bath",
           "Private room",
           2,
           80
          ],
          [
           "Home in Pregny-Chambésy · 5 bedrooms · 6 beds · 4.5 baths",
           "Entire home/apt",
           9,
           650
          ],
          [
           "Rental unit in Genève · ★4.83 · 1 bedroom · 1 bed · 1 shared bath",
           "Private room",
           1,
           68
          ],
          [
           "Rental unit in Genève · ★5.0 · 1 bedroom · 2 beds · 1 bath",
           "Entire home/apt",
           2,
           95
          ],
          [
           "Rental unit in Lancy · 1 bedroom · 1 bed · 2 shared baths",
           "Private room",
           2,
           82
          ],
          [
           "Home in Vernier · 5 bedrooms · 5 beds · 3 baths",
           "Entire home/apt",
           8,
           362
          ],
          [
           "Rental unit in Genève · ★4.63 · 1 bedroom · 1 bed · 1 bath",
           "Entire home/apt",
           2,
           128
          ],
          [
           "Rental unit in Chêne-Bourg · 1 bedroom · 1 bed · 1 shared bath",
           "Private room",
           2,
           100
          ],
          [
           "Rental unit in Meyrin · ★4.92 · 1 bedroom · 3 beds · 1 bath",
           "Entire home/apt",
           5,
           170
          ],
          [
           "Rental unit in Genève · ★4.67 · 2 bedrooms · 2 beds · 1 bath",
           "Entire home/apt",
           4,
           120
          ],
          [
           "Hotel in Vernier · 4 bedrooms · 1 bed · 1 private bath",
           "Private room",
           2,
           101
          ],
          [
           "Rental unit in Genève · 1 bedroom · 1 bed · 2 baths",
           "Entire home/apt",
           2,
           167
          ],
          [
           "Rental unit in Genève · 4 bedrooms · 5 beds · 3 baths",
           "Entire home/apt",
           5,
           370
          ],
          [
           "Rental unit in Genève · Studio · 1 bed · 1 bath",
           "Entire home/apt",
           1,
           120
          ],
          [
           "Rental unit in Genève · 1 bedroom · 1 bed · 1 bath",
           "Entire home/apt",
           3,
           120
          ],
          [
           "Rental unit in Genève · 2 bedrooms · 3 beds · 1 bath",
           "Entire home/apt",
           4,
           171
          ],
          [
           "Rental unit in Genève · 1 bedroom · 1 bed · 1 bath",
           "Entire home/apt",
           1,
           224
          ],
          [
           "Rental unit in Genève · ★5.0 · 1 bedroom · 2 beds · 1 bath",
           "Entire home/apt",
           2,
           193
          ],
          [
           "Rental unit in Genève · ★4.74 · 1 bedroom · 2 beds · 1 bath",
           "Entire home/apt",
           4,
           150
          ],
          [
           "Rental unit in Genève · ★4.07 · 1 bedroom · 1 bed · 1 bath",
           "Entire home/apt",
           2,
           128
          ],
          [
           "Rental unit in Bellevue · 3 bedrooms · 3 beds · 2 baths",
           "Entire home/apt",
           6,
           300
          ],
          [
           "Rental unit in Genève · ★4.86 · 1 bedroom · 1 bed · 1 bath",
           "Entire home/apt",
           2,
           89
          ],
          [
           "Rental unit in Genève · ★5.0 · 1 bedroom · 1 bed · 1.5 shared baths",
           "Private room",
           1,
           85
          ],
          [
           "Rental unit in Vandœuvres · 3 bedrooms · 2 beds · 1.5 baths",
           "Entire home/apt",
           4,
           159
          ],
          [
           "Rental unit in Genève · ★4.85 · 1 bedroom · 2 beds · 1 bath",
           "Entire home/apt",
           3,
           113
          ],
          [
           "Rental unit in Genève · ★4.58 · 1 bedroom · 1 bed · 1 bath",
           "Entire home/apt",
           2,
           110
          ],
          [
           "Rental unit in Genève · ★4.93 · 1 bedroom · 2 beds · 1 shared bath",
           "Private room",
           3,
           100
          ],
          [
           "Rental unit in Genève · ★5.0 · 1 bedroom · 1 bed · 1 bath",
           "Entire home/apt",
           2,
           125
          ],
          [
           "Bed and breakfast in Genève · ★4.47 · 1 bedroom · 1 bed · 1.5 shared baths",
           "Private room",
           2,
           74
          ],
          [
           "Rental unit in Genève · ★5.0 · 1 bedroom · 1 bed · 1 bath",
           "Entire home/apt",
           2,
           110
          ],
          [
           "Rental unit in Genève · 1 bedroom · 1 bed · 1 shared bath",
           "Private room",
           1,
           88
          ],
          [
           "Rental unit in Carouge · ★4.69 · 1 bedroom · 1 bed · 1 shared bath",
           "Private room",
           1,
           50
          ],
          [
           "Rental unit in Genève · ★4.88 · 1 bedroom · 1 bed · 1 bath",
           "Entire home/apt",
           2,
           100
          ],
          [
           "Rental unit in Genève · ★4.71 · 1 bedroom · 1 bed · 1 bath",
           "Entire home/apt",
           1,
           75
          ],
          [
           "Rental unit in Genève · ★4.62 · 2 bedrooms · 6 beds · 2 baths",
           "Entire home/apt",
           5,
           200
          ],
          [
           "Rental unit in Genève · ★5.0 · 1 bedroom · 1 bed · 1 shared bath",
           "Private room",
           2,
           74
          ],
          [
           "Bed and breakfast in Vernier · ★4.71 · 1 bedroom · 2 beds · 1 shared bath",
           "Private room",
           2,
           45
          ],
          [
           "Bed and breakfast in Versoix · ★4.58 · 2 bedrooms · 2 beds · 1 shared bath",
           "Private room",
           4,
           70
          ],
          [
           "Rental unit in Genève · 1 bedroom · 1 bed · 1 bath",
           "Entire home/apt",
           4,
           212
          ],
          [
           "Rental unit in Genève · 1 bedroom · 1 bed · 1 shared bath",
           "Shared room",
           1,
           38
          ],
          [
           "Hotel in Genève · ★5.0 · 1 bedroom · 1 bed · 1 private bath",
           "Private room",
           1,
           100
          ],
          [
           "Rental unit in Geneva · ★4.89 · 1 bedroom · 1 bed · 1 bath",
           "Entire home/apt",
           2,
           156
          ],
          [
           "Rental unit in Genève · 1 bedroom · 1 bed · 1 bath",
           "Entire home/apt",
           1,
           71
          ],
          [
           "Rental unit in Genève · ★5.0 · 1 bedroom · 1 bed · 1 bath",
           "Entire home/apt",
           1,
           100
          ],
          [
           "Townhouse in Genève · ★5.0 · 3 bedrooms · 3 beds · 1.5 baths",
           "Entire home/apt",
           5,
           250
          ],
          [
           "Hotel in Genève · ★4.57 · 1 bedroom · 2 beds · 1 private bath",
           "Private room",
           2,
           120
          ],
          [
           "Rental unit in Genève · ★4.71 · 2 bedrooms · 2 beds · 1 bath",
           "Entire home/apt",
           4,
           180
          ],
          [
           "Rental unit in Genève · ★4.91 · 1 bedroom · 1 bed · 1 bath",
           "Entire home/apt",
           2,
           187
          ],
          [
           "Rental unit in Genève · ★5.0 · 1 bedroom · 1 bed · 1 shared bath",
           "Private room",
           2,
           99
          ],
          [
           "Rental unit in Genève · ★4.67 · 1 bedroom · 1 bed · 1 bath",
           "Entire home/apt",
           2,
           83
          ],
          [
           "Home in Vernier · ★4.67 · 1 bedroom · 1 bed · 1 shared bath",
           "Private room",
           1,
           38
          ],
          [
           "Rental unit in Genève · 2 bedrooms · 2 beds · 1 bath",
           "Entire home/apt",
           4,
           155
          ],
          [
           "Home in Vernier · 1 bedroom · 1 bed · 2 shared baths",
           "Private room",
           2,
           70
          ],
          [
           "Home in Vernier · 1 bedroom · 1 bed · 2 shared baths",
           "Private room",
           2,
           78
          ],
          [
           "Rental unit in Vésenaz · 2 bedrooms · 2 beds · 1 bath",
           "Entire home/apt",
           4,
           114
          ],
          [
           "Rental unit in Genève · ★5.0 · 1 bedroom · 1 bed · 1 shared bath",
           "Private room",
           2,
           87
          ],
          [
           "Rental unit in Genève · ★4.83 · 1 bedroom · 1 bed · 1 bath",
           "Entire home/apt",
           2,
           106
          ],
          [
           "Rental unit in Genève · ★5.0 · 1 bedroom · 1 bed · 1 shared bath",
           "Private room",
           2,
           85
          ],
          [
           "Rental unit in Genève · 1 bedroom · 1 bed · 1 bath",
           "Entire home/apt",
           2,
           133
          ],
          [
           "Rental unit in Genève · 2 bedrooms · 2 beds · 1 bath",
           "Entire home/apt",
           3,
           120
          ],
          [
           "Rental unit in Le Grand-Saconnex · ★5.0 · 1 bedroom · 3 beds · 1 bath",
           "Entire home/apt",
           3,
           90
          ],
          [
           "Rental unit in Genève · ★4.67 · 1 bedroom · 1 bed · 1 bath",
           "Entire home/apt",
           2,
           202
          ],
          [
           "Rental unit in Chêne-Bougeries · 1 bedroom · 2 beds · 1 bath",
           "Entire home/apt",
           4,
           180
          ],
          [
           "Home in Chêne-Bougeries · 9 bedrooms · 4 beds · 6.5 baths",
           "Entire home/apt",
           10,
           1200
          ],
          [
           "Rental unit in Genève · ★4.86 · 2 bedrooms · 2 beds · 1 bath",
           "Entire home/apt",
           6,
           145
          ],
          [
           "Rental unit in Carouge · 1 bedroom · 1 bed · 1.5 baths",
           "Entire home/apt",
           2,
           130
          ],
          [
           "Home in Le Grand-Saconnex · ★4.73 · 1 bedroom · 1 bed · 1 shared bath",
           "Private room",
           2,
           85
          ],
          [
           "Rental unit in Le Grand-Saconnex · ★4.91 · 1 bedroom · 1 bed · 1 bath",
           "Entire home/apt",
           2,
           100
          ],
          [
           "Rental unit in Carouge · 1 bedroom · 1 bed · 1 bath",
           "Entire home/apt",
           2,
           90
          ],
          [
           "Rental unit in Genève · ★4.83 · 1 bedroom · 1 bed · 1 shared bath",
           "Private room",
           1,
           64
          ],
          [
           "Rental unit in Genève · ★4.80 · 2 bedrooms · 2 beds · 1 bath",
           "Entire home/apt",
           2,
           89
          ],
          [
           "Condo in Chêne-Bougeries · 3 bedrooms · 3 beds · 2.5 baths",
           "Entire home/apt",
           6,
           190
          ],
          [
           "Rental unit in Genève · ★4.40 · 1 bedroom · 1 bed · 1 bath",
           "Entire home/apt",
           2,
           112
          ],
          [
           "Rental unit in Genève · 1 bedroom · 1 bed · 1 bath",
           "Entire home/apt",
           2,
           120
          ],
          [
           "Bed and breakfast in Genève · ★5.0 · 1 bedroom · 1 bed · 1.5 baths",
           "Private room",
           2,
           90
          ],
          [
           "Rental unit in Genève · ★3.50 · 1 bedroom · 1 bed · 1 bath",
           "Entire home/apt",
           2,
           221
          ],
          [
           "Home in Collonge-Bellerive · 4 bedrooms · 4 beds · 4.5 baths",
           "Entire home/apt",
           5,
           300
          ],
          [
           "Rental unit in Genève · ★4.89 · 3 bedrooms · 5 beds · 1.5 baths",
           "Entire home/apt",
           5,
           257
          ],
          [
           "Rental unit in Genève · ★4.93 · 1 bedroom · 1 bed · 1 bath",
           "Entire home/apt",
           2,
           148
          ],
          [
           "Rental unit in Genève · ★4.92 · 2 bedrooms · 3 beds · 2 baths",
           "Entire home/apt",
           4,
           269
          ],
          [
           "Rental unit in Genève · ★4.86 · 1 bedroom · 2 beds · 1 private bath",
           "Private room",
           2,
           78
          ],
          [
           "Rental unit in Genève · Studio · 1 bed · 1.5 baths",
           "Entire home/apt",
           2,
           144
          ],
          [
           "Rental unit in Genève · ★5.0 · Studio · 1 bed · 1 bath",
           "Entire home/apt",
           1,
           100
          ],
          [
           "Rental unit in Genève · ★4.88 · 1 bedroom · 1 bed · 1 bath",
           "Entire home/apt",
           1,
           102
          ],
          [
           "Rental unit in Pregny-Chambésy · 1 bedroom · 1 bed · 1 bath",
           "Entire home/apt",
           2,
           150
          ],
          [
           "Rental unit in Avully · ★5.0 · 1 bedroom · 1 bed · 1 shared bath",
           "Private room",
           1,
           45
          ],
          [
           "Rental unit in Genève · ★4.85 · 1 bedroom · 2 beds · 1 bath",
           "Entire home/apt",
           5,
           163
          ],
          [
           "Rental unit in Genève · ★5.0 · 1 bedroom · 1 bed · 1 bath",
           "Entire home/apt",
           2,
           120
          ],
          [
           "Rental unit in Genève · ★5.0 · 1 bedroom · 1 bed · 1 bath",
           "Entire home/apt",
           1,
           55
          ],
          [
           "Rental unit in Genève · 1 bedroom · 1 bed · 1.5 baths",
           "Entire home/apt",
           2,
           38
          ],
          [
           "Rental unit in Vandœuvres · 2 bedrooms · 2 beds · 3 baths",
           "Entire home/apt",
           4,
           200
          ],
          [
           "Bed and breakfast in Genève · ★4.67 · 1 bedroom · 1 bed · 1.5 shared baths",
           "Private room",
           2,
           58
          ],
          [
           "Rental unit in Genève · 1 bedroom · 1 bed · 1 shared bath",
           "Private room",
           2,
           100
          ],
          [
           "Hotel in Genève · ★4.67 · 1 bedroom · 1 bed · 1 private bath",
           "Private room",
           1,
           100
          ],
          [
           "Hotel in Genève · 1 bedroom · 2 beds · 1 private bath",
           "Private room",
           2,
           150
          ],
          [
           "Hotel in Genève · 1 bedroom · 1 bed · 1 private bath",
           "Private room",
           2,
           140
          ],
          [
           "Rental unit in Genève · 1 bedroom · 2 beds · 1 bath",
           "Entire home/apt",
           2,
           120
          ],
          [
           "Rental unit in Genève · 1 bedroom · 1 bed · 1 bath",
           "Entire home/apt",
           2,
           293
          ],
          [
           "Rental unit in Genève · 1 bedroom · 1 bed · 1 shared bath",
           "Private room",
           2,
           67
          ],
          [
           "Hotel in Genève · ★4.40 · 1 bedroom · 1 bed · 1 private bath",
           "Private room",
           1,
           100
          ],
          [
           "Hotel in Genève · ★4.80 · 1 bedroom · 1 bed · 1 private bath",
           "Private room",
           1,
           100
          ],
          [
           "Rental unit in Genève · ★5.0 · 1 bedroom · 1 bed · 1 bath",
           "Entire home/apt",
           2,
           107
          ],
          [
           "Home in Genève · 3 bedrooms · 3 beds · 1 bath",
           "Entire home/apt",
           5,
           183
          ],
          [
           "Home in Vernier · 1 bedroom · 1 bed · 3 baths",
           "Private room",
           2,
           93
          ],
          [
           "Home in Vernier · 1 bedroom · 1 bed · 2 shared baths",
           "Private room",
           2,
           77
          ],
          [
           "Home in Vernier · 1 bedroom · 1 bed · 2 shared baths",
           "Private room",
           2,
           78
          ],
          [
           "Rental unit in Genève · 1 bedroom · 1 bed · 1 bath",
           "Entire home/apt",
           2,
           130
          ],
          [
           "Rental unit in Genève · ★4.35 · 1 bedroom · 1 bed · 1 bath",
           "Entire home/apt",
           2,
           91
          ],
          [
           "Rental unit in Meyrin · 2 bedrooms · 2 beds · 2.5 baths",
           "Entire home/apt",
           4,
           400
          ],
          [
           "Rental unit in Genève · ★4.80 · 1 bedroom · 1 bed · 1 bath",
           "Entire home/apt",
           2,
           95
          ],
          [
           "Rental unit in Genève · ★5.0 · 1 bedroom · 1 bed · 1 shared bath",
           "Private room",
           1,
           92
          ],
          [
           "Rental unit in Genève · ★4.67 · 1 bedroom · 1 bed · 1 bath",
           "Entire home/apt",
           2,
           201
          ],
          [
           "Rental unit in Genève · 1 bedroom · 1 bed · 1 bath",
           "Entire home/apt",
           2,
           171
          ],
          [
           "Rental unit in Genève · ★4.55 · 1 bedroom · 1 bed · 1 bath",
           "Entire home/apt",
           2,
           94
          ],
          [
           "Rental unit in Genève · ★5.0 · 1 bedroom · 1 bed · 1.5 baths",
           "Entire home/apt",
           1,
           83
          ],
          [
           "Bed and breakfast in Meyrin · ★5.0 · 1 bedroom · 1 bed · 1 shared bath",
           "Private room",
           1,
           56
          ],
          [
           "Villa in Thônex · 5 bedrooms · 5 beds · 3.5 baths",
           "Entire home/apt",
           11,
           550
          ],
          [
           "Rental unit in Genève · 1 bedroom · 1 bed · 1 private bath",
           "Private room",
           1,
           129
          ],
          [
           "Rental unit in Cologny · 1 bedroom · 1 bed · 1 bath",
           "Entire home/apt",
           3,
           148
          ],
          [
           "Rental unit in Genève · ★5.0 · 1 bedroom · 1 bed · 1 bath",
           "Entire home/apt",
           2,
           90
          ],
          [
           "Rental unit in Chancy · 1 bedroom · 1 bed · 1 private bath",
           "Private room",
           1,
           59
          ],
          [
           "Bed and breakfast in Genève · 1 bedroom · 1 bed · 1 shared bath",
           "Private room",
           2,
           550
          ],
          [
           "Rental unit in Genève · ★4.92 · 1 bedroom · 1 bed · 1 shared bath",
           "Private room",
           1,
           57
          ],
          [
           "Rental unit in Genève · 1 bedroom · 1 bed · 1 bath",
           "Entire home/apt",
           2,
           350
          ],
          [
           "Rental unit in Anières · 1 bedroom · 1 bed · 1 bath",
           "Entire home/apt",
           2,
           50
          ],
          [
           "Rental unit in Genève · 1 bedroom · 1 bed · 1 shared bath",
           "Private room",
           2,
           240
          ],
          [
           "Rental unit in Genève · 1 bedroom · 1 bed · 1 shared bath",
           "Private room",
           2,
           150
          ],
          [
           "Rental unit in Genève · 1 bedroom · 1 bed · 1 shared bath",
           "Private room",
           2,
           130
          ],
          [
           "Rental unit in Genève · ★4.60 · 2 bedrooms · 1 bed · 1 bath",
           "Entire home/apt",
           3,
           120
          ],
          [
           "Rental unit in Genève · 1 bedroom · 1 bed · 1 private bath",
           "Private room",
           2,
           280
          ],
          [
           "Rental unit in Genève · 1 bedroom · 1 bed · 1.5 shared baths",
           "Private room",
           1,
           67
          ],
          [
           "Rental unit in Carouge · ★4.86 · 1 bedroom · 1 bed · 1 private bath",
           "Private room",
           2,
           90
          ],
          [
           "Rental unit in Genève · ★5.0 · 2 bedrooms · 2 beds · 1 bath",
           "Entire home/apt",
           3,
           200
          ],
          [
           "Rental unit in Vandœuvres · ★4.50 · 1 bedroom · 1 bed · 1 bath",
           "Entire home/apt",
           2,
           150
          ],
          [
           "Rental unit in Genève · ★4.89 · 1 bedroom · 2 beds · 1 bath",
           "Entire home/apt",
           3,
           159
          ],
          [
           "Rental unit in Genève · ★5.0 · 2 bedrooms · 4 beds · 2 baths",
           "Entire home/apt",
           5,
           350
          ],
          [
           "Condo in Thônex · 1 bedroom · 1 bed · 1 shared bath",
           "Private room",
           2,
           100
          ],
          [
           "Home in Conches · ★4.60 · 1 bedroom · 1 bed · 1 private bath",
           "Private room",
           2,
           130
          ],
          [
           "Condo in Thônex · ★4.67 · 1 bedroom · 2 beds · 1 shared bath",
           "Private room",
           2,
           100
          ],
          [
           "Rental unit in Genève · 2 bedrooms · 2 beds · 1 bath",
           "Private room",
           2,
           120
          ],
          [
           "Rental unit in Genève · 1 bedroom · 1 bed · 1 bath",
           "Entire home/apt",
           2,
           220
          ],
          [
           "Rental unit in Genève · 1 bedroom · 2 beds · 1 bath",
           "Entire home/apt",
           4,
           100
          ],
          [
           "Rental unit in Genève · ★4.94 · 2 bedrooms · 3 beds · 1 bath",
           "Entire home/apt",
           4,
           150
          ],
          [
           "Home in Chêne-Bourg · ★4.60 · 2 bedrooms · 2 beds · 1 shared bath",
           "Private room",
           4,
           150
          ],
          [
           "Rental unit in Plan-les-Ouates · ★5.0 · 1 bedroom · 1 bed · 1 shared bath",
           "Private room",
           1,
           65
          ],
          [
           "Hotel in Genève · ★4.86 · 2 bedrooms · 4 beds · 2 baths",
           "Private room",
           4,
           176
          ],
          [
           "Home in Lancy · 2 bedrooms · 2 beds · 1 shared bath",
           "Private room",
           2,
           99
          ],
          [
           "Rental unit in Genève · 1 bedroom · 1 bed · 1 bath",
           "Entire home/apt",
           2,
           80
          ],
          [
           "Rental unit in Genève · ★5.0 · Studio · 1 bed · 1.5 baths",
           "Entire home/apt",
           2,
           96
          ],
          [
           "Rental unit in Genève · ★4.82 · Studio · 1 bed · 0 shared baths",
           "Private room",
           2,
           55
          ],
          [
           "Rental unit in Versoix · 1 bedroom · 1 bed · 1 shared bath",
           "Private room",
           2,
           71
          ],
          [
           "Rental unit in Carouge · ★4.56 · 1 bedroom · 1 bed · 1 bath",
           "Entire home/apt",
           2,
           100
          ],
          [
           "Rental unit in Genève · ★4.66 · 1 bedroom · 1 bed · 1 bath",
           "Entire home/apt",
           2,
           90
          ],
          [
           "Rental unit in Genève · 2 bedrooms · 3 beds · 1 bath",
           "Entire home/apt",
           4,
           152
          ],
          [
           "Rental unit in Genève · 2 bedrooms · 2 beds · 2.5 baths",
           "Entire home/apt",
           4,
           500
          ],
          [
           "Townhouse in Versoix · ★New · 1 bedroom · 1 bed · 1 shared bath",
           "Private room",
           2,
           46
          ],
          [
           "Home in Versoix · ★4.75 · 1 bedroom · 1 bed · 1 shared bath",
           "Private room",
           2,
           65
          ],
          [
           "Rental unit in Carouge · ★3.75 · Studio · 1 bed · 1 bath",
           "Entire home/apt",
           2,
           110
          ],
          [
           "Bed and breakfast in Meyrin · 1 bedroom · 1 bed · 1 shared bath",
           "Private room",
           2,
           104
          ],
          [
           "Bed and breakfast in Meyrin · ★4.83 · 1 bedroom · 1 bed · 1.5 shared baths",
           "Private room",
           2,
           108
          ],
          [
           "Bed and breakfast in Meyrin · ★4.50 · 1 bedroom · 1 bed · 1.5 shared baths",
           "Private room",
           2,
           108
          ],
          [
           "Rental unit in Genève · ★4.85 · 1 bedroom · 1 bed · 1 bath",
           "Entire home/apt",
           2,
           115
          ],
          [
           "Rental unit in Genève · 1 bedroom · 1 bed · 1 bath",
           "Entire home/apt",
           2,
           176
          ],
          [
           "Rental unit in Genève · 2 bedrooms · 2 beds · 2 baths",
           "Entire home/apt",
           5,
           640
          ],
          [
           "Rental unit in Genève · 2 bedrooms · 2 beds · 1 bath",
           "Entire home/apt",
           2,
           83
          ],
          [
           "Rental unit in Vernier · ★4.95 · 1 bedroom · 1 bed · 1.5 shared baths",
           "Private room",
           2,
           61
          ],
          [
           "Rental unit in Genève · 1 bedroom · 2 beds · 1 bath",
           "Entire home/apt",
           4,
           179
          ],
          [
           "Bed and breakfast in Chêne-Bourg · 1 bedroom · 1 bed · 1 shared bath",
           "Private room",
           1,
           62
          ],
          [
           "Rental unit in Genève · ★4.42 · 2 bedrooms · 4 beds · 2 baths",
           "Entire home/apt",
           5,
           275
          ],
          [
           "Rental unit in Genève · ★5.0 · 2 bedrooms · 2 beds · 1 bath",
           "Entire home/apt",
           4,
           138
          ],
          [
           "Rental unit in Cologny · 1 bedroom · 1 bed · 1 bath",
           "Entire home/apt",
           3,
           150
          ],
          [
           "Rental unit in Genève · 1 bedroom · 1 bed · 1 bath",
           "Entire home/apt",
           2,
           390
          ],
          [
           "Home in Veyrier · ★5.0 · 1 bedroom · 1 bed · 1.5 shared baths",
           "Private room",
           2,
           62
          ],
          [
           "Rental unit in Genève · 1 bedroom · 2 beds · 1 bath",
           "Entire home/apt",
           4,
           141
          ],
          [
           "Rental unit in Genève · ★4.54 · 1 bedroom · 1 bed · 1 bath",
           "Entire home/apt",
           2,
           102
          ],
          [
           "Rental unit in Genève · ★4.69 · 1 bedroom · 2 beds · 1 bath",
           "Entire home/apt",
           4,
           148
          ],
          [
           "Rental unit in Genève · ★5.0 · 1 bedroom · 1 bed · 1.5 baths",
           "Entire home/apt",
           2,
           110
          ],
          [
           "Rental unit in Genève · 1 bedroom · 1 bed · 1.5 baths",
           "Private room",
           2,
           72
          ],
          [
           "Rental unit in Bellevue · 3 bedrooms · 2 beds · 2 baths",
           "Entire home/apt",
           4,
           136
          ],
          [
           "Rental unit in Carouge · ★4.80 · 1 bedroom · 1 bed · 1.5 shared baths",
           "Private room",
           1,
           75
          ],
          [
           "Rental unit in Genève · ★4.77 · 1 bedroom · 2 beds · 1 bath",
           "Entire home/apt",
           2,
           86
          ],
          [
           "Rental unit in Genève · ★5.0 · 1 bedroom · 1 bed · 1 bath",
           "Entire home/apt",
           2,
           91
          ],
          [
           "Rental unit in Meyrin · ★4.38 · 1 bedroom · 2 beds · 1 bath",
           "Entire home/apt",
           4,
           97
          ],
          [
           "Rental unit in Genève · 2 bedrooms · 3 beds · 1 bath",
           "Entire home/apt",
           6,
           201
          ],
          [
           "Rental unit in Genève · ★5.0 · 2 bedrooms · 2 beds · 1 bath",
           "Entire home/apt",
           3,
           89
          ],
          [
           "Rental unit in Genève · ★5.0 · 1 bedroom · 1 bed · 1 bath",
           "Entire home/apt",
           2,
           75
          ],
          [
           "Rental unit in Genève · ★4.0 · 1 bedroom · 1 bed · 1 bath",
           "Entire home/apt",
           3,
           123
          ],
          [
           "Rental unit in Genève · 3 bedrooms · 3 beds · 2 baths",
           "Entire home/apt",
           6,
           302
          ],
          [
           "Condo in Genève · ★4.86 · 1 bedroom · 1 bed · 1 shared bath",
           "Private room",
           1,
           50
          ],
          [
           "Rental unit in Genève · ★4.25 · 1 bedroom · 1 bed · 1 shared bath",
           "Private room",
           2,
           65
          ],
          [
           "Rental unit in Genève · 1 bedroom · 1 bed · 1 bath",
           "Entire home/apt",
           6,
           110
          ],
          [
           "Rental unit in Genève · 1 bedroom · 1 bed · 1 bath",
           "Entire home/apt",
           3,
           100
          ],
          [
           "Rental unit in Genève · ★5.0 · 1 bedroom · 1 bed · 1.5 shared baths",
           "Private room",
           2,
           102
          ],
          [
           "Rental unit in Genève · ★5.0 · 1 bedroom · 1 bed · 1 bath",
           "Entire home/apt",
           2,
           96
          ],
          [
           "Shipping container in Genf · ★5.0 · 1 bedroom · 1 bed · 2 baths",
           "Private room",
           1,
           111
          ],
          [
           "Rental unit in Collonge-Bellerive · ★5.0 · 1 bedroom · 1 bed · 1 bath",
           "Entire home/apt",
           1,
           82
          ],
          [
           "Hotel in Genève · ★4.50 · 1 bedroom · 3 beds · 1 bath",
           "Private room",
           3,
           160
          ],
          [
           "Bed and breakfast in Le Grand-Saconnex · 1 bedroom · 1 bed · 1 bath",
           "Private room",
           2,
           140
          ],
          [
           "Home in Le Grand-Saconnex · 1 bedroom · 1 bed · 1 bath",
           "Entire home/apt",
           2,
           250
          ],
          [
           "Rental unit in Genève · ★4.75 · 1 bedroom · 1 bed · 2 baths",
           "Entire home/apt",
           3,
           120
          ],
          [
           "Rental unit in Genève · 1 bedroom · 1 bed · 1 bath",
           "Entire home/apt",
           2,
           96
          ],
          [
           "Rental unit in Chêne-Bourg · ★4.63 · 1 bedroom · 1 bed · 1 bath",
           "Entire home/apt",
           2,
           72
          ],
          [
           "Rental unit in Chêne-Bougeries · 1 bedroom · 1 bed · 1 bath",
           "Entire home/apt",
           2,
           67
          ],
          [
           "Bed and breakfast in Chancy · 1 bedroom · 1 bed · 1.5 baths",
           "Private room",
           2,
           81
          ],
          [
           "Rental unit in Vernier · ★4.78 · 1 bedroom · 1 bed · 1.5 shared baths",
           "Private room",
           2,
           62
          ],
          [
           "Rental unit in Genève · ★4.40 · 2 bedrooms · 3 beds · 1 bath",
           "Entire home/apt",
           5,
           130
          ],
          [
           "Condo in Cologny · ★5.0 · 1 bedroom · 1 bed · 2 baths",
           "Entire home/apt",
           2,
           99
          ],
          [
           "Rental unit in Genève · ★5.0 · 1 bedroom · 1 bed · 1 bath",
           "Entire home/apt",
           1,
           101
          ],
          [
           "Rental unit in Genève · ★4.33 · 1 bedroom · 1 bed · 1 bath",
           "Entire home/apt",
           2,
           103
          ],
          [
           "Rental unit in Thônex · ★4.86 · 2 bedrooms · 2 beds · 1.5 baths",
           "Entire home/apt",
           4,
           109
          ],
          [
           "Rental unit in Genf · ★4.25 · 1 bedroom · 1 bed · 1 shared bath",
           "Private room",
           2,
           70
          ],
          [
           "Rental unit in Thônex · ★4.42 · 2 bedrooms · 3 beds · 1.5 baths",
           "Entire home/apt",
           6,
           242
          ],
          [
           "Rental unit in Genève · Studio · 1 bed · 1 bath",
           "Entire home/apt",
           2,
           155
          ],
          [
           "Rental unit in Genève · 2 bedrooms · 2 beds · 1 bath",
           "Entire home/apt",
           4,
           174
          ],
          [
           "Home in Vernier · 1 bedroom · 1 bed · 2 baths",
           "Private room",
           2,
           73
          ],
          [
           "Home in Vernier · 1 bedroom · 1 bed · 3 baths",
           "Private room",
           2,
           82
          ],
          [
           "Home in Vernier · 1 bedroom · 1 bed · 2 baths",
           "Private room",
           1,
           80
          ],
          [
           "Home in Vernier · 1 bedroom · 1 bed · 2 baths",
           "Private room",
           1,
           80
          ],
          [
           "Rental unit in Genève · ★4.75 · 1 bedroom · 1 bed · Shared half-bath",
           "Private room",
           2,
           84
          ],
          [
           "Home in Genève · ★1.33 · 1 bedroom · 1 bed · 1 bath",
           "Private room",
           2,
           82
          ],
          [
           "Rental unit in Genève · 1 bedroom · 1 bed · 1.5 baths",
           "Entire home/apt",
           2,
           250
          ],
          [
           "Rental unit in Genève · ★4.85 · 1 bedroom · 2 beds · 1 bath",
           "Entire home/apt",
           4,
           174
          ],
          [
           "Rental unit in Genève · ★4.0 · 1 bedroom · 2 beds · 1 bath",
           "Entire home/apt",
           4,
           155
          ],
          [
           "Rental unit in Meinier · Studio · 2 beds · 1 bath",
           "Entire home/apt",
           4,
           234
          ],
          [
           "Hotel in Genève · 1 bedroom · 1 bed · 1 bath",
           "Private room",
           2,
           120
          ],
          [
           "Hotel in Genève · ★4.67 · 2 bedrooms · 3 beds · 2 shared baths",
           "Private room",
           4,
           180
          ],
          [
           "Hotel in Genève · 1 bedroom · 3 beds · 1 bath",
           "Private room",
           3,
           160
          ],
          [
           "Rental unit in Genève · ★4.88 · 1 bedroom · 1 bed · 1 bath",
           "Entire home/apt",
           2,
           168
          ],
          [
           "Rental unit in Genève · ★5.0 · 1 bedroom · 1 bed · 1.5 shared baths",
           "Private room",
           2,
           90
          ],
          [
           "Home in Hermance · ★4.67 · 1 bedroom · 2 beds · 1.5 baths",
           "Entire home/apt",
           4,
           127
          ],
          [
           "Bed and breakfast in Genève · 1 bedroom · 1 bed · 1 bath",
           "Private room",
           1,
           80
          ],
          [
           "Rental unit in Gaillard · 1 bedroom · 1 bed · 1 bath",
           "Entire home/apt",
           2,
           96
          ],
          [
           "Rental unit in Genève · ★4.60 · 1 bedroom · 1 bed · 1 bath",
           "Private room",
           2,
           75
          ],
          [
           "Rental unit in Carouge · 1 bedroom · 2 beds · 1 bath",
           "Entire home/apt",
           2,
           131
          ],
          [
           "Rental unit in Genève · ★4.73 · 1 bedroom · 1 bed · 2 shared baths",
           "Private room",
           1,
           68
          ],
          [
           "Bed and breakfast in Genève · ★5.0 · 1 bedroom · 1 bed · 1 shared bath",
           "Private room",
           2,
           70
          ],
          [
           "Rental unit in Meyrin · ★4.88 · Studio · 1 bed · 1 bath",
           "Entire home/apt",
           2,
           89
          ],
          [
           "Rental unit in Genève · 3 bedrooms · 3 beds · 3 baths",
           "Entire home/apt",
           6,
           900
          ],
          [
           "Bed and breakfast in Chêne-Bourg · 1 bedroom · 1 bed · 1 bath",
           "Private room",
           1,
           62
          ],
          [
           "Rental unit in Genève · ★5.0 · 1 bedroom · 1 bed · 1.5 baths",
           "Private room",
           2,
           92
          ],
          [
           "Rental unit in Genève · 1 bedroom · 1 bed · 1 bath",
           "Entire home/apt",
           4,
           139
          ],
          [
           "Rental unit in Meyrin · ★3.55 · 1 bedroom · 1 bed · 1 bath",
           "Entire home/apt",
           4,
           107
          ],
          [
           "Rental unit in Genève · ★5.0 · 1 bedroom · 1 bed · 1 bath",
           "Private room",
           2,
           50
          ],
          [
           "Rental unit in Vernier · 1 bedroom · 1 bed · 1 bath",
           "Entire home/apt",
           1,
           113
          ],
          [
           "Bed and breakfast in Genève · 1 bedroom · 1 bed · 1 bath",
           "Private room",
           1,
           38
          ],
          [
           "Rental unit in Genève · ★4.83 · 1 bedroom · 2 beds · 1 bath",
           "Entire home/apt",
           4,
           232
          ],
          [
           "Cabin in Collex-Bossy · 1 bedroom · 1 bed · 1 bath",
           "Entire home/apt",
           2,
           96
          ],
          [
           "Home in Pregny-Chambésy · ★3.67 · 1 bedroom · 1 bed · 1 bath",
           "Private room",
           2,
           68
          ],
          [
           "Rental unit in Genève · ★5.0 · 1 bedroom · 1 bed · 1 bath",
           "Entire home/apt",
           2,
           200
          ],
          [
           "Rental unit in Genève · ★4.25 · 1 bedroom · 1 bed · 1 bath",
           "Entire home/apt",
           2,
           115
          ],
          [
           "Rental unit in Genève · 4 bedrooms · 3 beds · 2.5 baths",
           "Entire home/apt",
           6,
           200
          ],
          [
           "Rental unit in Genève · ★4.78 · 1 bedroom · 1 bed · 1 bath",
           "Entire home/apt",
           2,
           97
          ],
          [
           "Farm stay in Céligny · ★5.0 · 2 bedrooms · 4 beds · 1 bath",
           "Entire home/apt",
           4,
           70
          ],
          [
           "Home in Veyrier · ★5.0 · 1 bedroom · 1 bed · 1 bath",
           "Private room",
           1,
           60
          ],
          [
           "Bed and breakfast in Genève · ★4.78 · 1 bedroom · 1 bed · 1.5 baths",
           "Private room",
           2,
           99
          ],
          [
           "Rental unit in Genève · ★4.67 · 1 bedroom · 1 bed · 1 bath",
           "Entire home/apt",
           2,
           98
          ],
          [
           "Rental unit in Petit-Lancy · 2 bedrooms · 2 beds · 1 bath",
           "Entire home/apt",
           4,
           100
          ],
          [
           "Rental unit in Genève · ★5.0 · 1 bedroom · 3 beds · 1 bath",
           "Entire home/apt",
           4,
           149
          ],
          [
           "Rental unit in Genève · ★4.96 · 2 bedrooms · 2 beds · 1 bath",
           "Entire home/apt",
           4,
           157
          ],
          [
           "Rental unit in Genève · 1 bedroom · 1 bed · 1 bath",
           "Entire home/apt",
           3,
           180
          ],
          [
           "Rental unit in Lancy · ★4.56 · 1 bedroom · 1 bed · 1 bath",
           "Entire home/apt",
           2,
           82
          ],
          [
           "Rental unit in Genève · 1 bedroom · 2 beds · 1 bath",
           "Private room",
           2,
           100
          ],
          [
           "Rental unit in Genève · ★4.83 · 1 bedroom · 1 bed · 1.5 baths",
           "Entire home/apt",
           2,
           113
          ],
          [
           "Home in Meinier · 2 bedrooms · 2 beds · 1.5 baths",
           "Entire home/apt",
           4,
           240
          ],
          [
           "Rental unit in Genève · ★4.29 · 1 bedroom · 1 bed · 1 shared bath",
           "Private room",
           1,
           62
          ],
          [
           "Rental unit in Genève · ★5.0 · 2 bedrooms · 2 beds · 1 bath",
           "Entire home/apt",
           4,
           100
          ],
          [
           "Rental unit in Genève · 1 bedroom · 1 bed · 1 bath",
           "Private room",
           1,
           30
          ],
          [
           "Rental unit in Genève · ★4.82 · 1 bedroom · 2 beds · 1.5 baths",
           "Entire home/apt",
           3,
           150
          ],
          [
           "Rental unit in Petit-Lancy · ★5.0 · 1 bedroom · 1 bed · 1 shared bath",
           "Private room",
           2,
           71
          ],
          [
           "Rental unit in Genève · 1 bedroom · 1 bed · 1 bath",
           "Entire home/apt",
           1,
           130
          ],
          [
           "Serviced apartment in Pregny-Chambésy · ★5.0 · 1 bedroom · 1 bed · 1 private bath",
           "Private room",
           2,
           80
          ],
          [
           "Home in Lancy · ★4.33 · 2 bedrooms · 3 beds · 2 baths",
           "Entire home/apt",
           4,
           198
          ],
          [
           "Rental unit in Genève · 1 bedroom · 1 bed · 1 bath",
           "Entire home/apt",
           2,
           110
          ],
          [
           "Home in Veyrier · ★5.0 · 1 bedroom · 1 bed · 1 bath",
           "Private room",
           2,
           50
          ],
          [
           "Rental unit in Genève · ★4.64 · 1 bedroom · 2 beds · 1 bath",
           "Entire home/apt",
           4,
           120
          ],
          [
           "Rental unit in Genève · ★4.50 · Studio · 1 bed · 1 bath",
           "Entire home/apt",
           2,
           90
          ],
          [
           "Rental unit in Genève · ★4.26 · Studio · 2 beds · 1 bath",
           "Entire home/apt",
           4,
           126
          ],
          [
           "Rental unit in Genève · ★4.52 · Studio · 1 bed · 1 bath",
           "Entire home/apt",
           2,
           81
          ],
          [
           "Rental unit in Genève · ★4.0 · Studio · 1 bed · 1 bath",
           "Entire home/apt",
           2,
           84
          ],
          [
           "Rental unit in Genève · ★4.62 · 1 bedroom · 2 beds · 1 bath",
           "Entire home/apt",
           4,
           136
          ],
          [
           "Rental unit in Carouge · 1 bedroom · 1 bed · 1 bath",
           "Private room",
           2,
           79
          ],
          [
           "Rental unit in Genève · 1 bedroom · 1 bed · 1 bath",
           "Entire home/apt",
           2,
           240
          ],
          [
           "Rental unit in Genève · 1 bedroom · 1 bed · 1.5 shared baths",
           "Private room",
           2,
           70
          ],
          [
           "Bed and breakfast in Genève · 1 bedroom · 1 bed · 1 bath",
           "Private room",
           2,
           108
          ],
          [
           "Bed and breakfast in Genève · 1 bedroom · 1 bed · 1 bath",
           "Private room",
           2,
           108
          ],
          [
           "Bed and breakfast in Genève · ★5.0 · 1 bedroom · 1 bed · 1.5 shared baths",
           "Private room",
           2,
           108
          ],
          [
           "Rental unit in Genève · ★4.75 · 1 bedroom · 1 bed · 1.5 baths",
           "Entire home/apt",
           2,
           179
          ],
          [
           "Rental unit in Genève · ★4.17 · 3 bedrooms · 4 beds · 2.5 baths",
           "Entire home/apt",
           6,
           676
          ],
          [
           "Rental unit in Genève · 2 bedrooms · 2 beds · 1 bath",
           "Entire home/apt",
           4,
           140
          ],
          [
           "Rental unit in Vernier · 1 bedroom · 2 beds · 1.5 baths",
           "Entire home/apt",
           4,
           87
          ],
          [
           "Rental unit in Genève · 1 bedroom · 1 bed · 1 bath",
           "Entire home/apt",
           2,
           264
          ],
          [
           "Condo in Genève · ★4.87 · 1 bedroom · 1 bed · 1.5 shared baths",
           "Private room",
           1,
           70
          ],
          [
           "Rental unit in Genève · 1 bedroom · 2 beds · 1 bath",
           "Entire home/apt",
           2,
           82
          ],
          [
           "Home in Bellevue · ★5.0 · 2 bedrooms · 2 beds · 2 baths",
           "Entire home/apt",
           3,
           180
          ],
          [
           "Rental unit in Genève · 1 bedroom · 1 bed · 1 bath",
           "Entire home/apt",
           2,
           86
          ],
          [
           "Rental unit in Genève · ★4.88 · 1 bedroom · 1 bed · 1 bath",
           "Entire home/apt",
           2,
           131
          ],
          [
           "Rental unit in Genève · 2 bedrooms · 3 beds · 1 bath",
           "Entire home/apt",
           4,
           200
          ],
          [
           "Rental unit in Genève · 1 bedroom · 3 beds · 1.5 baths",
           "Entire home/apt",
           2,
           176
          ],
          [
           "Rental unit in Chêne-Bourg · 1 bedroom · 2 beds · 1 bath",
           "Entire home/apt",
           4,
           125
          ],
          [
           "Rental unit in Genève · 1 bedroom · 1 bed · 1 bath",
           "Private room",
           2,
           88
          ],
          [
           "Rental unit in Genève · ★5.0 · 2 bedrooms · 2 beds · 1 bath",
           "Entire home/apt",
           4,
           175
          ],
          [
           "Rental unit in Genève · 2 bedrooms · 2 beds · 1.5 shared baths",
           "Private room",
           2,
           120
          ],
          [
           "Rental unit in Genève · ★4.81 · 2 bedrooms · 3 beds · 1 bath",
           "Entire home/apt",
           6,
           250
          ],
          [
           "Rental unit in Genève · 1 bedroom · 1 bed · 1 bath",
           "Entire home/apt",
           2,
           115
          ],
          [
           "Rental unit in Genève · 1 bedroom · 1 bed · 1 bath",
           "Private room",
           2,
           100
          ],
          [
           "Rental unit in Genève · ★4.67 · 1 bedroom · 1 bed · 1 bath",
           "Entire home/apt",
           2,
           120
          ],
          [
           "Rental unit in Genève · ★5.0 · 3 bedrooms · 3 beds · 2 baths",
           "Entire home/apt",
           5,
           200
          ],
          [
           "Rental unit in Genève · ★4.93 · 1 bedroom · 1 bed · 1 shared bath",
           "Private room",
           2,
           71
          ],
          [
           "Rental unit in Chêne-Bourg · 2 bedrooms · 3 beds · 1.5 baths",
           "Entire home/apt",
           3,
           130
          ],
          [
           "Rental unit in Genève · ★4.40 · 1 bedroom · 1 bed · 1 private bath",
           "Private room",
           1,
           53
          ],
          [
           "Rental unit in Genève · ★5.0 · 1 bedroom · 2 beds · 1 bath",
           "Entire home/apt",
           4,
           141
          ],
          [
           "Rental unit in Bardonnex · 2 bedrooms · 2 beds · 2 baths",
           "Entire home/apt",
           4,
           159
          ],
          [
           "Bed and breakfast in Veyrier · 1 bedroom · 1 bed · 1 bath",
           "Private room",
           1,
           57
          ],
          [
           "Rental unit in Chêne-Bougeries · 1 bedroom · 1 bed · 1 bath",
           "Entire home/apt",
           2,
           112
          ],
          [
           "Home in Lancy · 1 bedroom · 1 bed · 1 bath",
           "Private room",
           1,
           65
          ],
          [
           "Home in Pregny-Chambésy · 1 bedroom · 1 bed · 1 bath",
           "Entire home/apt",
           2,
           84
          ],
          [
           "Rental unit in Genève · 2 bedrooms · 2 beds · 1.5 baths",
           "Entire home/apt",
           4,
           300
          ],
          [
           "Townhouse in Thônex · ★4.29 · 3 bedrooms · 2 beds · 1.5 baths",
           "Entire home/apt",
           4,
           120
          ],
          [
           "Rental unit in Genève · 1 bedroom · 2 beds · 1 bath",
           "Entire home/apt",
           3,
           175
          ],
          [
           "Bed and breakfast in Genève · ★4.94 · 1 bedroom · 1 bed · 1 bath",
           "Private room",
           2,
           63
          ],
          [
           "Rental unit in Genève · ★4.75 · Studio · 1 bed · 1 bath",
           "Entire home/apt",
           2,
           82
          ],
          [
           "Rental unit in Genève · ★4.67 · Studio · 1 bed · 1 bath",
           "Entire home/apt",
           2,
           93
          ],
          [
           "Rental unit in Genève · ★4.33 · 1 bedroom · 2 beds · 1 bath",
           "Entire home/apt",
           4,
           109
          ],
          [
           "Rental unit in Genève · ★5.0 · 1 bedroom · 1 bed · 1 bath",
           "Entire home/apt",
           2,
           104
          ],
          [
           "Rental unit in Genève · 1 bedroom · 1 bed · 2 baths",
           "Entire home/apt",
           3,
           250
          ],
          [
           "Rental unit in Genève · 1 bedroom · 3 beds · 1 bath",
           "Entire home/apt",
           4,
           185
          ],
          [
           "Rental unit in Onex · 2 bedrooms · 2 beds · 1 bath",
           "Entire home/apt",
           2,
           64
          ],
          [
           "Rental unit in Genève · 1 bedroom · 1 bed · 1 bath",
           "Private room",
           2,
           65
          ],
          [
           "Rental unit in Genève · ★4.0 · 1 bedroom · 1 bed · 1 bath",
           "Entire home/apt",
           2,
           161
          ],
          [
           "Rental unit in Genève · ★4.67 · 1 bedroom · 1 bed · 1 bath",
           "Entire home/apt",
           2,
           127
          ],
          [
           "Rental unit in Genève · ★4.67 · 1 bedroom · 2 beds · 1 bath",
           "Entire home/apt",
           2,
           90
          ],
          [
           "Rental unit in Genève · 1 bedroom · 1 bed · 1 bath",
           "Entire home/apt",
           2,
           80
          ],
          [
           "Rental unit in Genève · 2 bedrooms · 2 beds · 1 bath",
           "Entire home/apt",
           3,
           140
          ],
          [
           "Rental unit in Genève · ★5.0 · 2 bedrooms · 2 beds · 1.5 baths",
           "Entire home/apt",
           4,
           400
          ],
          [
           "Rental unit in Genève · 1 bedroom · 1 bed · 1 bath",
           "Private room",
           1,
           31
          ],
          [
           "Rental unit in Genève · ★4.60 · Studio · 2 beds · 1 bath",
           "Entire home/apt",
           4,
           105
          ],
          [
           "Rental unit in Genève · ★4.96 · 1 bedroom · 1 bed · 1 shared bath",
           "Private room",
           2,
           100
          ],
          [
           "Rental unit in Genève · ★4.69 · 1 bedroom · 1 bed · 1 bath",
           "Entire home/apt",
           3,
           109
          ],
          [
           "Rental unit in Genève · ★5.0 · 1 bedroom · 1 bed · 1 bath",
           "Private room",
           2,
           81
          ],
          [
           "Rental unit in Chêne-Bourg · ★5.0 · 2 bedrooms · 2 beds · 1 bath",
           "Entire home/apt",
           4,
           225
          ],
          [
           "Condo in Genève · ★4.88 · 1 bedroom · 1 bed · 1 shared bath",
           "Private room",
           1,
           70
          ],
          [
           "Rental unit in Genève · Studio · 2 beds · 1 bath",
           "Entire home/apt",
           3,
           102
          ],
          [
           "Rental unit in Petit-Lancy · ★2.67 · 1 bedroom · 2 beds · 1 bath",
           "Entire home/apt",
           3,
           100
          ],
          [
           "Rental unit in Genève · ★5.0 · 1 bedroom · 1 bed · 2 shared baths",
           "Private room",
           1,
           74
          ],
          [
           "Rental unit in Genève · ★5.0 · 2 bedrooms · 2 beds · 1 bath",
           "Entire home/apt",
           4,
           269
          ],
          [
           "Rental unit in Le Grand-Saconnex · 1 bedroom · 1 bed · 1 bath",
           "Entire home/apt",
           1,
           121
          ],
          [
           "Rental unit in Genève · 1 bedroom · 1 bed · 1 bath",
           "Entire home/apt",
           3,
           170
          ],
          [
           "Rental unit in Genève · 1 bedroom · 1 bed · 1 bath",
           "Entire home/apt",
           2,
           89
          ],
          [
           "Rental unit in Genève · 1 bedroom · 1 bed · 1 bath",
           "Entire home/apt",
           2,
           156
          ],
          [
           "Rental unit in Genève · 2 bedrooms · 2 beds · 1 bath",
           "Entire home/apt",
           4,
           151
          ],
          [
           "Rental unit in Genève · ★5.0 · 2 bedrooms · 2 beds · 1 bath",
           "Entire home/apt",
           5,
           130
          ],
          [
           "Rental unit in Genève · 2 bedrooms · 2 beds · 1 shared bath",
           "Private room",
           2,
           120
          ],
          [
           "Rental unit in Genève · 1 bedroom · 1 bed · 1 bath",
           "Private room",
           2,
           81
          ],
          [
           "Rental unit in Genève · ★4.75 · 2 bedrooms · 2 beds · 1 bath",
           "Entire home/apt",
           5,
           100
          ],
          [
           "Rental unit in Genève · 2 bedrooms · 2 beds · 2.5 baths",
           "Entire home/apt",
           4,
           280
          ],
          [
           "Rental unit in Genève · ★4.90 · 1 bedroom · 2 beds · 1 shared bath",
           "Shared room",
           1,
           40
          ],
          [
           "Rental unit in Genève · ★4.38 · 1 bedroom · 1 bed · 1.5 shared baths",
           "Private room",
           1,
           50
          ],
          [
           "Rental unit in Genève · ★4.78 · 1 bedroom · 1 bed · 1 bath",
           "Entire home/apt",
           2,
           95
          ],
          [
           "Rental unit in Genève · ★5.0 · 2 bedrooms · 3 beds · 1 bath",
           "Entire home/apt",
           4,
           150
          ],
          [
           "Rental unit in Genève · 1 bedroom · 2 beds · 1 bath",
           "Entire home/apt",
           4,
           215
          ],
          [
           "Villa in Lancy · ★4.67 · 1 bedroom · 1 bed · 1.5 baths",
           "Private room",
           1,
           29
          ],
          [
           "Home in Pregny-Chambésy · 2 bedrooms · 3 beds · 1.5 baths",
           "Private room",
           2,
           76
          ],
          [
           "Rental unit in Genève · 1 bedroom · 1 bed · Half-bath",
           "Private room",
           2,
           115
          ],
          [
           "Rental unit in Genève · ★4.75 · 1 bedroom · 1 bed · 1 bath",
           "Entire home/apt",
           2,
           103
          ],
          [
           "Bed and breakfast in Lancy · ★4.75 · 1 bedroom · 1 bed · 2.5 shared baths",
           "Private room",
           1,
           33
          ],
          [
           "Home in Collonge-Bellerive · ★5.0 · 3 bedrooms · 4 beds · 1 bath",
           "Entire home/apt",
           6,
           210
          ],
          [
           "Rental unit in Thônex · 1 bedroom · 1 bed · 1 private bath",
           "Private room",
           2,
           56
          ],
          [
           "Rental unit in Genève · 1 bedroom · 1 bed · 1 bath",
           "Entire home/apt",
           2,
           81
          ],
          [
           "Hotel in Genève · 2 bedrooms · 3 beds · 2 baths",
           "Private room",
           4,
           180
          ],
          [
           "Rental unit in Genève · 2 bedrooms · 2 beds · 1 bath",
           "Entire home/apt",
           3,
           100
          ],
          [
           "Rental unit in Carouge · 1 bedroom · 1 bed · 1 bath",
           "Entire home/apt",
           2,
           75
          ],
          [
           "Rental unit in Genève · 1 bedroom · 1 bed · 1 bath",
           "Private room",
           2,
           75
          ],
          [
           "Rental unit in Genève · 1 bedroom · 1 bed · 1.5 shared baths",
           "Private room",
           1,
           118
          ],
          [
           "Rental unit in Lancy · 1 bedroom · 1 bed · 1 bath",
           "Private room",
           1,
           79
          ],
          [
           "Hotel in Genève · 1 bedroom · 1 bed · 1 bath",
           "Private room",
           2,
           120
          ],
          [
           "Hotel in Genève · 1 bedroom · 1 bed · 1 bath",
           "Private room",
           2,
           120
          ],
          [
           "Hotel in Genève · 1 bedroom · 1 bed · 1 bath",
           "Private room",
           1,
           100
          ],
          [
           "Rental unit in Genève · 2 bedrooms · 2 beds · 1.5 baths",
           "Entire home/apt",
           4,
           250
          ],
          [
           "Hotel in Genève · 1 bedroom · 1 bed · 1 bath",
           "Private room",
           1,
           100
          ],
          [
           "Hotel in Genève · 1 bedroom · 1 bed · 1 bath",
           "Private room",
           1,
           100
          ],
          [
           "Bed and breakfast in Genève · ★5.0 · 1 bedroom · 1 bed · 1 bath",
           "Private room",
           2,
           100
          ],
          [
           "Rental unit in Corsier · 2 bedrooms · 2 beds · 1 bath",
           "Entire home/apt",
           4,
           170
          ],
          [
           "Rental unit in Genève · 2 bedrooms · 2 beds · 1.5 baths",
           "Entire home/apt",
           4,
           117
          ],
          [
           "Rental unit in Genève · 1 bedroom · 1 bed · 1.5 baths",
           "Private room",
           2,
           86
          ],
          [
           "Rental unit in Genève · ★4.68 · 1 bedroom · 2 beds · 1 bath",
           "Entire home/apt",
           3,
           160
          ],
          [
           "Rental unit in Genève · 1 bedroom · 1 bed · 2 baths",
           "Private room",
           1,
           72
          ],
          [
           "Villa in Vésenaz · 1 bedroom · 1 bed · 1.5 baths",
           "Private room",
           2,
           145
          ],
          [
           "Rental unit in Genève · 1 bedroom · 1 bed · 1 bath",
           "Private room",
           1,
           60
          ],
          [
           "Rental unit in Genève · 1 bedroom · 1 bed · 2 baths",
           "Private room",
           2,
           75
          ],
          [
           "Rental unit in Champel · 1 bedroom · 1 bed · 1 bath",
           "Entire home/apt",
           2,
           82
          ],
          [
           "Home in Genthod · 4 bedrooms · 4 beds · 1.5 baths",
           "Entire home/apt",
           8,
           230
          ],
          [
           "Rental unit in Genève · 1 bedroom · 2 beds · 1 bath",
           "Entire home/apt",
           3,
           138
          ],
          [
           "Rental unit in Genève · 1 bedroom · 1 bed · 1 bath",
           "Entire home/apt",
           1,
           120
          ],
          [
           "Home in Lancy · ★4.60 · 1 bedroom · 1 bed · 1.5 shared baths",
           "Private room",
           1,
           30
          ],
          [
           "Rental unit in Genève · ★5.0 · 1 bedroom · 1 bed · 1 private bath",
           "Private room",
           2,
           69
          ],
          [
           "Rental unit in Genève · 2 bedrooms · 3 beds · 1 bath",
           "Entire home/apt",
           4,
           169
          ],
          [
           "Rental unit in Genève · 1 bedroom · 1 bed · 1.5 baths",
           "Entire home/apt",
           2,
           80
          ],
          [
           "Rental unit in Genève · 1 bedroom · 1 bed · 1 bath",
           "Entire home/apt",
           3,
           100
          ],
          [
           "Rental unit in Genève · 1 bedroom · 1 bed · 1.5 baths",
           "Entire home/apt",
           2,
           118
          ],
          [
           "Rental unit in Vernier · ★New · 3 bedrooms · 3 beds · 1 bath",
           "Entire home/apt",
           3,
           180
          ],
          [
           "Home in Vernier · 1 bedroom · 1 bed · 2 baths",
           "Private room",
           2,
           82
          ],
          [
           "Rental unit in Genève · 1 bedroom · 1 bed · 1 bath",
           "Entire home/apt",
           2,
           167
          ],
          [
           "Rental unit in Geneva · ★New · 2 bedrooms · 3 beds · 1 bath",
           "Entire home/apt",
           4,
           266
          ],
          [
           "Rental unit in Genève · 2 bedrooms · 2 beds · 2 baths",
           "Entire home/apt",
           4,
           400
          ],
          [
           "Rental unit in Genève · 1 bedroom · 1 bed · 1 bath",
           "Entire home/apt",
           2,
           110
          ],
          [
           "Home in Veyrier · 1 bedroom · 1 bed · 1 shared bath",
           "Private room",
           1,
           60
          ],
          [
           "Home in Collonge-Bellerive · ★5.0 · 4 bedrooms · 3 beds · 2.5 baths",
           "Entire home/apt",
           7,
           210
          ],
          [
           "Rental unit in Genève · ★4.77 · 1 bedroom · 1 bed · 1 bath",
           "Entire home/apt",
           2,
           88
          ],
          [
           "Bed and breakfast in Genève · 1 bedroom · 1 bed · 1 private bath",
           "Private room",
           2,
           62
          ],
          [
           "Rental unit in Petit-Lancy · ★New · 1 bedroom · 1 bed · 1 shared bath",
           "Private room",
           1,
           60
          ],
          [
           "Rental unit in Genève · ★3.63 · 1 bedroom · 1 bed · 1 bath",
           "Entire home/apt",
           4,
           150
          ],
          [
           "Rental unit in Genève · ★New · 1 bedroom · 1 bed · 1.5 baths",
           "Entire home/apt",
           2,
           198
          ],
          [
           "Rental unit in Genève · ★5.0 · 1 bedroom · 2 beds · 1 bath",
           "Entire home/apt",
           3,
           150
          ],
          [
           "Rental unit in Chêne-Bougeries · 2 bedrooms · 2 beds · 1 bath",
           "Entire home/apt",
           6,
           223
          ],
          [
           "Rental unit in Petit-Lancy · 1 bedroom · 1 bed · 1 bath",
           "Private room",
           2,
           80
          ],
          [
           "Rental unit in Meinier · ★New · 1 bedroom · 1 bed · 1 bath",
           "Entire home/apt",
           2,
           90
          ],
          [
           "Rental unit in Genève · ★4.60 · Studio · 1 bed · 1 bath",
           "Entire home/apt",
           4,
           100
          ],
          [
           "Rental unit in Plan-les-Ouates · ★5.0 · 1 bedroom · 2 beds · 1.5 baths",
           "Entire home/apt",
           4,
           125
          ],
          [
           "Rental unit in Genève · 1 bedroom · 2 beds · 1 bath",
           "Private room",
           2,
           60
          ],
          [
           "Rental unit in Genève · ★5.0 · 1 bedroom · 1 bed · 1.5 baths",
           "Entire home/apt",
           2,
           198
          ],
          [
           "Home in Le Grand-Saconnex · ★5.0 · 1 bedroom · 1 bed · 1 bath",
           "Private room",
           2,
           85
          ],
          [
           "Rental unit in Genf · ★5.0 · Studio · 1 bed · 1 bath",
           "Entire home/apt",
           2,
           94
          ],
          [
           "Rental unit in Chêne-Bougeries · ★New · 1 bedroom · 1 bed · 1 bath",
           "Entire home/apt",
           2,
           190
          ],
          [
           "Rental unit in Genève · ★4.86 · 1 bedroom · 1 bed · 1 bath",
           "Entire home/apt",
           2,
           136
          ],
          [
           "Rental unit in Genève · 1 bedroom · 1 bed · 1 bath",
           "Entire home/apt",
           2,
           140
          ],
          [
           "Rental unit in Genève · 1 bedroom · 1 bed · 1 bath",
           "Entire home/apt",
           2,
           80
          ],
          [
           "Rental unit in Genève · ★5.0 · 1 bedroom · 1 bed · 1 shared bath",
           "Private room",
           2,
           150
          ],
          [
           "Rental unit in Genève · ★5.0 · 2 bedrooms · 2 beds · 2 baths",
           "Entire home/apt",
           4,
           500
          ],
          [
           "Rental unit in Genève · ★New · 1 bedroom · 1 bed · 1 bath",
           "Entire home/apt",
           2,
           100
          ],
          [
           "Rental unit in Genève · ★4.80 · Studio · 1 bed · 1 shared bath",
           "Private room",
           2,
           82
          ],
          [
           "Rental unit in Genève · ★5.0 · 1 bedroom · 1 bed · 1 bath",
           "Entire home/apt",
           3,
           106
          ],
          [
           "Rental unit in Vernier · ★New · 1 bedroom · 1 bed · 1.5 baths",
           "Private room",
           2,
           110
          ],
          [
           "Bed and breakfast in Lancy · ★New · 1 bedroom · 1 bed · 1 bath",
           "Private room",
           1,
           60
          ],
          [
           "Bed and breakfast in Genève · ★5.0 · 1 bedroom · 1 bed · 1 shared bath",
           "Private room",
           2,
           75
          ],
          [
           "Bed and breakfast in Genève · ★4.83 · 1 bedroom · 1 bed · 1 shared bath",
           "Private room",
           2,
           60
          ],
          [
           "Rental unit in Genève · ★New · 1 bedroom · 1 bed · 1 bath",
           "Entire home/apt",
           2,
           129
          ],
          [
           "Rental unit in Genève · ★New · 2 bedrooms · 2 beds · 2 baths",
           "Entire home/apt",
           4,
           250
          ],
          [
           "Rental unit in Genève · ★4.80 · 1 bedroom · 1 bed · 2 shared baths",
           "Private room",
           1,
           85
          ],
          [
           "Bed and breakfast in Cointrin · ★New · 1 bedroom · 1 bed · 1 bath",
           "Private room",
           1,
           40
          ],
          [
           "Rental unit in Genève · ★New · 1 bedroom · 2 beds · 1 bath",
           "Entire home/apt",
           4,
           140
          ],
          [
           "Rental unit in Genève · ★New · 1 bedroom · 1 bed · 1 bath",
           "Entire home/apt",
           2,
           100
          ],
          [
           "Rental unit in Genève · ★New · 1 bedroom · 1 bed · 1 bath",
           "Entire home/apt",
           2,
           110
          ],
          [
           "Rental unit in Genève · ★New · 1 bedroom · 2 beds · 1 bath",
           "Entire home/apt",
           3,
           203
          ],
          [
           "Rental unit in Genève · ★New · 1 bedroom · 2 beds · 1 bath",
           "Entire home/apt",
           3,
           180
          ],
          [
           "Rental unit in Le Grand-Saconnex · ★5.0 · 1 bedroom · 1 bed · 1 bath",
           "Private room",
           1,
           65
          ],
          [
           "Rental unit in Genève · ★New · 1 bedroom · 1 bed · 1 bath",
           "Entire home/apt",
           2,
           133
          ],
          [
           "Rental unit in Genève · ★4.60 · 1 bedroom · 1 bed · 1 bath",
           "Entire home/apt",
           2,
           101
          ],
          [
           "Rental unit in Meyrin · ★New · 1 bedroom · 1 bed · 1.5 shared baths",
           "Private room",
           2,
           78
          ],
          [
           "Condo in Genève · ★New · 1 bedroom · 3 beds · 1.5 shared baths",
           "Private room",
           3,
           150
          ],
          [
           "Rental unit in Genève · ★New · 1 bedroom · 1 bed · 1 bath",
           "Entire home/apt",
           3,
           400
          ],
          [
           "Rental unit in Genève · ★5.0 · 1 bedroom · 1 bed · 1 bath",
           "Entire home/apt",
           4,
           170
          ],
          [
           "Condo in Genève · ★New · 1 bedroom · 1 bed · 1.5 shared baths",
           "Private room",
           1,
           82
          ],
          [
           "Rental unit in Genève · ★New · 1 bedroom · 1 bed · 1 bath",
           "Entire home/apt",
           3,
           114
          ],
          [
           "Rental unit in Genève · ★New · 1 bedroom · 1 bed · 1 bath",
           "Entire home/apt",
           2,
           136
          ],
          [
           "Rental unit in Genève · ★New · 2 bedrooms · 2 beds · 1 bath",
           "Entire home/apt",
           4,
           178
          ],
          [
           "Home in Bernex · ★New · 1 bedroom · 1 bed · 1 bath",
           "Entire home/apt",
           2,
           69
          ],
          [
           "Loft in Versoix · ★5.0 · 1 bedroom · 1 bed · 1 bath",
           "Entire home/apt",
           2,
           100
          ],
          [
           "Rental unit in Genève · ★New · 3 bedrooms · 3 beds · 2 baths",
           "Entire home/apt",
           5,
           200
          ],
          [
           "Bed and breakfast in Genève · ★New · 1 bedroom · 1 bed · 1 private bath",
           "Private room",
           2,
           60
          ],
          [
           "Rental unit in Collex-Bossy · ★New · 1 bedroom · 2 beds · 1 bath",
           "Entire home/apt",
           4,
           99
          ],
          [
           "Rental unit in Genève · ★New · 1 bedroom · 1 bed · 1 bath",
           "Entire home/apt",
           2,
           90
          ],
          [
           "Bed and breakfast in Chêne-Bougeries · ★New · 1 bedroom · 1 bed · 1 bath",
           "Private room",
           2,
           200
          ],
          [
           "Rental unit in Veyrier · ★New · 3 bedrooms · 3 beds · 2 baths",
           "Entire home/apt",
           5,
           200
          ],
          [
           "Rental unit in Genève · ★5.0 · 1 bedroom · 1 bed · 1 bath",
           "Entire home/apt",
           2,
           90
          ],
          [
           "Rental unit in Genève · ★New · 2 bedrooms · 3 beds · 1.5 baths",
           "Entire home/apt",
           6,
           300
          ],
          [
           "Rental unit in Genève · ★4.57 · 1 bedroom · 2 beds · 1 bath",
           "Entire home/apt",
           4,
           105
          ],
          [
           "Rental unit in Genève · ★New · Studio · 1 bed · 1 bath",
           "Entire home/apt",
           1,
           120
          ],
          [
           "Rental unit in Genève · ★New · 1 bedroom · 1 bed · 1 bath",
           "Entire home/apt",
           1,
           69
          ],
          [
           "Rental unit in Genève · ★4.67 · 1 bedroom · 1 bed · 1.5 baths",
           "Private room",
           1,
           56
          ],
          [
           "Home in Thônex · ★New · 1 bedroom · 1 bed · 1 bath",
           "Private room",
           2,
           55
          ],
          [
           "Rental unit in Genève · ★New · 2 bedrooms · 2 beds · 1 bath",
           "Entire home/apt",
           4,
           300
          ],
          [
           "Hotel in Plan-les-Ouates · ★New · 1 bedroom · 1 bed · Half-bath",
           "Private room",
           2,
           157
          ],
          [
           "Hotel in Genève · ★New · 1 bedroom · 16 beds · 3 shared baths",
           "Shared room",
           16,
           68
          ],
          [
           "Rental unit in Genève · ★5.0 · Studio · 1 bed · 1 bath",
           "Entire home/apt",
           2,
           130
          ],
          [
           "Hotel in Cointrin · ★New · 1 bedroom · 1 bed · Half-bath",
           "Private room",
           2,
           188
          ],
          [
           "Hotel in Meyrin · ★New · 1 bedroom · 1 bed · Half-bath",
           "Private room",
           2,
           217
          ],
          [
           "Hotel in Cointrin · ★New · 1 bedroom · 1 bed · Half-bath",
           "Private room",
           2,
           202
          ],
          [
           "Hotel in Genève · ★New · 1 bedroom · 1 bed · Half-bath",
           "Private room",
           2,
           202
          ],
          [
           "Rental unit in Genève · ★New · 1 bedroom · 1 bed · 1 bath",
           "Entire home/apt",
           2,
           93
          ],
          [
           "Bed and breakfast in Genève · ★New · 1 bedroom · 1 bed · 1 bath",
           "Private room",
           2,
           65
          ],
          [
           "Hotel in Genève · ★New · 1 bedroom · 1 bed · Half-bath",
           "Private room",
           2,
           376
          ],
          [
           "Rental unit in Genève · ★New · 2 bedrooms · 2 beds · 2 baths",
           "Entire home/apt",
           4,
           220
          ],
          [
           "Hotel in Versoix · ★New · 1 bedroom · 1 bed · Half-bath",
           "Private room",
           2,
           295
          ],
          [
           "Bed and breakfast in Meyrin · ★New · 1 bedroom · 1 bed · Half-bath",
           "Private room",
           2,
           77
          ],
          [
           "Rental unit in Genève · ★5.0 · 1 bedroom · 1 bed · 1 bath",
           "Entire home/apt",
           4,
           107
          ],
          [
           "Bed and breakfast in Vernier · ★New · 1 bedroom · 2 beds · 1 private bath",
           "Private room",
           2,
           90
          ],
          [
           "Rental unit in Genève · ★5.0 · 1 bedroom · 1 bed · 1.5 baths",
           "Entire home/apt",
           2,
           95
          ],
          [
           "Rental unit in Carouge · ★New · 2 bedrooms · 2 beds · 1 bath",
           "Entire home/apt",
           4,
           279
          ],
          [
           "Rental unit in Genève · ★New · 1 bedroom · 2 beds · 1.5 baths",
           "Entire home/apt",
           3,
           156
          ],
          [
           "Hotel in Genève · ★New · 1 bedroom · 1 bed · Half-bath",
           "Private room",
           2,
           367
          ],
          [
           "Hotel in Genève · ★New · 1 bedroom · 1 bed · Half-bath",
           "Private room",
           2,
           314
          ],
          [
           "Bed and breakfast in Chêne-Bourg · ★New · 1 bedroom · 1 bed · 1 bath",
           "Private room",
           1,
           61
          ],
          [
           "Rental unit in Genève · ★4.67 · 1 bedroom · 1 bed · 1.5 baths",
           "Entire home/apt",
           2,
           83
          ],
          [
           "Bed and breakfast in Vernier · ★4.75 · 1 bedroom · 1 bed · 1.5 shared baths",
           "Private room",
           2,
           62
          ],
          [
           "Rental unit in Le Grand-Saconnex · ★New · 1 bedroom · 1 bed · 1 bath",
           "Private room",
           2,
           60
          ],
          [
           "Rental unit in Genève · ★4.50 · 1 bedroom · 1 bed · 1 bath",
           "Entire home/apt",
           2,
           100
          ],
          [
           "Rental unit in Genève · ★New · 1 bedroom · 1 bed · 1 bath",
           "Entire home/apt",
           2,
           132
          ],
          [
           "Rental unit in Petit-Lancy · ★New · 3 bedrooms · 3 beds · 1 bath",
           "Entire home/apt",
           6,
           151
          ],
          [
           "Rental unit in Genève · ★3.25 · 1 bedroom · 1 bed · 1 bath",
           "Entire home/apt",
           2,
           101
          ],
          [
           "Rental unit in Genève · ★New · 1 bedroom · 1 bed · 1 bath",
           "Entire home/apt",
           1,
           60
          ],
          [
           "Rental unit in Anières · ★New · 1 bedroom · 1 bed · 1 bath",
           "Entire home/apt",
           2,
           125
          ],
          [
           "Home in Bellevue · ★3.75 · 1 bedroom · 6 beds · 2.5 baths",
           "Entire home/apt",
           10,
           264
          ],
          [
           "Rental unit in Genève · ★New · 1 bedroom · 1 bed · 1 bath",
           "Entire home/apt",
           2,
           71
          ],
          [
           "Rental unit in Genève · ★New · 2 bedrooms · 2 beds · 1.5 baths",
           "Entire home/apt",
           4,
           156
          ],
          [
           "Rental unit in Genève · ★New · 1 bedroom · 1 bed · 1 shared bath",
           "Private room",
           2,
           56
          ],
          [
           "Rental unit in Genève · ★New · 1 bedroom · 1 bed · 1 bath",
           "Entire home/apt",
           2,
           100
          ],
          [
           "Rental unit in Genève · ★4.75 · 2 bedrooms · 2 beds · 1 bath",
           "Entire home/apt",
           4,
           209
          ],
          [
           "Bed and breakfast in Vernier · ★5.0 · 1 bedroom · 1 bed · 1 bath",
           "Private room",
           1,
           57
          ],
          [
           "Rental unit in Genf · ★New · 1 bedroom · 1 bed · 2 baths",
           "Entire home/apt",
           2,
           115
          ],
          [
           "Rental unit in Genève · ★3.40 · 1 bedroom · 2 beds · 1.5 baths",
           "Entire home/apt",
           4,
           90
          ],
          [
           "Rental unit in Genève · ★4.33 · 2 bedrooms · 2 beds · 1 bath",
           "Entire home/apt",
           4,
           132
          ],
          [
           "Rental unit in Genève · ★New · 1 bedroom · 1 bed · 1 bath",
           "Private room",
           1,
           57
          ],
          [
           "Rental unit in Genève · ★5.0 · 2 bedrooms · 1 bed · 1.5 baths",
           "Entire home/apt",
           4,
           170
          ],
          [
           "Rental unit in Genève · ★New · 2 bedrooms · 2 beds · 1 bath",
           "Entire home/apt",
           4,
           148
          ],
          [
           "Bed and breakfast in Genève · ★New · 1 bedroom · 1 bed · 1 shared bath",
           "Private room",
           2,
           64
          ],
          [
           "Rental unit in Chêne-Bourg · ★New · Studio · 1 bed · 1 bath",
           "Entire home/apt",
           2,
           75
          ],
          [
           "Rental unit in Genf · ★4.71 · Studio · 2 beds · 1 bath",
           "Entire home/apt",
           4,
           101
          ],
          [
           "Rental unit in Genève · ★New · 2 bedrooms · 3 beds · 1 bath",
           "Entire home/apt",
           6,
           135
          ],
          [
           "Rental unit in Genève · ★New · Studio · 2 beds · 1 bath",
           "Entire home/apt",
           4,
           109
          ],
          [
           "Rental unit in Genève · ★4.67 · 2 bedrooms · 2 beds · 1 bath",
           "Entire home/apt",
           4,
           210
          ],
          [
           "Rental unit in Genève · ★New · 1 bedroom · 1 bed · 1 bath",
           "Entire home/apt",
           2,
           150
          ],
          [
           "Rental unit in Genève · ★4.67 · 1 bedroom · 1 bed · 1 bath",
           "Private room",
           1,
           52
          ],
          [
           "Rental unit in Genève · ★New · 1 bedroom · 1 bed · 1 bath",
           "Entire home/apt",
           2,
           150
          ],
          [
           "Rental unit in Genève · ★New · 1 bedroom · 2 beds · 1 bath",
           "Entire home/apt",
           2,
           100
          ],
          [
           "Rental unit in Genève · ★New · Studio · 2 beds · 1 bath",
           "Entire home/apt",
           4,
           112
          ],
          [
           "Rental unit in Genève · ★4.75 · 1 bedroom · 1 bed · 1 bath",
           "Entire home/apt",
           2,
           105
          ],
          [
           "Rental unit in Genève · ★New · 1 bedroom · 1 bed · 1 bath",
           "Entire home/apt",
           1,
           105
          ],
          [
           "Condo in Genève · ★5.0 · 1 bedroom · 1 bed · 1.5 baths",
           "Entire home/apt",
           2,
           109
          ],
          [
           "Rental unit in Chêne-Bourg · ★New · 1 bedroom · 1 bed · 1 bath",
           "Entire home/apt",
           2,
           85
          ],
          [
           "Rental unit in Genève · ★New · 1 bedroom · 1 bed · 1 bath",
           "Entire home/apt",
           3,
           180
          ],
          [
           "Rental unit in Genève · ★New · Studio · 1 bed · 1 bath",
           "Entire home/apt",
           2,
           100
          ],
          [
           "Rental unit in Genève · ★New · 1 bedroom · 1 bed · 1.5 baths",
           "Private room",
           2,
           65
          ],
          [
           "Rental unit in Carouge · ★New · 2 bedrooms · 2 beds · 2 baths",
           "Entire home/apt",
           4,
           195
          ],
          [
           "Rental unit in Petit-Lancy · ★New · 1 bedroom · 1 bed · 1 bath",
           "Entire home/apt",
           4,
           100
          ],
          [
           "Rental unit in Genève · ★New · 1 bedroom · 2 beds · 1 bath",
           "Entire home/apt",
           4,
           180
          ],
          [
           "Rental unit in Versoix · ★New · 1 bedroom · 3 beds · 1 bath",
           "Entire home/apt",
           4,
           130
          ],
          [
           "Rental unit in Genève · ★New · 2 bedrooms · 3 beds · 1 bath",
           "Entire home/apt",
           5,
           146
          ],
          [
           "Rental unit in Genève · ★New · 1 bedroom · 2 beds · 1 bath",
           "Entire home/apt",
           2,
           150
          ],
          [
           "Rental unit in Genève · ★New · 1 bedroom · 1 bed · 1 bath",
           "Entire home/apt",
           2,
           110
          ],
          [
           "Rental unit in Genève · ★New · 1 bedroom · 1 bed · 1 bath",
           "Entire home/apt",
           2,
           179
          ],
          [
           "Rental unit in Genève · ★New · 1 bedroom · 2 beds · 2 baths",
           "Entire home/apt",
           4,
           157
          ],
          [
           "Bed and breakfast in Le Grand-Saconnex · ★New · 1 bedroom · 1 bed · 1.5 shared baths",
           "Private room",
           2,
           98
          ],
          [
           "Rental unit in Genève · ★New · 1 bedroom · 2 beds · 1 bath",
           "Entire home/apt",
           3,
           120
          ],
          [
           "Rental unit in Genève · ★New · 1 bedroom · 2 beds · 1 bath",
           "Entire home/apt",
           4,
           110
          ],
          [
           "Rental unit in Genève · ★New · 1 bedroom · 2 beds · 1 bath",
           "Entire home/apt",
           4,
           98
          ],
          [
           "Rental unit in Genève · ★New · 1 bedroom · 1 bed · 2 baths",
           "Private room",
           1,
           74
          ],
          [
           "Rental unit in Genève · ★New · 1 bedroom · 1 bed · 1 bath",
           "Entire home/apt",
           2,
           190
          ],
          [
           "Rental unit in Vandœuvres · ★New · 1 bedroom · 1 bed · 1 bath",
           "Entire home/apt",
           2,
           165
          ],
          [
           "Rental unit in Genève · ★New · 1 bedroom · 1 bed · 1 bath",
           "Entire home/apt",
           2,
           180
          ],
          [
           "Rental unit in Genève · ★New · Studio · 1 bed · 1 bath",
           "Entire home/apt",
           2,
           89
          ],
          [
           "Rental unit in Chêne-Bourg · ★New · 1 bedroom · 1 bed · 1.5 baths",
           "Entire home/apt",
           2,
           80
          ],
          [
           "Rental unit in Genève · ★New · 1 bedroom · 1 bed · 1 bath",
           "Entire home/apt",
           2,
           145
          ],
          [
           "Bed and breakfast in Genève · ★New · 1 bedroom · 1 bed · 1 bath",
           "Private room",
           1,
           73
          ],
          [
           "Rental unit in Genève · ★New · Studio · 2 beds · 1.5 baths",
           "Entire home/apt",
           3,
           89
          ],
          [
           "Rental unit in Le Grand-Saconnex · ★5.0 · 1 bedroom · 1 bed · 1 bath",
           "Entire home/apt",
           2,
           90
          ],
          [
           "Condo in Genève · ★New · 1 bedroom · 2 beds · 1.5 shared baths",
           "Private room",
           3,
           108
          ],
          [
           "Rental unit in Chêne-Bourg · ★New · 2 bedrooms · 2 beds · 1 bath",
           "Entire home/apt",
           4,
           120
          ],
          [
           "Rental unit in Genève · ★New · 1 bedroom · 1 bed · 1 bath",
           "Entire home/apt",
           2,
           113
          ],
          [
           "Rental unit in Cologny · ★New · 2 bedrooms · 3 beds · 1 bath",
           "Entire home/apt",
           4,
           295
          ],
          [
           "Rental unit in Genève · ★New · 1 bedroom · 1 bed · 1.5 baths",
           "Entire home/apt",
           2,
           290
          ],
          [
           "Rental unit in Genève · ★New · 1 bedroom · 1 bed · 1 bath",
           "Entire home/apt",
           2,
           100
          ],
          [
           "Rental unit in Genève · ★New · 1 bedroom · 1 bed · 1 private bath",
           "Private room",
           2,
           80
          ],
          [
           "Condo in Genève · ★New · 2 bedrooms · 2 beds · 1.5 baths",
           "Entire home/apt",
           4,
           82
          ],
          [
           "Farm stay in Puplinge · ★New · 1 bedroom · 1 bed · 1 bath",
           "Entire home/apt",
           2,
           52
          ],
          [
           "Rental unit in Versoix · ★New · 1 bedroom · 1 bed · 1 bath",
           "Entire home/apt",
           2,
           110
          ],
          [
           "Rental unit in Genève · ★New · 1 bedroom · 1 bed · 1 bath",
           "Entire home/apt",
           4,
           100
          ],
          [
           "Home in Le Grand-Saconnex · ★New · 1 bedroom · 1 bed · 1 shared bath",
           "Private room",
           1,
           60
          ],
          [
           "Rental unit in Genève · ★New · Studio · 1 bed · 1 bath",
           "Entire home/apt",
           2,
           86
          ],
          [
           "Rental unit in Genève · ★New · 2 bedrooms · 3 beds · 2 baths",
           "Entire home/apt",
           5,
           193
          ],
          [
           "Rental unit in Genève · ★New · 2 bedrooms · 2 beds · 1 bath",
           "Entire home/apt",
           4,
           190
          ],
          [
           "Rental unit in Le Grand-Saconnex · ★New · 1 bedroom · 2 beds · 1 bath",
           "Entire home/apt",
           4,
           216
          ],
          [
           "Rental unit in Genève · ★New · 1 bedroom · 2 beds · 1 bath",
           "Private room",
           1,
           90
          ],
          [
           "Rental unit in Genève · ★New · 1 bedroom · 1 bed · 1 bath",
           "Entire home/apt",
           2,
           110
          ],
          [
           "Rental unit in Genève · ★New · 1 bedroom · 1 bed · 1 bath",
           "Entire home/apt",
           3,
           128
          ],
          [
           "Rental unit in Genève · ★New · 1 bedroom · 1 bed · 1 bath",
           "Private room",
           2,
           93
          ],
          [
           "Rental unit in Genève · ★New · 1 bedroom · 2 beds · 1 bath",
           "Entire home/apt",
           4,
           101
          ],
          [
           "Rental unit in Genève · ★New · 1 bedroom · 1 bed · 1 bath",
           "Entire home/apt",
           2,
           139
          ],
          [
           "Rental unit in Genève · ★New · 1 bedroom · 1 bed · 1 bath",
           "Entire home/apt",
           3,
           100
          ],
          [
           "Bed and breakfast in Carouge · ★New · 1 bedroom · 1 bed · 1 bath",
           "Private room",
           1,
           57
          ],
          [
           "Rental unit in Genève · ★New · 1 bedroom · 1 bed · 1 bath",
           "Entire home/apt",
           2,
           97
          ],
          [
           "Rental unit in Genève · ★New · 2 bedrooms · 2 beds · 1 bath",
           "Entire home/apt",
           4,
           120
          ],
          [
           "Rental unit in Genève · ★New · 1 bedroom · 2 beds · 1 bath",
           "Entire home/apt",
           4,
           143
          ],
          [
           "Rental unit in Cologny · ★New · 1 bedroom · 1 bed · 1 bath",
           "Entire home/apt",
           2,
           250
          ],
          [
           "Rental unit in Genève · ★New · 3 bedrooms · 3 beds · 3 baths",
           "Entire home/apt",
           4,
           1888
          ],
          [
           "Rental unit in Genève · ★New · 2 bedrooms · 3 beds · 2 baths",
           "Entire home/apt",
           5,
           166
          ],
          [
           "Rental unit in Genève · ★New · 1 bedroom · 1 bed · 1 shared bath",
           "Shared room",
           4,
           44
          ],
          [
           "Rental unit in Genève · ★New · 2 bedrooms · 2 beds · 1.5 baths",
           "Entire home/apt",
           4,
           264
          ],
          [
           "Rental unit in Genève · ★New · 1 bedroom · 1 bed · 1 bath",
           "Entire home/apt",
           1,
           80
          ],
          [
           "Home in Pregny-Chambésy · ★New · 1 bedroom · 1 bed · 1.5 shared baths",
           "Private room",
           2,
           80
          ],
          [
           "Rental unit in Versoix · ★New · 2 bedrooms · 3 beds · 1 bath",
           "Entire home/apt",
           4,
           180
          ],
          [
           "Rental unit in Genève · ★New · 1 bedroom · 1 bed · 1 bath",
           "Entire home/apt",
           2,
           110
          ],
          [
           "Rental unit in Genève · ★New · 1 bedroom · 1 bed · 1 bath",
           "Entire home/apt",
           2,
           74
          ],
          [
           "Rental unit in Genève · ★New · 1 bedroom · 1 bed · 1 bath",
           "Entire home/apt",
           4,
           200
          ],
          [
           "Rental unit in Genève · ★New · 1 bedroom · 1 bed · 1 bath",
           "Private room",
           1,
           80
          ],
          [
           "Rental unit in Lancy · ★New · 1 bedroom · 1 bed · 1 bath",
           "Entire home/apt",
           2,
           118
          ],
          [
           "Rental unit in Genève · ★New · 2 bedrooms · 2 beds · 1 bath",
           "Entire home/apt",
           3,
           124
          ],
          [
           "Rental unit in Lancy · ★New · 1 bedroom · 1 bed · 1 bath",
           "Private room",
           1,
           60
          ],
          [
           "Rental unit in Genève · ★New · 4 bedrooms · 4 beds · 5 baths",
           "Entire home/apt",
           8,
           482
          ]
         ],
         "hovertemplate": "<b>%{hovertext}</b><br><br>latitude=%{lat}<br>longitude=%{lon}<br>name=%{customdata[0]}<br>room_type=%{customdata[1]}<br>accommodates=%{customdata[2]}<br>price=%{marker.color}<extra></extra>",
         "hovertext": [
          "Commune de Genève",
          "Commune de Genève",
          "Commune de Genève",
          "Versoix",
          "Commune de Genève",
          "Commune de Genève",
          "Commune de Genève",
          "Commune de Genève",
          "Commune de Genève",
          "Commune de Genève",
          "Commune de Genève",
          "Commune de Genève",
          "Commune de Genève",
          "Commune de Genève",
          "Commune de Genève",
          "Commune de Genève",
          "Commune de Genève",
          "Commune de Genève",
          "Commune de Genève",
          "Commune de Genève",
          "Commune de Genève",
          "Commune de Genève",
          "Commune de Genève",
          "Commune de Genève",
          "Commune de Genève",
          "Commune de Genève",
          "Commune de Genève",
          "Commune de Genève",
          "Commune de Genève",
          "Genthod",
          "Commune de Genève",
          "Grand-Saconnex",
          "Satigny",
          "Commune de Genève",
          "Grand-Saconnex",
          "Meinier",
          "Commune de Genève",
          "Vernier",
          "Commune de Genève",
          "Commune de Genève",
          "Chêne-Bourg",
          "Commune de Genève",
          "Commune de Genève",
          "Commune de Genève",
          "Commune de Genève",
          "Commune de Genève",
          "Bellevue",
          "Commune de Genève",
          "Commune de Genève",
          "Versoix",
          "Commune de Genève",
          "Veyrier",
          "Commune de Genève",
          "Commune de Genève",
          "Commune de Genève",
          "Commune de Genève",
          "Commune de Genève",
          "Commune de Genève",
          "Commune de Genève",
          "Commune de Genève",
          "Commune de Genève",
          "Commune de Genève",
          "Commune de Genève",
          "Commune de Genève",
          "Commune de Genève",
          "Commune de Genève",
          "Commune de Genève",
          "Commune de Genève",
          "Commune de Genève",
          "Commune de Genève",
          "Commune de Genève",
          "Carouge",
          "Thônex",
          "Commune de Genève",
          "Vernier",
          "Commune de Genève",
          "Commune de Genève",
          "Commune de Genève",
          "Chêne-Bougeries",
          "Commune de Genève",
          "Commune de Genève",
          "Cologny",
          "Commune de Genève",
          "Plan-les-Ouates",
          "Commune de Genève",
          "Commune de Genève",
          "Commune de Genève",
          "Vernier",
          "Plan-les-Ouates",
          "Commune de Genève",
          "Commune de Genève",
          "Commune de Genève",
          "Commune de Genève",
          "Commune de Genève",
          "Plan-les-Ouates",
          "Chêne-Bougeries",
          "Commune de Genève",
          "Vernier",
          "Commune de Genève",
          "Commune de Genève",
          "Carouge",
          "Commune de Genève",
          "Commune de Genève",
          "Commune de Genève",
          "Genthod",
          "Onex",
          "Commune de Genève",
          "Carouge",
          "Commune de Genève",
          "Onex",
          "Commune de Genève",
          "Commune de Genève",
          "Commune de Genève",
          "Commune de Genève",
          "Commune de Genève",
          "Veyrier",
          "Commune de Genève",
          "Vernier",
          "Meyrin",
          "Commune de Genève",
          "Commune de Genève",
          "Commune de Genève",
          "Commune de Genève",
          "Commune de Genève",
          "Commune de Genève",
          "Commune de Genève",
          "Commune de Genève",
          "Commune de Genève",
          "Commune de Genève",
          "Commune de Genève",
          "Commune de Genève",
          "Commune de Genève",
          "Vandoeuvres",
          "Commune de Genève",
          "Pregny-Chambésy",
          "Commune de Genève",
          "Commune de Genève",
          "Lancy",
          "Commune de Genève",
          "Chêne-Bougeries",
          "Commune de Genève",
          "Commune de Genève",
          "Commune de Genève",
          "Commune de Genève",
          "Commune de Genève",
          "Confignon",
          "Commune de Genève",
          "Commune de Genève",
          "Commune de Genève",
          "Commune de Genève",
          "Grand-Saconnex",
          "Carouge",
          "Grand-Saconnex",
          "Commune de Genève",
          "Commune de Genève",
          "Confignon",
          "Commune de Genève",
          "Commune de Genève",
          "Commune de Genève",
          "Thônex",
          "Commune de Genève",
          "Commune de Genève",
          "Commune de Genève",
          "Commune de Genève",
          "Meyrin",
          "Commune de Genève",
          "Commune de Genève",
          "Commune de Genève",
          "Commune de Genève",
          "Commune de Genève",
          "Chêne-Bougeries",
          "Commune de Genève",
          "Collonge-Bellerive",
          "Commune de Genève",
          "Commune de Genève",
          "Commune de Genève",
          "Commune de Genève",
          "Cologny",
          "Commune de Genève",
          "Commune de Genève",
          "Commune de Genève",
          "Bellevue",
          "Commune de Genève",
          "Genthod",
          "Commune de Genève",
          "Commune de Genève",
          "Commune de Genève",
          "Thônex",
          "Commune de Genève",
          "Meyrin",
          "Commune de Genève",
          "Commune de Genève",
          "Commune de Genève",
          "Commune de Genève",
          "Commune de Genève",
          "Commune de Genève",
          "Commune de Genève",
          "Chêne-Bourg",
          "Commune de Genève",
          "Vernier",
          "Grand-Saconnex",
          "Commune de Genève",
          "Onex",
          "Grand-Saconnex",
          "Commune de Genève",
          "Commune de Genève",
          "Commune de Genève",
          "Commune de Genève",
          "Commune de Genève",
          "Commune de Genève",
          "Carouge",
          "Commune de Genève",
          "Commune de Genève",
          "Commune de Genève",
          "Commune de Genève",
          "Commune de Genève",
          "Bardonnex",
          "Commune de Genève",
          "Commune de Genève",
          "Commune de Genève",
          "Chêne-Bougeries",
          "Veyrier",
          "Commune de Genève",
          "Commune de Genève",
          "Commune de Genève",
          "Bellevue",
          "Commune de Genève",
          "Commune de Genève",
          "Thônex",
          "Commune de Genève",
          "Vernier",
          "Commune de Genève",
          "Commune de Genève",
          "Commune de Genève",
          "Commune de Genève",
          "Pregny-Chambésy",
          "Commune de Genève",
          "Commune de Genève",
          "Commune de Genève",
          "Onex",
          "Commune de Genève",
          "Commune de Genève",
          "Onex",
          "Commune de Genève",
          "Commune de Genève",
          "Commune de Genève",
          "Commune de Genève",
          "Bellevue",
          "Commune de Genève",
          "Commune de Genève",
          "Commune de Genève",
          "Commune de Genève",
          "Grand-Saconnex",
          "Commune de Genève",
          "Plan-les-Ouates",
          "Carouge",
          "Commune de Genève",
          "Vernier",
          "Commune de Genève",
          "Commune de Genève",
          "Commune de Genève",
          "Commune de Genève",
          "Commune de Genève",
          "Commune de Genève",
          "Commune de Genève",
          "Commune de Genève",
          "Versoix",
          "Veyrier",
          "Commune de Genève",
          "Commune de Genève",
          "Commune de Genève",
          "Cologny",
          "Commune de Genève",
          "Commune de Genève",
          "Commune de Genève",
          "Commune de Genève",
          "Commune de Genève",
          "Commune de Genève",
          "Chêne-Bougeries",
          "Commune de Genève",
          "Commune de Genève",
          "Commune de Genève",
          "Commune de Genève",
          "Commune de Genève",
          "Commune de Genève",
          "Carouge",
          "Commune de Genève",
          "Commune de Genève",
          "Lancy",
          "Satigny",
          "Commune de Genève",
          "Commune de Genève",
          "Commune de Genève",
          "Genthod",
          "Grand-Saconnex",
          "Commune de Genève",
          "Commune de Genève",
          "Commune de Genève",
          "Commune de Genève",
          "Versoix",
          "Versoix",
          "Commune de Genève",
          "Commune de Genève",
          "Commune de Genève",
          "Cologny",
          "Commune de Genève",
          "Commune de Genève",
          "Onex",
          "Commune de Genève",
          "Pregny-Chambésy",
          "Commune de Genève",
          "Commune de Genève",
          "Vernier",
          "Commune de Genève",
          "Grand-Saconnex",
          "Commune de Genève",
          "Commune de Genève",
          "Collonge-Bellerive",
          "Commune de Genève",
          "Commune de Genève",
          "Commune de Genève",
          "Commune de Genève",
          "Thônex",
          "Carouge",
          "Commune de Genève",
          "Versoix",
          "Commune de Genève",
          "Commune de Genève",
          "Commune de Genève",
          "Chêne-Bougeries",
          "Lancy",
          "Commune de Genève",
          "Meyrin",
          "Commune de Genève",
          "Commune de Genève",
          "Bellevue",
          "Commune de Genève",
          "Commune de Genève",
          "Vernier",
          "Commune de Genève",
          "Grand-Saconnex",
          "Commune de Genève",
          "Veyrier",
          "Onex",
          "Genthod",
          "Commune de Genève",
          "Commune de Genève",
          "Commune de Genève",
          "Commune de Genève",
          "Commune de Genève",
          "Commune de Genève",
          "Commune de Genève",
          "Commune de Genève",
          "Commune de Genève",
          "Commune de Genève",
          "Cologny",
          "Commune de Genève",
          "Commune de Genève",
          "Commune de Genève",
          "Commune de Genève",
          "Commune de Genève",
          "Commune de Genève",
          "Commune de Genève",
          "Commune de Genève",
          "Commune de Genève",
          "Meyrin",
          "Commune de Genève",
          "Commune de Genève",
          "Commune de Genève",
          "Commune de Genève",
          "Commune de Genève",
          "Grand-Saconnex",
          "Lancy",
          "Commune de Genève",
          "Soral",
          "Commune de Genève",
          "Bellevue",
          "Chêne-Bougeries",
          "Commune de Genève",
          "Commune de Genève",
          "Commune de Genève",
          "Commune de Genève",
          "Commune de Genève",
          "Commune de Genève",
          "Versoix",
          "Commune de Genève",
          "Laconnex",
          "Commune de Genève",
          "Thônex",
          "Lancy",
          "Commune de Genève",
          "Grand-Saconnex",
          "Commune de Genève",
          "Commune de Genève",
          "Commune de Genève",
          "Commune de Genève",
          "Commune de Genève",
          "Commune de Genève",
          "Grand-Saconnex",
          "Commune de Genève",
          "Lancy",
          "Grand-Saconnex",
          "Commune de Genève",
          "Commune de Genève",
          "Commune de Genève",
          "Meyrin",
          "Lancy",
          "Commune de Genève",
          "Cologny",
          "Commune de Genève",
          "Collonge-Bellerive",
          "Commune de Genève",
          "Commune de Genève",
          "Commune de Genève",
          "Commune de Genève",
          "Commune de Genève",
          "Commune de Genève",
          "Versoix",
          "Commune de Genève",
          "Commune de Genève",
          "Commune de Genève",
          "Commune de Genève",
          "Commune de Genève",
          "Vernier",
          "Chêne-Bourg",
          "Laconnex",
          "Commune de Genève",
          "Commune de Genève",
          "Commune de Genève",
          "Lancy",
          "Commune de Genève",
          "Commune de Genève",
          "Commune de Genève",
          "Commune de Genève",
          "Bernex",
          "Commune de Genève",
          "Commune de Genève",
          "Versoix",
          "Vernier",
          "Commune de Genève",
          "Commune de Genève",
          "Commune de Genève",
          "Commune de Genève",
          "Commune de Genève",
          "Commune de Genève",
          "Commune de Genève",
          "Vernier",
          "Commune de Genève",
          "Commune de Genève",
          "Commune de Genève",
          "Commune de Genève",
          "Grand-Saconnex",
          "Plan-les-Ouates",
          "Commune de Genève",
          "Commune de Genève",
          "Meyrin",
          "Commune de Genève",
          "Commune de Genève",
          "Commune de Genève",
          "Commune de Genève",
          "Commune de Genève",
          "Commune de Genève",
          "Commune de Genève",
          "Lancy",
          "Commune de Genève",
          "Commune de Genève",
          "Commune de Genève",
          "Commune de Genève",
          "Versoix",
          "Commune de Genève",
          "Commune de Genève",
          "Commune de Genève",
          "Commune de Genève",
          "Commune de Genève",
          "Bardonnex",
          "Commune de Genève",
          "Commune de Genève",
          "Commune de Genève",
          "Commune de Genève",
          "Commune de Genève",
          "Commune de Genève",
          "Carouge",
          "Commune de Genève",
          "Commune de Genève",
          "Carouge",
          "Commune de Genève",
          "Carouge",
          "Commune de Genève",
          "Commune de Genève",
          "Commune de Genève",
          "Commune de Genève",
          "Commune de Genève",
          "Commune de Genève",
          "Pregny-Chambésy",
          "Commune de Genève",
          "Carouge",
          "Vernier",
          "Bellevue",
          "Commune de Genève",
          "Commune de Genève",
          "Commune de Genève",
          "Commune de Genève",
          "Commune de Genève",
          "Commune de Genève",
          "Commune de Genève",
          "Commune de Genève",
          "Chêne-Bougeries",
          "Commune de Genève",
          "Commune de Genève",
          "Commune de Genève",
          "Lancy",
          "Commune de Genève",
          "Commune de Genève",
          "Chêne-Bougeries",
          "Commune de Genève",
          "Commune de Genève",
          "Commune de Genève",
          "Grand-Saconnex",
          "Grand-Saconnex",
          "Commune de Genève",
          "Commune de Genève",
          "Hermance",
          "Cologny",
          "Commune de Genève",
          "Pregny-Chambésy",
          "Grand-Saconnex",
          "Commune de Genève",
          "Meinier",
          "Commune de Genève",
          "Commune de Genève",
          "Carouge",
          "Commune de Genève",
          "Chêne-Bourg",
          "Commune de Genève",
          "Grand-Saconnex",
          "Grand-Saconnex",
          "Commune de Genève",
          "Lancy",
          "Commune de Genève",
          "Vernier",
          "Commune de Genève",
          "Commune de Genève",
          "Bardonnex",
          "Commune de Genève",
          "Commune de Genève",
          "Commune de Genève",
          "Commune de Genève",
          "Versoix",
          "Commune de Genève",
          "Commune de Genève",
          "Commune de Genève",
          "Commune de Genève",
          "Grand-Saconnex",
          "Commune de Genève",
          "Commune de Genève",
          "Meyrin",
          "Commune de Genève",
          "Commune de Genève",
          "Commune de Genève",
          "Commune de Genève",
          "Commune de Genève",
          "Commune de Genève",
          "Commune de Genève",
          "Commune de Genève",
          "Commune de Genève",
          "Carouge",
          "Chêne-Bougeries",
          "Lancy",
          "Commune de Genève",
          "Commune de Genève",
          "Commune de Genève",
          "Commune de Genève",
          "Chêne-Bougeries",
          "Chêne-Bougeries",
          "Commune de Genève",
          "Commune de Genève",
          "Commune de Genève",
          "Carouge",
          "Commune de Genève",
          "Bellevue",
          "Commune de Genève",
          "Commune de Genève",
          "Commune de Genève",
          "Commune de Genève",
          "Carouge",
          "Commune de Genève",
          "Commune de Genève",
          "Commune de Genève",
          "Lancy",
          "Commune de Genève",
          "Commune de Genève",
          "Commune de Genève",
          "Commune de Genève",
          "Commune de Genève",
          "Versoix",
          "Commune de Genève",
          "Commune de Genève",
          "Commune de Genève",
          "Commune de Genève",
          "Commune de Genève",
          "Commune de Genève",
          "Commune de Genève",
          "Plan-les-Ouates",
          "Commune de Genève",
          "Commune de Genève",
          "Commune de Genève",
          "Pregny-Chambésy",
          "Commune de Genève",
          "Veyrier",
          "Commune de Genève",
          "Lancy",
          "Meyrin",
          "Pregny-Chambésy",
          "Commune de Genève",
          "Pregny-Chambésy",
          "Commune de Genève",
          "Commune de Genève",
          "Grand-Saconnex",
          "Commune de Genève",
          "Commune de Genève",
          "Commune de Genève",
          "Commune de Genève",
          "Commune de Genève",
          "Commune de Genève",
          "Commune de Genève",
          "Commune de Genève",
          "Commune de Genève",
          "Commune de Genève",
          "Vernier",
          "Commune de Genève",
          "Commune de Genève",
          "Commune de Genève",
          "Cologny",
          "Commune de Genève",
          "Commune de Genève",
          "Commune de Genève",
          "Commune de Genève",
          "Commune de Genève",
          "Carouge",
          "Versoix",
          "Vernier",
          "Commune de Genève",
          "Commune de Genève",
          "Commune de Genève",
          "Commune de Genève",
          "Vernier",
          "Commune de Genève",
          "Cologny",
          "Commune de Genève",
          "Commune de Genève",
          "Commune de Genève",
          "Collonge-Bellerive",
          "Commune de Genève",
          "Commune de Genève",
          "Commune de Genève",
          "Commune de Genève",
          "Commune de Genève",
          "Commune de Genève",
          "Commune de Genève",
          "Commune de Genève",
          "Commune de Genève",
          "Commune de Genève",
          "Commune de Genève",
          "Commune de Genève",
          "Chêne-Bougeries",
          "Commune de Genève",
          "Commune de Genève",
          "Commune de Genève",
          "Plan-les-Ouates",
          "Commune de Genève",
          "Commune de Genève",
          "Thônex",
          "Commune de Genève",
          "Commune de Genève",
          "Commune de Genève",
          "Commune de Genève",
          "Commune de Genève",
          "Commune de Genève",
          "Commune de Genève",
          "Commune de Genève",
          "Commune de Genève",
          "Commune de Genève",
          "Commune de Genève",
          "Chêne-Bougeries",
          "Commune de Genève",
          "Commune de Genève",
          "Commune de Genève",
          "Carouge",
          "Anières",
          "Commune de Genève",
          "Commune de Genève",
          "Commune de Genève",
          "Commune de Genève",
          "Commune de Genève",
          "Commune de Genève",
          "Commune de Genève",
          "Commune de Genève",
          "Carouge",
          "Carouge",
          "Commune de Genève",
          "Commune de Genève",
          "Lancy",
          "Commune de Genève",
          "Commune de Genève",
          "Commune de Genève",
          "Commune de Genève",
          "Commune de Genève",
          "Commune de Genève",
          "Commune de Genève",
          "Carouge",
          "Commune de Genève",
          "Commune de Genève",
          "Meyrin",
          "Commune de Genève",
          "Commune de Genève",
          "Commune de Genève",
          "Carouge",
          "Commune de Genève",
          "Lancy",
          "Commune de Genève",
          "Commune de Genève",
          "Commune de Genève",
          "Meyrin",
          "Commune de Genève",
          "Commune de Genève",
          "Meyrin",
          "Commune de Genève",
          "Commune de Genève",
          "Commune de Genève",
          "Grand-Saconnex",
          "Commune de Genève",
          "Commune de Genève",
          "Meyrin",
          "Lancy",
          "Commune de Genève",
          "Commune de Genève",
          "Commune de Genève",
          "Lancy",
          "Commune de Genève",
          "Commune de Genève",
          "Anières",
          "Commune de Genève",
          "Commune de Genève",
          "Grand-Saconnex",
          "Carouge",
          "Carouge",
          "Commune de Genève",
          "Commune de Genève",
          "Lancy",
          "Versoix",
          "Versoix",
          "Chêne-Bourg",
          "Dardagny",
          "Commune de Genève",
          "Commune de Genève",
          "Puplinge",
          "Commune de Genève",
          "Chêne-Bougeries",
          "Commune de Genève",
          "Commune de Genève",
          "Commune de Genève",
          "Commune de Genève",
          "Commune de Genève",
          "Commune de Genève",
          "Puplinge",
          "Commune de Genève",
          "Commune de Genève",
          "Commune de Genève",
          "Commune de Genève",
          "Commune de Genève",
          "Commune de Genève",
          "Commune de Genève",
          "Carouge",
          "Commune de Genève",
          "Commune de Genève",
          "Carouge",
          "Commune de Genève",
          "Lancy",
          "Veyrier",
          "Versoix",
          "Commune de Genève",
          "Commune de Genève",
          "Vernier",
          "Commune de Genève",
          "Commune de Genève",
          "Commune de Genève",
          "Commune de Genève",
          "Vernier",
          "Cologny",
          "Vernier",
          "Vernier",
          "Commune de Genève",
          "Commune de Genève",
          "Commune de Genève",
          "Commune de Genève",
          "Commune de Genève",
          "Chêne-Bougeries",
          "Commune de Genève",
          "Commune de Genève",
          "Chêne-Bougeries",
          "Commune de Genève",
          "Commune de Genève",
          "Commune de Genève",
          "Commune de Genève",
          "Chêne-Bougeries",
          "Vernier",
          "Commune de Genève",
          "Commune de Genève",
          "Commune de Genève",
          "Commune de Genève",
          "Cologny",
          "Thônex",
          "Cologny",
          "Vernier",
          "Grand-Saconnex",
          "Carouge",
          "Commune de Genève",
          "Commune de Genève",
          "Chêne-Bougeries",
          "Commune de Genève",
          "Chêne-Bougeries",
          "Vernier",
          "Plan-les-Ouates",
          "Commune de Genève",
          "Grand-Saconnex",
          "Meyrin",
          "Thônex",
          "Anières",
          "Thônex",
          "Commune de Genève",
          "Commune de Genève",
          "Meyrin",
          "Commune de Genève",
          "Commune de Genève",
          "Commune de Genève",
          "Grand-Saconnex",
          "Thônex",
          "Thônex",
          "Commune de Genève",
          "Commune de Genève",
          "Commune de Genève",
          "Grand-Saconnex",
          "Commune de Genève",
          "Lancy",
          "Commune de Genève",
          "Chêne-Bougeries",
          "Commune de Genève",
          "Commune de Genève",
          "Commune de Genève",
          "Vernier",
          "Commune de Genève",
          "Veyrier",
          "Chêne-Bougeries",
          "Chêne-Bougeries",
          "Commune de Genève",
          "Commune de Genève",
          "Commune de Genève",
          "Commune de Genève",
          "Commune de Genève",
          "Commune de Genève",
          "Commune de Genève",
          "Commune de Genève",
          "Commune de Genève",
          "Commune de Genève",
          "Commune de Genève",
          "Commune de Genève",
          "Commune de Genève",
          "Bellevue",
          "Commune de Genève",
          "Commune de Genève",
          "Commune de Genève",
          "Commune de Genève",
          "Céligny",
          "Commune de Genève",
          "Commune de Genève",
          "Commune de Genève",
          "Hermance",
          "Commune de Genève",
          "Commune de Genève",
          "Commune de Genève",
          "Commune de Genève",
          "Commune de Genève",
          "Commune de Genève",
          "Versoix",
          "Commune de Genève",
          "Commune de Genève",
          "Commune de Genève",
          "Grand-Saconnex",
          "Commune de Genève",
          "Commune de Genève",
          "Commune de Genève",
          "Gy",
          "Commune de Genève",
          "Commune de Genève",
          "Commune de Genève",
          "Commune de Genève",
          "Commune de Genève",
          "Commune de Genève",
          "Onex",
          "Chêne-Bougeries",
          "Versoix",
          "Commune de Genève",
          "Commune de Genève",
          "Commune de Genève",
          "Commune de Genève",
          "Grand-Saconnex",
          "Grand-Saconnex",
          "Commune de Genève",
          "Commune de Genève",
          "Meyrin",
          "Onex",
          "Commune de Genève",
          "Commune de Genève",
          "Versoix",
          "Commune de Genève",
          "Commune de Genève",
          "Commune de Genève",
          "Grand-Saconnex",
          "Plan-les-Ouates",
          "Bellevue",
          "Commune de Genève",
          "Vandoeuvres",
          "Commune de Genève",
          "Grand-Saconnex",
          "Commune de Genève",
          "Commune de Genève",
          "Commune de Genève",
          "Commune de Genève",
          "Meyrin",
          "Commune de Genève",
          "Vernier",
          "Lancy",
          "Collonge-Bellerive",
          "Commune de Genève",
          "Commune de Genève",
          "Plan-les-Ouates",
          "Commune de Genève",
          "Commune de Genève",
          "Commune de Genève",
          "Thônex",
          "Plan-les-Ouates",
          "Grand-Saconnex",
          "Grand-Saconnex",
          "Grand-Saconnex",
          "Commune de Genève",
          "Commune de Genève",
          "Vernier",
          "Thônex",
          "Thônex",
          "Commune de Genève",
          "Commune de Genève",
          "Commune de Genève",
          "Commune de Genève",
          "Commune de Genève",
          "Commune de Genève",
          "Commune de Genève",
          "Thônex",
          "Lancy",
          "Commune de Genève",
          "Commune de Genève",
          "Chêne-Bougeries",
          "Chêne-Bougeries",
          "Commune de Genève",
          "Commune de Genève",
          "Russin",
          "Commune de Genève",
          "Cologny",
          "Thônex",
          "Commune de Genève",
          "Commune de Genève",
          "Grand-Saconnex",
          "Vernier",
          "Commune de Genève",
          "Chêne-Bourg",
          "Bellevue",
          "Carouge",
          "Commune de Genève",
          "Commune de Genève",
          "Commune de Genève",
          "Commune de Genève",
          "Commune de Genève",
          "Onex",
          "Commune de Genève",
          "Thônex",
          "Commune de Genève",
          "Carouge",
          "Commune de Genève",
          "Commune de Genève",
          "Commune de Genève",
          "Commune de Genève",
          "Commune de Genève",
          "Commune de Genève",
          "Commune de Genève",
          "Versoix",
          "Commune de Genève",
          "Commune de Genève",
          "Commune de Genève",
          "Commune de Genève",
          "Commune de Genève",
          "Commune de Genève",
          "Commune de Genève",
          "Commune de Genève",
          "Meyrin",
          "Versoix",
          "Commune de Genève",
          "Commune de Genève",
          "Thônex",
          "Commune de Genève",
          "Collonge-Bellerive",
          "Commune de Genève",
          "Commune de Genève",
          "Commune de Genève",
          "Commune de Genève",
          "Commune de Genève",
          "Commune de Genève",
          "Commune de Genève",
          "Grand-Saconnex",
          "Grand-Saconnex",
          "Commune de Genève",
          "Grand-Saconnex",
          "Commune de Genève",
          "Commune de Genève",
          "Grand-Saconnex",
          "Commune de Genève",
          "Commune de Genève",
          "Commune de Genève",
          "Grand-Saconnex",
          "Thônex",
          "Carouge",
          "Carouge",
          "Carouge",
          "Commune de Genève",
          "Bernex",
          "Commune de Genève",
          "Commune de Genève",
          "Commune de Genève",
          "Carouge",
          "Commune de Genève",
          "Commune de Genève",
          "Commune de Genève",
          "Commune de Genève",
          "Plan-les-Ouates",
          "Carouge",
          "Commune de Genève",
          "Commune de Genève",
          "Commune de Genève",
          "Commune de Genève",
          "Commune de Genève",
          "Commune de Genève",
          "Commune de Genève",
          "Commune de Genève",
          "Commune de Genève",
          "Commune de Genève",
          "Commune de Genève",
          "Commune de Genève",
          "Commune de Genève",
          "Commune de Genève",
          "Commune de Genève",
          "Commune de Genève",
          "Commune de Genève",
          "Lancy",
          "Chêne-Bourg",
          "Commune de Genève",
          "Commune de Genève",
          "Thônex",
          "Thônex",
          "Commune de Genève",
          "Commune de Genève",
          "Thônex",
          "Grand-Saconnex",
          "Commune de Genève",
          "Commune de Genève",
          "Commune de Genève",
          "Commune de Genève",
          "Commune de Genève",
          "Commune de Genève",
          "Commune de Genève",
          "Commune de Genève",
          "Commune de Genève",
          "Versoix",
          "Commune de Genève",
          "Commune de Genève",
          "Commune de Genève",
          "Commune de Genève",
          "Vernier",
          "Commune de Genève",
          "Commune de Genève",
          "Commune de Genève",
          "Thônex",
          "Commune de Genève",
          "Commune de Genève",
          "Commune de Genève",
          "Commune de Genève",
          "Commune de Genève",
          "Commune de Genève",
          "Commune de Genève",
          "Dardagny",
          "Commune de Genève",
          "Commune de Genève",
          "Commune de Genève",
          "Commune de Genève",
          "Commune de Genève",
          "Commune de Genève",
          "Commune de Genève",
          "Commune de Genève",
          "Commune de Genève",
          "Commune de Genève",
          "Carouge",
          "Carouge",
          "Commune de Genève",
          "Bellevue",
          "Commune de Genève",
          "Commune de Genève",
          "Thônex",
          "Commune de Genève",
          "Commune de Genève",
          "Commune de Genève",
          "Commune de Genève",
          "Commune de Genève",
          "Commune de Genève",
          "Commune de Genève",
          "Commune de Genève",
          "Commune de Genève",
          "Pregny-Chambésy",
          "Commune de Genève",
          "Commune de Genève",
          "Commune de Genève",
          "Commune de Genève",
          "Commune de Genève",
          "Commune de Genève",
          "Commune de Genève",
          "Commune de Genève",
          "Commune de Genève",
          "Commune de Genève",
          "Commune de Genève",
          "Commune de Genève",
          "Commune de Genève",
          "Carouge",
          "Commune de Genève",
          "Commune de Genève",
          "Commune de Genève",
          "Commune de Genève",
          "Commune de Genève",
          "Commune de Genève",
          "Commune de Genève",
          "Commune de Genève",
          "Commune de Genève",
          "Corsier",
          "Commune de Genève",
          "Commune de Genève",
          "Commune de Genève",
          "Troinex",
          "Commune de Genève",
          "Commune de Genève",
          "Commune de Genève",
          "Commune de Genève",
          "Commune de Genève",
          "Commune de Genève",
          "Commune de Genève",
          "Commune de Genève",
          "Lancy",
          "Commune de Genève",
          "Commune de Genève",
          "Commune de Genève",
          "Commune de Genève",
          "Commune de Genève",
          "Chêne-Bourg",
          "Commune de Genève",
          "Commune de Genève",
          "Commune de Genève",
          "Meinier",
          "Commune de Genève",
          "Vernier",
          "Commune de Genève",
          "Versoix",
          "Commune de Genève",
          "Commune de Genève",
          "Commune de Genève",
          "Carouge",
          "Versoix",
          "Commune de Genève",
          "Commune de Genève",
          "Commune de Genève",
          "Commune de Genève",
          "Commune de Genève",
          "Commune de Genève",
          "Commune de Genève",
          "Commune de Genève",
          "Commune de Genève",
          "Commune de Genève",
          "Commune de Genève",
          "Carouge",
          "Commune de Genève",
          "Commune de Genève",
          "Chêne-Bougeries",
          "Meyrin",
          "Commune de Genève",
          "Pregny-Chambésy",
          "Commune de Genève",
          "Cologny",
          "Vernier",
          "Commune de Genève",
          "Commune de Genève",
          "Commune de Genève",
          "Troinex",
          "Commune de Genève",
          "Commune de Genève",
          "Commune de Genève",
          "Commune de Genève",
          "Commune de Genève",
          "Commune de Genève",
          "Cologny",
          "Commune de Genève",
          "Commune de Genève",
          "Commune de Genève",
          "Commune de Genève",
          "Commune de Genève",
          "Chêne-Bougeries",
          "Commune de Genève",
          "Corsier",
          "Commune de Genève",
          "Commune de Genève",
          "Pregny-Chambésy",
          "Commune de Genève",
          "Versoix",
          "Commune de Genève",
          "Commune de Genève",
          "Thônex",
          "Pregny-Chambésy",
          "Commune de Genève",
          "Commune de Genève",
          "Vernier",
          "Commune de Genève",
          "Carouge",
          "Commune de Genève",
          "Carouge",
          "Commune de Genève",
          "Carouge",
          "Commune de Genève",
          "Commune de Genève",
          "Commune de Genève",
          "Vernier",
          "Commune de Genève",
          "Commune de Genève",
          "Vernier",
          "Commune de Genève",
          "Veyrier",
          "Commune de Genève",
          "Commune de Genève",
          "Lancy",
          "Commune de Genève",
          "Commune de Genève",
          "Commune de Genève",
          "Chêne-Bougeries",
          "Commune de Genève",
          "Commune de Genève",
          "Commune de Genève",
          "Commune de Genève",
          "Commune de Genève",
          "Commune de Genève",
          "Commune de Genève",
          "Commune de Genève",
          "Commune de Genève",
          "Commune de Genève",
          "Commune de Genève",
          "Commune de Genève",
          "Commune de Genève",
          "Commune de Genève",
          "Commune de Genève",
          "Commune de Genève",
          "Commune de Genève",
          "Commune de Genève",
          "Commune de Genève",
          "Commune de Genève",
          "Commune de Genève",
          "Commune de Genève",
          "Commune de Genève",
          "Thônex",
          "Commune de Genève",
          "Commune de Genève",
          "Commune de Genève",
          "Commune de Genève",
          "Commune de Genève",
          "Grand-Saconnex",
          "Commune de Genève",
          "Commune de Genève",
          "Commune de Genève",
          "Commune de Genève",
          "Commune de Genève",
          "Commune de Genève",
          "Commune de Genève",
          "Commune de Genève",
          "Commune de Genève",
          "Commune de Genève",
          "Commune de Genève",
          "Commune de Genève",
          "Commune de Genève",
          "Commune de Genève",
          "Commune de Genève",
          "Commune de Genève",
          "Commune de Genève",
          "Commune de Genève",
          "Commune de Genève",
          "Grand-Saconnex",
          "Commune de Genève",
          "Grand-Saconnex",
          "Commune de Genève",
          "Commune de Genève",
          "Commune de Genève",
          "Commune de Genève",
          "Commune de Genève",
          "Commune de Genève",
          "Commune de Genève",
          "Commune de Genève",
          "Commune de Genève",
          "Commune de Genève",
          "Collonge-Bellerive",
          "Versoix",
          "Commune de Genève",
          "Commune de Genève",
          "Commune de Genève",
          "Commune de Genève",
          "Commune de Genève",
          "Plan-les-Ouates",
          "Commune de Genève",
          "Bernex",
          "Presinge",
          "Thônex",
          "Commune de Genève",
          "Bernex",
          "Commune de Genève",
          "Commune de Genève",
          "Commune de Genève",
          "Commune de Genève",
          "Veyrier",
          "Commune de Genève",
          "Commune de Genève",
          "Meyrin",
          "Commune de Genève",
          "Lancy",
          "Commune de Genève",
          "Chêne-Bourg",
          "Commune de Genève",
          "Commune de Genève",
          "Commune de Genève",
          "Commune de Genève",
          "Commune de Genève",
          "Versoix",
          "Commune de Genève",
          "Grand-Saconnex",
          "Commune de Genève",
          "Commune de Genève",
          "Commune de Genève",
          "Commune de Genève",
          "Chêne-Bourg",
          "Commune de Genève",
          "Commune de Genève",
          "Commune de Genève",
          "Commune de Genève",
          "Carouge",
          "Commune de Genève",
          "Commune de Genève",
          "Commune de Genève",
          "Commune de Genève",
          "Commune de Genève",
          "Commune de Genève",
          "Commune de Genève",
          "Commune de Genève",
          "Meyrin",
          "Commune de Genève",
          "Commune de Genève",
          "Commune de Genève",
          "Commune de Genève",
          "Commune de Genève",
          "Commune de Genève",
          "Commune de Genève",
          "Commune de Genève",
          "Commune de Genève",
          "Commune de Genève",
          "Commune de Genève",
          "Commune de Genève",
          "Commune de Genève",
          "Lancy",
          "Commune de Genève",
          "Commune de Genève",
          "Commune de Genève",
          "Carouge",
          "Commune de Genève",
          "Commune de Genève",
          "Commune de Genève",
          "Commune de Genève",
          "Commune de Genève",
          "Commune de Genève",
          "Commune de Genève",
          "Commune de Genève",
          "Hermance",
          "Versoix",
          "Vernier",
          "Commune de Genève",
          "Onex",
          "Thônex",
          "Commune de Genève",
          "Commune de Genève",
          "Commune de Genève",
          "Commune de Genève",
          "Commune de Genève",
          "Commune de Genève",
          "Commune de Genève",
          "Meyrin",
          "Meyrin",
          "Meyrin",
          "Laconnex",
          "Grand-Saconnex",
          "Commune de Genève",
          "Commune de Genève",
          "Commune de Genève",
          "Commune de Genève",
          "Commune de Genève",
          "Commune de Genève",
          "Soral",
          "Commune de Genève",
          "Carouge",
          "Commune de Genève",
          "Commune de Genève",
          "Commune de Genève",
          "Commune de Genève",
          "Vernier",
          "Commune de Genève",
          "Commune de Genève",
          "Vernier",
          "Commune de Genève",
          "Commune de Genève",
          "Commune de Genève",
          "Commune de Genève",
          "Chêne-Bourg",
          "Commune de Genève",
          "Commune de Genève",
          "Commune de Genève",
          "Commune de Genève",
          "Commune de Genève",
          "Commune de Genève",
          "Vernier",
          "Commune de Genève",
          "Commune de Genève",
          "Commune de Genève",
          "Commune de Genève",
          "Commune de Genève",
          "Plan-les-Ouates",
          "Commune de Genève",
          "Commune de Genève",
          "Commune de Genève",
          "Commune de Genève",
          "Commune de Genève",
          "Vernier",
          "Vernier",
          "Commune de Genève",
          "Vernier",
          "Commune de Genève",
          "Commune de Genève",
          "Commune de Genève",
          "Commune de Genève",
          "Commune de Genève",
          "Commune de Genève",
          "Commune de Genève",
          "Commune de Genève",
          "Commune de Genève",
          "Commune de Genève",
          "Commune de Genève",
          "Commune de Genève",
          "Commune de Genève",
          "Vernier",
          "Thônex",
          "Plan-les-Ouates",
          "Versoix",
          "Commune de Genève",
          "Commune de Genève",
          "Commune de Genève",
          "Carouge",
          "Commune de Genève",
          "Commune de Genève",
          "Commune de Genève",
          "Commune de Genève",
          "Commune de Genève",
          "Grand-Saconnex",
          "Commune de Genève",
          "Commune de Genève",
          "Troinex",
          "Commune de Genève",
          "Commune de Genève",
          "Commune de Genève",
          "Commune de Genève",
          "Chêne-Bougeries",
          "Commune de Genève",
          "Chêne-Bourg",
          "Commune de Genève",
          "Commune de Genève",
          "Commune de Genève",
          "Commune de Genève",
          "Commune de Genève",
          "Commune de Genève",
          "Commune de Genève",
          "Commune de Genève",
          "Commune de Genève",
          "Commune de Genève",
          "Commune de Genève",
          "Commune de Genève",
          "Commune de Genève",
          "Veyrier",
          "Commune de Genève",
          "Commune de Genève",
          "Commune de Genève",
          "Commune de Genève",
          "Commune de Genève",
          "Commune de Genève",
          "Commune de Genève",
          "Commune de Genève",
          "Commune de Genève",
          "Commune de Genève",
          "Commune de Genève",
          "Commune de Genève",
          "Commune de Genève",
          "Commune de Genève",
          "Onex",
          "Commune de Genève",
          "Commune de Genève",
          "Commune de Genève",
          "Commune de Genève",
          "Commune de Genève",
          "Commune de Genève",
          "Meinier",
          "Commune de Genève",
          "Commune de Genève",
          "Vernier",
          "Commune de Genève",
          "Commune de Genève",
          "Commune de Genève",
          "Commune de Genève",
          "Commune de Genève",
          "Commune de Genève",
          "Commune de Genève",
          "Commune de Genève",
          "Versoix",
          "Commune de Genève",
          "Commune de Genève",
          "Commune de Genève",
          "Commune de Genève",
          "Commune de Genève",
          "Commune de Genève",
          "Onex",
          "Commune de Genève",
          "Commune de Genève",
          "Commune de Genève",
          "Thônex",
          "Commune de Genève",
          "Commune de Genève",
          "Commune de Genève",
          "Bernex",
          "Carouge",
          "Commune de Genève",
          "Commune de Genève",
          "Commune de Genève",
          "Carouge",
          "Commune de Genève",
          "Grand-Saconnex",
          "Commune de Genève",
          "Commune de Genève",
          "Commune de Genève",
          "Commune de Genève",
          "Commune de Genève",
          "Chêne-Bougeries",
          "Commune de Genève",
          "Commune de Genève",
          "Commune de Genève",
          "Commune de Genève",
          "Commune de Genève",
          "Commune de Genève",
          "Commune de Genève",
          "Commune de Genève",
          "Commune de Genève",
          "Commune de Genève",
          "Commune de Genève",
          "Carouge",
          "Cologny",
          "Commune de Genève",
          "Commune de Genève",
          "Commune de Genève",
          "Commune de Genève",
          "Commune de Genève",
          "Carouge",
          "Cologny",
          "Cologny",
          "Commune de Genève",
          "Vernier",
          "Commune de Genève",
          "Commune de Genève",
          "Commune de Genève",
          "Commune de Genève",
          "Commune de Genève",
          "Commune de Genève",
          "Commune de Genève",
          "Vernier",
          "Commune de Genève",
          "Commune de Genève",
          "Commune de Genève",
          "Lancy",
          "Commune de Genève",
          "Commune de Genève",
          "Commune de Genève",
          "Bernex",
          "Onex",
          "Commune de Genève",
          "Hermance",
          "Commune de Genève",
          "Commune de Genève",
          "Commune de Genève",
          "Commune de Genève",
          "Commune de Genève",
          "Commune de Genève",
          "Commune de Genève",
          "Commune de Genève",
          "Lancy",
          "Corsier",
          "Commune de Genève",
          "Commune de Genève",
          "Commune de Genève",
          "Commune de Genève",
          "Commune de Genève",
          "Satigny",
          "Commune de Genève",
          "Commune de Genève",
          "Commune de Genève",
          "Commune de Genève",
          "Commune de Genève",
          "Genthod",
          "Commune de Genève",
          "Commune de Genève",
          "Veyrier",
          "Commune de Genève",
          "Commune de Genève",
          "Commune de Genève",
          "Avully",
          "Commune de Genève",
          "Thônex",
          "Hermance",
          "Commune de Genève",
          "Chêne-Bourg",
          "Vernier",
          "Commune de Genève",
          "Plan-les-Ouates",
          "Versoix",
          "Commune de Genève",
          "Versoix",
          "Commune de Genève",
          "Commune de Genève",
          "Versoix",
          "Commune de Genève",
          "Commune de Genève",
          "Troinex",
          "Commune de Genève",
          "Commune de Genève",
          "Commune de Genève",
          "Commune de Genève",
          "Commune de Genève",
          "Commune de Genève",
          "Commune de Genève",
          "Commune de Genève",
          "Commune de Genève",
          "Commune de Genève",
          "Commune de Genève",
          "Commune de Genève",
          "Commune de Genève",
          "Commune de Genève",
          "Commune de Genève",
          "Commune de Genève",
          "Commune de Genève",
          "Commune de Genève",
          "Versoix",
          "Veyrier",
          "Commune de Genève",
          "Commune de Genève",
          "Grand-Saconnex",
          "Versoix",
          "Commune de Genève",
          "Grand-Saconnex",
          "Commune de Genève",
          "Commune de Genève",
          "Lancy",
          "Commune de Genève",
          "Commune de Genève",
          "Commune de Genève",
          "Commune de Genève",
          "Collex-Bossy",
          "Commune de Genève",
          "Grand-Saconnex",
          "Carouge",
          "Commune de Genève",
          "Commune de Genève",
          "Commune de Genève",
          "Commune de Genève",
          "Commune de Genève",
          "Commune de Genève",
          "Commune de Genève",
          "Commune de Genève",
          "Commune de Genève",
          "Chêne-Bougeries",
          "Commune de Genève",
          "Commune de Genève",
          "Commune de Genève",
          "Collex-Bossy",
          "Commune de Genève",
          "Collonge-Bellerive",
          "Commune de Genève",
          "Commune de Genève",
          "Carouge",
          "Commune de Genève",
          "Commune de Genève",
          "Commune de Genève",
          "Commune de Genève",
          "Commune de Genève",
          "Jussy",
          "Commune de Genève",
          "Commune de Genève",
          "Commune de Genève",
          "Plan-les-Ouates",
          "Commune de Genève",
          "Commune de Genève",
          "Commune de Genève",
          "Plan-les-Ouates",
          "Commune de Genève",
          "Commune de Genève",
          "Commune de Genève",
          "Commune de Genève",
          "Cologny",
          "Commune de Genève",
          "Vandoeuvres",
          "Plan-les-Ouates",
          "Commune de Genève",
          "Lancy",
          "Cologny",
          "Commune de Genève",
          "Commune de Genève",
          "Commune de Genève",
          "Commune de Genève",
          "Commune de Genève",
          "Commune de Genève",
          "Commune de Genève",
          "Commune de Genève",
          "Commune de Genève",
          "Commune de Genève",
          "Commune de Genève",
          "Commune de Genève",
          "Commune de Genève",
          "Commune de Genève",
          "Commune de Genève",
          "Commune de Genève",
          "Commune de Genève",
          "Commune de Genève",
          "Commune de Genève",
          "Chêne-Bougeries",
          "Chêne-Bougeries",
          "Commune de Genève",
          "Commune de Genève",
          "Commune de Genève",
          "Commune de Genève",
          "Commune de Genève",
          "Commune de Genève",
          "Commune de Genève",
          "Meyrin",
          "Commune de Genève",
          "Versoix",
          "Thônex",
          "Commune de Genève",
          "Commune de Genève",
          "Chêne-Bourg",
          "Commune de Genève",
          "Commune de Genève",
          "Commune de Genève",
          "Commune de Genève",
          "Chêne-Bougeries",
          "Commune de Genève",
          "Chêne-Bougeries",
          "Meyrin",
          "Commune de Genève",
          "Commune de Genève",
          "Commune de Genève",
          "Commune de Genève",
          "Commune de Genève",
          "Commune de Genève",
          "Commune de Genève",
          "Commune de Genève",
          "Commune de Genève",
          "Commune de Genève",
          "Commune de Genève",
          "Commune de Genève",
          "Commune de Genève",
          "Bellevue",
          "Commune de Genève",
          "Commune de Genève",
          "Commune de Genève",
          "Bellevue",
          "Commune de Genève",
          "Commune de Genève",
          "Commune de Genève",
          "Thônex",
          "Commune de Genève",
          "Versoix",
          "Commune de Genève",
          "Commune de Genève",
          "Grand-Saconnex",
          "Commune de Genève",
          "Commune de Genève",
          "Commune de Genève",
          "Commune de Genève",
          "Commune de Genève",
          "Commune de Genève",
          "Commune de Genève",
          "Commune de Genève",
          "Commune de Genève",
          "Commune de Genève",
          "Genthod",
          "Commune de Genève",
          "Commune de Genève",
          "Commune de Genève",
          "Lancy",
          "Commune de Genève",
          "Commune de Genève",
          "Commune de Genève",
          "Commune de Genève",
          "Commune de Genève",
          "Commune de Genève",
          "Versoix",
          "Thônex",
          "Commune de Genève",
          "Commune de Genève",
          "Commune de Genève",
          "Commune de Genève",
          "Grand-Saconnex",
          "Commune de Genève",
          "Commune de Genève",
          "Vernier",
          "Commune de Genève",
          "Presinge",
          "Bernex",
          "Commune de Genève",
          "Commune de Genève",
          "Commune de Genève",
          "Commune de Genève",
          "Commune de Genève",
          "Commune de Genève",
          "Commune de Genève",
          "Commune de Genève",
          "Chêne-Bourg",
          "Commune de Genève",
          "Chêne-Bourg",
          "Commune de Genève",
          "Commune de Genève",
          "Commune de Genève",
          "Commune de Genève",
          "Commune de Genève",
          "Lancy",
          "Grand-Saconnex",
          "Pregny-Chambésy",
          "Commune de Genève",
          "Commune de Genève",
          "Lancy",
          "Vernier",
          "Commune de Genève",
          "Thônex",
          "Meyrin",
          "Commune de Genève",
          "Vernier",
          "Commune de Genève",
          "Commune de Genève",
          "Commune de Genève",
          "Commune de Genève",
          "Commune de Genève",
          "Commune de Genève",
          "Commune de Genève",
          "Commune de Genève",
          "Commune de Genève",
          "Bellevue",
          "Commune de Genève",
          "Commune de Genève",
          "Vandoeuvres",
          "Commune de Genève",
          "Commune de Genève",
          "Commune de Genève",
          "Commune de Genève",
          "Commune de Genève",
          "Commune de Genève",
          "Commune de Genève",
          "Carouge",
          "Commune de Genève",
          "Commune de Genève",
          "Commune de Genève",
          "Commune de Genève",
          "Vernier",
          "Versoix",
          "Commune de Genève",
          "Commune de Genève",
          "Commune de Genève",
          "Commune de Genève",
          "Commune de Genève",
          "Commune de Genève",
          "Commune de Genève",
          "Commune de Genève",
          "Commune de Genève",
          "Commune de Genève",
          "Commune de Genève",
          "Commune de Genève",
          "Vernier",
          "Commune de Genève",
          "Vernier",
          "Vernier",
          "Collonge-Bellerive",
          "Commune de Genève",
          "Commune de Genève",
          "Commune de Genève",
          "Commune de Genève",
          "Commune de Genève",
          "Grand-Saconnex",
          "Commune de Genève",
          "Chêne-Bougeries",
          "Chêne-Bougeries",
          "Commune de Genève",
          "Carouge",
          "Grand-Saconnex",
          "Grand-Saconnex",
          "Carouge",
          "Commune de Genève",
          "Commune de Genève",
          "Chêne-Bougeries",
          "Commune de Genève",
          "Commune de Genève",
          "Commune de Genève",
          "Commune de Genève",
          "Collonge-Bellerive",
          "Commune de Genève",
          "Commune de Genève",
          "Commune de Genève",
          "Commune de Genève",
          "Commune de Genève",
          "Commune de Genève",
          "Commune de Genève",
          "Pregny-Chambésy",
          "Avully",
          "Commune de Genève",
          "Commune de Genève",
          "Commune de Genève",
          "Commune de Genève",
          "Vandoeuvres",
          "Commune de Genève",
          "Commune de Genève",
          "Commune de Genève",
          "Commune de Genève",
          "Commune de Genève",
          "Commune de Genève",
          "Commune de Genève",
          "Commune de Genève",
          "Commune de Genève",
          "Commune de Genève",
          "Commune de Genève",
          "Vernier",
          "Vernier",
          "Vernier",
          "Vernier",
          "Commune de Genève",
          "Commune de Genève",
          "Meyrin",
          "Commune de Genève",
          "Commune de Genève",
          "Commune de Genève",
          "Commune de Genève",
          "Commune de Genève",
          "Commune de Genève",
          "Meyrin",
          "Thônex",
          "Commune de Genève",
          "Cologny",
          "Commune de Genève",
          "Chancy",
          "Commune de Genève",
          "Commune de Genève",
          "Commune de Genève",
          "Anières",
          "Commune de Genève",
          "Commune de Genève",
          "Commune de Genève",
          "Commune de Genève",
          "Commune de Genève",
          "Commune de Genève",
          "Carouge",
          "Commune de Genève",
          "Vandoeuvres",
          "Commune de Genève",
          "Commune de Genève",
          "Thônex",
          "Chêne-Bougeries",
          "Thônex",
          "Commune de Genève",
          "Commune de Genève",
          "Commune de Genève",
          "Commune de Genève",
          "Chêne-Bourg",
          "Plan-les-Ouates",
          "Commune de Genève",
          "Lancy",
          "Commune de Genève",
          "Commune de Genève",
          "Carouge",
          "Versoix",
          "Carouge",
          "Commune de Genève",
          "Commune de Genève",
          "Commune de Genève",
          "Versoix",
          "Versoix",
          "Carouge",
          "Meyrin",
          "Meyrin",
          "Meyrin",
          "Commune de Genève",
          "Commune de Genève",
          "Commune de Genève",
          "Commune de Genève",
          "Vernier",
          "Commune de Genève",
          "Chêne-Bourg",
          "Commune de Genève",
          "Commune de Genève",
          "Cologny",
          "Commune de Genève",
          "Veyrier",
          "Commune de Genève",
          "Commune de Genève",
          "Commune de Genève",
          "Commune de Genève",
          "Commune de Genève",
          "Bellevue",
          "Carouge",
          "Commune de Genève",
          "Commune de Genève",
          "Meyrin",
          "Commune de Genève",
          "Commune de Genève",
          "Commune de Genève",
          "Commune de Genève",
          "Commune de Genève",
          "Commune de Genève",
          "Commune de Genève",
          "Commune de Genève",
          "Commune de Genève",
          "Commune de Genève",
          "Commune de Genève",
          "Commune de Genève",
          "Collonge-Bellerive",
          "Commune de Genève",
          "Grand-Saconnex",
          "Grand-Saconnex",
          "Commune de Genève",
          "Commune de Genève",
          "Chêne-Bourg",
          "Chêne-Bougeries",
          "Chancy",
          "Vernier",
          "Commune de Genève",
          "Cologny",
          "Commune de Genève",
          "Commune de Genève",
          "Thônex",
          "Commune de Genève",
          "Thônex",
          "Commune de Genève",
          "Commune de Genève",
          "Vernier",
          "Vernier",
          "Vernier",
          "Vernier",
          "Commune de Genève",
          "Commune de Genève",
          "Commune de Genève",
          "Commune de Genève",
          "Commune de Genève",
          "Meinier",
          "Commune de Genève",
          "Commune de Genève",
          "Commune de Genève",
          "Commune de Genève",
          "Commune de Genève",
          "Hermance",
          "Commune de Genève",
          "Thônex",
          "Commune de Genève",
          "Carouge",
          "Commune de Genève",
          "Commune de Genève",
          "Meyrin",
          "Commune de Genève",
          "Chêne-Bourg",
          "Commune de Genève",
          "Commune de Genève",
          "Meyrin",
          "Commune de Genève",
          "Vernier",
          "Commune de Genève",
          "Commune de Genève",
          "Collex-Bossy",
          "Grand-Saconnex",
          "Commune de Genève",
          "Commune de Genève",
          "Commune de Genève",
          "Commune de Genève",
          "Céligny",
          "Veyrier",
          "Commune de Genève",
          "Commune de Genève",
          "Lancy",
          "Commune de Genève",
          "Commune de Genève",
          "Commune de Genève",
          "Lancy",
          "Commune de Genève",
          "Commune de Genève",
          "Meinier",
          "Commune de Genève",
          "Commune de Genève",
          "Commune de Genève",
          "Commune de Genève",
          "Lancy",
          "Commune de Genève",
          "Pregny-Chambésy",
          "Lancy",
          "Commune de Genève",
          "Veyrier",
          "Commune de Genève",
          "Commune de Genève",
          "Commune de Genève",
          "Commune de Genève",
          "Commune de Genève",
          "Commune de Genève",
          "Commune de Genève",
          "Commune de Genève",
          "Commune de Genève",
          "Commune de Genève",
          "Commune de Genève",
          "Commune de Genève",
          "Commune de Genève",
          "Commune de Genève",
          "Commune de Genève",
          "Vernier",
          "Commune de Genève",
          "Commune de Genève",
          "Commune de Genève",
          "Bellevue",
          "Commune de Genève",
          "Commune de Genève",
          "Commune de Genève",
          "Commune de Genève",
          "Thônex",
          "Commune de Genève",
          "Commune de Genève",
          "Commune de Genève",
          "Commune de Genève",
          "Commune de Genève",
          "Commune de Genève",
          "Commune de Genève",
          "Commune de Genève",
          "Commune de Genève",
          "Chêne-Bourg",
          "Commune de Genève",
          "Commune de Genève",
          "Bardonnex",
          "Veyrier",
          "Chêne-Bougeries",
          "Lancy",
          "Pregny-Chambésy",
          "Commune de Genève",
          "Thônex",
          "Commune de Genève",
          "Commune de Genève",
          "Commune de Genève",
          "Commune de Genève",
          "Commune de Genève",
          "Commune de Genève",
          "Commune de Genève",
          "Commune de Genève",
          "Onex",
          "Commune de Genève",
          "Commune de Genève",
          "Commune de Genève",
          "Commune de Genève",
          "Commune de Genève",
          "Commune de Genève",
          "Commune de Genève",
          "Commune de Genève",
          "Commune de Genève",
          "Commune de Genève",
          "Commune de Genève",
          "Commune de Genève",
          "Chêne-Bourg",
          "Commune de Genève",
          "Commune de Genève",
          "Lancy",
          "Commune de Genève",
          "Commune de Genève",
          "Grand-Saconnex",
          "Commune de Genève",
          "Commune de Genève",
          "Commune de Genève",
          "Commune de Genève",
          "Commune de Genève",
          "Commune de Genève",
          "Commune de Genève",
          "Commune de Genève",
          "Commune de Genève",
          "Commune de Genève",
          "Commune de Genève",
          "Commune de Genève",
          "Commune de Genève",
          "Commune de Genève",
          "Lancy",
          "Pregny-Chambésy",
          "Commune de Genève",
          "Commune de Genève",
          "Lancy",
          "Collonge-Bellerive",
          "Thônex",
          "Commune de Genève",
          "Commune de Genève",
          "Commune de Genève",
          "Lancy",
          "Commune de Genève",
          "Commune de Genève",
          "Lancy",
          "Commune de Genève",
          "Commune de Genève",
          "Commune de Genève",
          "Commune de Genève",
          "Commune de Genève",
          "Commune de Genève",
          "Commune de Genève",
          "Corsier",
          "Commune de Genève",
          "Commune de Genève",
          "Commune de Genève",
          "Commune de Genève",
          "Collonge-Bellerive",
          "Commune de Genève",
          "Carouge",
          "Commune de Genève",
          "Genthod",
          "Commune de Genève",
          "Commune de Genève",
          "Lancy",
          "Commune de Genève",
          "Commune de Genève",
          "Commune de Genève",
          "Commune de Genève",
          "Commune de Genève",
          "Vernier",
          "Vernier",
          "Commune de Genève",
          "Presinge",
          "Commune de Genève",
          "Commune de Genève",
          "Veyrier",
          "Collonge-Bellerive",
          "Commune de Genève",
          "Commune de Genève",
          "Lancy",
          "Commune de Genève",
          "Commune de Genève",
          "Commune de Genève",
          "Chêne-Bougeries",
          "Lancy",
          "Meinier",
          "Commune de Genève",
          "Lancy",
          "Commune de Genève",
          "Commune de Genève",
          "Grand-Saconnex",
          "Commune de Genève",
          "Chêne-Bougeries",
          "Commune de Genève",
          "Commune de Genève",
          "Commune de Genève",
          "Commune de Genève",
          "Commune de Genève",
          "Commune de Genève",
          "Commune de Genève",
          "Commune de Genève",
          "Vernier",
          "Onex",
          "Commune de Genève",
          "Commune de Genève",
          "Commune de Genève",
          "Commune de Genève",
          "Commune de Genève",
          "Meyrin",
          "Commune de Genève",
          "Commune de Genève",
          "Commune de Genève",
          "Commune de Genève",
          "Commune de Genève",
          "Grand-Saconnex",
          "Commune de Genève",
          "Commune de Genève",
          "Meyrin",
          "Commune de Genève",
          "Commune de Genève",
          "Commune de Genève",
          "Commune de Genève",
          "Commune de Genève",
          "Commune de Genève",
          "Commune de Genève",
          "Bernex",
          "Versoix",
          "Commune de Genève",
          "Commune de Genève",
          "Collex-Bossy",
          "Commune de Genève",
          "Chêne-Bourg",
          "Veyrier",
          "Commune de Genève",
          "Commune de Genève",
          "Commune de Genève",
          "Commune de Genève",
          "Commune de Genève",
          "Commune de Genève",
          "Thônex",
          "Commune de Genève",
          "Plan-les-Ouates",
          "Commune de Genève",
          "Commune de Genève",
          "Meyrin",
          "Meyrin",
          "Meyrin",
          "Commune de Genève",
          "Commune de Genève",
          "Commune de Genève",
          "Commune de Genève",
          "Commune de Genève",
          "Versoix",
          "Meyrin",
          "Commune de Genève",
          "Vernier",
          "Commune de Genève",
          "Carouge",
          "Commune de Genève",
          "Commune de Genève",
          "Commune de Genève",
          "Chêne-Bougeries",
          "Commune de Genève",
          "Vernier",
          "Grand-Saconnex",
          "Commune de Genève",
          "Commune de Genève",
          "Lancy",
          "Commune de Genève",
          "Commune de Genève",
          "Anières",
          "Genthod",
          "Commune de Genève",
          "Commune de Genève",
          "Commune de Genève",
          "Commune de Genève",
          "Commune de Genève",
          "Vernier",
          "Commune de Genève",
          "Commune de Genève",
          "Commune de Genève",
          "Commune de Genève",
          "Commune de Genève",
          "Commune de Genève",
          "Commune de Genève",
          "Chêne-Bourg",
          "Commune de Genève",
          "Commune de Genève",
          "Commune de Genève",
          "Commune de Genève",
          "Commune de Genève",
          "Commune de Genève",
          "Commune de Genève",
          "Commune de Genève",
          "Commune de Genève",
          "Commune de Genève",
          "Commune de Genève",
          "Commune de Genève",
          "Chêne-Bourg",
          "Commune de Genève",
          "Commune de Genève",
          "Commune de Genève",
          "Carouge",
          "Lancy",
          "Commune de Genève",
          "Versoix",
          "Commune de Genève",
          "Commune de Genève",
          "Commune de Genève",
          "Commune de Genève",
          "Commune de Genève",
          "Grand-Saconnex",
          "Commune de Genève",
          "Commune de Genève",
          "Commune de Genève",
          "Commune de Genève",
          "Commune de Genève",
          "Vandoeuvres",
          "Commune de Genève",
          "Commune de Genève",
          "Chêne-Bourg",
          "Commune de Genève",
          "Commune de Genève",
          "Commune de Genève",
          "Grand-Saconnex",
          "Commune de Genève",
          "Chêne-Bourg",
          "Commune de Genève",
          "Cologny",
          "Commune de Genève",
          "Commune de Genève",
          "Grand-Saconnex",
          "Commune de Genève",
          "Puplinge",
          "Versoix",
          "Commune de Genève",
          "Grand-Saconnex",
          "Commune de Genève",
          "Commune de Genève",
          "Commune de Genève",
          "Grand-Saconnex",
          "Commune de Genève",
          "Commune de Genève",
          "Commune de Genève",
          "Commune de Genève",
          "Commune de Genève",
          "Commune de Genève",
          "Commune de Genève",
          "Carouge",
          "Commune de Genève",
          "Commune de Genève",
          "Commune de Genève",
          "Cologny",
          "Commune de Genève",
          "Commune de Genève",
          "Commune de Genève",
          "Commune de Genève",
          "Commune de Genève",
          "Pregny-Chambésy",
          "Versoix",
          "Commune de Genève",
          "Commune de Genève",
          "Commune de Genève",
          "Commune de Genève",
          "Lancy",
          "Commune de Genève",
          "Lancy",
          "Commune de Genève"
         ],
         "lat": {
          "bdata": "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",
          "dtype": "f8"
         },
         "legendgroup": "",
         "lon": {
          "bdata": "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",
          "dtype": "f8"
         },
         "marker": {
          "color": {
           "bdata": "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",
           "dtype": "f8"
          },
          "coloraxis": "coloraxis"
         },
         "mode": "markers",
         "name": "",
         "showlegend": false,
         "subplot": "mapbox",
         "type": "scattermapbox"
        }
       ],
       "layout": {
        "coloraxis": {
         "colorbar": {
          "title": {
           "text": "price"
          }
         },
         "colorscale": [
          [
           0,
           "#440154"
          ],
          [
           0.1111111111111111,
           "#482878"
          ],
          [
           0.2222222222222222,
           "#3e4989"
          ],
          [
           0.3333333333333333,
           "#31688e"
          ],
          [
           0.4444444444444444,
           "#26828e"
          ],
          [
           0.5555555555555556,
           "#1f9e89"
          ],
          [
           0.6666666666666666,
           "#35b779"
          ],
          [
           0.7777777777777778,
           "#6ece58"
          ],
          [
           0.8888888888888888,
           "#b5de2b"
          ],
          [
           1,
           "#fde725"
          ]
         ]
        },
        "height": 600,
        "legend": {
         "tracegroupgap": 0
        },
        "mapbox": {
         "center": {
          "lat": 46.20738435943043,
          "lon": 6.144258014770138
         },
         "domain": {
          "x": [
           0,
           1
          ],
          "y": [
           0,
           1
          ]
         },
         "style": "carto-positron",
         "zoom": 12
        },
        "margin": {
         "b": 0,
         "l": 0,
         "r": 0,
         "t": 40
        },
        "template": {
         "data": {
          "bar": [
           {
            "error_x": {
             "color": "#2a3f5f"
            },
            "error_y": {
             "color": "#2a3f5f"
            },
            "marker": {
             "line": {
              "color": "#E5ECF6",
              "width": 0.5
             },
             "pattern": {
              "fillmode": "overlay",
              "size": 10,
              "solidity": 0.2
             }
            },
            "type": "bar"
           }
          ],
          "barpolar": [
           {
            "marker": {
             "line": {
              "color": "#E5ECF6",
              "width": 0.5
             },
             "pattern": {
              "fillmode": "overlay",
              "size": 10,
              "solidity": 0.2
             }
            },
            "type": "barpolar"
           }
          ],
          "carpet": [
           {
            "aaxis": {
             "endlinecolor": "#2a3f5f",
             "gridcolor": "white",
             "linecolor": "white",
             "minorgridcolor": "white",
             "startlinecolor": "#2a3f5f"
            },
            "baxis": {
             "endlinecolor": "#2a3f5f",
             "gridcolor": "white",
             "linecolor": "white",
             "minorgridcolor": "white",
             "startlinecolor": "#2a3f5f"
            },
            "type": "carpet"
           }
          ],
          "choropleth": [
           {
            "colorbar": {
             "outlinewidth": 0,
             "ticks": ""
            },
            "type": "choropleth"
           }
          ],
          "contour": [
           {
            "colorbar": {
             "outlinewidth": 0,
             "ticks": ""
            },
            "colorscale": [
             [
              0,
              "#0d0887"
             ],
             [
              0.1111111111111111,
              "#46039f"
             ],
             [
              0.2222222222222222,
              "#7201a8"
             ],
             [
              0.3333333333333333,
              "#9c179e"
             ],
             [
              0.4444444444444444,
              "#bd3786"
             ],
             [
              0.5555555555555556,
              "#d8576b"
             ],
             [
              0.6666666666666666,
              "#ed7953"
             ],
             [
              0.7777777777777778,
              "#fb9f3a"
             ],
             [
              0.8888888888888888,
              "#fdca26"
             ],
             [
              1,
              "#f0f921"
             ]
            ],
            "type": "contour"
           }
          ],
          "contourcarpet": [
           {
            "colorbar": {
             "outlinewidth": 0,
             "ticks": ""
            },
            "type": "contourcarpet"
           }
          ],
          "heatmap": [
           {
            "colorbar": {
             "outlinewidth": 0,
             "ticks": ""
            },
            "colorscale": [
             [
              0,
              "#0d0887"
             ],
             [
              0.1111111111111111,
              "#46039f"
             ],
             [
              0.2222222222222222,
              "#7201a8"
             ],
             [
              0.3333333333333333,
              "#9c179e"
             ],
             [
              0.4444444444444444,
              "#bd3786"
             ],
             [
              0.5555555555555556,
              "#d8576b"
             ],
             [
              0.6666666666666666,
              "#ed7953"
             ],
             [
              0.7777777777777778,
              "#fb9f3a"
             ],
             [
              0.8888888888888888,
              "#fdca26"
             ],
             [
              1,
              "#f0f921"
             ]
            ],
            "type": "heatmap"
           }
          ],
          "histogram": [
           {
            "marker": {
             "pattern": {
              "fillmode": "overlay",
              "size": 10,
              "solidity": 0.2
             }
            },
            "type": "histogram"
           }
          ],
          "histogram2d": [
           {
            "colorbar": {
             "outlinewidth": 0,
             "ticks": ""
            },
            "colorscale": [
             [
              0,
              "#0d0887"
             ],
             [
              0.1111111111111111,
              "#46039f"
             ],
             [
              0.2222222222222222,
              "#7201a8"
             ],
             [
              0.3333333333333333,
              "#9c179e"
             ],
             [
              0.4444444444444444,
              "#bd3786"
             ],
             [
              0.5555555555555556,
              "#d8576b"
             ],
             [
              0.6666666666666666,
              "#ed7953"
             ],
             [
              0.7777777777777778,
              "#fb9f3a"
             ],
             [
              0.8888888888888888,
              "#fdca26"
             ],
             [
              1,
              "#f0f921"
             ]
            ],
            "type": "histogram2d"
           }
          ],
          "histogram2dcontour": [
           {
            "colorbar": {
             "outlinewidth": 0,
             "ticks": ""
            },
            "colorscale": [
             [
              0,
              "#0d0887"
             ],
             [
              0.1111111111111111,
              "#46039f"
             ],
             [
              0.2222222222222222,
              "#7201a8"
             ],
             [
              0.3333333333333333,
              "#9c179e"
             ],
             [
              0.4444444444444444,
              "#bd3786"
             ],
             [
              0.5555555555555556,
              "#d8576b"
             ],
             [
              0.6666666666666666,
              "#ed7953"
             ],
             [
              0.7777777777777778,
              "#fb9f3a"
             ],
             [
              0.8888888888888888,
              "#fdca26"
             ],
             [
              1,
              "#f0f921"
             ]
            ],
            "type": "histogram2dcontour"
           }
          ],
          "mesh3d": [
           {
            "colorbar": {
             "outlinewidth": 0,
             "ticks": ""
            },
            "type": "mesh3d"
           }
          ],
          "parcoords": [
           {
            "line": {
             "colorbar": {
              "outlinewidth": 0,
              "ticks": ""
             }
            },
            "type": "parcoords"
           }
          ],
          "pie": [
           {
            "automargin": true,
            "type": "pie"
           }
          ],
          "scatter": [
           {
            "fillpattern": {
             "fillmode": "overlay",
             "size": 10,
             "solidity": 0.2
            },
            "type": "scatter"
           }
          ],
          "scatter3d": [
           {
            "line": {
             "colorbar": {
              "outlinewidth": 0,
              "ticks": ""
             }
            },
            "marker": {
             "colorbar": {
              "outlinewidth": 0,
              "ticks": ""
             }
            },
            "type": "scatter3d"
           }
          ],
          "scattercarpet": [
           {
            "marker": {
             "colorbar": {
              "outlinewidth": 0,
              "ticks": ""
             }
            },
            "type": "scattercarpet"
           }
          ],
          "scattergeo": [
           {
            "marker": {
             "colorbar": {
              "outlinewidth": 0,
              "ticks": ""
             }
            },
            "type": "scattergeo"
           }
          ],
          "scattergl": [
           {
            "marker": {
             "colorbar": {
              "outlinewidth": 0,
              "ticks": ""
             }
            },
            "type": "scattergl"
           }
          ],
          "scattermap": [
           {
            "marker": {
             "colorbar": {
              "outlinewidth": 0,
              "ticks": ""
             }
            },
            "type": "scattermap"
           }
          ],
          "scattermapbox": [
           {
            "marker": {
             "colorbar": {
              "outlinewidth": 0,
              "ticks": ""
             }
            },
            "type": "scattermapbox"
           }
          ],
          "scatterpolar": [
           {
            "marker": {
             "colorbar": {
              "outlinewidth": 0,
              "ticks": ""
             }
            },
            "type": "scatterpolar"
           }
          ],
          "scatterpolargl": [
           {
            "marker": {
             "colorbar": {
              "outlinewidth": 0,
              "ticks": ""
             }
            },
            "type": "scatterpolargl"
           }
          ],
          "scatterternary": [
           {
            "marker": {
             "colorbar": {
              "outlinewidth": 0,
              "ticks": ""
             }
            },
            "type": "scatterternary"
           }
          ],
          "surface": [
           {
            "colorbar": {
             "outlinewidth": 0,
             "ticks": ""
            },
            "colorscale": [
             [
              0,
              "#0d0887"
             ],
             [
              0.1111111111111111,
              "#46039f"
             ],
             [
              0.2222222222222222,
              "#7201a8"
             ],
             [
              0.3333333333333333,
              "#9c179e"
             ],
             [
              0.4444444444444444,
              "#bd3786"
             ],
             [
              0.5555555555555556,
              "#d8576b"
             ],
             [
              0.6666666666666666,
              "#ed7953"
             ],
             [
              0.7777777777777778,
              "#fb9f3a"
             ],
             [
              0.8888888888888888,
              "#fdca26"
             ],
             [
              1,
              "#f0f921"
             ]
            ],
            "type": "surface"
           }
          ],
          "table": [
           {
            "cells": {
             "fill": {
              "color": "#EBF0F8"
             },
             "line": {
              "color": "white"
             }
            },
            "header": {
             "fill": {
              "color": "#C8D4E3"
             },
             "line": {
              "color": "white"
             }
            },
            "type": "table"
           }
          ]
         },
         "layout": {
          "annotationdefaults": {
           "arrowcolor": "#2a3f5f",
           "arrowhead": 0,
           "arrowwidth": 1
          },
          "autotypenumbers": "strict",
          "coloraxis": {
           "colorbar": {
            "outlinewidth": 0,
            "ticks": ""
           }
          },
          "colorscale": {
           "diverging": [
            [
             0,
             "#8e0152"
            ],
            [
             0.1,
             "#c51b7d"
            ],
            [
             0.2,
             "#de77ae"
            ],
            [
             0.3,
             "#f1b6da"
            ],
            [
             0.4,
             "#fde0ef"
            ],
            [
             0.5,
             "#f7f7f7"
            ],
            [
             0.6,
             "#e6f5d0"
            ],
            [
             0.7,
             "#b8e186"
            ],
            [
             0.8,
             "#7fbc41"
            ],
            [
             0.9,
             "#4d9221"
            ],
            [
             1,
             "#276419"
            ]
           ],
           "sequential": [
            [
             0,
             "#0d0887"
            ],
            [
             0.1111111111111111,
             "#46039f"
            ],
            [
             0.2222222222222222,
             "#7201a8"
            ],
            [
             0.3333333333333333,
             "#9c179e"
            ],
            [
             0.4444444444444444,
             "#bd3786"
            ],
            [
             0.5555555555555556,
             "#d8576b"
            ],
            [
             0.6666666666666666,
             "#ed7953"
            ],
            [
             0.7777777777777778,
             "#fb9f3a"
            ],
            [
             0.8888888888888888,
             "#fdca26"
            ],
            [
             1,
             "#f0f921"
            ]
           ],
           "sequentialminus": [
            [
             0,
             "#0d0887"
            ],
            [
             0.1111111111111111,
             "#46039f"
            ],
            [
             0.2222222222222222,
             "#7201a8"
            ],
            [
             0.3333333333333333,
             "#9c179e"
            ],
            [
             0.4444444444444444,
             "#bd3786"
            ],
            [
             0.5555555555555556,
             "#d8576b"
            ],
            [
             0.6666666666666666,
             "#ed7953"
            ],
            [
             0.7777777777777778,
             "#fb9f3a"
            ],
            [
             0.8888888888888888,
             "#fdca26"
            ],
            [
             1,
             "#f0f921"
            ]
           ]
          },
          "colorway": [
           "#636efa",
           "#EF553B",
           "#00cc96",
           "#ab63fa",
           "#FFA15A",
           "#19d3f3",
           "#FF6692",
           "#B6E880",
           "#FF97FF",
           "#FECB52"
          ],
          "font": {
           "color": "#2a3f5f"
          },
          "geo": {
           "bgcolor": "white",
           "lakecolor": "white",
           "landcolor": "#E5ECF6",
           "showlakes": true,
           "showland": true,
           "subunitcolor": "white"
          },
          "hoverlabel": {
           "align": "left"
          },
          "hovermode": "closest",
          "mapbox": {
           "style": "light"
          },
          "paper_bgcolor": "white",
          "plot_bgcolor": "#E5ECF6",
          "polar": {
           "angularaxis": {
            "gridcolor": "white",
            "linecolor": "white",
            "ticks": ""
           },
           "bgcolor": "#E5ECF6",
           "radialaxis": {
            "gridcolor": "white",
            "linecolor": "white",
            "ticks": ""
           }
          },
          "scene": {
           "xaxis": {
            "backgroundcolor": "#E5ECF6",
            "gridcolor": "white",
            "gridwidth": 2,
            "linecolor": "white",
            "showbackground": true,
            "ticks": "",
            "zerolinecolor": "white"
           },
           "yaxis": {
            "backgroundcolor": "#E5ECF6",
            "gridcolor": "white",
            "gridwidth": 2,
            "linecolor": "white",
            "showbackground": true,
            "ticks": "",
            "zerolinecolor": "white"
           },
           "zaxis": {
            "backgroundcolor": "#E5ECF6",
            "gridcolor": "white",
            "gridwidth": 2,
            "linecolor": "white",
            "showbackground": true,
            "ticks": "",
            "zerolinecolor": "white"
           }
          },
          "shapedefaults": {
           "line": {
            "color": "#2a3f5f"
           }
          },
          "ternary": {
           "aaxis": {
            "gridcolor": "white",
            "linecolor": "white",
            "ticks": ""
           },
           "baxis": {
            "gridcolor": "white",
            "linecolor": "white",
            "ticks": ""
           },
           "bgcolor": "#E5ECF6",
           "caxis": {
            "gridcolor": "white",
            "linecolor": "white",
            "ticks": ""
           }
          },
          "title": {
           "x": 0.05
          },
          "xaxis": {
           "automargin": true,
           "gridcolor": "white",
           "linecolor": "white",
           "ticks": "",
           "title": {
            "standoff": 15
           },
           "zerolinecolor": "white",
           "zerolinewidth": 2
          },
          "yaxis": {
           "automargin": true,
           "gridcolor": "white",
           "linecolor": "white",
           "ticks": "",
           "title": {
            "standoff": 15
           },
           "zerolinecolor": "white",
           "zerolinewidth": 2
          }
         }
        },
        "title": {
         "text": "Airbnb Listings Across Geneva"
        }
       }
      }
     },
     "metadata": {},
     "output_type": "display_data"
    }
   ],
   "source": [
    "# Drop rows without latitude or longitude\n",
    "df_map = df_clean.dropna(subset=['latitude', 'longitude'])\n",
    "\n",
    "import plotly.express as px\n",
    "\n",
    "fig = px.scatter_mapbox(\n",
    "    df_map,\n",
    "    lat=\"latitude\",\n",
    "    lon=\"longitude\",\n",
    "    color=\"price\",\n",
    "    hover_name=\"neighbourhood_cleansed\",\n",
    "    hover_data=[\"name\", \"room_type\", \"accommodates\", \"price\"],\n",
    "    zoom=12,\n",
    "    height=600,\n",
    "    color_continuous_scale=\"Viridis\"\n",
    ")\n",
    "\n",
    "fig.update_layout(\n",
    "    mapbox_style=\"carto-positron\",\n",
    "    title=\"Airbnb Listings Across Geneva\",\n",
    "    margin={\"r\":0, \"t\":40, \"l\":0, \"b\":0}\n",
    ")\n",
    "\n",
    "fig.show()\n"
   ]
  },
  {
   "cell_type": "code",
   "execution_count": null,
   "metadata": {},
   "outputs": [],
   "source": []
  }
 ],
 "metadata": {
  "kernelspec": {
   "display_name": "venv",
   "language": "python",
   "name": "python3"
  },
  "language_info": {
   "codemirror_mode": {
    "name": "ipython",
    "version": 3
   },
   "file_extension": ".py",
   "mimetype": "text/x-python",
   "name": "python",
   "nbconvert_exporter": "python",
   "pygments_lexer": "ipython3",
   "version": "3.13.1"
  }
 },
 "nbformat": 4,
 "nbformat_minor": 2
}
