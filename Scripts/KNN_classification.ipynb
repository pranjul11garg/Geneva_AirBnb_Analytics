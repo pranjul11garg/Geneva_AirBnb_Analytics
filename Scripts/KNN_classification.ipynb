{
 "cells": [
  {
   "cell_type": "code",
   "execution_count": 1,
   "metadata": {},
   "outputs": [],
   "source": [
    "import pandas as pd\n",
    "df_clean = pd.read_csv('../data/airbnb_cleaned.csv')\n"
   ]
  },
  {
   "cell_type": "code",
   "execution_count": 2,
   "metadata": {},
   "outputs": [
    {
     "name": "stdout",
     "output_type": "stream",
     "text": [
      "Accuracy: 0.6324503311258278\n",
      "Confusion Matrix:\n",
      " [[ 45 126]\n",
      " [ 96 337]]\n",
      "Classification Report:\n",
      "               precision    recall  f1-score   support\n",
      "\n",
      "           0       0.32      0.26      0.29       171\n",
      "           1       0.73      0.78      0.75       433\n",
      "\n",
      "    accuracy                           0.63       604\n",
      "   macro avg       0.52      0.52      0.52       604\n",
      "weighted avg       0.61      0.63      0.62       604\n",
      "\n"
     ]
    }
   ],
   "source": [
    "from sklearn.model_selection import train_test_split\n",
    "from sklearn.preprocessing import StandardScaler\n",
    "from sklearn.neighbors import KNeighborsClassifier\n",
    "from sklearn.metrics import accuracy_score, confusion_matrix, classification_report\n",
    "\n",
    "# Step 1: Create binary target column (1 = has TV, 0 = no TV)\n",
    "df_class = df_clean.copy()\n",
    "df_class['has_tv'] = df_class['amenities'].apply(lambda x: 1 if isinstance(x, str) and 'TV' in x else 0)\n",
    "\n",
    "# Step 2: Select numeric features and drop missing rows\n",
    "features = ['accommodates', 'bedrooms', 'bathrooms', 'number_of_reviews', 'review_scores_rating']\n",
    "df_class = df_class[features + ['has_tv']].dropna()\n",
    "\n",
    "# Step 3: Define X and y\n",
    "X = df_class[features]\n",
    "y = df_class['has_tv']\n",
    "\n",
    "# Step 4: Train-test split\n",
    "X_train, X_test, y_train, y_test = train_test_split(X, y, test_size=0.3, random_state=42)\n",
    "\n",
    "# Step 5: Standardize features\n",
    "scaler = StandardScaler()\n",
    "X_train_scaled = scaler.fit_transform(X_train)\n",
    "X_test_scaled = scaler.transform(X_test)\n",
    "\n",
    "# Step 6: Fit k-NN model\n",
    "knn = KNeighborsClassifier(n_neighbors=5)\n",
    "knn.fit(X_train_scaled, y_train)\n",
    "\n",
    "# Step 7: Evaluate model\n",
    "y_pred = knn.predict(X_test_scaled)\n",
    "\n",
    "print(\"Accuracy:\", accuracy_score(y_test, y_pred))\n",
    "print(\"Confusion Matrix:\\n\", confusion_matrix(y_test, y_pred))\n",
    "print(\"Classification Report:\\n\", classification_report(y_test, y_pred))\n"
   ]
  },
  {
   "cell_type": "code",
   "execution_count": 4,
   "metadata": {},
   "outputs": [],
   "source": [
    "from sklearn.utils import resample\n",
    "\n",
    "# Separate classes\n",
    "df_tv = df_class[df_class['has_tv'] == 1]\n",
    "df_no_tv = df_class[df_class['has_tv'] == 0]\n",
    "\n",
    "# Downsample class 1 (TV listings) to match class 0\n",
    "df_tv_down = resample(df_tv, replace=False, n_samples=len(df_no_tv), random_state=42)\n",
    "\n",
    "# Combine and shuffle\n",
    "df_balanced = pd.concat([df_tv_down, df_no_tv]).sample(frac=1, random_state=42)\n"
   ]
  },
  {
   "cell_type": "code",
   "execution_count": 5,
   "metadata": {},
   "outputs": [
    {
     "name": "stdout",
     "output_type": "stream",
     "text": [
      "Balanced Accuracy: 0.5619834710743802\n",
      "Confusion Matrix:\n",
      " [[ 96  87]\n",
      " [ 72 108]]\n",
      "Classification Report:\n",
      "               precision    recall  f1-score   support\n",
      "\n",
      "           0       0.57      0.52      0.55       183\n",
      "           1       0.55      0.60      0.58       180\n",
      "\n",
      "    accuracy                           0.56       363\n",
      "   macro avg       0.56      0.56      0.56       363\n",
      "weighted avg       0.56      0.56      0.56       363\n",
      "\n"
     ]
    }
   ],
   "source": [
    "# Redefine features and target\n",
    "X_bal = df_balanced[features]\n",
    "y_bal = df_balanced['has_tv']\n",
    "\n",
    "# Split\n",
    "X_train, X_test, y_train, y_test = train_test_split(X_bal, y_bal, test_size=0.3, random_state=42)\n",
    "\n",
    "# Scale\n",
    "scaler = StandardScaler()\n",
    "X_train_scaled = scaler.fit_transform(X_train)\n",
    "X_test_scaled = scaler.transform(X_test)\n",
    "\n",
    "# Train k-NN\n",
    "knn.fit(X_train_scaled, y_train)\n",
    "y_pred = knn.predict(X_test_scaled)\n",
    "\n",
    "# Evaluate\n",
    "print(\"Balanced Accuracy:\", accuracy_score(y_test, y_pred))\n",
    "print(\"Confusion Matrix:\\n\", confusion_matrix(y_test, y_pred))\n",
    "print(\"Classification Report:\\n\", classification_report(y_test, y_pred))\n"
   ]
  },
  {
   "cell_type": "markdown",
   "metadata": {},
   "source": [
    "### Improving k-NN Classification Through Class Balancing\n",
    "\n",
    "Our initial k-NN classification model predicted whether a listing included a TV as an amenity. While it achieved 63% accuracy, it was heavily biased toward predicting listings with TVs, due to a significant class imbalance. To address this, we applied **undersampling** to the majority class (listings with TVs) to create a balanced dataset for model training.\n",
    "\n",
    "After retraining the k-NN classifier on the balanced data, the model achieved a more equitable performance across both classes, with a balanced accuracy of **56.2%**. Precision and recall were nearly identical for both classes, and f1-scores hovered around **0.56–0.58**, showing that the model was no longer biased toward the majority class. While overall accuracy dropped slightly, the model became much more **realistic and fair**, which is critical when both outcomes matter. This trade-off highlights the importance of addressing class imbalance in classification tasks.\n"
   ]
  },
  {
   "cell_type": "code",
   "execution_count": null,
   "metadata": {},
   "outputs": [],
   "source": [
    "from sklearn.utils import resample\n",
    "\n",
    "# Separate classes\n",
    "df_tv = df_class[df_class['has_tv'] == 1]\n",
    "df_no_tv = df_class[df_class['has_tv'] == 0]\n",
    "\n",
    "# Downsample class 1 (TV listings) to match class 0\n",
    "df_tv_down = resample(df_tv, replace=False, n_samples=len(df_no_tv), random_state=42)\n",
    "\n",
    "# Combine and shuffle\n",
    "df_balanced = pd.concat([df_tv_down, df_no_tv]).sample(frac=1, random_state=42)\n"
   ]
  },
  {
   "cell_type": "code",
   "execution_count": null,
   "metadata": {},
   "outputs": [],
   "source": [
    "from sklearn.preprocessing import KBinsDiscretizer\n",
    "import pandas as pd\n",
    "df_clean = pd.read_csv('../data/airbnb_cleaned.csv')\n",
    "\n",
    "df_nb = df_clean.copy()\n",
    "df_nb = df_nb.dropna(subset=['review_scores_value'])\n",
    "\n",
    "# Equal frequency binning into 3 bins: low, medium, high\n",
    "binning = KBinsDiscretizer(n_bins=3, encode='ordinal', strategy='quantile')\n",
    "df_nb['value_bin'] = binning.fit_transform(df_nb[['review_scores_value']]).astype(int)\n",
    "\n",
    "# Optional: label categories for readability (not required for modeling)\n",
    "label_map = {0: 'Low', 1: 'Medium', 2: 'High'}\n",
    "df_nb['value_label'] = df_nb['value_bin'].map(label_map)\n"
   ]
  },
  {
   "cell_type": "code",
   "execution_count": 4,
   "metadata": {},
   "outputs": [],
   "source": [
    "\n",
    "features = ['accommodates', 'bedrooms', 'bathrooms', 'minimum_nights', \n",
    "            'number_of_reviews', 'price', 'availability_365']\n",
    "\n",
    "df_nb = df_nb[features + ['value_bin']].dropna()\n"
   ]
  },
  {
   "cell_type": "code",
   "execution_count": 5,
   "metadata": {},
   "outputs": [
    {
     "name": "stdout",
     "output_type": "stream",
     "text": [
      "Accuracy: 0.3610648918469218\n",
      "Confusion Matrix:\n",
      " [[104  87   3]\n",
      " [ 81 113   6]\n",
      " [ 98 109   0]]\n",
      "Classification Report:\n",
      "               precision    recall  f1-score   support\n",
      "\n",
      "           0       0.37      0.54      0.44       194\n",
      "           1       0.37      0.56      0.44       200\n",
      "           2       0.00      0.00      0.00       207\n",
      "\n",
      "    accuracy                           0.36       601\n",
      "   macro avg       0.24      0.37      0.29       601\n",
      "weighted avg       0.24      0.36      0.29       601\n",
      "\n"
     ]
    }
   ],
   "source": [
    "from sklearn.model_selection import train_test_split\n",
    "from sklearn.naive_bayes import GaussianNB\n",
    "from sklearn.metrics import classification_report, accuracy_score, confusion_matrix\n",
    "\n",
    "# Define X and y\n",
    "X = df_nb[features]\n",
    "y = df_nb['value_bin']\n",
    "\n",
    "# Split data\n",
    "X_train, X_test, y_train, y_test = train_test_split(X, y, test_size=0.3, random_state=42)\n",
    "\n",
    "# Train Naive Bayes\n",
    "nb = GaussianNB()\n",
    "nb.fit(X_train, y_train)\n",
    "\n",
    "# Predict\n",
    "y_pred = nb.predict(X_test)\n",
    "\n",
    "# Evaluate\n",
    "print(\"Accuracy:\", accuracy_score(y_test, y_pred))\n",
    "print(\"Confusion Matrix:\\n\", confusion_matrix(y_test, y_pred))\n",
    "print(\"Classification Report:\\n\", classification_report(y_test, y_pred))\n"
   ]
  },
  {
   "cell_type": "code",
   "execution_count": null,
   "metadata": {},
   "outputs": [],
   "source": []
  }
 ],
 "metadata": {
  "kernelspec": {
   "display_name": "venv",
   "language": "python",
   "name": "python3"
  },
  "language_info": {
   "codemirror_mode": {
    "name": "ipython",
    "version": 3
   },
   "file_extension": ".py",
   "mimetype": "text/x-python",
   "name": "python",
   "nbconvert_exporter": "python",
   "pygments_lexer": "ipython3",
   "version": "3.13.1"
  }
 },
 "nbformat": 4,
 "nbformat_minor": 2
}
